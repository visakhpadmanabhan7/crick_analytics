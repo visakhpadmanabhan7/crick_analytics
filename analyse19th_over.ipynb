{
 "cells": [
  {
   "cell_type": "code",
   "execution_count": 1,
   "id": "initial_id",
   "metadata": {
    "ExecuteTime": {
     "end_time": "2024-04-07T18:26:36.944481Z",
     "start_time": "2024-04-07T18:26:36.937802Z"
    }
   },
   "outputs": [],
   "source": [
    "import json\n",
    "import pandas as pd\n",
    "import matplotlib.pyplot as plt\n",
    "import seaborn as sns\n",
    "from tqdm import tqdm\n",
    "tqdm.pandas()\n"
   ]
  },
  {
   "cell_type": "markdown",
   "id": "ed1db41b-473b-486e-a509-eb6efb545c84",
   "metadata": {},
   "source": [
    "# The goal of the expriment is to find if scoring less in the 19th over, death over of a T20 IPL match leads to a loss. We experiment for the team batting first.\n",
    "\n",
    "## about the dataset- \n",
    "1. ball_by_ball contains detail of event of every ball bowled \n",
    "2. historical data contains result of each match,toss, venue etc."
   ]
  },
  {
   "cell_type": "code",
   "execution_count": 2,
   "id": "142a3a35444009e5",
   "metadata": {
    "ExecuteTime": {
     "end_time": "2024-04-07T18:13:02.102032Z",
     "start_time": "2024-04-07T18:13:01.791874Z"
    },
    "collapsed": false
   },
   "outputs": [
    {
     "data": {
      "text/html": [
       "<div>\n",
       "<style scoped>\n",
       "    .dataframe tbody tr th:only-of-type {\n",
       "        vertical-align: middle;\n",
       "    }\n",
       "\n",
       "    .dataframe tbody tr th {\n",
       "        vertical-align: top;\n",
       "    }\n",
       "\n",
       "    .dataframe thead th {\n",
       "        text-align: right;\n",
       "    }\n",
       "</style>\n",
       "<table border=\"1\" class=\"dataframe\">\n",
       "  <thead>\n",
       "    <tr style=\"text-align: right;\">\n",
       "      <th></th>\n",
       "      <th>season</th>\n",
       "      <th>title</th>\n",
       "      <th>match_id</th>\n",
       "      <th>match_name</th>\n",
       "      <th>series_id</th>\n",
       "      <th>series_name</th>\n",
       "      <th>match_date</th>\n",
       "      <th>match_format</th>\n",
       "      <th>team1_id</th>\n",
       "      <th>team1_name</th>\n",
       "      <th>...</th>\n",
       "      <th>umpire2</th>\n",
       "      <th>match_referee</th>\n",
       "      <th>toss_winner</th>\n",
       "      <th>toss_winner_choice</th>\n",
       "      <th>match_winner</th>\n",
       "      <th>match_result_text</th>\n",
       "      <th>mom_player</th>\n",
       "      <th>team1_playing11</th>\n",
       "      <th>team2_playing11</th>\n",
       "      <th>debut_players</th>\n",
       "    </tr>\n",
       "  </thead>\n",
       "  <tbody>\n",
       "    <tr>\n",
       "      <th>0</th>\n",
       "      <td>2008</td>\n",
       "      <td>1st match</td>\n",
       "      <td>335982</td>\n",
       "      <td>Royal Challengers Bangalore Vs Kolkata Knight ...</td>\n",
       "      <td>313494</td>\n",
       "      <td>Indian Premier League in India - 2008 (2007/08)</td>\n",
       "      <td>2008-04-18</td>\n",
       "      <td>T20</td>\n",
       "      <td>4341</td>\n",
       "      <td>KKR</td>\n",
       "      <td>...</td>\n",
       "      <td>RE Koertzen</td>\n",
       "      <td>J Srinath</td>\n",
       "      <td>RCB</td>\n",
       "      <td>bowl</td>\n",
       "      <td>KKR</td>\n",
       "      <td>KKR won by 140 runs</td>\n",
       "      <td>10384.0</td>\n",
       "      <td>[\"2024\",\"10384\",\"2230\",\"11984\",\"19647\",\"7704\",...</td>\n",
       "      <td>[\"2281\",\"7130\",\"49752\",\"2232\",\"12049\",\"3947\",\"...</td>\n",
       "      <td>[\"48965\"]</td>\n",
       "    </tr>\n",
       "    <tr>\n",
       "      <th>1</th>\n",
       "      <td>2008</td>\n",
       "      <td>2nd match</td>\n",
       "      <td>335983</td>\n",
       "      <td>Kings Xi Punjab Vs Chennai Super Kings 2Nd Match</td>\n",
       "      <td>313494</td>\n",
       "      <td>Indian Premier League in India - 2008 (2007/08)</td>\n",
       "      <td>2008-04-19</td>\n",
       "      <td>T20</td>\n",
       "      <td>4343</td>\n",
       "      <td>Super Kings</td>\n",
       "      <td>...</td>\n",
       "      <td>SL Shastri</td>\n",
       "      <td>S Venkataraghavan</td>\n",
       "      <td>Super Kings</td>\n",
       "      <td>bat</td>\n",
       "      <td>Super Kings</td>\n",
       "      <td>Super Kings won by 33 runs</td>\n",
       "      <td>6256.0</td>\n",
       "      <td>[\"9900\",\"2119\",\"6256\",\"7593\",\"15716\",\"9989\",\"8...</td>\n",
       "      <td>[\"15851\",\"9235\",\"9587\",\"7716\",\"6259\",\"11399\",\"...</td>\n",
       "      <td>[\"53549\"]</td>\n",
       "    </tr>\n",
       "    <tr>\n",
       "      <th>2</th>\n",
       "      <td>2008</td>\n",
       "      <td>3rd match</td>\n",
       "      <td>335984</td>\n",
       "      <td>Delhi Daredevils Vs Rajasthan Royals 3Rd Match</td>\n",
       "      <td>313494</td>\n",
       "      <td>Indian Premier League in India - 2008 (2007/08)</td>\n",
       "      <td>2008-04-19</td>\n",
       "      <td>T20</td>\n",
       "      <td>4345</td>\n",
       "      <td>Royals</td>\n",
       "      <td>...</td>\n",
       "      <td>GA Pratapkumar</td>\n",
       "      <td>GR Viswanath</td>\n",
       "      <td>Royals</td>\n",
       "      <td>bat</td>\n",
       "      <td>Daredevils</td>\n",
       "      <td>Daredevils won by 9 wickets (with 29 balls rem...</td>\n",
       "      <td>11374.0</td>\n",
       "      <td>[\"54936\",\"15473\",\"10125\",\"7632\",\"3329\",\"49247\"...</td>\n",
       "      <td>[\"7773\",\"7781\",\"15887\",\"47624\",\"8813\",\"7520\",\"...</td>\n",
       "      <td>[\"51109\",\"47100\",\"54936\"]</td>\n",
       "    </tr>\n",
       "    <tr>\n",
       "      <th>3</th>\n",
       "      <td>2008</td>\n",
       "      <td>4th match</td>\n",
       "      <td>335986</td>\n",
       "      <td>Kolkata Knight Riders Vs Deccan Chargers 4Th M...</td>\n",
       "      <td>313494</td>\n",
       "      <td>Indian Premier League in India - 2008 (2007/08)</td>\n",
       "      <td>2008-04-20</td>\n",
       "      <td>T20</td>\n",
       "      <td>4347</td>\n",
       "      <td>Chargers</td>\n",
       "      <td>...</td>\n",
       "      <td>K Hariharan</td>\n",
       "      <td>FM Engineer</td>\n",
       "      <td>Chargers</td>\n",
       "      <td>bat</td>\n",
       "      <td>KKR</td>\n",
       "      <td>KKR won by 5 wickets (with 6 balls remaining)</td>\n",
       "      <td>11984.0</td>\n",
       "      <td>[\"4176\",\"8163\",\"3317\",\"4382\",\"48405\",\"9570\",\"7...</td>\n",
       "      <td>[\"51216\",\"10384\",\"2230\",\"2024\",\"11984\",\"19647\"...</td>\n",
       "      <td>[\"3317\"]</td>\n",
       "    </tr>\n",
       "    <tr>\n",
       "      <th>4</th>\n",
       "      <td>2008</td>\n",
       "      <td>5th match</td>\n",
       "      <td>335985</td>\n",
       "      <td>Mumbai Indians Vs Royal Challengers Bangalore ...</td>\n",
       "      <td>313494</td>\n",
       "      <td>Indian Premier League in India - 2008 (2007/08)</td>\n",
       "      <td>2008-04-20</td>\n",
       "      <td>T20</td>\n",
       "      <td>4346</td>\n",
       "      <td>Mumbai</td>\n",
       "      <td>...</td>\n",
       "      <td>SJ Davis</td>\n",
       "      <td>J Srinath</td>\n",
       "      <td>Mumbai</td>\n",
       "      <td>bat</td>\n",
       "      <td>RCB</td>\n",
       "      <td>RCB won by 5 wickets (with 2 balls remaining)</td>\n",
       "      <td>3947.0</td>\n",
       "      <td>[\"17850\",\"1988\",\"7447\",\"8742\",\"48349\",\"47308\",...</td>\n",
       "      <td>[\"2120\",\"2281\",\"44930\",\"2232\",\"49752\",\"3947\",\"...</td>\n",
       "      <td>[\"7804\"]</td>\n",
       "    </tr>\n",
       "  </tbody>\n",
       "</table>\n",
       "<p>5 rows × 34 columns</p>\n",
       "</div>"
      ],
      "text/plain": [
       "   season      title  match_id  \\\n",
       "0    2008  1st match    335982   \n",
       "1    2008  2nd match    335983   \n",
       "2    2008  3rd match    335984   \n",
       "3    2008  4th match    335986   \n",
       "4    2008  5th match    335985   \n",
       "\n",
       "                                          match_name  series_id  \\\n",
       "0  Royal Challengers Bangalore Vs Kolkata Knight ...     313494   \n",
       "1   Kings Xi Punjab Vs Chennai Super Kings 2Nd Match     313494   \n",
       "2     Delhi Daredevils Vs Rajasthan Royals 3Rd Match     313494   \n",
       "3  Kolkata Knight Riders Vs Deccan Chargers 4Th M...     313494   \n",
       "4  Mumbai Indians Vs Royal Challengers Bangalore ...     313494   \n",
       "\n",
       "                                       series_name  match_date match_format  \\\n",
       "0  Indian Premier League in India - 2008 (2007/08)  2008-04-18          T20   \n",
       "1  Indian Premier League in India - 2008 (2007/08)  2008-04-19          T20   \n",
       "2  Indian Premier League in India - 2008 (2007/08)  2008-04-19          T20   \n",
       "3  Indian Premier League in India - 2008 (2007/08)  2008-04-20          T20   \n",
       "4  Indian Premier League in India - 2008 (2007/08)  2008-04-20          T20   \n",
       "\n",
       "   team1_id   team1_name  ...         umpire2      match_referee  toss_winner  \\\n",
       "0      4341          KKR  ...     RE Koertzen          J Srinath          RCB   \n",
       "1      4343  Super Kings  ...      SL Shastri  S Venkataraghavan  Super Kings   \n",
       "2      4345       Royals  ...  GA Pratapkumar       GR Viswanath       Royals   \n",
       "3      4347     Chargers  ...     K Hariharan        FM Engineer     Chargers   \n",
       "4      4346       Mumbai  ...        SJ Davis          J Srinath       Mumbai   \n",
       "\n",
       "   toss_winner_choice  match_winner  \\\n",
       "0                bowl           KKR   \n",
       "1                 bat   Super Kings   \n",
       "2                 bat    Daredevils   \n",
       "3                 bat           KKR   \n",
       "4                 bat           RCB   \n",
       "\n",
       "                                   match_result_text  mom_player  \\\n",
       "0                                KKR won by 140 runs     10384.0   \n",
       "1                         Super Kings won by 33 runs      6256.0   \n",
       "2  Daredevils won by 9 wickets (with 29 balls rem...     11374.0   \n",
       "3      KKR won by 5 wickets (with 6 balls remaining)     11984.0   \n",
       "4      RCB won by 5 wickets (with 2 balls remaining)      3947.0   \n",
       "\n",
       "                                     team1_playing11  \\\n",
       "0  [\"2024\",\"10384\",\"2230\",\"11984\",\"19647\",\"7704\",...   \n",
       "1  [\"9900\",\"2119\",\"6256\",\"7593\",\"15716\",\"9989\",\"8...   \n",
       "2  [\"54936\",\"15473\",\"10125\",\"7632\",\"3329\",\"49247\"...   \n",
       "3  [\"4176\",\"8163\",\"3317\",\"4382\",\"48405\",\"9570\",\"7...   \n",
       "4  [\"17850\",\"1988\",\"7447\",\"8742\",\"48349\",\"47308\",...   \n",
       "\n",
       "                                     team2_playing11  \\\n",
       "0  [\"2281\",\"7130\",\"49752\",\"2232\",\"12049\",\"3947\",\"...   \n",
       "1  [\"15851\",\"9235\",\"9587\",\"7716\",\"6259\",\"11399\",\"...   \n",
       "2  [\"7773\",\"7781\",\"15887\",\"47624\",\"8813\",\"7520\",\"...   \n",
       "3  [\"51216\",\"10384\",\"2230\",\"2024\",\"11984\",\"19647\"...   \n",
       "4  [\"2120\",\"2281\",\"44930\",\"2232\",\"49752\",\"3947\",\"...   \n",
       "\n",
       "               debut_players  \n",
       "0                  [\"48965\"]  \n",
       "1                  [\"53549\"]  \n",
       "2  [\"51109\",\"47100\",\"54936\"]  \n",
       "3                   [\"3317\"]  \n",
       "4                   [\"7804\"]  \n",
       "\n",
       "[5 rows x 34 columns]"
      ]
     },
     "execution_count": 2,
     "metadata": {},
     "output_type": "execute_result"
    }
   ],
   "source": [
    "historical_df=pd.read_csv(\"./data/ipl_historical.csv\")\n",
    "historical_df.head()\n"
   ]
  },
  {
   "cell_type": "code",
   "execution_count": 3,
   "id": "d6aa853ec9062e3d",
   "metadata": {
    "ExecuteTime": {
     "end_time": "2024-04-07T18:13:02.932727Z",
     "start_time": "2024-04-07T18:13:02.065974Z"
    },
    "collapsed": false
   },
   "outputs": [
    {
     "name": "stderr",
     "output_type": "stream",
     "text": [
      "/var/folders/fd/_vqm4qqj113dx_9dmjpjrhfw0000gn/T/ipykernel_54950/2187232362.py:2: DtypeWarning: Columns (10,11,12) have mixed types. Specify dtype option on import or set low_memory=False.\n",
      "  ball_by_ball_df=pd.read_csv(\"./data/ipl_ball_by_ball_data.csv\")\n"
     ]
    },
    {
     "data": {
      "text/html": [
       "<div>\n",
       "<style scoped>\n",
       "    .dataframe tbody tr th:only-of-type {\n",
       "        vertical-align: middle;\n",
       "    }\n",
       "\n",
       "    .dataframe tbody tr th {\n",
       "        vertical-align: top;\n",
       "    }\n",
       "\n",
       "    .dataframe thead th {\n",
       "        text-align: right;\n",
       "    }\n",
       "</style>\n",
       "<table border=\"1\" class=\"dataframe\">\n",
       "  <thead>\n",
       "    <tr style=\"text-align: right;\">\n",
       "      <th></th>\n",
       "      <th>series_id</th>\n",
       "      <th>match_id</th>\n",
       "      <th>innings_no</th>\n",
       "      <th>batsman_id</th>\n",
       "      <th>bowler_id</th>\n",
       "      <th>over_number</th>\n",
       "      <th>ball_number</th>\n",
       "      <th>over</th>\n",
       "      <th>total_runs</th>\n",
       "      <th>batsman_runs</th>\n",
       "      <th>...</th>\n",
       "      <th>issix</th>\n",
       "      <th>iswicket</th>\n",
       "      <th>byes</th>\n",
       "      <th>legbyes</th>\n",
       "      <th>wides</th>\n",
       "      <th>noballs</th>\n",
       "      <th>penalties</th>\n",
       "      <th>out_player_id</th>\n",
       "      <th>current_innings_runs</th>\n",
       "      <th>current_innings_wickets</th>\n",
       "    </tr>\n",
       "  </thead>\n",
       "  <tbody>\n",
       "    <tr>\n",
       "      <th>0</th>\n",
       "      <td>1165643</td>\n",
       "      <td>1178429</td>\n",
       "      <td>1.0</td>\n",
       "      <td>51216.0</td>\n",
       "      <td>58274.0</td>\n",
       "      <td>1.0</td>\n",
       "      <td>1.0</td>\n",
       "      <td>0.1</td>\n",
       "      <td>1.0</td>\n",
       "      <td>1.0</td>\n",
       "      <td>...</td>\n",
       "      <td>False</td>\n",
       "      <td>False</td>\n",
       "      <td>0.0</td>\n",
       "      <td>0.0</td>\n",
       "      <td>0.0</td>\n",
       "      <td>0.0</td>\n",
       "      <td>0.0</td>\n",
       "      <td>NaN</td>\n",
       "      <td>1.0</td>\n",
       "      <td>0.0</td>\n",
       "    </tr>\n",
       "    <tr>\n",
       "      <th>1</th>\n",
       "      <td>1165643</td>\n",
       "      <td>1178429</td>\n",
       "      <td>1.0</td>\n",
       "      <td>48927.0</td>\n",
       "      <td>58274.0</td>\n",
       "      <td>1.0</td>\n",
       "      <td>2.0</td>\n",
       "      <td>0.2</td>\n",
       "      <td>0.0</td>\n",
       "      <td>0.0</td>\n",
       "      <td>...</td>\n",
       "      <td>False</td>\n",
       "      <td>False</td>\n",
       "      <td>0.0</td>\n",
       "      <td>0.0</td>\n",
       "      <td>0.0</td>\n",
       "      <td>0.0</td>\n",
       "      <td>0.0</td>\n",
       "      <td>NaN</td>\n",
       "      <td>1.0</td>\n",
       "      <td>0.0</td>\n",
       "    </tr>\n",
       "    <tr>\n",
       "      <th>2</th>\n",
       "      <td>1165643</td>\n",
       "      <td>1178429</td>\n",
       "      <td>1.0</td>\n",
       "      <td>48927.0</td>\n",
       "      <td>58274.0</td>\n",
       "      <td>1.0</td>\n",
       "      <td>3.0</td>\n",
       "      <td>0.3</td>\n",
       "      <td>0.0</td>\n",
       "      <td>0.0</td>\n",
       "      <td>...</td>\n",
       "      <td>False</td>\n",
       "      <td>False</td>\n",
       "      <td>0.0</td>\n",
       "      <td>0.0</td>\n",
       "      <td>0.0</td>\n",
       "      <td>0.0</td>\n",
       "      <td>0.0</td>\n",
       "      <td>NaN</td>\n",
       "      <td>1.0</td>\n",
       "      <td>0.0</td>\n",
       "    </tr>\n",
       "    <tr>\n",
       "      <th>3</th>\n",
       "      <td>1165643</td>\n",
       "      <td>1178429</td>\n",
       "      <td>1.0</td>\n",
       "      <td>48927.0</td>\n",
       "      <td>58274.0</td>\n",
       "      <td>1.0</td>\n",
       "      <td>4.0</td>\n",
       "      <td>0.4</td>\n",
       "      <td>0.0</td>\n",
       "      <td>0.0</td>\n",
       "      <td>...</td>\n",
       "      <td>False</td>\n",
       "      <td>False</td>\n",
       "      <td>0.0</td>\n",
       "      <td>0.0</td>\n",
       "      <td>0.0</td>\n",
       "      <td>0.0</td>\n",
       "      <td>0.0</td>\n",
       "      <td>NaN</td>\n",
       "      <td>1.0</td>\n",
       "      <td>0.0</td>\n",
       "    </tr>\n",
       "    <tr>\n",
       "      <th>4</th>\n",
       "      <td>1165643</td>\n",
       "      <td>1178429</td>\n",
       "      <td>1.0</td>\n",
       "      <td>48927.0</td>\n",
       "      <td>58274.0</td>\n",
       "      <td>1.0</td>\n",
       "      <td>5.0</td>\n",
       "      <td>0.5</td>\n",
       "      <td>0.0</td>\n",
       "      <td>0.0</td>\n",
       "      <td>...</td>\n",
       "      <td>False</td>\n",
       "      <td>False</td>\n",
       "      <td>0.0</td>\n",
       "      <td>0.0</td>\n",
       "      <td>0.0</td>\n",
       "      <td>0.0</td>\n",
       "      <td>0.0</td>\n",
       "      <td>NaN</td>\n",
       "      <td>1.0</td>\n",
       "      <td>0.0</td>\n",
       "    </tr>\n",
       "    <tr>\n",
       "      <th>...</th>\n",
       "      <td>...</td>\n",
       "      <td>...</td>\n",
       "      <td>...</td>\n",
       "      <td>...</td>\n",
       "      <td>...</td>\n",
       "      <td>...</td>\n",
       "      <td>...</td>\n",
       "      <td>...</td>\n",
       "      <td>...</td>\n",
       "      <td>...</td>\n",
       "      <td>...</td>\n",
       "      <td>...</td>\n",
       "      <td>...</td>\n",
       "      <td>...</td>\n",
       "      <td>...</td>\n",
       "      <td>...</td>\n",
       "      <td>...</td>\n",
       "      <td>...</td>\n",
       "      <td>...</td>\n",
       "      <td>...</td>\n",
       "      <td>...</td>\n",
       "    </tr>\n",
       "    <tr>\n",
       "      <th>243652</th>\n",
       "      <td>313494</td>\n",
       "      <td>336013</td>\n",
       "      <td>2.0</td>\n",
       "      <td>11399.0</td>\n",
       "      <td>9022.0</td>\n",
       "      <td>20.0</td>\n",
       "      <td>2.0</td>\n",
       "      <td>19.2</td>\n",
       "      <td>2.0</td>\n",
       "      <td>2.0</td>\n",
       "      <td>...</td>\n",
       "      <td>False</td>\n",
       "      <td>False</td>\n",
       "      <td>0.0</td>\n",
       "      <td>0.0</td>\n",
       "      <td>0.0</td>\n",
       "      <td>0.0</td>\n",
       "      <td>0.0</td>\n",
       "      <td>NaN</td>\n",
       "      <td>163.0</td>\n",
       "      <td>6.0</td>\n",
       "    </tr>\n",
       "    <tr>\n",
       "      <th>243653</th>\n",
       "      <td>313494</td>\n",
       "      <td>336013</td>\n",
       "      <td>2.0</td>\n",
       "      <td>11399.0</td>\n",
       "      <td>9022.0</td>\n",
       "      <td>20.0</td>\n",
       "      <td>3.0</td>\n",
       "      <td>19.3</td>\n",
       "      <td>0.0</td>\n",
       "      <td>0.0</td>\n",
       "      <td>...</td>\n",
       "      <td>False</td>\n",
       "      <td>True</td>\n",
       "      <td>0.0</td>\n",
       "      <td>0.0</td>\n",
       "      <td>0.0</td>\n",
       "      <td>0.0</td>\n",
       "      <td>0.0</td>\n",
       "      <td>11399.0</td>\n",
       "      <td>163.0</td>\n",
       "      <td>7.0</td>\n",
       "    </tr>\n",
       "    <tr>\n",
       "      <th>243654</th>\n",
       "      <td>313494</td>\n",
       "      <td>336013</td>\n",
       "      <td>2.0</td>\n",
       "      <td>47185.0</td>\n",
       "      <td>9022.0</td>\n",
       "      <td>20.0</td>\n",
       "      <td>4.0</td>\n",
       "      <td>19.4</td>\n",
       "      <td>0.0</td>\n",
       "      <td>0.0</td>\n",
       "      <td>...</td>\n",
       "      <td>False</td>\n",
       "      <td>True</td>\n",
       "      <td>0.0</td>\n",
       "      <td>0.0</td>\n",
       "      <td>0.0</td>\n",
       "      <td>0.0</td>\n",
       "      <td>0.0</td>\n",
       "      <td>47185.0</td>\n",
       "      <td>163.0</td>\n",
       "      <td>8.0</td>\n",
       "    </tr>\n",
       "    <tr>\n",
       "      <th>243655</th>\n",
       "      <td>313494</td>\n",
       "      <td>336013</td>\n",
       "      <td>2.0</td>\n",
       "      <td>47184.0</td>\n",
       "      <td>9022.0</td>\n",
       "      <td>20.0</td>\n",
       "      <td>5.0</td>\n",
       "      <td>19.5</td>\n",
       "      <td>0.0</td>\n",
       "      <td>0.0</td>\n",
       "      <td>...</td>\n",
       "      <td>False</td>\n",
       "      <td>True</td>\n",
       "      <td>0.0</td>\n",
       "      <td>0.0</td>\n",
       "      <td>0.0</td>\n",
       "      <td>0.0</td>\n",
       "      <td>0.0</td>\n",
       "      <td>47184.0</td>\n",
       "      <td>163.0</td>\n",
       "      <td>9.0</td>\n",
       "    </tr>\n",
       "    <tr>\n",
       "      <th>243656</th>\n",
       "      <td>313494</td>\n",
       "      <td>336013</td>\n",
       "      <td>2.0</td>\n",
       "      <td>12810.0</td>\n",
       "      <td>9022.0</td>\n",
       "      <td>20.0</td>\n",
       "      <td>6.0</td>\n",
       "      <td>19.6</td>\n",
       "      <td>0.0</td>\n",
       "      <td>0.0</td>\n",
       "      <td>...</td>\n",
       "      <td>False</td>\n",
       "      <td>False</td>\n",
       "      <td>0.0</td>\n",
       "      <td>0.0</td>\n",
       "      <td>0.0</td>\n",
       "      <td>0.0</td>\n",
       "      <td>0.0</td>\n",
       "      <td>NaN</td>\n",
       "      <td>163.0</td>\n",
       "      <td>9.0</td>\n",
       "    </tr>\n",
       "  </tbody>\n",
       "</table>\n",
       "<p>243657 rows × 21 columns</p>\n",
       "</div>"
      ],
      "text/plain": [
       "        series_id  match_id  innings_no  batsman_id  bowler_id  over_number  \\\n",
       "0         1165643   1178429         1.0     51216.0    58274.0          1.0   \n",
       "1         1165643   1178429         1.0     48927.0    58274.0          1.0   \n",
       "2         1165643   1178429         1.0     48927.0    58274.0          1.0   \n",
       "3         1165643   1178429         1.0     48927.0    58274.0          1.0   \n",
       "4         1165643   1178429         1.0     48927.0    58274.0          1.0   \n",
       "...           ...       ...         ...         ...        ...          ...   \n",
       "243652     313494    336013         2.0     11399.0     9022.0         20.0   \n",
       "243653     313494    336013         2.0     11399.0     9022.0         20.0   \n",
       "243654     313494    336013         2.0     47185.0     9022.0         20.0   \n",
       "243655     313494    336013         2.0     47184.0     9022.0         20.0   \n",
       "243656     313494    336013         2.0     12810.0     9022.0         20.0   \n",
       "\n",
       "        ball_number  over  total_runs  batsman_runs  ...  issix iswicket byes  \\\n",
       "0               1.0   0.1         1.0           1.0  ...  False    False  0.0   \n",
       "1               2.0   0.2         0.0           0.0  ...  False    False  0.0   \n",
       "2               3.0   0.3         0.0           0.0  ...  False    False  0.0   \n",
       "3               4.0   0.4         0.0           0.0  ...  False    False  0.0   \n",
       "4               5.0   0.5         0.0           0.0  ...  False    False  0.0   \n",
       "...             ...   ...         ...           ...  ...    ...      ...  ...   \n",
       "243652          2.0  19.2         2.0           2.0  ...  False    False  0.0   \n",
       "243653          3.0  19.3         0.0           0.0  ...  False     True  0.0   \n",
       "243654          4.0  19.4         0.0           0.0  ...  False     True  0.0   \n",
       "243655          5.0  19.5         0.0           0.0  ...  False     True  0.0   \n",
       "243656          6.0  19.6         0.0           0.0  ...  False    False  0.0   \n",
       "\n",
       "        legbyes  wides  noballs  penalties  out_player_id  \\\n",
       "0           0.0    0.0      0.0        0.0            NaN   \n",
       "1           0.0    0.0      0.0        0.0            NaN   \n",
       "2           0.0    0.0      0.0        0.0            NaN   \n",
       "3           0.0    0.0      0.0        0.0            NaN   \n",
       "4           0.0    0.0      0.0        0.0            NaN   \n",
       "...         ...    ...      ...        ...            ...   \n",
       "243652      0.0    0.0      0.0        0.0            NaN   \n",
       "243653      0.0    0.0      0.0        0.0        11399.0   \n",
       "243654      0.0    0.0      0.0        0.0        47185.0   \n",
       "243655      0.0    0.0      0.0        0.0        47184.0   \n",
       "243656      0.0    0.0      0.0        0.0            NaN   \n",
       "\n",
       "        current_innings_runs  current_innings_wickets  \n",
       "0                        1.0                      0.0  \n",
       "1                        1.0                      0.0  \n",
       "2                        1.0                      0.0  \n",
       "3                        1.0                      0.0  \n",
       "4                        1.0                      0.0  \n",
       "...                      ...                      ...  \n",
       "243652                 163.0                      6.0  \n",
       "243653                 163.0                      7.0  \n",
       "243654                 163.0                      8.0  \n",
       "243655                 163.0                      9.0  \n",
       "243656                 163.0                      9.0  \n",
       "\n",
       "[243657 rows x 21 columns]"
      ]
     },
     "execution_count": 3,
     "metadata": {},
     "output_type": "execute_result"
    }
   ],
   "source": [
    "#ipl ball by ball\n",
    "ball_by_ball_df=pd.read_csv(\"./data/ipl_ball_by_ball_data.csv\")\n",
    "ball_by_ball_df"
   ]
  },
  {
   "cell_type": "code",
   "execution_count": 4,
   "id": "739253cec501cc51",
   "metadata": {
    "ExecuteTime": {
     "end_time": "2024-04-07T18:13:29.802682Z",
     "start_time": "2024-04-07T18:13:02.308941Z"
    },
    "collapsed": false
   },
   "outputs": [
    {
     "name": "stderr",
     "output_type": "stream",
     "text": [
      "100%|██████████| 243657/243657 [00:27<00:00, 8922.00it/s] \n"
     ]
    },
    {
     "data": {
      "text/html": [
       "<div>\n",
       "<style scoped>\n",
       "    .dataframe tbody tr th:only-of-type {\n",
       "        vertical-align: middle;\n",
       "    }\n",
       "\n",
       "    .dataframe tbody tr th {\n",
       "        vertical-align: top;\n",
       "    }\n",
       "\n",
       "    .dataframe thead th {\n",
       "        text-align: right;\n",
       "    }\n",
       "</style>\n",
       "<table border=\"1\" class=\"dataframe\">\n",
       "  <thead>\n",
       "    <tr style=\"text-align: right;\">\n",
       "      <th></th>\n",
       "      <th>series_id</th>\n",
       "      <th>match_id</th>\n",
       "      <th>innings_no</th>\n",
       "      <th>batsman_id</th>\n",
       "      <th>bowler_id</th>\n",
       "      <th>over_number</th>\n",
       "      <th>ball_number</th>\n",
       "      <th>over</th>\n",
       "      <th>total_runs</th>\n",
       "      <th>batsman_runs</th>\n",
       "      <th>...</th>\n",
       "      <th>iswicket</th>\n",
       "      <th>byes</th>\n",
       "      <th>legbyes</th>\n",
       "      <th>wides</th>\n",
       "      <th>noballs</th>\n",
       "      <th>penalties</th>\n",
       "      <th>out_player_id</th>\n",
       "      <th>current_innings_runs</th>\n",
       "      <th>current_innings_wickets</th>\n",
       "      <th>year</th>\n",
       "    </tr>\n",
       "  </thead>\n",
       "  <tbody>\n",
       "    <tr>\n",
       "      <th>0</th>\n",
       "      <td>1165643</td>\n",
       "      <td>1178429</td>\n",
       "      <td>1.0</td>\n",
       "      <td>51216.0</td>\n",
       "      <td>58274.0</td>\n",
       "      <td>1.0</td>\n",
       "      <td>1.0</td>\n",
       "      <td>0.1</td>\n",
       "      <td>1.0</td>\n",
       "      <td>1.0</td>\n",
       "      <td>...</td>\n",
       "      <td>False</td>\n",
       "      <td>0.0</td>\n",
       "      <td>0.0</td>\n",
       "      <td>0.0</td>\n",
       "      <td>0.0</td>\n",
       "      <td>0.0</td>\n",
       "      <td>NaN</td>\n",
       "      <td>1.0</td>\n",
       "      <td>0.0</td>\n",
       "      <td>2019</td>\n",
       "    </tr>\n",
       "    <tr>\n",
       "      <th>1</th>\n",
       "      <td>1165643</td>\n",
       "      <td>1178429</td>\n",
       "      <td>1.0</td>\n",
       "      <td>48927.0</td>\n",
       "      <td>58274.0</td>\n",
       "      <td>1.0</td>\n",
       "      <td>2.0</td>\n",
       "      <td>0.2</td>\n",
       "      <td>0.0</td>\n",
       "      <td>0.0</td>\n",
       "      <td>...</td>\n",
       "      <td>False</td>\n",
       "      <td>0.0</td>\n",
       "      <td>0.0</td>\n",
       "      <td>0.0</td>\n",
       "      <td>0.0</td>\n",
       "      <td>0.0</td>\n",
       "      <td>NaN</td>\n",
       "      <td>1.0</td>\n",
       "      <td>0.0</td>\n",
       "      <td>2019</td>\n",
       "    </tr>\n",
       "    <tr>\n",
       "      <th>2</th>\n",
       "      <td>1165643</td>\n",
       "      <td>1178429</td>\n",
       "      <td>1.0</td>\n",
       "      <td>48927.0</td>\n",
       "      <td>58274.0</td>\n",
       "      <td>1.0</td>\n",
       "      <td>3.0</td>\n",
       "      <td>0.3</td>\n",
       "      <td>0.0</td>\n",
       "      <td>0.0</td>\n",
       "      <td>...</td>\n",
       "      <td>False</td>\n",
       "      <td>0.0</td>\n",
       "      <td>0.0</td>\n",
       "      <td>0.0</td>\n",
       "      <td>0.0</td>\n",
       "      <td>0.0</td>\n",
       "      <td>NaN</td>\n",
       "      <td>1.0</td>\n",
       "      <td>0.0</td>\n",
       "      <td>2019</td>\n",
       "    </tr>\n",
       "    <tr>\n",
       "      <th>3</th>\n",
       "      <td>1165643</td>\n",
       "      <td>1178429</td>\n",
       "      <td>1.0</td>\n",
       "      <td>48927.0</td>\n",
       "      <td>58274.0</td>\n",
       "      <td>1.0</td>\n",
       "      <td>4.0</td>\n",
       "      <td>0.4</td>\n",
       "      <td>0.0</td>\n",
       "      <td>0.0</td>\n",
       "      <td>...</td>\n",
       "      <td>False</td>\n",
       "      <td>0.0</td>\n",
       "      <td>0.0</td>\n",
       "      <td>0.0</td>\n",
       "      <td>0.0</td>\n",
       "      <td>0.0</td>\n",
       "      <td>NaN</td>\n",
       "      <td>1.0</td>\n",
       "      <td>0.0</td>\n",
       "      <td>2019</td>\n",
       "    </tr>\n",
       "    <tr>\n",
       "      <th>4</th>\n",
       "      <td>1165643</td>\n",
       "      <td>1178429</td>\n",
       "      <td>1.0</td>\n",
       "      <td>48927.0</td>\n",
       "      <td>58274.0</td>\n",
       "      <td>1.0</td>\n",
       "      <td>5.0</td>\n",
       "      <td>0.5</td>\n",
       "      <td>0.0</td>\n",
       "      <td>0.0</td>\n",
       "      <td>...</td>\n",
       "      <td>False</td>\n",
       "      <td>0.0</td>\n",
       "      <td>0.0</td>\n",
       "      <td>0.0</td>\n",
       "      <td>0.0</td>\n",
       "      <td>0.0</td>\n",
       "      <td>NaN</td>\n",
       "      <td>1.0</td>\n",
       "      <td>0.0</td>\n",
       "      <td>2019</td>\n",
       "    </tr>\n",
       "    <tr>\n",
       "      <th>...</th>\n",
       "      <td>...</td>\n",
       "      <td>...</td>\n",
       "      <td>...</td>\n",
       "      <td>...</td>\n",
       "      <td>...</td>\n",
       "      <td>...</td>\n",
       "      <td>...</td>\n",
       "      <td>...</td>\n",
       "      <td>...</td>\n",
       "      <td>...</td>\n",
       "      <td>...</td>\n",
       "      <td>...</td>\n",
       "      <td>...</td>\n",
       "      <td>...</td>\n",
       "      <td>...</td>\n",
       "      <td>...</td>\n",
       "      <td>...</td>\n",
       "      <td>...</td>\n",
       "      <td>...</td>\n",
       "      <td>...</td>\n",
       "      <td>...</td>\n",
       "    </tr>\n",
       "    <tr>\n",
       "      <th>243652</th>\n",
       "      <td>313494</td>\n",
       "      <td>336013</td>\n",
       "      <td>2.0</td>\n",
       "      <td>11399.0</td>\n",
       "      <td>9022.0</td>\n",
       "      <td>20.0</td>\n",
       "      <td>2.0</td>\n",
       "      <td>19.2</td>\n",
       "      <td>2.0</td>\n",
       "      <td>2.0</td>\n",
       "      <td>...</td>\n",
       "      <td>False</td>\n",
       "      <td>0.0</td>\n",
       "      <td>0.0</td>\n",
       "      <td>0.0</td>\n",
       "      <td>0.0</td>\n",
       "      <td>0.0</td>\n",
       "      <td>NaN</td>\n",
       "      <td>163.0</td>\n",
       "      <td>6.0</td>\n",
       "      <td>2008</td>\n",
       "    </tr>\n",
       "    <tr>\n",
       "      <th>243653</th>\n",
       "      <td>313494</td>\n",
       "      <td>336013</td>\n",
       "      <td>2.0</td>\n",
       "      <td>11399.0</td>\n",
       "      <td>9022.0</td>\n",
       "      <td>20.0</td>\n",
       "      <td>3.0</td>\n",
       "      <td>19.3</td>\n",
       "      <td>0.0</td>\n",
       "      <td>0.0</td>\n",
       "      <td>...</td>\n",
       "      <td>True</td>\n",
       "      <td>0.0</td>\n",
       "      <td>0.0</td>\n",
       "      <td>0.0</td>\n",
       "      <td>0.0</td>\n",
       "      <td>0.0</td>\n",
       "      <td>11399.0</td>\n",
       "      <td>163.0</td>\n",
       "      <td>7.0</td>\n",
       "      <td>2008</td>\n",
       "    </tr>\n",
       "    <tr>\n",
       "      <th>243654</th>\n",
       "      <td>313494</td>\n",
       "      <td>336013</td>\n",
       "      <td>2.0</td>\n",
       "      <td>47185.0</td>\n",
       "      <td>9022.0</td>\n",
       "      <td>20.0</td>\n",
       "      <td>4.0</td>\n",
       "      <td>19.4</td>\n",
       "      <td>0.0</td>\n",
       "      <td>0.0</td>\n",
       "      <td>...</td>\n",
       "      <td>True</td>\n",
       "      <td>0.0</td>\n",
       "      <td>0.0</td>\n",
       "      <td>0.0</td>\n",
       "      <td>0.0</td>\n",
       "      <td>0.0</td>\n",
       "      <td>47185.0</td>\n",
       "      <td>163.0</td>\n",
       "      <td>8.0</td>\n",
       "      <td>2008</td>\n",
       "    </tr>\n",
       "    <tr>\n",
       "      <th>243655</th>\n",
       "      <td>313494</td>\n",
       "      <td>336013</td>\n",
       "      <td>2.0</td>\n",
       "      <td>47184.0</td>\n",
       "      <td>9022.0</td>\n",
       "      <td>20.0</td>\n",
       "      <td>5.0</td>\n",
       "      <td>19.5</td>\n",
       "      <td>0.0</td>\n",
       "      <td>0.0</td>\n",
       "      <td>...</td>\n",
       "      <td>True</td>\n",
       "      <td>0.0</td>\n",
       "      <td>0.0</td>\n",
       "      <td>0.0</td>\n",
       "      <td>0.0</td>\n",
       "      <td>0.0</td>\n",
       "      <td>47184.0</td>\n",
       "      <td>163.0</td>\n",
       "      <td>9.0</td>\n",
       "      <td>2008</td>\n",
       "    </tr>\n",
       "    <tr>\n",
       "      <th>243656</th>\n",
       "      <td>313494</td>\n",
       "      <td>336013</td>\n",
       "      <td>2.0</td>\n",
       "      <td>12810.0</td>\n",
       "      <td>9022.0</td>\n",
       "      <td>20.0</td>\n",
       "      <td>6.0</td>\n",
       "      <td>19.6</td>\n",
       "      <td>0.0</td>\n",
       "      <td>0.0</td>\n",
       "      <td>...</td>\n",
       "      <td>False</td>\n",
       "      <td>0.0</td>\n",
       "      <td>0.0</td>\n",
       "      <td>0.0</td>\n",
       "      <td>0.0</td>\n",
       "      <td>0.0</td>\n",
       "      <td>NaN</td>\n",
       "      <td>163.0</td>\n",
       "      <td>9.0</td>\n",
       "      <td>2008</td>\n",
       "    </tr>\n",
       "  </tbody>\n",
       "</table>\n",
       "<p>243657 rows × 22 columns</p>\n",
       "</div>"
      ],
      "text/plain": [
       "        series_id  match_id  innings_no  batsman_id  bowler_id  over_number  \\\n",
       "0         1165643   1178429         1.0     51216.0    58274.0          1.0   \n",
       "1         1165643   1178429         1.0     48927.0    58274.0          1.0   \n",
       "2         1165643   1178429         1.0     48927.0    58274.0          1.0   \n",
       "3         1165643   1178429         1.0     48927.0    58274.0          1.0   \n",
       "4         1165643   1178429         1.0     48927.0    58274.0          1.0   \n",
       "...           ...       ...         ...         ...        ...          ...   \n",
       "243652     313494    336013         2.0     11399.0     9022.0         20.0   \n",
       "243653     313494    336013         2.0     11399.0     9022.0         20.0   \n",
       "243654     313494    336013         2.0     47185.0     9022.0         20.0   \n",
       "243655     313494    336013         2.0     47184.0     9022.0         20.0   \n",
       "243656     313494    336013         2.0     12810.0     9022.0         20.0   \n",
       "\n",
       "        ball_number  over  total_runs  batsman_runs  ... iswicket byes  \\\n",
       "0               1.0   0.1         1.0           1.0  ...    False  0.0   \n",
       "1               2.0   0.2         0.0           0.0  ...    False  0.0   \n",
       "2               3.0   0.3         0.0           0.0  ...    False  0.0   \n",
       "3               4.0   0.4         0.0           0.0  ...    False  0.0   \n",
       "4               5.0   0.5         0.0           0.0  ...    False  0.0   \n",
       "...             ...   ...         ...           ...  ...      ...  ...   \n",
       "243652          2.0  19.2         2.0           2.0  ...    False  0.0   \n",
       "243653          3.0  19.3         0.0           0.0  ...     True  0.0   \n",
       "243654          4.0  19.4         0.0           0.0  ...     True  0.0   \n",
       "243655          5.0  19.5         0.0           0.0  ...     True  0.0   \n",
       "243656          6.0  19.6         0.0           0.0  ...    False  0.0   \n",
       "\n",
       "       legbyes  wides  noballs  penalties  out_player_id  \\\n",
       "0          0.0    0.0      0.0        0.0            NaN   \n",
       "1          0.0    0.0      0.0        0.0            NaN   \n",
       "2          0.0    0.0      0.0        0.0            NaN   \n",
       "3          0.0    0.0      0.0        0.0            NaN   \n",
       "4          0.0    0.0      0.0        0.0            NaN   \n",
       "...        ...    ...      ...        ...            ...   \n",
       "243652     0.0    0.0      0.0        0.0            NaN   \n",
       "243653     0.0    0.0      0.0        0.0        11399.0   \n",
       "243654     0.0    0.0      0.0        0.0        47185.0   \n",
       "243655     0.0    0.0      0.0        0.0        47184.0   \n",
       "243656     0.0    0.0      0.0        0.0            NaN   \n",
       "\n",
       "        current_innings_runs  current_innings_wickets  year  \n",
       "0                        1.0                      0.0  2019  \n",
       "1                        1.0                      0.0  2019  \n",
       "2                        1.0                      0.0  2019  \n",
       "3                        1.0                      0.0  2019  \n",
       "4                        1.0                      0.0  2019  \n",
       "...                      ...                      ...   ...  \n",
       "243652                 163.0                      6.0  2008  \n",
       "243653                 163.0                      7.0  2008  \n",
       "243654                 163.0                      8.0  2008  \n",
       "243655                 163.0                      9.0  2008  \n",
       "243656                 163.0                      9.0  2008  \n",
       "\n",
       "[243657 rows x 22 columns]"
      ]
     },
     "execution_count": 4,
     "metadata": {},
     "output_type": "execute_result"
    }
   ],
   "source": [
    "#get year from historical data based on match_id\n",
    "def get_year(match_id):\n",
    "    return historical_df[historical_df['match_id']==match_id]['season'].values[0]\n",
    "ball_by_ball_df['year']=ball_by_ball_df['match_id'].progress_apply(get_year)\n",
    "ball_by_ball_df"
   ]
  },
  {
   "cell_type": "code",
   "execution_count": 5,
   "id": "fe87704cde950932",
   "metadata": {
    "ExecuteTime": {
     "end_time": "2024-04-07T18:13:30.008875Z",
     "start_time": "2024-04-07T18:13:29.742396Z"
    },
    "collapsed": false
   },
   "outputs": [
    {
     "data": {
      "text/html": [
       "<div>\n",
       "<style scoped>\n",
       "    .dataframe tbody tr th:only-of-type {\n",
       "        vertical-align: middle;\n",
       "    }\n",
       "\n",
       "    .dataframe tbody tr th {\n",
       "        vertical-align: top;\n",
       "    }\n",
       "\n",
       "    .dataframe thead th {\n",
       "        text-align: right;\n",
       "    }\n",
       "</style>\n",
       "<table border=\"1\" class=\"dataframe\">\n",
       "  <thead>\n",
       "    <tr style=\"text-align: right;\">\n",
       "      <th></th>\n",
       "      <th>series_id</th>\n",
       "      <th>match_id</th>\n",
       "      <th>innings_no</th>\n",
       "      <th>batsman_id</th>\n",
       "      <th>bowler_id</th>\n",
       "      <th>over_number</th>\n",
       "      <th>ball_number</th>\n",
       "      <th>over</th>\n",
       "      <th>total_runs</th>\n",
       "      <th>batsman_runs</th>\n",
       "      <th>...</th>\n",
       "      <th>iswicket</th>\n",
       "      <th>byes</th>\n",
       "      <th>legbyes</th>\n",
       "      <th>wides</th>\n",
       "      <th>noballs</th>\n",
       "      <th>penalties</th>\n",
       "      <th>out_player_id</th>\n",
       "      <th>current_innings_runs</th>\n",
       "      <th>current_innings_wickets</th>\n",
       "      <th>year</th>\n",
       "    </tr>\n",
       "  </thead>\n",
       "  <tbody>\n",
       "    <tr>\n",
       "      <th>121828</th>\n",
       "      <td>313494</td>\n",
       "      <td>336031</td>\n",
       "      <td>2.0</td>\n",
       "      <td>47185.0</td>\n",
       "      <td>47123.0</td>\n",
       "      <td>18.0</td>\n",
       "      <td>1.0</td>\n",
       "      <td>17.1</td>\n",
       "      <td>1.0</td>\n",
       "      <td>0.0</td>\n",
       "      <td>...</td>\n",
       "      <td>False</td>\n",
       "      <td>0.0</td>\n",
       "      <td>0.0</td>\n",
       "      <td>1.0</td>\n",
       "      <td>0.0</td>\n",
       "      <td>0.0</td>\n",
       "      <td>NaN</td>\n",
       "      <td>150.0</td>\n",
       "      <td>4.0</td>\n",
       "      <td>2008</td>\n",
       "    </tr>\n",
       "    <tr>\n",
       "      <th>86165</th>\n",
       "      <td>313494</td>\n",
       "      <td>335988</td>\n",
       "      <td>2.0</td>\n",
       "      <td>15887.0</td>\n",
       "      <td>47123.0</td>\n",
       "      <td>6.0</td>\n",
       "      <td>1.0</td>\n",
       "      <td>5.1</td>\n",
       "      <td>1.0</td>\n",
       "      <td>0.0</td>\n",
       "      <td>...</td>\n",
       "      <td>False</td>\n",
       "      <td>0.0</td>\n",
       "      <td>0.0</td>\n",
       "      <td>1.0</td>\n",
       "      <td>0.0</td>\n",
       "      <td>0.0</td>\n",
       "      <td>NaN</td>\n",
       "      <td>38.0</td>\n",
       "      <td>1.0</td>\n",
       "      <td>2008</td>\n",
       "    </tr>\n",
       "    <tr>\n",
       "      <th>86164</th>\n",
       "      <td>313494</td>\n",
       "      <td>335988</td>\n",
       "      <td>2.0</td>\n",
       "      <td>7781.0</td>\n",
       "      <td>2166.0</td>\n",
       "      <td>5.0</td>\n",
       "      <td>6.0</td>\n",
       "      <td>4.6</td>\n",
       "      <td>0.0</td>\n",
       "      <td>0.0</td>\n",
       "      <td>...</td>\n",
       "      <td>False</td>\n",
       "      <td>0.0</td>\n",
       "      <td>0.0</td>\n",
       "      <td>0.0</td>\n",
       "      <td>0.0</td>\n",
       "      <td>0.0</td>\n",
       "      <td>NaN</td>\n",
       "      <td>37.0</td>\n",
       "      <td>1.0</td>\n",
       "      <td>2008</td>\n",
       "    </tr>\n",
       "    <tr>\n",
       "      <th>86163</th>\n",
       "      <td>313494</td>\n",
       "      <td>335988</td>\n",
       "      <td>2.0</td>\n",
       "      <td>7781.0</td>\n",
       "      <td>2166.0</td>\n",
       "      <td>5.0</td>\n",
       "      <td>5.0</td>\n",
       "      <td>4.5</td>\n",
       "      <td>0.0</td>\n",
       "      <td>0.0</td>\n",
       "      <td>...</td>\n",
       "      <td>False</td>\n",
       "      <td>0.0</td>\n",
       "      <td>0.0</td>\n",
       "      <td>0.0</td>\n",
       "      <td>0.0</td>\n",
       "      <td>0.0</td>\n",
       "      <td>NaN</td>\n",
       "      <td>37.0</td>\n",
       "      <td>1.0</td>\n",
       "      <td>2008</td>\n",
       "    </tr>\n",
       "    <tr>\n",
       "      <th>86162</th>\n",
       "      <td>313494</td>\n",
       "      <td>335988</td>\n",
       "      <td>2.0</td>\n",
       "      <td>7781.0</td>\n",
       "      <td>2166.0</td>\n",
       "      <td>5.0</td>\n",
       "      <td>4.0</td>\n",
       "      <td>4.4</td>\n",
       "      <td>4.0</td>\n",
       "      <td>4.0</td>\n",
       "      <td>...</td>\n",
       "      <td>False</td>\n",
       "      <td>0.0</td>\n",
       "      <td>0.0</td>\n",
       "      <td>0.0</td>\n",
       "      <td>0.0</td>\n",
       "      <td>0.0</td>\n",
       "      <td>NaN</td>\n",
       "      <td>37.0</td>\n",
       "      <td>1.0</td>\n",
       "      <td>2008</td>\n",
       "    </tr>\n",
       "    <tr>\n",
       "      <th>...</th>\n",
       "      <td>...</td>\n",
       "      <td>...</td>\n",
       "      <td>...</td>\n",
       "      <td>...</td>\n",
       "      <td>...</td>\n",
       "      <td>...</td>\n",
       "      <td>...</td>\n",
       "      <td>...</td>\n",
       "      <td>...</td>\n",
       "      <td>...</td>\n",
       "      <td>...</td>\n",
       "      <td>...</td>\n",
       "      <td>...</td>\n",
       "      <td>...</td>\n",
       "      <td>...</td>\n",
       "      <td>...</td>\n",
       "      <td>...</td>\n",
       "      <td>...</td>\n",
       "      <td>...</td>\n",
       "      <td>...</td>\n",
       "      <td>...</td>\n",
       "    </tr>\n",
       "    <tr>\n",
       "      <th>40254</th>\n",
       "      <td>1345038</td>\n",
       "      <td>1359481</td>\n",
       "      <td>2.0</td>\n",
       "      <td>102753.0</td>\n",
       "      <td>50771.0</td>\n",
       "      <td>14.0</td>\n",
       "      <td>5.0</td>\n",
       "      <td>13.5</td>\n",
       "      <td>1.0</td>\n",
       "      <td>1.0</td>\n",
       "      <td>...</td>\n",
       "      <td>False</td>\n",
       "      <td>0.0</td>\n",
       "      <td>0.0</td>\n",
       "      <td>0.0</td>\n",
       "      <td>0.0</td>\n",
       "      <td>0.0</td>\n",
       "      <td>NaN</td>\n",
       "      <td>111.0</td>\n",
       "      <td>4.0</td>\n",
       "      <td>2023</td>\n",
       "    </tr>\n",
       "    <tr>\n",
       "      <th>40255</th>\n",
       "      <td>1345038</td>\n",
       "      <td>1359481</td>\n",
       "      <td>2.0</td>\n",
       "      <td>53891.0</td>\n",
       "      <td>50771.0</td>\n",
       "      <td>14.0</td>\n",
       "      <td>6.0</td>\n",
       "      <td>13.6</td>\n",
       "      <td>1.0</td>\n",
       "      <td>1.0</td>\n",
       "      <td>...</td>\n",
       "      <td>False</td>\n",
       "      <td>0.0</td>\n",
       "      <td>0.0</td>\n",
       "      <td>0.0</td>\n",
       "      <td>0.0</td>\n",
       "      <td>0.0</td>\n",
       "      <td>NaN</td>\n",
       "      <td>112.0</td>\n",
       "      <td>4.0</td>\n",
       "      <td>2023</td>\n",
       "    </tr>\n",
       "    <tr>\n",
       "      <th>40256</th>\n",
       "      <td>1345038</td>\n",
       "      <td>1359481</td>\n",
       "      <td>2.0</td>\n",
       "      <td>53891.0</td>\n",
       "      <td>67609.0</td>\n",
       "      <td>15.0</td>\n",
       "      <td>1.0</td>\n",
       "      <td>14.1</td>\n",
       "      <td>0.0</td>\n",
       "      <td>0.0</td>\n",
       "      <td>...</td>\n",
       "      <td>False</td>\n",
       "      <td>0.0</td>\n",
       "      <td>0.0</td>\n",
       "      <td>0.0</td>\n",
       "      <td>0.0</td>\n",
       "      <td>0.0</td>\n",
       "      <td>NaN</td>\n",
       "      <td>112.0</td>\n",
       "      <td>4.0</td>\n",
       "      <td>2023</td>\n",
       "    </tr>\n",
       "    <tr>\n",
       "      <th>40249</th>\n",
       "      <td>1345038</td>\n",
       "      <td>1359481</td>\n",
       "      <td>2.0</td>\n",
       "      <td>63509.0</td>\n",
       "      <td>63651.0</td>\n",
       "      <td>13.0</td>\n",
       "      <td>6.0</td>\n",
       "      <td>12.6</td>\n",
       "      <td>0.0</td>\n",
       "      <td>0.0</td>\n",
       "      <td>...</td>\n",
       "      <td>False</td>\n",
       "      <td>0.0</td>\n",
       "      <td>0.0</td>\n",
       "      <td>0.0</td>\n",
       "      <td>0.0</td>\n",
       "      <td>0.0</td>\n",
       "      <td>NaN</td>\n",
       "      <td>106.0</td>\n",
       "      <td>3.0</td>\n",
       "      <td>2023</td>\n",
       "    </tr>\n",
       "    <tr>\n",
       "      <th>192653</th>\n",
       "      <td>1345038</td>\n",
       "      <td>1359544</td>\n",
       "      <td>1.0</td>\n",
       "      <td>49752.0</td>\n",
       "      <td>79159.0</td>\n",
       "      <td>5.0</td>\n",
       "      <td>3.0</td>\n",
       "      <td>4.3</td>\n",
       "      <td>1.0</td>\n",
       "      <td>1.0</td>\n",
       "      <td>...</td>\n",
       "      <td>False</td>\n",
       "      <td>0.0</td>\n",
       "      <td>0.0</td>\n",
       "      <td>0.0</td>\n",
       "      <td>0.0</td>\n",
       "      <td>0.0</td>\n",
       "      <td>NaN</td>\n",
       "      <td>50.0</td>\n",
       "      <td>0.0</td>\n",
       "      <td>2023</td>\n",
       "    </tr>\n",
       "  </tbody>\n",
       "</table>\n",
       "<p>243657 rows × 22 columns</p>\n",
       "</div>"
      ],
      "text/plain": [
       "        series_id  match_id  innings_no  batsman_id  bowler_id  over_number  \\\n",
       "121828     313494    336031         2.0     47185.0    47123.0         18.0   \n",
       "86165      313494    335988         2.0     15887.0    47123.0          6.0   \n",
       "86164      313494    335988         2.0      7781.0     2166.0          5.0   \n",
       "86163      313494    335988         2.0      7781.0     2166.0          5.0   \n",
       "86162      313494    335988         2.0      7781.0     2166.0          5.0   \n",
       "...           ...       ...         ...         ...        ...          ...   \n",
       "40254     1345038   1359481         2.0    102753.0    50771.0         14.0   \n",
       "40255     1345038   1359481         2.0     53891.0    50771.0         14.0   \n",
       "40256     1345038   1359481         2.0     53891.0    67609.0         15.0   \n",
       "40249     1345038   1359481         2.0     63509.0    63651.0         13.0   \n",
       "192653    1345038   1359544         1.0     49752.0    79159.0          5.0   \n",
       "\n",
       "        ball_number  over  total_runs  batsman_runs  ... iswicket byes  \\\n",
       "121828          1.0  17.1         1.0           0.0  ...    False  0.0   \n",
       "86165           1.0   5.1         1.0           0.0  ...    False  0.0   \n",
       "86164           6.0   4.6         0.0           0.0  ...    False  0.0   \n",
       "86163           5.0   4.5         0.0           0.0  ...    False  0.0   \n",
       "86162           4.0   4.4         4.0           4.0  ...    False  0.0   \n",
       "...             ...   ...         ...           ...  ...      ...  ...   \n",
       "40254           5.0  13.5         1.0           1.0  ...    False  0.0   \n",
       "40255           6.0  13.6         1.0           1.0  ...    False  0.0   \n",
       "40256           1.0  14.1         0.0           0.0  ...    False  0.0   \n",
       "40249           6.0  12.6         0.0           0.0  ...    False  0.0   \n",
       "192653          3.0   4.3         1.0           1.0  ...    False  0.0   \n",
       "\n",
       "       legbyes  wides  noballs  penalties  out_player_id  \\\n",
       "121828     0.0    1.0      0.0        0.0            NaN   \n",
       "86165      0.0    1.0      0.0        0.0            NaN   \n",
       "86164      0.0    0.0      0.0        0.0            NaN   \n",
       "86163      0.0    0.0      0.0        0.0            NaN   \n",
       "86162      0.0    0.0      0.0        0.0            NaN   \n",
       "...        ...    ...      ...        ...            ...   \n",
       "40254      0.0    0.0      0.0        0.0            NaN   \n",
       "40255      0.0    0.0      0.0        0.0            NaN   \n",
       "40256      0.0    0.0      0.0        0.0            NaN   \n",
       "40249      0.0    0.0      0.0        0.0            NaN   \n",
       "192653     0.0    0.0      0.0        0.0            NaN   \n",
       "\n",
       "        current_innings_runs  current_innings_wickets  year  \n",
       "121828                 150.0                      4.0  2008  \n",
       "86165                   38.0                      1.0  2008  \n",
       "86164                   37.0                      1.0  2008  \n",
       "86163                   37.0                      1.0  2008  \n",
       "86162                   37.0                      1.0  2008  \n",
       "...                      ...                      ...   ...  \n",
       "40254                  111.0                      4.0  2023  \n",
       "40255                  112.0                      4.0  2023  \n",
       "40256                  112.0                      4.0  2023  \n",
       "40249                  106.0                      3.0  2023  \n",
       "192653                  50.0                      0.0  2023  \n",
       "\n",
       "[243657 rows x 22 columns]"
      ]
     },
     "execution_count": 5,
     "metadata": {},
     "output_type": "execute_result"
    }
   ],
   "source": [
    "#sort based on year\n",
    "ball_by_ball_df=ball_by_ball_df.sort_values(by='year')\n",
    "ball_by_ball_df"
   ]
  },
  {
   "cell_type": "code",
   "execution_count": 6,
   "id": "951d63e8ba190229",
   "metadata": {
    "ExecuteTime": {
     "end_time": "2024-04-07T18:13:30.010835Z",
     "start_time": "2024-04-07T18:13:29.881980Z"
    },
    "collapsed": false
   },
   "outputs": [
    {
     "data": {
      "text/html": [
       "<div>\n",
       "<style scoped>\n",
       "    .dataframe tbody tr th:only-of-type {\n",
       "        vertical-align: middle;\n",
       "    }\n",
       "\n",
       "    .dataframe tbody tr th {\n",
       "        vertical-align: top;\n",
       "    }\n",
       "\n",
       "    .dataframe thead th {\n",
       "        text-align: right;\n",
       "    }\n",
       "</style>\n",
       "<table border=\"1\" class=\"dataframe\">\n",
       "  <thead>\n",
       "    <tr style=\"text-align: right;\">\n",
       "      <th></th>\n",
       "      <th>series_id</th>\n",
       "      <th>match_id</th>\n",
       "      <th>innings_no</th>\n",
       "      <th>batsman_id</th>\n",
       "      <th>bowler_id</th>\n",
       "      <th>over_number</th>\n",
       "      <th>ball_number</th>\n",
       "      <th>over</th>\n",
       "      <th>total_runs</th>\n",
       "      <th>batsman_runs</th>\n",
       "      <th>...</th>\n",
       "      <th>iswicket</th>\n",
       "      <th>byes</th>\n",
       "      <th>legbyes</th>\n",
       "      <th>wides</th>\n",
       "      <th>noballs</th>\n",
       "      <th>penalties</th>\n",
       "      <th>out_player_id</th>\n",
       "      <th>current_innings_runs</th>\n",
       "      <th>current_innings_wickets</th>\n",
       "      <th>year</th>\n",
       "    </tr>\n",
       "  </thead>\n",
       "  <tbody>\n",
       "    <tr>\n",
       "      <th>136586</th>\n",
       "      <td>1345038</td>\n",
       "      <td>1370353</td>\n",
       "      <td>2.0</td>\n",
       "      <td>49247.0</td>\n",
       "      <td>66722.0</td>\n",
       "      <td>15.0</td>\n",
       "      <td>6.0</td>\n",
       "      <td>14.6</td>\n",
       "      <td>4.0</td>\n",
       "      <td>4.0</td>\n",
       "      <td>...</td>\n",
       "      <td>False</td>\n",
       "      <td>0.0</td>\n",
       "      <td>0.0</td>\n",
       "      <td>0.0</td>\n",
       "      <td>0.0</td>\n",
       "      <td>0.0</td>\n",
       "      <td>NaN</td>\n",
       "      <td>171.0</td>\n",
       "      <td>5.0</td>\n",
       "      <td>2023</td>\n",
       "    </tr>\n",
       "    <tr>\n",
       "      <th>136585</th>\n",
       "      <td>1345038</td>\n",
       "      <td>1370353</td>\n",
       "      <td>2.0</td>\n",
       "      <td>49247.0</td>\n",
       "      <td>66722.0</td>\n",
       "      <td>15.0</td>\n",
       "      <td>5.0</td>\n",
       "      <td>14.5</td>\n",
       "      <td>6.0</td>\n",
       "      <td>6.0</td>\n",
       "      <td>...</td>\n",
       "      <td>False</td>\n",
       "      <td>0.0</td>\n",
       "      <td>0.0</td>\n",
       "      <td>0.0</td>\n",
       "      <td>0.0</td>\n",
       "      <td>0.0</td>\n",
       "      <td>NaN</td>\n",
       "      <td>167.0</td>\n",
       "      <td>5.0</td>\n",
       "      <td>2023</td>\n",
       "    </tr>\n",
       "  </tbody>\n",
       "</table>\n",
       "<p>2 rows × 22 columns</p>\n",
       "</div>"
      ],
      "text/plain": [
       "        series_id  match_id  innings_no  batsman_id  bowler_id  over_number  \\\n",
       "136586    1345038   1370353         2.0     49247.0    66722.0         15.0   \n",
       "136585    1345038   1370353         2.0     49247.0    66722.0         15.0   \n",
       "\n",
       "        ball_number  over  total_runs  batsman_runs  ... iswicket byes  \\\n",
       "136586          6.0  14.6         4.0           4.0  ...    False  0.0   \n",
       "136585          5.0  14.5         6.0           6.0  ...    False  0.0   \n",
       "\n",
       "       legbyes  wides  noballs  penalties  out_player_id  \\\n",
       "136586     0.0    0.0      0.0        0.0            NaN   \n",
       "136585     0.0    0.0      0.0        0.0            NaN   \n",
       "\n",
       "        current_innings_runs  current_innings_wickets  year  \n",
       "136586                 171.0                      5.0  2023  \n",
       "136585                 167.0                      5.0  2023  \n",
       "\n",
       "[2 rows x 22 columns]"
      ]
     },
     "execution_count": 6,
     "metadata": {},
     "output_type": "execute_result"
    }
   ],
   "source": [
    "#To confirm the data, 2023 final witnessed a 6 and 4 for the overs 14.5 and 14.6 ,match_id=1370353\n",
    "ball_by_ball_df[(ball_by_ball_df['match_id']==1370353) & (ball_by_ball_df['over'].isin([14.5,14.6])) & (ball_by_ball_df['innings_no']==2)]"
   ]
  },
  {
   "cell_type": "code",
   "execution_count": 7,
   "id": "98786b61810fbcb7",
   "metadata": {
    "ExecuteTime": {
     "end_time": "2024-04-07T18:13:30.564274Z",
     "start_time": "2024-04-07T18:13:29.962076Z"
    },
    "collapsed": false
   },
   "outputs": [
    {
     "data": {
      "text/html": [
       "<div>\n",
       "<style scoped>\n",
       "    .dataframe tbody tr th:only-of-type {\n",
       "        vertical-align: middle;\n",
       "    }\n",
       "\n",
       "    .dataframe tbody tr th {\n",
       "        vertical-align: top;\n",
       "    }\n",
       "\n",
       "    .dataframe thead th {\n",
       "        text-align: right;\n",
       "    }\n",
       "</style>\n",
       "<table border=\"1\" class=\"dataframe\">\n",
       "  <thead>\n",
       "    <tr style=\"text-align: right;\">\n",
       "      <th></th>\n",
       "      <th>series_id</th>\n",
       "      <th>match_id</th>\n",
       "      <th>innings_no</th>\n",
       "      <th>batsman_id</th>\n",
       "      <th>bowler_id</th>\n",
       "      <th>over_number</th>\n",
       "      <th>ball_number</th>\n",
       "      <th>over</th>\n",
       "      <th>total_runs</th>\n",
       "      <th>batsman_runs</th>\n",
       "      <th>...</th>\n",
       "      <th>iswicket</th>\n",
       "      <th>byes</th>\n",
       "      <th>legbyes</th>\n",
       "      <th>wides</th>\n",
       "      <th>noballs</th>\n",
       "      <th>penalties</th>\n",
       "      <th>out_player_id</th>\n",
       "      <th>current_innings_runs</th>\n",
       "      <th>current_innings_wickets</th>\n",
       "      <th>year</th>\n",
       "    </tr>\n",
       "  </thead>\n",
       "  <tbody>\n",
       "    <tr>\n",
       "      <th>121828</th>\n",
       "      <td>313494</td>\n",
       "      <td>336031</td>\n",
       "      <td>2.0</td>\n",
       "      <td>47185.0</td>\n",
       "      <td>47123.0</td>\n",
       "      <td>18.0</td>\n",
       "      <td>1.0</td>\n",
       "      <td>17.1</td>\n",
       "      <td>1.0</td>\n",
       "      <td>0.0</td>\n",
       "      <td>...</td>\n",
       "      <td>False</td>\n",
       "      <td>0.0</td>\n",
       "      <td>0.0</td>\n",
       "      <td>1.0</td>\n",
       "      <td>0.0</td>\n",
       "      <td>0.0</td>\n",
       "      <td>NaN</td>\n",
       "      <td>150.0</td>\n",
       "      <td>4.0</td>\n",
       "      <td>2008</td>\n",
       "    </tr>\n",
       "    <tr>\n",
       "      <th>86165</th>\n",
       "      <td>313494</td>\n",
       "      <td>335988</td>\n",
       "      <td>2.0</td>\n",
       "      <td>15887.0</td>\n",
       "      <td>47123.0</td>\n",
       "      <td>6.0</td>\n",
       "      <td>1.0</td>\n",
       "      <td>5.1</td>\n",
       "      <td>1.0</td>\n",
       "      <td>0.0</td>\n",
       "      <td>...</td>\n",
       "      <td>False</td>\n",
       "      <td>0.0</td>\n",
       "      <td>0.0</td>\n",
       "      <td>1.0</td>\n",
       "      <td>0.0</td>\n",
       "      <td>0.0</td>\n",
       "      <td>NaN</td>\n",
       "      <td>38.0</td>\n",
       "      <td>1.0</td>\n",
       "      <td>2008</td>\n",
       "    </tr>\n",
       "    <tr>\n",
       "      <th>86164</th>\n",
       "      <td>313494</td>\n",
       "      <td>335988</td>\n",
       "      <td>2.0</td>\n",
       "      <td>7781.0</td>\n",
       "      <td>2166.0</td>\n",
       "      <td>5.0</td>\n",
       "      <td>6.0</td>\n",
       "      <td>4.6</td>\n",
       "      <td>0.0</td>\n",
       "      <td>0.0</td>\n",
       "      <td>...</td>\n",
       "      <td>False</td>\n",
       "      <td>0.0</td>\n",
       "      <td>0.0</td>\n",
       "      <td>0.0</td>\n",
       "      <td>0.0</td>\n",
       "      <td>0.0</td>\n",
       "      <td>NaN</td>\n",
       "      <td>37.0</td>\n",
       "      <td>1.0</td>\n",
       "      <td>2008</td>\n",
       "    </tr>\n",
       "    <tr>\n",
       "      <th>86163</th>\n",
       "      <td>313494</td>\n",
       "      <td>335988</td>\n",
       "      <td>2.0</td>\n",
       "      <td>7781.0</td>\n",
       "      <td>2166.0</td>\n",
       "      <td>5.0</td>\n",
       "      <td>5.0</td>\n",
       "      <td>4.5</td>\n",
       "      <td>0.0</td>\n",
       "      <td>0.0</td>\n",
       "      <td>...</td>\n",
       "      <td>False</td>\n",
       "      <td>0.0</td>\n",
       "      <td>0.0</td>\n",
       "      <td>0.0</td>\n",
       "      <td>0.0</td>\n",
       "      <td>0.0</td>\n",
       "      <td>NaN</td>\n",
       "      <td>37.0</td>\n",
       "      <td>1.0</td>\n",
       "      <td>2008</td>\n",
       "    </tr>\n",
       "    <tr>\n",
       "      <th>86162</th>\n",
       "      <td>313494</td>\n",
       "      <td>335988</td>\n",
       "      <td>2.0</td>\n",
       "      <td>7781.0</td>\n",
       "      <td>2166.0</td>\n",
       "      <td>5.0</td>\n",
       "      <td>4.0</td>\n",
       "      <td>4.4</td>\n",
       "      <td>4.0</td>\n",
       "      <td>4.0</td>\n",
       "      <td>...</td>\n",
       "      <td>False</td>\n",
       "      <td>0.0</td>\n",
       "      <td>0.0</td>\n",
       "      <td>0.0</td>\n",
       "      <td>0.0</td>\n",
       "      <td>0.0</td>\n",
       "      <td>NaN</td>\n",
       "      <td>37.0</td>\n",
       "      <td>1.0</td>\n",
       "      <td>2008</td>\n",
       "    </tr>\n",
       "    <tr>\n",
       "      <th>...</th>\n",
       "      <td>...</td>\n",
       "      <td>...</td>\n",
       "      <td>...</td>\n",
       "      <td>...</td>\n",
       "      <td>...</td>\n",
       "      <td>...</td>\n",
       "      <td>...</td>\n",
       "      <td>...</td>\n",
       "      <td>...</td>\n",
       "      <td>...</td>\n",
       "      <td>...</td>\n",
       "      <td>...</td>\n",
       "      <td>...</td>\n",
       "      <td>...</td>\n",
       "      <td>...</td>\n",
       "      <td>...</td>\n",
       "      <td>...</td>\n",
       "      <td>...</td>\n",
       "      <td>...</td>\n",
       "      <td>...</td>\n",
       "      <td>...</td>\n",
       "    </tr>\n",
       "    <tr>\n",
       "      <th>40254</th>\n",
       "      <td>1345038</td>\n",
       "      <td>1359481</td>\n",
       "      <td>2.0</td>\n",
       "      <td>102753.0</td>\n",
       "      <td>50771.0</td>\n",
       "      <td>14.0</td>\n",
       "      <td>5.0</td>\n",
       "      <td>13.5</td>\n",
       "      <td>1.0</td>\n",
       "      <td>1.0</td>\n",
       "      <td>...</td>\n",
       "      <td>False</td>\n",
       "      <td>0.0</td>\n",
       "      <td>0.0</td>\n",
       "      <td>0.0</td>\n",
       "      <td>0.0</td>\n",
       "      <td>0.0</td>\n",
       "      <td>NaN</td>\n",
       "      <td>111.0</td>\n",
       "      <td>4.0</td>\n",
       "      <td>2023</td>\n",
       "    </tr>\n",
       "    <tr>\n",
       "      <th>40255</th>\n",
       "      <td>1345038</td>\n",
       "      <td>1359481</td>\n",
       "      <td>2.0</td>\n",
       "      <td>53891.0</td>\n",
       "      <td>50771.0</td>\n",
       "      <td>14.0</td>\n",
       "      <td>6.0</td>\n",
       "      <td>13.6</td>\n",
       "      <td>1.0</td>\n",
       "      <td>1.0</td>\n",
       "      <td>...</td>\n",
       "      <td>False</td>\n",
       "      <td>0.0</td>\n",
       "      <td>0.0</td>\n",
       "      <td>0.0</td>\n",
       "      <td>0.0</td>\n",
       "      <td>0.0</td>\n",
       "      <td>NaN</td>\n",
       "      <td>112.0</td>\n",
       "      <td>4.0</td>\n",
       "      <td>2023</td>\n",
       "    </tr>\n",
       "    <tr>\n",
       "      <th>40256</th>\n",
       "      <td>1345038</td>\n",
       "      <td>1359481</td>\n",
       "      <td>2.0</td>\n",
       "      <td>53891.0</td>\n",
       "      <td>67609.0</td>\n",
       "      <td>15.0</td>\n",
       "      <td>1.0</td>\n",
       "      <td>14.1</td>\n",
       "      <td>0.0</td>\n",
       "      <td>0.0</td>\n",
       "      <td>...</td>\n",
       "      <td>False</td>\n",
       "      <td>0.0</td>\n",
       "      <td>0.0</td>\n",
       "      <td>0.0</td>\n",
       "      <td>0.0</td>\n",
       "      <td>0.0</td>\n",
       "      <td>NaN</td>\n",
       "      <td>112.0</td>\n",
       "      <td>4.0</td>\n",
       "      <td>2023</td>\n",
       "    </tr>\n",
       "    <tr>\n",
       "      <th>40249</th>\n",
       "      <td>1345038</td>\n",
       "      <td>1359481</td>\n",
       "      <td>2.0</td>\n",
       "      <td>63509.0</td>\n",
       "      <td>63651.0</td>\n",
       "      <td>13.0</td>\n",
       "      <td>6.0</td>\n",
       "      <td>12.6</td>\n",
       "      <td>0.0</td>\n",
       "      <td>0.0</td>\n",
       "      <td>...</td>\n",
       "      <td>False</td>\n",
       "      <td>0.0</td>\n",
       "      <td>0.0</td>\n",
       "      <td>0.0</td>\n",
       "      <td>0.0</td>\n",
       "      <td>0.0</td>\n",
       "      <td>NaN</td>\n",
       "      <td>106.0</td>\n",
       "      <td>3.0</td>\n",
       "      <td>2023</td>\n",
       "    </tr>\n",
       "    <tr>\n",
       "      <th>192653</th>\n",
       "      <td>1345038</td>\n",
       "      <td>1359544</td>\n",
       "      <td>1.0</td>\n",
       "      <td>49752.0</td>\n",
       "      <td>79159.0</td>\n",
       "      <td>5.0</td>\n",
       "      <td>3.0</td>\n",
       "      <td>4.3</td>\n",
       "      <td>1.0</td>\n",
       "      <td>1.0</td>\n",
       "      <td>...</td>\n",
       "      <td>False</td>\n",
       "      <td>0.0</td>\n",
       "      <td>0.0</td>\n",
       "      <td>0.0</td>\n",
       "      <td>0.0</td>\n",
       "      <td>0.0</td>\n",
       "      <td>NaN</td>\n",
       "      <td>50.0</td>\n",
       "      <td>0.0</td>\n",
       "      <td>2023</td>\n",
       "    </tr>\n",
       "  </tbody>\n",
       "</table>\n",
       "<p>243657 rows × 22 columns</p>\n",
       "</div>"
      ],
      "text/plain": [
       "        series_id  match_id  innings_no  batsman_id  bowler_id  over_number  \\\n",
       "121828     313494    336031         2.0     47185.0    47123.0         18.0   \n",
       "86165      313494    335988         2.0     15887.0    47123.0          6.0   \n",
       "86164      313494    335988         2.0      7781.0     2166.0          5.0   \n",
       "86163      313494    335988         2.0      7781.0     2166.0          5.0   \n",
       "86162      313494    335988         2.0      7781.0     2166.0          5.0   \n",
       "...           ...       ...         ...         ...        ...          ...   \n",
       "40254     1345038   1359481         2.0    102753.0    50771.0         14.0   \n",
       "40255     1345038   1359481         2.0     53891.0    50771.0         14.0   \n",
       "40256     1345038   1359481         2.0     53891.0    67609.0         15.0   \n",
       "40249     1345038   1359481         2.0     63509.0    63651.0         13.0   \n",
       "192653    1345038   1359544         1.0     49752.0    79159.0          5.0   \n",
       "\n",
       "        ball_number  over  total_runs  batsman_runs  ...  iswicket  byes  \\\n",
       "121828          1.0  17.1         1.0           0.0  ...     False   0.0   \n",
       "86165           1.0   5.1         1.0           0.0  ...     False   0.0   \n",
       "86164           6.0   4.6         0.0           0.0  ...     False   0.0   \n",
       "86163           5.0   4.5         0.0           0.0  ...     False   0.0   \n",
       "86162           4.0   4.4         4.0           4.0  ...     False   0.0   \n",
       "...             ...   ...         ...           ...  ...       ...   ...   \n",
       "40254           5.0  13.5         1.0           1.0  ...     False   0.0   \n",
       "40255           6.0  13.6         1.0           1.0  ...     False   0.0   \n",
       "40256           1.0  14.1         0.0           0.0  ...     False   0.0   \n",
       "40249           6.0  12.6         0.0           0.0  ...     False   0.0   \n",
       "192653          3.0   4.3         1.0           1.0  ...     False   0.0   \n",
       "\n",
       "       legbyes  wides  noballs  penalties  out_player_id  \\\n",
       "121828     0.0    1.0      0.0        0.0            NaN   \n",
       "86165      0.0    1.0      0.0        0.0            NaN   \n",
       "86164      0.0    0.0      0.0        0.0            NaN   \n",
       "86163      0.0    0.0      0.0        0.0            NaN   \n",
       "86162      0.0    0.0      0.0        0.0            NaN   \n",
       "...        ...    ...      ...        ...            ...   \n",
       "40254      0.0    0.0      0.0        0.0            NaN   \n",
       "40255      0.0    0.0      0.0        0.0            NaN   \n",
       "40256      0.0    0.0      0.0        0.0            NaN   \n",
       "40249      0.0    0.0      0.0        0.0            NaN   \n",
       "192653     0.0    0.0      0.0        0.0            NaN   \n",
       "\n",
       "        current_innings_runs  current_innings_wickets  year  \n",
       "121828                 150.0                      4.0  2008  \n",
       "86165                   38.0                      1.0  2008  \n",
       "86164                   37.0                      1.0  2008  \n",
       "86163                   37.0                      1.0  2008  \n",
       "86162                   37.0                      1.0  2008  \n",
       "...                      ...                      ...   ...  \n",
       "40254                  111.0                      4.0  2023  \n",
       "40255                  112.0                      4.0  2023  \n",
       "40256                  112.0                      4.0  2023  \n",
       "40249                  106.0                      3.0  2023  \n",
       "192653                  50.0                      0.0  2023  \n",
       "\n",
       "[243657 rows x 22 columns]"
      ]
     },
     "execution_count": 7,
     "metadata": {},
     "output_type": "execute_result"
    }
   ],
   "source": [
    "#change six and four columns to 1 and 0\n",
    "ball_by_ball_df['isfour']=ball_by_ball_df['isfour'].apply(lambda x: 1 if x==True else 0)\n",
    "ball_by_ball_df['issix']=ball_by_ball_df['issix'].apply(lambda x: 1 if x==True else 0)\n",
    "ball_by_ball_df"
   ]
  },
  {
   "cell_type": "code",
   "execution_count": 8,
   "id": "3cbed030ed902fe7",
   "metadata": {
    "ExecuteTime": {
     "end_time": "2024-04-07T18:13:30.565586Z",
     "start_time": "2024-04-07T18:13:30.078161Z"
    },
    "collapsed": false
   },
   "outputs": [
    {
     "name": "stdout",
     "output_type": "stream",
     "text": [
      "Total number of matches in dataset:  1025\n"
     ]
    }
   ],
   "source": [
    "#total number of matches\n",
    "total_matches=ball_by_ball_df['match_id'].nunique()\n",
    "print(\"Total number of matches in dataset: \",total_matches)"
   ]
  },
  {
   "cell_type": "code",
   "execution_count": 9,
   "id": "b27e685914acfdf3",
   "metadata": {
    "ExecuteTime": {
     "end_time": "2024-04-07T18:13:30.630987Z",
     "start_time": "2024-04-07T18:13:30.091872Z"
    },
    "collapsed": false
   },
   "outputs": [
    {
     "data": {
      "text/html": [
       "<div>\n",
       "<style scoped>\n",
       "    .dataframe tbody tr th:only-of-type {\n",
       "        vertical-align: middle;\n",
       "    }\n",
       "\n",
       "    .dataframe tbody tr th {\n",
       "        vertical-align: top;\n",
       "    }\n",
       "\n",
       "    .dataframe thead th {\n",
       "        text-align: right;\n",
       "    }\n",
       "</style>\n",
       "<table border=\"1\" class=\"dataframe\">\n",
       "  <thead>\n",
       "    <tr style=\"text-align: right;\">\n",
       "      <th></th>\n",
       "      <th>series_id</th>\n",
       "      <th>match_id</th>\n",
       "      <th>innings_no</th>\n",
       "      <th>batsman_id</th>\n",
       "      <th>bowler_id</th>\n",
       "      <th>over_number</th>\n",
       "      <th>ball_number</th>\n",
       "      <th>over</th>\n",
       "      <th>total_runs</th>\n",
       "      <th>batsman_runs</th>\n",
       "      <th>...</th>\n",
       "      <th>iswicket</th>\n",
       "      <th>byes</th>\n",
       "      <th>legbyes</th>\n",
       "      <th>wides</th>\n",
       "      <th>noballs</th>\n",
       "      <th>penalties</th>\n",
       "      <th>out_player_id</th>\n",
       "      <th>current_innings_runs</th>\n",
       "      <th>current_innings_wickets</th>\n",
       "      <th>year</th>\n",
       "    </tr>\n",
       "  </thead>\n",
       "  <tbody>\n",
       "    <tr>\n",
       "      <th>86127</th>\n",
       "      <td>313494</td>\n",
       "      <td>335988</td>\n",
       "      <td>1.0</td>\n",
       "      <td>7634.0</td>\n",
       "      <td>7520.0</td>\n",
       "      <td>19.0</td>\n",
       "      <td>6.0</td>\n",
       "      <td>18.6</td>\n",
       "      <td>4.0</td>\n",
       "      <td>4.0</td>\n",
       "      <td>...</td>\n",
       "      <td>False</td>\n",
       "      <td>0.0</td>\n",
       "      <td>0.0</td>\n",
       "      <td>0.0</td>\n",
       "      <td>0.0</td>\n",
       "      <td>0.0</td>\n",
       "      <td>NaN</td>\n",
       "      <td>128.0</td>\n",
       "      <td>7.0</td>\n",
       "      <td>2008</td>\n",
       "    </tr>\n",
       "    <tr>\n",
       "      <th>86126</th>\n",
       "      <td>313494</td>\n",
       "      <td>335988</td>\n",
       "      <td>1.0</td>\n",
       "      <td>2166.0</td>\n",
       "      <td>7520.0</td>\n",
       "      <td>19.0</td>\n",
       "      <td>5.0</td>\n",
       "      <td>18.5</td>\n",
       "      <td>1.0</td>\n",
       "      <td>1.0</td>\n",
       "      <td>...</td>\n",
       "      <td>False</td>\n",
       "      <td>0.0</td>\n",
       "      <td>0.0</td>\n",
       "      <td>0.0</td>\n",
       "      <td>0.0</td>\n",
       "      <td>0.0</td>\n",
       "      <td>NaN</td>\n",
       "      <td>124.0</td>\n",
       "      <td>7.0</td>\n",
       "      <td>2008</td>\n",
       "    </tr>\n",
       "    <tr>\n",
       "      <th>86125</th>\n",
       "      <td>313494</td>\n",
       "      <td>335988</td>\n",
       "      <td>1.0</td>\n",
       "      <td>48405.0</td>\n",
       "      <td>7520.0</td>\n",
       "      <td>19.0</td>\n",
       "      <td>4.0</td>\n",
       "      <td>18.4</td>\n",
       "      <td>0.0</td>\n",
       "      <td>0.0</td>\n",
       "      <td>...</td>\n",
       "      <td>True</td>\n",
       "      <td>0.0</td>\n",
       "      <td>0.0</td>\n",
       "      <td>0.0</td>\n",
       "      <td>0.0</td>\n",
       "      <td>0.0</td>\n",
       "      <td>48405.0</td>\n",
       "      <td>123.0</td>\n",
       "      <td>7.0</td>\n",
       "      <td>2008</td>\n",
       "    </tr>\n",
       "    <tr>\n",
       "      <th>86124</th>\n",
       "      <td>313494</td>\n",
       "      <td>335988</td>\n",
       "      <td>1.0</td>\n",
       "      <td>7634.0</td>\n",
       "      <td>7520.0</td>\n",
       "      <td>19.0</td>\n",
       "      <td>3.0</td>\n",
       "      <td>18.3</td>\n",
       "      <td>1.0</td>\n",
       "      <td>1.0</td>\n",
       "      <td>...</td>\n",
       "      <td>False</td>\n",
       "      <td>0.0</td>\n",
       "      <td>0.0</td>\n",
       "      <td>0.0</td>\n",
       "      <td>0.0</td>\n",
       "      <td>0.0</td>\n",
       "      <td>NaN</td>\n",
       "      <td>123.0</td>\n",
       "      <td>6.0</td>\n",
       "      <td>2008</td>\n",
       "    </tr>\n",
       "    <tr>\n",
       "      <th>86123</th>\n",
       "      <td>313494</td>\n",
       "      <td>335988</td>\n",
       "      <td>1.0</td>\n",
       "      <td>7634.0</td>\n",
       "      <td>7520.0</td>\n",
       "      <td>19.0</td>\n",
       "      <td>2.0</td>\n",
       "      <td>18.2</td>\n",
       "      <td>4.0</td>\n",
       "      <td>4.0</td>\n",
       "      <td>...</td>\n",
       "      <td>False</td>\n",
       "      <td>0.0</td>\n",
       "      <td>0.0</td>\n",
       "      <td>0.0</td>\n",
       "      <td>0.0</td>\n",
       "      <td>0.0</td>\n",
       "      <td>NaN</td>\n",
       "      <td>122.0</td>\n",
       "      <td>6.0</td>\n",
       "      <td>2008</td>\n",
       "    </tr>\n",
       "    <tr>\n",
       "      <th>...</th>\n",
       "      <td>...</td>\n",
       "      <td>...</td>\n",
       "      <td>...</td>\n",
       "      <td>...</td>\n",
       "      <td>...</td>\n",
       "      <td>...</td>\n",
       "      <td>...</td>\n",
       "      <td>...</td>\n",
       "      <td>...</td>\n",
       "      <td>...</td>\n",
       "      <td>...</td>\n",
       "      <td>...</td>\n",
       "      <td>...</td>\n",
       "      <td>...</td>\n",
       "      <td>...</td>\n",
       "      <td>...</td>\n",
       "      <td>...</td>\n",
       "      <td>...</td>\n",
       "      <td>...</td>\n",
       "      <td>...</td>\n",
       "      <td>...</td>\n",
       "    </tr>\n",
       "    <tr>\n",
       "      <th>40159</th>\n",
       "      <td>1345038</td>\n",
       "      <td>1359481</td>\n",
       "      <td>1.0</td>\n",
       "      <td>108718.0</td>\n",
       "      <td>79159.0</td>\n",
       "      <td>19.0</td>\n",
       "      <td>3.0</td>\n",
       "      <td>18.3</td>\n",
       "      <td>6.0</td>\n",
       "      <td>6.0</td>\n",
       "      <td>...</td>\n",
       "      <td>False</td>\n",
       "      <td>0.0</td>\n",
       "      <td>0.0</td>\n",
       "      <td>0.0</td>\n",
       "      <td>0.0</td>\n",
       "      <td>0.0</td>\n",
       "      <td>NaN</td>\n",
       "      <td>148.0</td>\n",
       "      <td>6.0</td>\n",
       "      <td>2023</td>\n",
       "    </tr>\n",
       "    <tr>\n",
       "      <th>40160</th>\n",
       "      <td>1345038</td>\n",
       "      <td>1359481</td>\n",
       "      <td>1.0</td>\n",
       "      <td>108718.0</td>\n",
       "      <td>79159.0</td>\n",
       "      <td>19.0</td>\n",
       "      <td>4.0</td>\n",
       "      <td>18.4</td>\n",
       "      <td>0.0</td>\n",
       "      <td>0.0</td>\n",
       "      <td>...</td>\n",
       "      <td>True</td>\n",
       "      <td>0.0</td>\n",
       "      <td>0.0</td>\n",
       "      <td>0.0</td>\n",
       "      <td>0.0</td>\n",
       "      <td>0.0</td>\n",
       "      <td>108718.0</td>\n",
       "      <td>148.0</td>\n",
       "      <td>7.0</td>\n",
       "      <td>2023</td>\n",
       "    </tr>\n",
       "    <tr>\n",
       "      <th>40161</th>\n",
       "      <td>1345038</td>\n",
       "      <td>1359481</td>\n",
       "      <td>1.0</td>\n",
       "      <td>67609.0</td>\n",
       "      <td>79159.0</td>\n",
       "      <td>19.0</td>\n",
       "      <td>5.0</td>\n",
       "      <td>18.5</td>\n",
       "      <td>1.0</td>\n",
       "      <td>1.0</td>\n",
       "      <td>...</td>\n",
       "      <td>False</td>\n",
       "      <td>0.0</td>\n",
       "      <td>0.0</td>\n",
       "      <td>0.0</td>\n",
       "      <td>0.0</td>\n",
       "      <td>0.0</td>\n",
       "      <td>NaN</td>\n",
       "      <td>149.0</td>\n",
       "      <td>7.0</td>\n",
       "      <td>2023</td>\n",
       "    </tr>\n",
       "    <tr>\n",
       "      <th>40162</th>\n",
       "      <td>1345038</td>\n",
       "      <td>1359481</td>\n",
       "      <td>1.0</td>\n",
       "      <td>67455.0</td>\n",
       "      <td>79159.0</td>\n",
       "      <td>19.0</td>\n",
       "      <td>6.0</td>\n",
       "      <td>18.6</td>\n",
       "      <td>1.0</td>\n",
       "      <td>1.0</td>\n",
       "      <td>...</td>\n",
       "      <td>False</td>\n",
       "      <td>0.0</td>\n",
       "      <td>0.0</td>\n",
       "      <td>0.0</td>\n",
       "      <td>0.0</td>\n",
       "      <td>0.0</td>\n",
       "      <td>NaN</td>\n",
       "      <td>150.0</td>\n",
       "      <td>7.0</td>\n",
       "      <td>2023</td>\n",
       "    </tr>\n",
       "    <tr>\n",
       "      <th>40283</th>\n",
       "      <td>1345038</td>\n",
       "      <td>1359481</td>\n",
       "      <td>2.0</td>\n",
       "      <td>53891.0</td>\n",
       "      <td>50771.0</td>\n",
       "      <td>19.0</td>\n",
       "      <td>1.0</td>\n",
       "      <td>18.1</td>\n",
       "      <td>2.0</td>\n",
       "      <td>2.0</td>\n",
       "      <td>...</td>\n",
       "      <td>False</td>\n",
       "      <td>0.0</td>\n",
       "      <td>0.0</td>\n",
       "      <td>0.0</td>\n",
       "      <td>0.0</td>\n",
       "      <td>0.0</td>\n",
       "      <td>NaN</td>\n",
       "      <td>163.0</td>\n",
       "      <td>4.0</td>\n",
       "      <td>2023</td>\n",
       "    </tr>\n",
       "  </tbody>\n",
       "</table>\n",
       "<p>10809 rows × 22 columns</p>\n",
       "</div>"
      ],
      "text/plain": [
       "       series_id  match_id  innings_no  batsman_id  bowler_id  over_number  \\\n",
       "86127     313494    335988         1.0      7634.0     7520.0         19.0   \n",
       "86126     313494    335988         1.0      2166.0     7520.0         19.0   \n",
       "86125     313494    335988         1.0     48405.0     7520.0         19.0   \n",
       "86124     313494    335988         1.0      7634.0     7520.0         19.0   \n",
       "86123     313494    335988         1.0      7634.0     7520.0         19.0   \n",
       "...          ...       ...         ...         ...        ...          ...   \n",
       "40159    1345038   1359481         1.0    108718.0    79159.0         19.0   \n",
       "40160    1345038   1359481         1.0    108718.0    79159.0         19.0   \n",
       "40161    1345038   1359481         1.0     67609.0    79159.0         19.0   \n",
       "40162    1345038   1359481         1.0     67455.0    79159.0         19.0   \n",
       "40283    1345038   1359481         2.0     53891.0    50771.0         19.0   \n",
       "\n",
       "       ball_number  over  total_runs  batsman_runs  ...  iswicket  byes  \\\n",
       "86127          6.0  18.6         4.0           4.0  ...     False   0.0   \n",
       "86126          5.0  18.5         1.0           1.0  ...     False   0.0   \n",
       "86125          4.0  18.4         0.0           0.0  ...      True   0.0   \n",
       "86124          3.0  18.3         1.0           1.0  ...     False   0.0   \n",
       "86123          2.0  18.2         4.0           4.0  ...     False   0.0   \n",
       "...            ...   ...         ...           ...  ...       ...   ...   \n",
       "40159          3.0  18.3         6.0           6.0  ...     False   0.0   \n",
       "40160          4.0  18.4         0.0           0.0  ...      True   0.0   \n",
       "40161          5.0  18.5         1.0           1.0  ...     False   0.0   \n",
       "40162          6.0  18.6         1.0           1.0  ...     False   0.0   \n",
       "40283          1.0  18.1         2.0           2.0  ...     False   0.0   \n",
       "\n",
       "      legbyes  wides  noballs  penalties  out_player_id  current_innings_runs  \\\n",
       "86127     0.0    0.0      0.0        0.0            NaN                 128.0   \n",
       "86126     0.0    0.0      0.0        0.0            NaN                 124.0   \n",
       "86125     0.0    0.0      0.0        0.0        48405.0                 123.0   \n",
       "86124     0.0    0.0      0.0        0.0            NaN                 123.0   \n",
       "86123     0.0    0.0      0.0        0.0            NaN                 122.0   \n",
       "...       ...    ...      ...        ...            ...                   ...   \n",
       "40159     0.0    0.0      0.0        0.0            NaN                 148.0   \n",
       "40160     0.0    0.0      0.0        0.0       108718.0                 148.0   \n",
       "40161     0.0    0.0      0.0        0.0            NaN                 149.0   \n",
       "40162     0.0    0.0      0.0        0.0            NaN                 150.0   \n",
       "40283     0.0    0.0      0.0        0.0            NaN                 163.0   \n",
       "\n",
       "       current_innings_wickets  year  \n",
       "86127                      7.0  2008  \n",
       "86126                      7.0  2008  \n",
       "86125                      7.0  2008  \n",
       "86124                      6.0  2008  \n",
       "86123                      6.0  2008  \n",
       "...                        ...   ...  \n",
       "40159                      6.0  2023  \n",
       "40160                      7.0  2023  \n",
       "40161                      7.0  2023  \n",
       "40162                      7.0  2023  \n",
       "40283                      4.0  2023  \n",
       "\n",
       "[10809 rows x 22 columns]"
      ]
     },
     "execution_count": 9,
     "metadata": {},
     "output_type": "execute_result"
    }
   ],
   "source": [
    "#filter dataframe for all overs in range 18.1 to 18.6\n",
    "filtered_df=ball_by_ball_df[(ball_by_ball_df['over']>=18.1) & (ball_by_ball_df['over']<=18.6)]\n",
    "filtered_df"
   ]
  },
  {
   "cell_type": "code",
   "execution_count": 10,
   "id": "338a4545a37a9fa8",
   "metadata": {
    "ExecuteTime": {
     "end_time": "2024-04-07T18:13:30.652066Z",
     "start_time": "2024-04-07T18:13:30.116229Z"
    },
    "collapsed": false
   },
   "outputs": [
    {
     "name": "stderr",
     "output_type": "stream",
     "text": [
      "/var/folders/fd/_vqm4qqj113dx_9dmjpjrhfw0000gn/T/ipykernel_54950/1414600336.py:1: SettingWithCopyWarning: \n",
      "A value is trying to be set on a copy of a slice from a DataFrame.\n",
      "Try using .loc[row_indexer,col_indexer] = value instead\n",
      "\n",
      "See the caveats in the documentation: https://pandas.pydata.org/pandas-docs/stable/user_guide/indexing.html#returning-a-view-versus-a-copy\n",
      "  filtered_df['total_runs']=filtered_df['total_runs'].astype(int)\n"
     ]
    }
   ],
   "source": [
    "filtered_df['total_runs']=filtered_df['total_runs'].astype(int)"
   ]
  },
  {
   "cell_type": "code",
   "execution_count": 11,
   "id": "59b2ed804cb691fb",
   "metadata": {
    "ExecuteTime": {
     "end_time": "2024-04-07T18:13:30.653752Z",
     "start_time": "2024-04-07T18:13:30.130485Z"
    },
    "collapsed": false
   },
   "outputs": [
    {
     "name": "stdout",
     "output_type": "stream",
     "text": [
      "Total number of matches where 19th over was bowled:  992\n"
     ]
    }
   ],
   "source": [
    "#total matches were 19th over was bowled\n",
    "total_matches_19th_over=filtered_df['match_id'].nunique()\n",
    "print(\"Total number of matches where 19th over was bowled: \",total_matches_19th_over)"
   ]
  },
  {
   "cell_type": "code",
   "execution_count": 12,
   "id": "d211006996c80f1",
   "metadata": {
    "ExecuteTime": {
     "end_time": "2024-04-07T18:13:30.654928Z",
     "start_time": "2024-04-07T18:13:30.137411Z"
    },
    "collapsed": false
   },
   "outputs": [
    {
     "name": "stdout",
     "output_type": "stream",
     "text": [
      "Total number of matches where 19th over was completed:  984\n"
     ]
    }
   ],
   "source": [
    "#matches were 19th over was completed,filter out matches were ball number 6 is not present\n",
    "completed_19th_over_df=filtered_df[filtered_df['over']==18.6]\n",
    "#total matches were 19th over was completed\n",
    "total_matches_19th_over_completed=completed_19th_over_df['match_id'].nunique()\n",
    "print(\"Total number of matches where 19th over was completed: \",total_matches_19th_over_completed)"
   ]
  },
  {
   "cell_type": "code",
   "execution_count": 13,
   "id": "11276ed656d4867",
   "metadata": {
    "ExecuteTime": {
     "end_time": "2024-04-07T18:13:30.656711Z",
     "start_time": "2024-04-07T18:13:30.152539Z"
    },
    "collapsed": false
   },
   "outputs": [
    {
     "data": {
      "text/html": [
       "<div>\n",
       "<style scoped>\n",
       "    .dataframe tbody tr th:only-of-type {\n",
       "        vertical-align: middle;\n",
       "    }\n",
       "\n",
       "    .dataframe tbody tr th {\n",
       "        vertical-align: top;\n",
       "    }\n",
       "\n",
       "    .dataframe thead th {\n",
       "        text-align: right;\n",
       "    }\n",
       "</style>\n",
       "<table border=\"1\" class=\"dataframe\">\n",
       "  <thead>\n",
       "    <tr style=\"text-align: right;\">\n",
       "      <th></th>\n",
       "      <th>year</th>\n",
       "      <th>match_id</th>\n",
       "      <th>over_number</th>\n",
       "      <th>over</th>\n",
       "      <th>total_runs</th>\n",
       "      <th>isfour</th>\n",
       "      <th>issix</th>\n",
       "      <th>innings_no</th>\n",
       "    </tr>\n",
       "  </thead>\n",
       "  <tbody>\n",
       "    <tr>\n",
       "      <th>86127</th>\n",
       "      <td>2008</td>\n",
       "      <td>335988</td>\n",
       "      <td>19.0</td>\n",
       "      <td>18.6</td>\n",
       "      <td>4</td>\n",
       "      <td>1</td>\n",
       "      <td>0</td>\n",
       "      <td>1.0</td>\n",
       "    </tr>\n",
       "    <tr>\n",
       "      <th>86126</th>\n",
       "      <td>2008</td>\n",
       "      <td>335988</td>\n",
       "      <td>19.0</td>\n",
       "      <td>18.5</td>\n",
       "      <td>1</td>\n",
       "      <td>0</td>\n",
       "      <td>0</td>\n",
       "      <td>1.0</td>\n",
       "    </tr>\n",
       "    <tr>\n",
       "      <th>86125</th>\n",
       "      <td>2008</td>\n",
       "      <td>335988</td>\n",
       "      <td>19.0</td>\n",
       "      <td>18.4</td>\n",
       "      <td>0</td>\n",
       "      <td>0</td>\n",
       "      <td>0</td>\n",
       "      <td>1.0</td>\n",
       "    </tr>\n",
       "    <tr>\n",
       "      <th>86124</th>\n",
       "      <td>2008</td>\n",
       "      <td>335988</td>\n",
       "      <td>19.0</td>\n",
       "      <td>18.3</td>\n",
       "      <td>1</td>\n",
       "      <td>0</td>\n",
       "      <td>0</td>\n",
       "      <td>1.0</td>\n",
       "    </tr>\n",
       "    <tr>\n",
       "      <th>86123</th>\n",
       "      <td>2008</td>\n",
       "      <td>335988</td>\n",
       "      <td>19.0</td>\n",
       "      <td>18.2</td>\n",
       "      <td>4</td>\n",
       "      <td>1</td>\n",
       "      <td>0</td>\n",
       "      <td>1.0</td>\n",
       "    </tr>\n",
       "    <tr>\n",
       "      <th>...</th>\n",
       "      <td>...</td>\n",
       "      <td>...</td>\n",
       "      <td>...</td>\n",
       "      <td>...</td>\n",
       "      <td>...</td>\n",
       "      <td>...</td>\n",
       "      <td>...</td>\n",
       "      <td>...</td>\n",
       "    </tr>\n",
       "    <tr>\n",
       "      <th>40159</th>\n",
       "      <td>2023</td>\n",
       "      <td>1359481</td>\n",
       "      <td>19.0</td>\n",
       "      <td>18.3</td>\n",
       "      <td>6</td>\n",
       "      <td>0</td>\n",
       "      <td>1</td>\n",
       "      <td>1.0</td>\n",
       "    </tr>\n",
       "    <tr>\n",
       "      <th>40160</th>\n",
       "      <td>2023</td>\n",
       "      <td>1359481</td>\n",
       "      <td>19.0</td>\n",
       "      <td>18.4</td>\n",
       "      <td>0</td>\n",
       "      <td>0</td>\n",
       "      <td>0</td>\n",
       "      <td>1.0</td>\n",
       "    </tr>\n",
       "    <tr>\n",
       "      <th>40161</th>\n",
       "      <td>2023</td>\n",
       "      <td>1359481</td>\n",
       "      <td>19.0</td>\n",
       "      <td>18.5</td>\n",
       "      <td>1</td>\n",
       "      <td>0</td>\n",
       "      <td>0</td>\n",
       "      <td>1.0</td>\n",
       "    </tr>\n",
       "    <tr>\n",
       "      <th>40162</th>\n",
       "      <td>2023</td>\n",
       "      <td>1359481</td>\n",
       "      <td>19.0</td>\n",
       "      <td>18.6</td>\n",
       "      <td>1</td>\n",
       "      <td>0</td>\n",
       "      <td>0</td>\n",
       "      <td>1.0</td>\n",
       "    </tr>\n",
       "    <tr>\n",
       "      <th>40283</th>\n",
       "      <td>2023</td>\n",
       "      <td>1359481</td>\n",
       "      <td>19.0</td>\n",
       "      <td>18.1</td>\n",
       "      <td>2</td>\n",
       "      <td>0</td>\n",
       "      <td>0</td>\n",
       "      <td>2.0</td>\n",
       "    </tr>\n",
       "  </tbody>\n",
       "</table>\n",
       "<p>10778 rows × 8 columns</p>\n",
       "</div>"
      ],
      "text/plain": [
       "       year  match_id  over_number  over  total_runs  isfour  issix  \\\n",
       "86127  2008    335988         19.0  18.6           4       1      0   \n",
       "86126  2008    335988         19.0  18.5           1       0      0   \n",
       "86125  2008    335988         19.0  18.4           0       0      0   \n",
       "86124  2008    335988         19.0  18.3           1       0      0   \n",
       "86123  2008    335988         19.0  18.2           4       1      0   \n",
       "...     ...       ...          ...   ...         ...     ...    ...   \n",
       "40159  2023   1359481         19.0  18.3           6       0      1   \n",
       "40160  2023   1359481         19.0  18.4           0       0      0   \n",
       "40161  2023   1359481         19.0  18.5           1       0      0   \n",
       "40162  2023   1359481         19.0  18.6           1       0      0   \n",
       "40283  2023   1359481         19.0  18.1           2       0      0   \n",
       "\n",
       "       innings_no  \n",
       "86127         1.0  \n",
       "86126         1.0  \n",
       "86125         1.0  \n",
       "86124         1.0  \n",
       "86123         1.0  \n",
       "...           ...  \n",
       "40159         1.0  \n",
       "40160         1.0  \n",
       "40161         1.0  \n",
       "40162         1.0  \n",
       "40283         2.0  \n",
       "\n",
       "[10778 rows x 8 columns]"
      ]
     },
     "execution_count": 13,
     "metadata": {},
     "output_type": "execute_result"
    }
   ],
   "source": [
    "#select only required columns\n",
    "required_columns=['year','match_id','over_number','over','total_runs','isfour','issix','innings_no',]\n",
    "filtered_df=filtered_df[filtered_df['match_id'].isin(completed_19th_over_df['match_id'])]\n",
    "filtered_df=filtered_df[required_columns]\n",
    "filtered_df"
   ]
  },
  {
   "cell_type": "code",
   "execution_count": 14,
   "id": "ec6d717e5a086161",
   "metadata": {
    "ExecuteTime": {
     "end_time": "2024-04-07T18:13:30.670531Z",
     "start_time": "2024-04-07T18:13:30.171810Z"
    },
    "collapsed": false
   },
   "outputs": [
    {
     "data": {
      "text/html": [
       "<div>\n",
       "<style scoped>\n",
       "    .dataframe tbody tr th:only-of-type {\n",
       "        vertical-align: middle;\n",
       "    }\n",
       "\n",
       "    .dataframe tbody tr th {\n",
       "        vertical-align: top;\n",
       "    }\n",
       "\n",
       "    .dataframe thead th {\n",
       "        text-align: right;\n",
       "    }\n",
       "</style>\n",
       "<table border=\"1\" class=\"dataframe\">\n",
       "  <thead>\n",
       "    <tr style=\"text-align: right;\">\n",
       "      <th></th>\n",
       "      <th>year</th>\n",
       "      <th>match_id</th>\n",
       "      <th>innings_no</th>\n",
       "      <th>total_runs</th>\n",
       "    </tr>\n",
       "  </thead>\n",
       "  <tbody>\n",
       "    <tr>\n",
       "      <th>0</th>\n",
       "      <td>2008</td>\n",
       "      <td>335982</td>\n",
       "      <td>1.0</td>\n",
       "      <td>21</td>\n",
       "    </tr>\n",
       "    <tr>\n",
       "      <th>1</th>\n",
       "      <td>2008</td>\n",
       "      <td>335983</td>\n",
       "      <td>1.0</td>\n",
       "      <td>15</td>\n",
       "    </tr>\n",
       "    <tr>\n",
       "      <th>2</th>\n",
       "      <td>2008</td>\n",
       "      <td>335983</td>\n",
       "      <td>2.0</td>\n",
       "      <td>7</td>\n",
       "    </tr>\n",
       "    <tr>\n",
       "      <th>3</th>\n",
       "      <td>2008</td>\n",
       "      <td>335984</td>\n",
       "      <td>1.0</td>\n",
       "      <td>10</td>\n",
       "    </tr>\n",
       "    <tr>\n",
       "      <th>4</th>\n",
       "      <td>2008</td>\n",
       "      <td>335985</td>\n",
       "      <td>1.0</td>\n",
       "      <td>9</td>\n",
       "    </tr>\n",
       "    <tr>\n",
       "      <th>...</th>\n",
       "      <td>...</td>\n",
       "      <td>...</td>\n",
       "      <td>...</td>\n",
       "      <td>...</td>\n",
       "    </tr>\n",
       "    <tr>\n",
       "      <th>1753</th>\n",
       "      <td>2023</td>\n",
       "      <td>1370350</td>\n",
       "      <td>2.0</td>\n",
       "      <td>8</td>\n",
       "    </tr>\n",
       "    <tr>\n",
       "      <th>1754</th>\n",
       "      <td>2023</td>\n",
       "      <td>1370351</td>\n",
       "      <td>1.0</td>\n",
       "      <td>6</td>\n",
       "    </tr>\n",
       "    <tr>\n",
       "      <th>1755</th>\n",
       "      <td>2023</td>\n",
       "      <td>1370352</td>\n",
       "      <td>1.0</td>\n",
       "      <td>9</td>\n",
       "    </tr>\n",
       "    <tr>\n",
       "      <th>1756</th>\n",
       "      <td>2023</td>\n",
       "      <td>1370352</td>\n",
       "      <td>2.0</td>\n",
       "      <td>1</td>\n",
       "    </tr>\n",
       "    <tr>\n",
       "      <th>1757</th>\n",
       "      <td>2023</td>\n",
       "      <td>1370353</td>\n",
       "      <td>1.0</td>\n",
       "      <td>18</td>\n",
       "    </tr>\n",
       "  </tbody>\n",
       "</table>\n",
       "<p>1758 rows × 4 columns</p>\n",
       "</div>"
      ],
      "text/plain": [
       "      year  match_id  innings_no  total_runs\n",
       "0     2008    335982         1.0          21\n",
       "1     2008    335983         1.0          15\n",
       "2     2008    335983         2.0           7\n",
       "3     2008    335984         1.0          10\n",
       "4     2008    335985         1.0           9\n",
       "...    ...       ...         ...         ...\n",
       "1753  2023   1370350         2.0           8\n",
       "1754  2023   1370351         1.0           6\n",
       "1755  2023   1370352         1.0           9\n",
       "1756  2023   1370352         2.0           1\n",
       "1757  2023   1370353         1.0          18\n",
       "\n",
       "[1758 rows x 4 columns]"
      ]
     },
     "execution_count": 14,
     "metadata": {},
     "output_type": "execute_result"
    }
   ],
   "source": [
    "#sum of runs in 19th over for each match\n",
    "sum_runs_19th_over=filtered_df.groupby(['year','match_id','innings_no'])['total_runs'].sum().reset_index()\n",
    "sum_runs_19th_over"
   ]
  },
  {
   "cell_type": "code",
   "execution_count": 15,
   "id": "b6292a159104f225",
   "metadata": {
    "ExecuteTime": {
     "end_time": "2024-04-07T18:13:30.671928Z",
     "start_time": "2024-04-07T18:13:30.187075Z"
    },
    "collapsed": false
   },
   "outputs": [
    {
     "data": {
      "text/html": [
       "<div>\n",
       "<style scoped>\n",
       "    .dataframe tbody tr th:only-of-type {\n",
       "        vertical-align: middle;\n",
       "    }\n",
       "\n",
       "    .dataframe tbody tr th {\n",
       "        vertical-align: top;\n",
       "    }\n",
       "\n",
       "    .dataframe thead th {\n",
       "        text-align: right;\n",
       "    }\n",
       "</style>\n",
       "<table border=\"1\" class=\"dataframe\">\n",
       "  <thead>\n",
       "    <tr style=\"text-align: right;\">\n",
       "      <th></th>\n",
       "      <th>year</th>\n",
       "      <th>match_id</th>\n",
       "      <th>innings_no</th>\n",
       "      <th>total_runs</th>\n",
       "    </tr>\n",
       "  </thead>\n",
       "  <tbody>\n",
       "    <tr>\n",
       "      <th>1757</th>\n",
       "      <td>2023</td>\n",
       "      <td>1370353</td>\n",
       "      <td>1.0</td>\n",
       "      <td>18</td>\n",
       "    </tr>\n",
       "  </tbody>\n",
       "</table>\n",
       "</div>"
      ],
      "text/plain": [
       "      year  match_id  innings_no  total_runs\n",
       "1757  2023   1370353         1.0          18"
      ]
     },
     "execution_count": 15,
     "metadata": {},
     "output_type": "execute_result"
    }
   ],
   "source": [
    "#Runs conceeded in the 19th over last year by CSK's Tushar Deshpande against GT is 18 as per cricbuzz and our calculation mathces it\n",
    "sum_runs_19th_over[sum_runs_19th_over['match_id']==1370353]"
   ]
  },
  {
   "cell_type": "code",
   "execution_count": 16,
   "id": "30d8b25d907806c9",
   "metadata": {
    "ExecuteTime": {
     "end_time": "2024-04-07T18:13:30.674741Z",
     "start_time": "2024-04-07T18:13:30.193562Z"
    },
    "collapsed": false
   },
   "outputs": [
    {
     "name": "stdout",
     "output_type": "stream",
     "text": [
      "Total number of innings in the data innings_no\n",
      "1.0    983\n",
      "2.0    775\n",
      "Name: count, dtype: int64\n"
     ]
    }
   ],
   "source": [
    "print(\"Total number of innings in the data\",sum_runs_19th_over['innings_no'].value_counts())"
   ]
  },
  {
   "cell_type": "markdown",
   "id": "67218c1fd0dcbe4f",
   "metadata": {
    "collapsed": false
   },
   "source": [
    "# Analyzing runs scored in 19th over"
   ]
  },
  {
   "cell_type": "markdown",
   "id": "c99a5c14d4b68c70",
   "metadata": {
    "collapsed": false
   },
   "source": [
    "## overall distribution of runs scored in 19th over"
   ]
  },
  {
   "cell_type": "code",
   "execution_count": 17,
   "id": "6ebd71432b6c5559",
   "metadata": {
    "ExecuteTime": {
     "end_time": "2024-04-07T18:13:31.081822Z",
     "start_time": "2024-04-07T18:13:30.197481Z"
    },
    "collapsed": false
   },
   "outputs": [
    {
     "data": {
      "image/png": "[encoded data removed]",
      "text/plain": [
       "<Figure size 1000x600 with 1 Axes>"
      ]
     },
     "metadata": {},
     "output_type": "display_data"
    }
   ],
   "source": [
    "#histogram of runs scored in 19th over\n",
    "plt.figure(figsize=(10,6))\n",
    "sns.histplot(sum_runs_19th_over['total_runs'],bins=range(0,31,1),kde=True)\n",
    "plt.xticks(range(0,31,1))\n",
    "plt.axvspan(0, 5, color='red', alpha=0.5)\n",
    "plt.xlabel(\"Runs scored in 19th over for innings 1\")\n",
    "plt.ylabel(\"Frequency\")\n",
    "plt.title(\"Histogram of runs scored in 19th over for innings 1\")\n",
    "plt.show()\n"
   ]
  },
  {
   "cell_type": "markdown",
   "id": "8475b1825760411b",
   "metadata": {
    "collapsed": false
   },
   "source": [
    "### performing same for first innings and second innings separately"
   ]
  },
  {
   "cell_type": "code",
   "execution_count": 18,
   "id": "a98eb1ffc98c0833",
   "metadata": {
    "ExecuteTime": {
     "end_time": "2024-04-07T18:13:31.530323Z",
     "start_time": "2024-04-07T18:13:30.579678Z"
    },
    "collapsed": false
   },
   "outputs": [
    {
     "data": {
      "image/png": "[encoded data removed]",
      "text/plain": [
       "<Figure size 1000x600 with 1 Axes>"
      ]
     },
     "metadata": {},
     "output_type": "display_data"
    }
   ],
   "source": [
    "#filter dataframe for innings 1 from sum_runs_19th_over\n",
    "sum_runs_19th_over_innings1=sum_runs_19th_over[sum_runs_19th_over['innings_no']==1]\n",
    "sum_runs_19th_over_innings1\n",
    "#overall distribution of runs scored in 19th over for innings 1\n",
    "plt.figure(figsize=(10,6))\n",
    "sns.histplot(sum_runs_19th_over_innings1['total_runs'],bins=range(0,31,1),kde=True)\n",
    "plt.xticks(range(0,31,1))\n",
    "plt.axvspan(0, 5, color='red', alpha=0.5)\n",
    "plt.xlabel(\"Runs scored in 19th over for innings 1\")\n",
    "plt.ylabel(\"Frequency\")\n",
    "plt.title(\"Histogram of runs scored in 19th over for innings 1\")\n",
    "plt.show()\n"
   ]
  },
  {
   "cell_type": "code",
   "execution_count": 19,
   "id": "3e14e07625c68af9",
   "metadata": {
    "ExecuteTime": {
     "end_time": "2024-04-07T18:13:31.593809Z",
     "start_time": "2024-04-07T18:13:30.812654Z"
    },
    "collapsed": false
   },
   "outputs": [
    {
     "data": {
      "image/png": "[encoded data removed]",
      "text/plain": [
       "<Figure size 1000x600 with 1 Axes>"
      ]
     },
     "metadata": {},
     "output_type": "display_data"
    }
   ],
   "source": [
    "#filter dataframe for innings 2 from sum_runs_19th_over\n",
    "sum_runs_19th_over_innings2=sum_runs_19th_over[sum_runs_19th_over['innings_no']==2]\n",
    "sum_runs_19th_over_innings2\n",
    "#overall distribution of runs scored in 19th over for innings 1\n",
    "plt.figure(figsize=(10,6))\n",
    "sns.histplot(sum_runs_19th_over_innings2['total_runs'],bins=range(0,31,1),kde=True)\n",
    "plt.xticks(range(0,31,1))\n",
    "plt.axvspan(0, 5, color='red', alpha=0.5)\n",
    "plt.xlabel(\"Runs scored in 19th over for innings 2\")\n",
    "plt.ylabel(\"Frequency\")\n",
    "plt.title(\"Histogram of runs scored in 19th over for innings 2\")\n",
    "plt.show()\n"
   ]
  },
  {
   "cell_type": "markdown",
   "id": "3fa6901fabb2a1ea",
   "metadata": {
    "collapsed": false
   },
   "source": [
    "## number of matches where 19th over had less than 6 runs over for each innings"
   ]
  },
  {
   "cell_type": "code",
   "execution_count": 20,
   "id": "7c3742455ebb921b",
   "metadata": {
    "ExecuteTime": {
     "end_time": "2024-04-07T18:13:32.016139Z",
     "start_time": "2024-04-07T18:13:31.010436Z"
    },
    "collapsed": false
   },
   "outputs": [
    {
     "data": {
      "image/png": "[encoded data removed]",
      "text/plain": [
       "<Figure size 1000x600 with 1 Axes>"
      ]
     },
     "metadata": {},
     "output_type": "display_data"
    }
   ],
   "source": [
    "#plot number of matches where 19th over had less than 6 runs for innings  1\n",
    "plt.figure(figsize=(10,6))\n",
    "sns.countplot(x='year',data=sum_runs_19th_over_innings1[sum_runs_19th_over_innings1['total_runs']<6])\n",
    "plt.xlabel(\"Year\")\n",
    "plt.ylabel(\"Number of matches\")\n",
    "plt.title(\"Number of matches where 19th over had less than 6 runs for Innings 1\")\n",
    "plt.show()\n",
    "\n"
   ]
  },
  {
   "cell_type": "markdown",
   "id": "efe4dad7dd25d1e4",
   "metadata": {
    "collapsed": false
   },
   "source": [
    "# Analysing number of sixes hit in 19th over for each innings"
   ]
  },
  {
   "cell_type": "code",
   "execution_count": 21,
   "id": "9fc0f55ebec83614",
   "metadata": {
    "ExecuteTime": {
     "end_time": "2024-04-07T18:13:32.017704Z",
     "start_time": "2024-04-07T18:13:31.210560Z"
    },
    "collapsed": false
   },
   "outputs": [
    {
     "data": {
      "text/html": [
       "<div>\n",
       "<style scoped>\n",
       "    .dataframe tbody tr th:only-of-type {\n",
       "        vertical-align: middle;\n",
       "    }\n",
       "\n",
       "    .dataframe tbody tr th {\n",
       "        vertical-align: top;\n",
       "    }\n",
       "\n",
       "    .dataframe thead th {\n",
       "        text-align: right;\n",
       "    }\n",
       "</style>\n",
       "<table border=\"1\" class=\"dataframe\">\n",
       "  <thead>\n",
       "    <tr style=\"text-align: right;\">\n",
       "      <th></th>\n",
       "      <th>year</th>\n",
       "      <th>match_id</th>\n",
       "      <th>innings_no</th>\n",
       "      <th>issix</th>\n",
       "    </tr>\n",
       "  </thead>\n",
       "  <tbody>\n",
       "    <tr>\n",
       "      <th>0</th>\n",
       "      <td>2008</td>\n",
       "      <td>335982</td>\n",
       "      <td>1.0</td>\n",
       "      <td>2</td>\n",
       "    </tr>\n",
       "    <tr>\n",
       "      <th>1</th>\n",
       "      <td>2008</td>\n",
       "      <td>335983</td>\n",
       "      <td>1.0</td>\n",
       "      <td>1</td>\n",
       "    </tr>\n",
       "    <tr>\n",
       "      <th>2</th>\n",
       "      <td>2008</td>\n",
       "      <td>335983</td>\n",
       "      <td>2.0</td>\n",
       "      <td>0</td>\n",
       "    </tr>\n",
       "    <tr>\n",
       "      <th>3</th>\n",
       "      <td>2008</td>\n",
       "      <td>335984</td>\n",
       "      <td>1.0</td>\n",
       "      <td>0</td>\n",
       "    </tr>\n",
       "    <tr>\n",
       "      <th>4</th>\n",
       "      <td>2008</td>\n",
       "      <td>335985</td>\n",
       "      <td>1.0</td>\n",
       "      <td>1</td>\n",
       "    </tr>\n",
       "    <tr>\n",
       "      <th>...</th>\n",
       "      <td>...</td>\n",
       "      <td>...</td>\n",
       "      <td>...</td>\n",
       "      <td>...</td>\n",
       "    </tr>\n",
       "    <tr>\n",
       "      <th>1753</th>\n",
       "      <td>2023</td>\n",
       "      <td>1370350</td>\n",
       "      <td>2.0</td>\n",
       "      <td>0</td>\n",
       "    </tr>\n",
       "    <tr>\n",
       "      <th>1754</th>\n",
       "      <td>2023</td>\n",
       "      <td>1370351</td>\n",
       "      <td>1.0</td>\n",
       "      <td>0</td>\n",
       "    </tr>\n",
       "    <tr>\n",
       "      <th>1755</th>\n",
       "      <td>2023</td>\n",
       "      <td>1370352</td>\n",
       "      <td>1.0</td>\n",
       "      <td>1</td>\n",
       "    </tr>\n",
       "    <tr>\n",
       "      <th>1756</th>\n",
       "      <td>2023</td>\n",
       "      <td>1370352</td>\n",
       "      <td>2.0</td>\n",
       "      <td>0</td>\n",
       "    </tr>\n",
       "    <tr>\n",
       "      <th>1757</th>\n",
       "      <td>2023</td>\n",
       "      <td>1370353</td>\n",
       "      <td>1.0</td>\n",
       "      <td>2</td>\n",
       "    </tr>\n",
       "  </tbody>\n",
       "</table>\n",
       "<p>1758 rows × 4 columns</p>\n",
       "</div>"
      ],
      "text/plain": [
       "      year  match_id  innings_no  issix\n",
       "0     2008    335982         1.0      2\n",
       "1     2008    335983         1.0      1\n",
       "2     2008    335983         2.0      0\n",
       "3     2008    335984         1.0      0\n",
       "4     2008    335985         1.0      1\n",
       "...    ...       ...         ...    ...\n",
       "1753  2023   1370350         2.0      0\n",
       "1754  2023   1370351         1.0      0\n",
       "1755  2023   1370352         1.0      1\n",
       "1756  2023   1370352         2.0      0\n",
       "1757  2023   1370353         1.0      2\n",
       "\n",
       "[1758 rows x 4 columns]"
      ]
     },
     "execution_count": 21,
     "metadata": {},
     "output_type": "execute_result"
    }
   ],
   "source": [
    "#group by year and match_id and sum the number of sixes hit in 19th over\n",
    "sum_sixes_19th_over=filtered_df.groupby(['year','match_id','innings_no'])['issix'].sum().reset_index()\n",
    "sum_sixes_19th_over"
   ]
  },
  {
   "cell_type": "code",
   "execution_count": 22,
   "id": "8ec03e26948a74fa",
   "metadata": {
    "ExecuteTime": {
     "end_time": "2024-04-07T18:13:32.471468Z",
     "start_time": "2024-04-07T18:13:31.231963Z"
    },
    "collapsed": false
   },
   "outputs": [
    {
     "data": {
      "image/png": "[encoded data removed]",
      "text/plain": [
       "<Figure size 1000x600 with 1 Axes>"
      ]
     },
     "metadata": {},
     "output_type": "display_data"
    }
   ],
   "source": [
    "#number of sixes hit in 19th over for both innings with countplot and hue as innings_no\n",
    "plt.figure(figsize=(10,6))\n",
    "sns.countplot(x='issix',data=sum_sixes_19th_over,hue='innings_no',palette='Set2')\n",
    "plt.xlabel(\"Number of sixes hit in 19th over\")\n",
    "plt.ylabel(\"Number of matches\")\n",
    "plt.title(\"Number of sixes hit in 19th over for both innings\")\n",
    "plt.show()\n"
   ]
  },
  {
   "cell_type": "markdown",
   "id": "cfb8e6f3398749dd",
   "metadata": {
    "collapsed": false
   },
   "source": [
    "## since innings have unequal distribution, we will calculate proportion of sixes hit for each innings"
   ]
  },
  {
   "cell_type": "code",
   "execution_count": 23,
   "id": "c054bed8e9e81335",
   "metadata": {
    "ExecuteTime": {
     "end_time": "2024-04-07T18:13:32.474269Z",
     "start_time": "2024-04-07T18:13:31.470606Z"
    },
    "collapsed": false
   },
   "outputs": [
    {
     "data": {
      "text/html": [
       "<div>\n",
       "<style scoped>\n",
       "    .dataframe tbody tr th:only-of-type {\n",
       "        vertical-align: middle;\n",
       "    }\n",
       "\n",
       "    .dataframe tbody tr th {\n",
       "        vertical-align: top;\n",
       "    }\n",
       "\n",
       "    .dataframe thead th {\n",
       "        text-align: right;\n",
       "    }\n",
       "</style>\n",
       "<table border=\"1\" class=\"dataframe\">\n",
       "  <thead>\n",
       "    <tr style=\"text-align: right;\">\n",
       "      <th></th>\n",
       "      <th>innings_no</th>\n",
       "      <th>issix</th>\n",
       "      <th>proportion</th>\n",
       "    </tr>\n",
       "  </thead>\n",
       "  <tbody>\n",
       "    <tr>\n",
       "      <th>0</th>\n",
       "      <td>1.0</td>\n",
       "      <td>0</td>\n",
       "      <td>0.583927</td>\n",
       "    </tr>\n",
       "    <tr>\n",
       "      <th>1</th>\n",
       "      <td>1.0</td>\n",
       "      <td>1</td>\n",
       "      <td>0.279756</td>\n",
       "    </tr>\n",
       "    <tr>\n",
       "      <th>2</th>\n",
       "      <td>1.0</td>\n",
       "      <td>2</td>\n",
       "      <td>0.109868</td>\n",
       "    </tr>\n",
       "    <tr>\n",
       "      <th>3</th>\n",
       "      <td>1.0</td>\n",
       "      <td>3</td>\n",
       "      <td>0.022380</td>\n",
       "    </tr>\n",
       "    <tr>\n",
       "      <th>4</th>\n",
       "      <td>1.0</td>\n",
       "      <td>4</td>\n",
       "      <td>0.003052</td>\n",
       "    </tr>\n",
       "    <tr>\n",
       "      <th>5</th>\n",
       "      <td>1.0</td>\n",
       "      <td>5</td>\n",
       "      <td>0.001017</td>\n",
       "    </tr>\n",
       "    <tr>\n",
       "      <th>6</th>\n",
       "      <td>2.0</td>\n",
       "      <td>0</td>\n",
       "      <td>0.661935</td>\n",
       "    </tr>\n",
       "    <tr>\n",
       "      <th>7</th>\n",
       "      <td>2.0</td>\n",
       "      <td>1</td>\n",
       "      <td>0.254194</td>\n",
       "    </tr>\n",
       "    <tr>\n",
       "      <th>8</th>\n",
       "      <td>2.0</td>\n",
       "      <td>2</td>\n",
       "      <td>0.059355</td>\n",
       "    </tr>\n",
       "    <tr>\n",
       "      <th>9</th>\n",
       "      <td>2.0</td>\n",
       "      <td>3</td>\n",
       "      <td>0.021935</td>\n",
       "    </tr>\n",
       "    <tr>\n",
       "      <th>10</th>\n",
       "      <td>2.0</td>\n",
       "      <td>4</td>\n",
       "      <td>0.002581</td>\n",
       "    </tr>\n",
       "  </tbody>\n",
       "</table>\n",
       "</div>"
      ],
      "text/plain": [
       "    innings_no  issix  proportion\n",
       "0          1.0      0    0.583927\n",
       "1          1.0      1    0.279756\n",
       "2          1.0      2    0.109868\n",
       "3          1.0      3    0.022380\n",
       "4          1.0      4    0.003052\n",
       "5          1.0      5    0.001017\n",
       "6          2.0      0    0.661935\n",
       "7          2.0      1    0.254194\n",
       "8          2.0      2    0.059355\n",
       "9          2.0      3    0.021935\n",
       "10         2.0      4    0.002581"
      ]
     },
     "execution_count": 23,
     "metadata": {},
     "output_type": "execute_result"
    }
   ],
   "source": [
    "proportion_data = sum_sixes_19th_over.groupby('innings_no')['issix'].value_counts(normalize=True).reset_index(name='proportion')\n",
    "proportion_data"
   ]
  },
  {
   "cell_type": "code",
   "execution_count": 24,
   "id": "ad8e49cc8b78aca1",
   "metadata": {
    "ExecuteTime": {
     "end_time": "2024-04-07T18:13:32.494733Z",
     "start_time": "2024-04-07T18:13:31.578023Z"
    },
    "collapsed": false
   },
   "outputs": [
    {
     "data": {
      "image/png": "[encoded data removed]",
      "text/plain": [
       "<Figure size 1000x600 with 1 Axes>"
      ]
     },
     "metadata": {},
     "output_type": "display_data"
    }
   ],
   "source": [
    "# Convert the proportion to percentage for easier interpretation\n",
    "proportion_data['proportion'] *= 100\n",
    "\n",
    "plt.figure(figsize=(10,6))\n",
    "sns.barplot(x='issix', y='proportion', hue='innings_no', data=proportion_data, palette='Set2')\n",
    "plt.xlabel(\"Number of sixes\")\n",
    "plt.ylabel(\"Proportion of sixes (%)\")\n",
    "plt.title(\"Proportion of sixes hit for both innings\")\n",
    "plt.show()"
   ]
  },
  {
   "cell_type": "markdown",
   "id": "83e35bdaf8ac1e51",
   "metadata": {
    "collapsed": false
   },
   "source": [
    "# Analysing number of fours hit in 19th over"
   ]
  },
  {
   "cell_type": "code",
   "execution_count": 25,
   "id": "2803facb56a99142",
   "metadata": {
    "ExecuteTime": {
     "end_time": "2024-04-07T18:13:32.496021Z",
     "start_time": "2024-04-07T18:13:31.725344Z"
    },
    "collapsed": false
   },
   "outputs": [
    {
     "data": {
      "text/html": [
       "<div>\n",
       "<style scoped>\n",
       "    .dataframe tbody tr th:only-of-type {\n",
       "        vertical-align: middle;\n",
       "    }\n",
       "\n",
       "    .dataframe tbody tr th {\n",
       "        vertical-align: top;\n",
       "    }\n",
       "\n",
       "    .dataframe thead th {\n",
       "        text-align: right;\n",
       "    }\n",
       "</style>\n",
       "<table border=\"1\" class=\"dataframe\">\n",
       "  <thead>\n",
       "    <tr style=\"text-align: right;\">\n",
       "      <th></th>\n",
       "      <th>year</th>\n",
       "      <th>match_id</th>\n",
       "      <th>innings_no</th>\n",
       "      <th>isfour</th>\n",
       "    </tr>\n",
       "  </thead>\n",
       "  <tbody>\n",
       "    <tr>\n",
       "      <th>0</th>\n",
       "      <td>2008</td>\n",
       "      <td>335982</td>\n",
       "      <td>1.0</td>\n",
       "      <td>2</td>\n",
       "    </tr>\n",
       "    <tr>\n",
       "      <th>1</th>\n",
       "      <td>2008</td>\n",
       "      <td>335983</td>\n",
       "      <td>1.0</td>\n",
       "      <td>1</td>\n",
       "    </tr>\n",
       "    <tr>\n",
       "      <th>2</th>\n",
       "      <td>2008</td>\n",
       "      <td>335983</td>\n",
       "      <td>2.0</td>\n",
       "      <td>0</td>\n",
       "    </tr>\n",
       "    <tr>\n",
       "      <th>3</th>\n",
       "      <td>2008</td>\n",
       "      <td>335984</td>\n",
       "      <td>1.0</td>\n",
       "      <td>2</td>\n",
       "    </tr>\n",
       "    <tr>\n",
       "      <th>4</th>\n",
       "      <td>2008</td>\n",
       "      <td>335985</td>\n",
       "      <td>1.0</td>\n",
       "      <td>0</td>\n",
       "    </tr>\n",
       "    <tr>\n",
       "      <th>...</th>\n",
       "      <td>...</td>\n",
       "      <td>...</td>\n",
       "      <td>...</td>\n",
       "      <td>...</td>\n",
       "    </tr>\n",
       "    <tr>\n",
       "      <th>1753</th>\n",
       "      <td>2023</td>\n",
       "      <td>1370350</td>\n",
       "      <td>2.0</td>\n",
       "      <td>2</td>\n",
       "    </tr>\n",
       "    <tr>\n",
       "      <th>1754</th>\n",
       "      <td>2023</td>\n",
       "      <td>1370351</td>\n",
       "      <td>1.0</td>\n",
       "      <td>0</td>\n",
       "    </tr>\n",
       "    <tr>\n",
       "      <th>1755</th>\n",
       "      <td>2023</td>\n",
       "      <td>1370352</td>\n",
       "      <td>1.0</td>\n",
       "      <td>0</td>\n",
       "    </tr>\n",
       "    <tr>\n",
       "      <th>1756</th>\n",
       "      <td>2023</td>\n",
       "      <td>1370352</td>\n",
       "      <td>2.0</td>\n",
       "      <td>0</td>\n",
       "    </tr>\n",
       "    <tr>\n",
       "      <th>1757</th>\n",
       "      <td>2023</td>\n",
       "      <td>1370353</td>\n",
       "      <td>1.0</td>\n",
       "      <td>1</td>\n",
       "    </tr>\n",
       "  </tbody>\n",
       "</table>\n",
       "<p>1758 rows × 4 columns</p>\n",
       "</div>"
      ],
      "text/plain": [
       "      year  match_id  innings_no  isfour\n",
       "0     2008    335982         1.0       2\n",
       "1     2008    335983         1.0       1\n",
       "2     2008    335983         2.0       0\n",
       "3     2008    335984         1.0       2\n",
       "4     2008    335985         1.0       0\n",
       "...    ...       ...         ...     ...\n",
       "1753  2023   1370350         2.0       2\n",
       "1754  2023   1370351         1.0       0\n",
       "1755  2023   1370352         1.0       0\n",
       "1756  2023   1370352         2.0       0\n",
       "1757  2023   1370353         1.0       1\n",
       "\n",
       "[1758 rows x 4 columns]"
      ]
     },
     "execution_count": 25,
     "metadata": {},
     "output_type": "execute_result"
    }
   ],
   "source": [
    "#group by year and match_id and sum the number of fours hit in 19th over\n",
    "sum_fours_19th_over=filtered_df.groupby(['year','match_id','innings_no'])['isfour'].sum().reset_index()\n",
    "sum_fours_19th_over"
   ]
  },
  {
   "cell_type": "code",
   "execution_count": 26,
   "id": "eef42a7fcd8f0480",
   "metadata": {
    "ExecuteTime": {
     "end_time": "2024-04-07T18:13:32.497045Z",
     "start_time": "2024-04-07T18:13:31.750036Z"
    },
    "collapsed": false
   },
   "outputs": [
    {
     "data": {
      "image/png": "[encoded data removed]",
      "text/plain": [
       "<Figure size 1000x600 with 1 Axes>"
      ]
     },
     "metadata": {},
     "output_type": "display_data"
    }
   ],
   "source": [
    "#number of sixes hit in 19th over for both innings with countplot and hue as innings_no\n",
    "plt.figure(figsize=(10,6))\n",
    "sns.countplot(x='isfour',data=sum_fours_19th_over,hue='innings_no',palette='Set2')\n",
    "plt.xlabel(\"Number of fours hit in 19th over\")\n",
    "plt.ylabel(\"Number of matches\")\n",
    "plt.title(\"Number of fours hit in 19th over for both innings\")\n",
    "plt.show()\n"
   ]
  },
  {
   "cell_type": "markdown",
   "id": "243e2d4f047ab17a",
   "metadata": {
    "collapsed": false
   },
   "source": [
    "## since innings have unequal distribution, we will calculate proportion of fours hit for each innings"
   ]
  },
  {
   "cell_type": "code",
   "execution_count": 27,
   "id": "fa570431ba84428",
   "metadata": {
    "ExecuteTime": {
     "end_time": "2024-04-07T18:13:32.498721Z",
     "start_time": "2024-04-07T18:13:31.885402Z"
    },
    "collapsed": false
   },
   "outputs": [
    {
     "data": {
      "text/html": [
       "<div>\n",
       "<style scoped>\n",
       "    .dataframe tbody tr th:only-of-type {\n",
       "        vertical-align: middle;\n",
       "    }\n",
       "\n",
       "    .dataframe tbody tr th {\n",
       "        vertical-align: top;\n",
       "    }\n",
       "\n",
       "    .dataframe thead th {\n",
       "        text-align: right;\n",
       "    }\n",
       "</style>\n",
       "<table border=\"1\" class=\"dataframe\">\n",
       "  <thead>\n",
       "    <tr style=\"text-align: right;\">\n",
       "      <th></th>\n",
       "      <th>innings_no</th>\n",
       "      <th>isfour</th>\n",
       "      <th>proportion</th>\n",
       "    </tr>\n",
       "  </thead>\n",
       "  <tbody>\n",
       "    <tr>\n",
       "      <th>0</th>\n",
       "      <td>1.0</td>\n",
       "      <td>0</td>\n",
       "      <td>0.424212</td>\n",
       "    </tr>\n",
       "    <tr>\n",
       "      <th>1</th>\n",
       "      <td>1.0</td>\n",
       "      <td>1</td>\n",
       "      <td>0.377416</td>\n",
       "    </tr>\n",
       "    <tr>\n",
       "      <th>2</th>\n",
       "      <td>1.0</td>\n",
       "      <td>2</td>\n",
       "      <td>0.165819</td>\n",
       "    </tr>\n",
       "    <tr>\n",
       "      <th>3</th>\n",
       "      <td>1.0</td>\n",
       "      <td>3</td>\n",
       "      <td>0.028484</td>\n",
       "    </tr>\n",
       "    <tr>\n",
       "      <th>4</th>\n",
       "      <td>1.0</td>\n",
       "      <td>4</td>\n",
       "      <td>0.003052</td>\n",
       "    </tr>\n",
       "    <tr>\n",
       "      <th>5</th>\n",
       "      <td>1.0</td>\n",
       "      <td>5</td>\n",
       "      <td>0.001017</td>\n",
       "    </tr>\n",
       "    <tr>\n",
       "      <th>6</th>\n",
       "      <td>2.0</td>\n",
       "      <td>0</td>\n",
       "      <td>0.526452</td>\n",
       "    </tr>\n",
       "    <tr>\n",
       "      <th>7</th>\n",
       "      <td>2.0</td>\n",
       "      <td>1</td>\n",
       "      <td>0.347097</td>\n",
       "    </tr>\n",
       "    <tr>\n",
       "      <th>8</th>\n",
       "      <td>2.0</td>\n",
       "      <td>2</td>\n",
       "      <td>0.101935</td>\n",
       "    </tr>\n",
       "    <tr>\n",
       "      <th>9</th>\n",
       "      <td>2.0</td>\n",
       "      <td>3</td>\n",
       "      <td>0.021935</td>\n",
       "    </tr>\n",
       "    <tr>\n",
       "      <th>10</th>\n",
       "      <td>2.0</td>\n",
       "      <td>4</td>\n",
       "      <td>0.002581</td>\n",
       "    </tr>\n",
       "  </tbody>\n",
       "</table>\n",
       "</div>"
      ],
      "text/plain": [
       "    innings_no  isfour  proportion\n",
       "0          1.0       0    0.424212\n",
       "1          1.0       1    0.377416\n",
       "2          1.0       2    0.165819\n",
       "3          1.0       3    0.028484\n",
       "4          1.0       4    0.003052\n",
       "5          1.0       5    0.001017\n",
       "6          2.0       0    0.526452\n",
       "7          2.0       1    0.347097\n",
       "8          2.0       2    0.101935\n",
       "9          2.0       3    0.021935\n",
       "10         2.0       4    0.002581"
      ]
     },
     "execution_count": 27,
     "metadata": {},
     "output_type": "execute_result"
    }
   ],
   "source": [
    "proportion_data = sum_fours_19th_over.groupby('innings_no')['isfour'].value_counts(normalize=True).reset_index(name='proportion')\n",
    "proportion_data\n"
   ]
  },
  {
   "cell_type": "code",
   "execution_count": 28,
   "id": "1c536130c2fbf954",
   "metadata": {
    "ExecuteTime": {
     "end_time": "2024-04-07T18:13:32.509447Z",
     "start_time": "2024-04-07T18:13:31.911255Z"
    },
    "collapsed": false
   },
   "outputs": [],
   "source": [
    "# Convert the proportion to percentage for easier interpretation\n",
    "proportion_data['proportion'] *= 100"
   ]
  },
  {
   "cell_type": "code",
   "execution_count": 29,
   "id": "58c3fa422738505",
   "metadata": {
    "ExecuteTime": {
     "end_time": "2024-04-07T18:13:32.934640Z",
     "start_time": "2024-04-07T18:13:31.930370Z"
    },
    "collapsed": false
   },
   "outputs": [
    {
     "data": {
      "image/png": "[encoded data removed]",
      "text/plain": [
       "<Figure size 1000x600 with 1 Axes>"
      ]
     },
     "metadata": {},
     "output_type": "display_data"
    }
   ],
   "source": [
    "plt.figure(figsize=(10,6))\n",
    "sns.barplot(x='isfour', y='proportion', hue='innings_no', data=proportion_data, palette='Set2')\n",
    "plt.xlabel(\"Number of fours\")\n",
    "plt.ylabel(\"Proportion of fours (%)\")\n",
    "plt.title(\"Proportion of fours hit for both innings\")\n",
    "plt.show()\n"
   ]
  },
  {
   "cell_type": "markdown",
   "id": "7bd22d871b195f33",
   "metadata": {
    "collapsed": false
   },
   "source": [
    "## Insights: Surprised to find that boundaries are not flowing freely in the death over of a T20 match"
   ]
  },
  {
   "cell_type": "markdown",
   "id": "271fab7fbcba5e1b",
   "metadata": {
    "collapsed": false
   },
   "source": [
    "# Analysing first innings"
   ]
  },
  {
   "cell_type": "markdown",
   "id": "6c5e4e6784b37c15",
   "metadata": {
    "collapsed": false
   },
   "source": [
    "## we are going to find out for the first innings , if there is any correlation between runs scored to matches won"
   ]
  },
  {
   "cell_type": "code",
   "execution_count": 30,
   "id": "15c49a25736dd565",
   "metadata": {
    "ExecuteTime": {
     "end_time": "2024-04-07T18:13:32.955907Z",
     "start_time": "2024-04-07T18:13:32.067023Z"
    },
    "collapsed": false
   },
   "outputs": [
    {
     "data": {
      "text/html": [
       "<div>\n",
       "<style scoped>\n",
       "    .dataframe tbody tr th:only-of-type {\n",
       "        vertical-align: middle;\n",
       "    }\n",
       "\n",
       "    .dataframe tbody tr th {\n",
       "        vertical-align: top;\n",
       "    }\n",
       "\n",
       "    .dataframe thead th {\n",
       "        text-align: right;\n",
       "    }\n",
       "</style>\n",
       "<table border=\"1\" class=\"dataframe\">\n",
       "  <thead>\n",
       "    <tr style=\"text-align: right;\">\n",
       "      <th></th>\n",
       "      <th>year</th>\n",
       "      <th>match_id</th>\n",
       "      <th>innings_no</th>\n",
       "      <th>total_runs</th>\n",
       "    </tr>\n",
       "  </thead>\n",
       "  <tbody>\n",
       "    <tr>\n",
       "      <th>0</th>\n",
       "      <td>2008</td>\n",
       "      <td>335982</td>\n",
       "      <td>1.0</td>\n",
       "      <td>21</td>\n",
       "    </tr>\n",
       "    <tr>\n",
       "      <th>1</th>\n",
       "      <td>2008</td>\n",
       "      <td>335983</td>\n",
       "      <td>1.0</td>\n",
       "      <td>15</td>\n",
       "    </tr>\n",
       "    <tr>\n",
       "      <th>3</th>\n",
       "      <td>2008</td>\n",
       "      <td>335984</td>\n",
       "      <td>1.0</td>\n",
       "      <td>10</td>\n",
       "    </tr>\n",
       "    <tr>\n",
       "      <th>4</th>\n",
       "      <td>2008</td>\n",
       "      <td>335985</td>\n",
       "      <td>1.0</td>\n",
       "      <td>9</td>\n",
       "    </tr>\n",
       "    <tr>\n",
       "      <th>6</th>\n",
       "      <td>2008</td>\n",
       "      <td>335986</td>\n",
       "      <td>1.0</td>\n",
       "      <td>5</td>\n",
       "    </tr>\n",
       "    <tr>\n",
       "      <th>...</th>\n",
       "      <td>...</td>\n",
       "      <td>...</td>\n",
       "      <td>...</td>\n",
       "      <td>...</td>\n",
       "    </tr>\n",
       "    <tr>\n",
       "      <th>1750</th>\n",
       "      <td>2023</td>\n",
       "      <td>1359544</td>\n",
       "      <td>1.0</td>\n",
       "      <td>13</td>\n",
       "    </tr>\n",
       "    <tr>\n",
       "      <th>1752</th>\n",
       "      <td>2023</td>\n",
       "      <td>1370350</td>\n",
       "      <td>1.0</td>\n",
       "      <td>9</td>\n",
       "    </tr>\n",
       "    <tr>\n",
       "      <th>1754</th>\n",
       "      <td>2023</td>\n",
       "      <td>1370351</td>\n",
       "      <td>1.0</td>\n",
       "      <td>6</td>\n",
       "    </tr>\n",
       "    <tr>\n",
       "      <th>1755</th>\n",
       "      <td>2023</td>\n",
       "      <td>1370352</td>\n",
       "      <td>1.0</td>\n",
       "      <td>9</td>\n",
       "    </tr>\n",
       "    <tr>\n",
       "      <th>1757</th>\n",
       "      <td>2023</td>\n",
       "      <td>1370353</td>\n",
       "      <td>1.0</td>\n",
       "      <td>18</td>\n",
       "    </tr>\n",
       "  </tbody>\n",
       "</table>\n",
       "<p>983 rows × 4 columns</p>\n",
       "</div>"
      ],
      "text/plain": [
       "      year  match_id  innings_no  total_runs\n",
       "0     2008    335982         1.0          21\n",
       "1     2008    335983         1.0          15\n",
       "3     2008    335984         1.0          10\n",
       "4     2008    335985         1.0           9\n",
       "6     2008    335986         1.0           5\n",
       "...    ...       ...         ...         ...\n",
       "1750  2023   1359544         1.0          13\n",
       "1752  2023   1370350         1.0           9\n",
       "1754  2023   1370351         1.0           6\n",
       "1755  2023   1370352         1.0           9\n",
       "1757  2023   1370353         1.0          18\n",
       "\n",
       "[983 rows x 4 columns]"
      ]
     },
     "execution_count": 30,
     "metadata": {},
     "output_type": "execute_result"
    }
   ],
   "source": [
    "sum_runs_19th_over_innings1"
   ]
  },
  {
   "cell_type": "code",
   "execution_count": 31,
   "id": "b0fe2004b38a52e8",
   "metadata": {
    "ExecuteTime": {
     "end_time": "2024-04-07T18:13:33.224352Z",
     "start_time": "2024-04-07T18:13:32.095224Z"
    },
    "collapsed": false
   },
   "outputs": [
    {
     "data": {
      "text/html": [
       "<div>\n",
       "<style scoped>\n",
       "    .dataframe tbody tr th:only-of-type {\n",
       "        vertical-align: middle;\n",
       "    }\n",
       "\n",
       "    .dataframe tbody tr th {\n",
       "        vertical-align: top;\n",
       "    }\n",
       "\n",
       "    .dataframe thead th {\n",
       "        text-align: right;\n",
       "    }\n",
       "</style>\n",
       "<table border=\"1\" class=\"dataframe\">\n",
       "  <thead>\n",
       "    <tr style=\"text-align: right;\">\n",
       "      <th></th>\n",
       "      <th>season</th>\n",
       "      <th>title</th>\n",
       "      <th>match_id</th>\n",
       "      <th>match_name</th>\n",
       "      <th>series_id</th>\n",
       "      <th>series_name</th>\n",
       "      <th>match_date</th>\n",
       "      <th>match_format</th>\n",
       "      <th>team1_id</th>\n",
       "      <th>team1_name</th>\n",
       "      <th>...</th>\n",
       "      <th>umpire2</th>\n",
       "      <th>match_referee</th>\n",
       "      <th>toss_winner</th>\n",
       "      <th>toss_winner_choice</th>\n",
       "      <th>match_winner</th>\n",
       "      <th>match_result_text</th>\n",
       "      <th>mom_player</th>\n",
       "      <th>team1_playing11</th>\n",
       "      <th>team2_playing11</th>\n",
       "      <th>debut_players</th>\n",
       "    </tr>\n",
       "  </thead>\n",
       "  <tbody>\n",
       "    <tr>\n",
       "      <th>0</th>\n",
       "      <td>2008</td>\n",
       "      <td>1st match</td>\n",
       "      <td>335982</td>\n",
       "      <td>Royal Challengers Bangalore Vs Kolkata Knight ...</td>\n",
       "      <td>313494</td>\n",
       "      <td>Indian Premier League in India - 2008 (2007/08)</td>\n",
       "      <td>2008-04-18</td>\n",
       "      <td>T20</td>\n",
       "      <td>4341</td>\n",
       "      <td>KKR</td>\n",
       "      <td>...</td>\n",
       "      <td>RE Koertzen</td>\n",
       "      <td>J Srinath</td>\n",
       "      <td>RCB</td>\n",
       "      <td>bowl</td>\n",
       "      <td>KKR</td>\n",
       "      <td>KKR won by 140 runs</td>\n",
       "      <td>10384.0</td>\n",
       "      <td>[\"2024\",\"10384\",\"2230\",\"11984\",\"19647\",\"7704\",...</td>\n",
       "      <td>[\"2281\",\"7130\",\"49752\",\"2232\",\"12049\",\"3947\",\"...</td>\n",
       "      <td>[\"48965\"]</td>\n",
       "    </tr>\n",
       "    <tr>\n",
       "      <th>1</th>\n",
       "      <td>2008</td>\n",
       "      <td>2nd match</td>\n",
       "      <td>335983</td>\n",
       "      <td>Kings Xi Punjab Vs Chennai Super Kings 2Nd Match</td>\n",
       "      <td>313494</td>\n",
       "      <td>Indian Premier League in India - 2008 (2007/08)</td>\n",
       "      <td>2008-04-19</td>\n",
       "      <td>T20</td>\n",
       "      <td>4343</td>\n",
       "      <td>Super Kings</td>\n",
       "      <td>...</td>\n",
       "      <td>SL Shastri</td>\n",
       "      <td>S Venkataraghavan</td>\n",
       "      <td>Super Kings</td>\n",
       "      <td>bat</td>\n",
       "      <td>Super Kings</td>\n",
       "      <td>Super Kings won by 33 runs</td>\n",
       "      <td>6256.0</td>\n",
       "      <td>[\"9900\",\"2119\",\"6256\",\"7593\",\"15716\",\"9989\",\"8...</td>\n",
       "      <td>[\"15851\",\"9235\",\"9587\",\"7716\",\"6259\",\"11399\",\"...</td>\n",
       "      <td>[\"53549\"]</td>\n",
       "    </tr>\n",
       "    <tr>\n",
       "      <th>2</th>\n",
       "      <td>2008</td>\n",
       "      <td>3rd match</td>\n",
       "      <td>335984</td>\n",
       "      <td>Delhi Daredevils Vs Rajasthan Royals 3Rd Match</td>\n",
       "      <td>313494</td>\n",
       "      <td>Indian Premier League in India - 2008 (2007/08)</td>\n",
       "      <td>2008-04-19</td>\n",
       "      <td>T20</td>\n",
       "      <td>4345</td>\n",
       "      <td>Royals</td>\n",
       "      <td>...</td>\n",
       "      <td>GA Pratapkumar</td>\n",
       "      <td>GR Viswanath</td>\n",
       "      <td>Royals</td>\n",
       "      <td>bat</td>\n",
       "      <td>Daredevils</td>\n",
       "      <td>Daredevils won by 9 wickets (with 29 balls rem...</td>\n",
       "      <td>11374.0</td>\n",
       "      <td>[\"54936\",\"15473\",\"10125\",\"7632\",\"3329\",\"49247\"...</td>\n",
       "      <td>[\"7773\",\"7781\",\"15887\",\"47624\",\"8813\",\"7520\",\"...</td>\n",
       "      <td>[\"51109\",\"47100\",\"54936\"]</td>\n",
       "    </tr>\n",
       "    <tr>\n",
       "      <th>3</th>\n",
       "      <td>2008</td>\n",
       "      <td>4th match</td>\n",
       "      <td>335986</td>\n",
       "      <td>Kolkata Knight Riders Vs Deccan Chargers 4Th M...</td>\n",
       "      <td>313494</td>\n",
       "      <td>Indian Premier League in India - 2008 (2007/08)</td>\n",
       "      <td>2008-04-20</td>\n",
       "      <td>T20</td>\n",
       "      <td>4347</td>\n",
       "      <td>Chargers</td>\n",
       "      <td>...</td>\n",
       "      <td>K Hariharan</td>\n",
       "      <td>FM Engineer</td>\n",
       "      <td>Chargers</td>\n",
       "      <td>bat</td>\n",
       "      <td>KKR</td>\n",
       "      <td>KKR won by 5 wickets (with 6 balls remaining)</td>\n",
       "      <td>11984.0</td>\n",
       "      <td>[\"4176\",\"8163\",\"3317\",\"4382\",\"48405\",\"9570\",\"7...</td>\n",
       "      <td>[\"51216\",\"10384\",\"2230\",\"2024\",\"11984\",\"19647\"...</td>\n",
       "      <td>[\"3317\"]</td>\n",
       "    </tr>\n",
       "    <tr>\n",
       "      <th>4</th>\n",
       "      <td>2008</td>\n",
       "      <td>5th match</td>\n",
       "      <td>335985</td>\n",
       "      <td>Mumbai Indians Vs Royal Challengers Bangalore ...</td>\n",
       "      <td>313494</td>\n",
       "      <td>Indian Premier League in India - 2008 (2007/08)</td>\n",
       "      <td>2008-04-20</td>\n",
       "      <td>T20</td>\n",
       "      <td>4346</td>\n",
       "      <td>Mumbai</td>\n",
       "      <td>...</td>\n",
       "      <td>SJ Davis</td>\n",
       "      <td>J Srinath</td>\n",
       "      <td>Mumbai</td>\n",
       "      <td>bat</td>\n",
       "      <td>RCB</td>\n",
       "      <td>RCB won by 5 wickets (with 2 balls remaining)</td>\n",
       "      <td>3947.0</td>\n",
       "      <td>[\"17850\",\"1988\",\"7447\",\"8742\",\"48349\",\"47308\",...</td>\n",
       "      <td>[\"2120\",\"2281\",\"44930\",\"2232\",\"49752\",\"3947\",\"...</td>\n",
       "      <td>[\"7804\"]</td>\n",
       "    </tr>\n",
       "    <tr>\n",
       "      <th>...</th>\n",
       "      <td>...</td>\n",
       "      <td>...</td>\n",
       "      <td>...</td>\n",
       "      <td>...</td>\n",
       "      <td>...</td>\n",
       "      <td>...</td>\n",
       "      <td>...</td>\n",
       "      <td>...</td>\n",
       "      <td>...</td>\n",
       "      <td>...</td>\n",
       "      <td>...</td>\n",
       "      <td>...</td>\n",
       "      <td>...</td>\n",
       "      <td>...</td>\n",
       "      <td>...</td>\n",
       "      <td>...</td>\n",
       "      <td>...</td>\n",
       "      <td>...</td>\n",
       "      <td>...</td>\n",
       "      <td>...</td>\n",
       "      <td>...</td>\n",
       "    </tr>\n",
       "    <tr>\n",
       "      <th>1020</th>\n",
       "      <td>2023</td>\n",
       "      <td>69th Match</td>\n",
       "      <td>1359543</td>\n",
       "      <td>Mumbai Indians Vs Sunrisers Hyderabad 69Th Match</td>\n",
       "      <td>1345038</td>\n",
       "      <td>Indian Premier League in India - 2023 (2023)</td>\n",
       "      <td>2023-05-21</td>\n",
       "      <td>T20</td>\n",
       "      <td>5143</td>\n",
       "      <td>Sunrisers</td>\n",
       "      <td>...</td>\n",
       "      <td>RJ Tucker</td>\n",
       "      <td>P Dharmani</td>\n",
       "      <td>Mumbai</td>\n",
       "      <td>bowl</td>\n",
       "      <td>Mumbai</td>\n",
       "      <td>Mumbai won by 8 wickets (with 12 balls remaining)</td>\n",
       "      <td>96335.0</td>\n",
       "      <td>[\"101306\",\"108645\",\"59599\",\"61634\",\"80639\",\"70...</td>\n",
       "      <td>[\"75325\",\"48405\",\"96335\",\"61990\",\"83439\",\"1027...</td>\n",
       "      <td>[]</td>\n",
       "    </tr>\n",
       "    <tr>\n",
       "      <th>1021</th>\n",
       "      <td>2023</td>\n",
       "      <td>Qualifier 1</td>\n",
       "      <td>1370350</td>\n",
       "      <td>Chennai Super Kings Vs Gujarat Titans Qualifier 1</td>\n",
       "      <td>1345038</td>\n",
       "      <td>Indian Premier League in India - 2023 (2023)</td>\n",
       "      <td>2023-05-23</td>\n",
       "      <td>T20</td>\n",
       "      <td>4343</td>\n",
       "      <td>Super Kings</td>\n",
       "      <td>...</td>\n",
       "      <td>CB Gaffaney</td>\n",
       "      <td>M Nayyar</td>\n",
       "      <td>Titans</td>\n",
       "      <td>bowl</td>\n",
       "      <td>Super Kings</td>\n",
       "      <td>Super Kings won by 15 runs</td>\n",
       "      <td>95094.0</td>\n",
       "      <td>[\"105938\",\"95094\",\"58403\",\"74975\",\"51096\",\"899...</td>\n",
       "      <td>[\"66722\",\"51216\",\"95316\",\"70633\",\"61690\",\"5389...</td>\n",
       "      <td>[]</td>\n",
       "    </tr>\n",
       "    <tr>\n",
       "      <th>1022</th>\n",
       "      <td>2023</td>\n",
       "      <td>Eliminator</td>\n",
       "      <td>1370351</td>\n",
       "      <td>Lucknow Super Giants Vs Mumbai Indians Eliminator</td>\n",
       "      <td>1345038</td>\n",
       "      <td>Indian Premier League in India - 2023 (2023)</td>\n",
       "      <td>2023-05-24</td>\n",
       "      <td>T20</td>\n",
       "      <td>4346</td>\n",
       "      <td>Mumbai</td>\n",
       "      <td>...</td>\n",
       "      <td>VK Sharma</td>\n",
       "      <td>V Narayan Kutty</td>\n",
       "      <td>Mumbai</td>\n",
       "      <td>bat</td>\n",
       "      <td>Mumbai</td>\n",
       "      <td>Mumbai won by 81 runs</td>\n",
       "      <td>106837.0</td>\n",
       "      <td>[\"75325\",\"48405\",\"96335\",\"61990\",\"104396\",\"834...</td>\n",
       "      <td>[\"95329\",\"56832\",\"88977\",\"63224\",\"54212\",\"1027...</td>\n",
       "      <td>[]</td>\n",
       "    </tr>\n",
       "    <tr>\n",
       "      <th>1023</th>\n",
       "      <td>2023</td>\n",
       "      <td>Qualifier 2</td>\n",
       "      <td>1370352</td>\n",
       "      <td>Gujarat Titans Vs Mumbai Indians Qualifier 2</td>\n",
       "      <td>1345038</td>\n",
       "      <td>Indian Premier League in India - 2023 (2023)</td>\n",
       "      <td>2023-05-26</td>\n",
       "      <td>T20</td>\n",
       "      <td>6904</td>\n",
       "      <td>Titans</td>\n",
       "      <td>...</td>\n",
       "      <td>RJ Tucker</td>\n",
       "      <td>J Srinath</td>\n",
       "      <td>Mumbai</td>\n",
       "      <td>bowl</td>\n",
       "      <td>Titans</td>\n",
       "      <td>Titans won by 62 runs</td>\n",
       "      <td>95316.0</td>\n",
       "      <td>[\"85975\",\"51216\",\"95316\",\"102753\",\"70633\",\"791...</td>\n",
       "      <td>[\"75325\",\"106837\",\"48405\",\"102738\",\"96335\",\"61...</td>\n",
       "      <td>[]</td>\n",
       "    </tr>\n",
       "    <tr>\n",
       "      <th>1024</th>\n",
       "      <td>2023</td>\n",
       "      <td>Final</td>\n",
       "      <td>1370353</td>\n",
       "      <td>Gujarat Titans Vs Chennai Super Kings Final</td>\n",
       "      <td>1345038</td>\n",
       "      <td>Indian Premier League in India - 2023 (2023)</td>\n",
       "      <td>2023-05-28</td>\n",
       "      <td>T20</td>\n",
       "      <td>6904</td>\n",
       "      <td>Titans</td>\n",
       "      <td>...</td>\n",
       "      <td>RJ Tucker</td>\n",
       "      <td>J Srinath</td>\n",
       "      <td>Super Kings</td>\n",
       "      <td>bowl</td>\n",
       "      <td>Super Kings</td>\n",
       "      <td>Super Kings won by 5 wickets (with 0 balls rem...</td>\n",
       "      <td>58403.0</td>\n",
       "      <td>[\"85975\",\"51216\",\"95316\",\"102753\",\"70633\",\"791...</td>\n",
       "      <td>[\"105938\",\"95094\",\"58403\",\"74975\",\"51096\",\"899...</td>\n",
       "      <td>[]</td>\n",
       "    </tr>\n",
       "  </tbody>\n",
       "</table>\n",
       "<p>1025 rows × 34 columns</p>\n",
       "</div>"
      ],
      "text/plain": [
       "      season        title  match_id  \\\n",
       "0       2008    1st match    335982   \n",
       "1       2008    2nd match    335983   \n",
       "2       2008    3rd match    335984   \n",
       "3       2008    4th match    335986   \n",
       "4       2008    5th match    335985   \n",
       "...      ...          ...       ...   \n",
       "1020    2023   69th Match   1359543   \n",
       "1021    2023  Qualifier 1   1370350   \n",
       "1022    2023   Eliminator   1370351   \n",
       "1023    2023  Qualifier 2   1370352   \n",
       "1024    2023        Final   1370353   \n",
       "\n",
       "                                             match_name  series_id  \\\n",
       "0     Royal Challengers Bangalore Vs Kolkata Knight ...     313494   \n",
       "1      Kings Xi Punjab Vs Chennai Super Kings 2Nd Match     313494   \n",
       "2        Delhi Daredevils Vs Rajasthan Royals 3Rd Match     313494   \n",
       "3     Kolkata Knight Riders Vs Deccan Chargers 4Th M...     313494   \n",
       "4     Mumbai Indians Vs Royal Challengers Bangalore ...     313494   \n",
       "...                                                 ...        ...   \n",
       "1020   Mumbai Indians Vs Sunrisers Hyderabad 69Th Match    1345038   \n",
       "1021  Chennai Super Kings Vs Gujarat Titans Qualifier 1    1345038   \n",
       "1022  Lucknow Super Giants Vs Mumbai Indians Eliminator    1345038   \n",
       "1023       Gujarat Titans Vs Mumbai Indians Qualifier 2    1345038   \n",
       "1024        Gujarat Titans Vs Chennai Super Kings Final    1345038   \n",
       "\n",
       "                                          series_name  match_date  \\\n",
       "0     Indian Premier League in India - 2008 (2007/08)  2008-04-18   \n",
       "1     Indian Premier League in India - 2008 (2007/08)  2008-04-19   \n",
       "2     Indian Premier League in India - 2008 (2007/08)  2008-04-19   \n",
       "3     Indian Premier League in India - 2008 (2007/08)  2008-04-20   \n",
       "4     Indian Premier League in India - 2008 (2007/08)  2008-04-20   \n",
       "...                                               ...         ...   \n",
       "1020     Indian Premier League in India - 2023 (2023)  2023-05-21   \n",
       "1021     Indian Premier League in India - 2023 (2023)  2023-05-23   \n",
       "1022     Indian Premier League in India - 2023 (2023)  2023-05-24   \n",
       "1023     Indian Premier League in India - 2023 (2023)  2023-05-26   \n",
       "1024     Indian Premier League in India - 2023 (2023)  2023-05-28   \n",
       "\n",
       "     match_format  team1_id   team1_name  ...         umpire2  \\\n",
       "0             T20      4341          KKR  ...     RE Koertzen   \n",
       "1             T20      4343  Super Kings  ...      SL Shastri   \n",
       "2             T20      4345       Royals  ...  GA Pratapkumar   \n",
       "3             T20      4347     Chargers  ...     K Hariharan   \n",
       "4             T20      4346       Mumbai  ...        SJ Davis   \n",
       "...           ...       ...          ...  ...             ...   \n",
       "1020          T20      5143    Sunrisers  ...       RJ Tucker   \n",
       "1021          T20      4343  Super Kings  ...     CB Gaffaney   \n",
       "1022          T20      4346       Mumbai  ...       VK Sharma   \n",
       "1023          T20      6904       Titans  ...       RJ Tucker   \n",
       "1024          T20      6904       Titans  ...       RJ Tucker   \n",
       "\n",
       "          match_referee  toss_winner  toss_winner_choice  match_winner  \\\n",
       "0             J Srinath          RCB                bowl           KKR   \n",
       "1     S Venkataraghavan  Super Kings                 bat   Super Kings   \n",
       "2          GR Viswanath       Royals                 bat    Daredevils   \n",
       "3           FM Engineer     Chargers                 bat           KKR   \n",
       "4             J Srinath       Mumbai                 bat           RCB   \n",
       "...                 ...          ...                 ...           ...   \n",
       "1020         P Dharmani       Mumbai                bowl        Mumbai   \n",
       "1021           M Nayyar       Titans                bowl   Super Kings   \n",
       "1022    V Narayan Kutty       Mumbai                 bat        Mumbai   \n",
       "1023          J Srinath       Mumbai                bowl        Titans   \n",
       "1024          J Srinath  Super Kings                bowl   Super Kings   \n",
       "\n",
       "                                      match_result_text  mom_player  \\\n",
       "0                                   KKR won by 140 runs     10384.0   \n",
       "1                            Super Kings won by 33 runs      6256.0   \n",
       "2     Daredevils won by 9 wickets (with 29 balls rem...     11374.0   \n",
       "3         KKR won by 5 wickets (with 6 balls remaining)     11984.0   \n",
       "4         RCB won by 5 wickets (with 2 balls remaining)      3947.0   \n",
       "...                                                 ...         ...   \n",
       "1020  Mumbai won by 8 wickets (with 12 balls remaining)     96335.0   \n",
       "1021                         Super Kings won by 15 runs     95094.0   \n",
       "1022                              Mumbai won by 81 runs    106837.0   \n",
       "1023                              Titans won by 62 runs     95316.0   \n",
       "1024  Super Kings won by 5 wickets (with 0 balls rem...     58403.0   \n",
       "\n",
       "                                        team1_playing11  \\\n",
       "0     [\"2024\",\"10384\",\"2230\",\"11984\",\"19647\",\"7704\",...   \n",
       "1     [\"9900\",\"2119\",\"6256\",\"7593\",\"15716\",\"9989\",\"8...   \n",
       "2     [\"54936\",\"15473\",\"10125\",\"7632\",\"3329\",\"49247\"...   \n",
       "3     [\"4176\",\"8163\",\"3317\",\"4382\",\"48405\",\"9570\",\"7...   \n",
       "4     [\"17850\",\"1988\",\"7447\",\"8742\",\"48349\",\"47308\",...   \n",
       "...                                                 ...   \n",
       "1020  [\"101306\",\"108645\",\"59599\",\"61634\",\"80639\",\"70...   \n",
       "1021  [\"105938\",\"95094\",\"58403\",\"74975\",\"51096\",\"899...   \n",
       "1022  [\"75325\",\"48405\",\"96335\",\"61990\",\"104396\",\"834...   \n",
       "1023  [\"85975\",\"51216\",\"95316\",\"102753\",\"70633\",\"791...   \n",
       "1024  [\"85975\",\"51216\",\"95316\",\"102753\",\"70633\",\"791...   \n",
       "\n",
       "                                        team2_playing11  \\\n",
       "0     [\"2281\",\"7130\",\"49752\",\"2232\",\"12049\",\"3947\",\"...   \n",
       "1     [\"15851\",\"9235\",\"9587\",\"7716\",\"6259\",\"11399\",\"...   \n",
       "2     [\"7773\",\"7781\",\"15887\",\"47624\",\"8813\",\"7520\",\"...   \n",
       "3     [\"51216\",\"10384\",\"2230\",\"2024\",\"11984\",\"19647\"...   \n",
       "4     [\"2120\",\"2281\",\"44930\",\"2232\",\"49752\",\"3947\",\"...   \n",
       "...                                                 ...   \n",
       "1020  [\"75325\",\"48405\",\"96335\",\"61990\",\"83439\",\"1027...   \n",
       "1021  [\"66722\",\"51216\",\"95316\",\"70633\",\"61690\",\"5389...   \n",
       "1022  [\"95329\",\"56832\",\"88977\",\"63224\",\"54212\",\"1027...   \n",
       "1023  [\"75325\",\"106837\",\"48405\",\"102738\",\"96335\",\"61...   \n",
       "1024  [\"105938\",\"95094\",\"58403\",\"74975\",\"51096\",\"899...   \n",
       "\n",
       "                  debut_players  \n",
       "0                     [\"48965\"]  \n",
       "1                     [\"53549\"]  \n",
       "2     [\"51109\",\"47100\",\"54936\"]  \n",
       "3                      [\"3317\"]  \n",
       "4                      [\"7804\"]  \n",
       "...                         ...  \n",
       "1020                         []  \n",
       "1021                         []  \n",
       "1022                         []  \n",
       "1023                         []  \n",
       "1024                         []  \n",
       "\n",
       "[1025 rows x 34 columns]"
      ]
     },
     "execution_count": 31,
     "metadata": {},
     "output_type": "execute_result"
    }
   ],
   "source": [
    "historical_df"
   ]
  },
  {
   "cell_type": "code",
   "execution_count": 32,
   "id": "9a080ae1f023b3c7",
   "metadata": {
    "ExecuteTime": {
     "end_time": "2024-04-07T18:13:33.226257Z",
     "start_time": "2024-04-07T18:13:32.103257Z"
    },
    "collapsed": false
   },
   "outputs": [
    {
     "data": {
      "text/html": [
       "<div>\n",
       "<style scoped>\n",
       "    .dataframe tbody tr th:only-of-type {\n",
       "        vertical-align: middle;\n",
       "    }\n",
       "\n",
       "    .dataframe tbody tr th {\n",
       "        vertical-align: top;\n",
       "    }\n",
       "\n",
       "    .dataframe thead th {\n",
       "        text-align: right;\n",
       "    }\n",
       "</style>\n",
       "<table border=\"1\" class=\"dataframe\">\n",
       "  <thead>\n",
       "    <tr style=\"text-align: right;\">\n",
       "      <th></th>\n",
       "      <th>season</th>\n",
       "      <th>title</th>\n",
       "      <th>match_id</th>\n",
       "      <th>match_name</th>\n",
       "      <th>series_id</th>\n",
       "      <th>series_name</th>\n",
       "      <th>match_date</th>\n",
       "      <th>match_format</th>\n",
       "      <th>team1_id</th>\n",
       "      <th>team1_name</th>\n",
       "      <th>...</th>\n",
       "      <th>umpire2</th>\n",
       "      <th>match_referee</th>\n",
       "      <th>toss_winner</th>\n",
       "      <th>toss_winner_choice</th>\n",
       "      <th>match_winner</th>\n",
       "      <th>match_result_text</th>\n",
       "      <th>mom_player</th>\n",
       "      <th>team1_playing11</th>\n",
       "      <th>team2_playing11</th>\n",
       "      <th>debut_players</th>\n",
       "    </tr>\n",
       "  </thead>\n",
       "  <tbody>\n",
       "    <tr>\n",
       "      <th>0</th>\n",
       "      <td>2008</td>\n",
       "      <td>1st match</td>\n",
       "      <td>335982</td>\n",
       "      <td>Royal Challengers Bangalore Vs Kolkata Knight ...</td>\n",
       "      <td>313494</td>\n",
       "      <td>Indian Premier League in India - 2008 (2007/08)</td>\n",
       "      <td>2008-04-18</td>\n",
       "      <td>T20</td>\n",
       "      <td>4341</td>\n",
       "      <td>KKR</td>\n",
       "      <td>...</td>\n",
       "      <td>RE Koertzen</td>\n",
       "      <td>J Srinath</td>\n",
       "      <td>RCB</td>\n",
       "      <td>bowl</td>\n",
       "      <td>KKR</td>\n",
       "      <td>KKR won by 140 runs</td>\n",
       "      <td>10384.0</td>\n",
       "      <td>[\"2024\",\"10384\",\"2230\",\"11984\",\"19647\",\"7704\",...</td>\n",
       "      <td>[\"2281\",\"7130\",\"49752\",\"2232\",\"12049\",\"3947\",\"...</td>\n",
       "      <td>[\"48965\"]</td>\n",
       "    </tr>\n",
       "    <tr>\n",
       "      <th>1</th>\n",
       "      <td>2008</td>\n",
       "      <td>2nd match</td>\n",
       "      <td>335983</td>\n",
       "      <td>Kings Xi Punjab Vs Chennai Super Kings 2Nd Match</td>\n",
       "      <td>313494</td>\n",
       "      <td>Indian Premier League in India - 2008 (2007/08)</td>\n",
       "      <td>2008-04-19</td>\n",
       "      <td>T20</td>\n",
       "      <td>4343</td>\n",
       "      <td>Super Kings</td>\n",
       "      <td>...</td>\n",
       "      <td>SL Shastri</td>\n",
       "      <td>S Venkataraghavan</td>\n",
       "      <td>Super Kings</td>\n",
       "      <td>bat</td>\n",
       "      <td>Super Kings</td>\n",
       "      <td>Super Kings won by 33 runs</td>\n",
       "      <td>6256.0</td>\n",
       "      <td>[\"9900\",\"2119\",\"6256\",\"7593\",\"15716\",\"9989\",\"8...</td>\n",
       "      <td>[\"15851\",\"9235\",\"9587\",\"7716\",\"6259\",\"11399\",\"...</td>\n",
       "      <td>[\"53549\"]</td>\n",
       "    </tr>\n",
       "    <tr>\n",
       "      <th>7</th>\n",
       "      <td>2008</td>\n",
       "      <td>8th match</td>\n",
       "      <td>335989</td>\n",
       "      <td>Chennai Super Kings Vs Mumbai Indians 8Th Match</td>\n",
       "      <td>313494</td>\n",
       "      <td>Indian Premier League in India - 2008 (2007/08)</td>\n",
       "      <td>2008-04-23</td>\n",
       "      <td>T20</td>\n",
       "      <td>4343</td>\n",
       "      <td>Super Kings</td>\n",
       "      <td>...</td>\n",
       "      <td>GA Pratapkumar</td>\n",
       "      <td>FM Engineer</td>\n",
       "      <td>Mumbai</td>\n",
       "      <td>bowl</td>\n",
       "      <td>Super Kings</td>\n",
       "      <td>Super Kings won by 6 runs</td>\n",
       "      <td>2119.0</td>\n",
       "      <td>[\"9900\",\"2119\",\"6256\",\"15716\",\"7593\",\"9989\",\"8...</td>\n",
       "      <td>[\"17850\",\"1988\",\"8742\",\"2228\",\"45257\",\"47308\",...</td>\n",
       "      <td>[\"52946\"]</td>\n",
       "    </tr>\n",
       "    <tr>\n",
       "      <th>9</th>\n",
       "      <td>2008</td>\n",
       "      <td>10th match</td>\n",
       "      <td>335991</td>\n",
       "      <td>Kings Xi Punjab Vs Mumbai Indians 10Th Match</td>\n",
       "      <td>313494</td>\n",
       "      <td>Indian Premier League in India - 2008 (2007/08)</td>\n",
       "      <td>2008-04-25</td>\n",
       "      <td>T20</td>\n",
       "      <td>4342</td>\n",
       "      <td>Kings XI</td>\n",
       "      <td>...</td>\n",
       "      <td>AM Saheba</td>\n",
       "      <td>FM Engineer</td>\n",
       "      <td>Mumbai</td>\n",
       "      <td>bowl</td>\n",
       "      <td>Kings XI</td>\n",
       "      <td>Kings XI won by 66 runs</td>\n",
       "      <td>9587.0</td>\n",
       "      <td>[\"15851\",\"11399\",\"9587\",\"7716\",\"6405\",\"6315\",\"...</td>\n",
       "      <td>[\"17850\",\"1988\",\"8742\",\"45257\",\"15317\",\"2228\",...</td>\n",
       "      <td>[]</td>\n",
       "    </tr>\n",
       "    <tr>\n",
       "      <th>14</th>\n",
       "      <td>2008</td>\n",
       "      <td>15th match</td>\n",
       "      <td>335996</td>\n",
       "      <td>Royal Challengers Bangalore Vs Chennai Super K...</td>\n",
       "      <td>313494</td>\n",
       "      <td>Indian Premier League in India - 2008 (2007/08)</td>\n",
       "      <td>2008-04-28</td>\n",
       "      <td>T20</td>\n",
       "      <td>4343</td>\n",
       "      <td>Super Kings</td>\n",
       "      <td>...</td>\n",
       "      <td>RB Tiffin</td>\n",
       "      <td>J Srinath</td>\n",
       "      <td>Super Kings</td>\n",
       "      <td>bat</td>\n",
       "      <td>Super Kings</td>\n",
       "      <td>Super Kings won by 13 runs</td>\n",
       "      <td>7593.0</td>\n",
       "      <td>[\"9900\",\"2119\",\"6256\",\"15716\",\"7593\",\"9989\",\"8...</td>\n",
       "      <td>[\"12018\",\"7130\",\"44930\",\"2232\",\"3947\",\"49752\",...</td>\n",
       "      <td>[\"12018\"]</td>\n",
       "    </tr>\n",
       "    <tr>\n",
       "      <th>...</th>\n",
       "      <td>...</td>\n",
       "      <td>...</td>\n",
       "      <td>...</td>\n",
       "      <td>...</td>\n",
       "      <td>...</td>\n",
       "      <td>...</td>\n",
       "      <td>...</td>\n",
       "      <td>...</td>\n",
       "      <td>...</td>\n",
       "      <td>...</td>\n",
       "      <td>...</td>\n",
       "      <td>...</td>\n",
       "      <td>...</td>\n",
       "      <td>...</td>\n",
       "      <td>...</td>\n",
       "      <td>...</td>\n",
       "      <td>...</td>\n",
       "      <td>...</td>\n",
       "      <td>...</td>\n",
       "      <td>...</td>\n",
       "      <td>...</td>\n",
       "    </tr>\n",
       "    <tr>\n",
       "      <th>1017</th>\n",
       "      <td>2023</td>\n",
       "      <td>67th Match</td>\n",
       "      <td>1359541</td>\n",
       "      <td>Delhi Capitals Vs Chennai Super Kings 67Th Match</td>\n",
       "      <td>1345038</td>\n",
       "      <td>Indian Premier League in India - 2023 (2023)</td>\n",
       "      <td>2023-05-20</td>\n",
       "      <td>T20</td>\n",
       "      <td>4343</td>\n",
       "      <td>Super Kings</td>\n",
       "      <td>...</td>\n",
       "      <td>NA Patwardhan</td>\n",
       "      <td>S Verma</td>\n",
       "      <td>Super Kings</td>\n",
       "      <td>bat</td>\n",
       "      <td>Super Kings</td>\n",
       "      <td>Super Kings won by 77 runs</td>\n",
       "      <td>95094.0</td>\n",
       "      <td>[\"105938\",\"95094\",\"58403\",\"74975\",\"7593\",\"4924...</td>\n",
       "      <td>[\"87603\",\"95315\",\"48739\",\"72363\",\"53649\",\"1109...</td>\n",
       "      <td>[]</td>\n",
       "    </tr>\n",
       "    <tr>\n",
       "      <th>1018</th>\n",
       "      <td>2023</td>\n",
       "      <td>68th Match</td>\n",
       "      <td>1359542</td>\n",
       "      <td>Kolkata Knight Riders Vs Lucknow Super Giants ...</td>\n",
       "      <td>1345038</td>\n",
       "      <td>Indian Premier League in India - 2023 (2023)</td>\n",
       "      <td>2023-05-20</td>\n",
       "      <td>T20</td>\n",
       "      <td>6903</td>\n",
       "      <td>Super Giants</td>\n",
       "      <td>...</td>\n",
       "      <td>UV Gandhe</td>\n",
       "      <td>M Nayyar</td>\n",
       "      <td>KKR</td>\n",
       "      <td>bowl</td>\n",
       "      <td>Super Giants</td>\n",
       "      <td>Super Giants won by 1 run</td>\n",
       "      <td>70405.0</td>\n",
       "      <td>[\"95329\",\"108519\",\"58406\",\"88977\",\"54212\",\"632...</td>\n",
       "      <td>[\"111976\",\"52290\",\"81147\",\"70411\",\"90143\",\"755...</td>\n",
       "      <td>[]</td>\n",
       "    </tr>\n",
       "    <tr>\n",
       "      <th>1021</th>\n",
       "      <td>2023</td>\n",
       "      <td>Qualifier 1</td>\n",
       "      <td>1370350</td>\n",
       "      <td>Chennai Super Kings Vs Gujarat Titans Qualifier 1</td>\n",
       "      <td>1345038</td>\n",
       "      <td>Indian Premier League in India - 2023 (2023)</td>\n",
       "      <td>2023-05-23</td>\n",
       "      <td>T20</td>\n",
       "      <td>4343</td>\n",
       "      <td>Super Kings</td>\n",
       "      <td>...</td>\n",
       "      <td>CB Gaffaney</td>\n",
       "      <td>M Nayyar</td>\n",
       "      <td>Titans</td>\n",
       "      <td>bowl</td>\n",
       "      <td>Super Kings</td>\n",
       "      <td>Super Kings won by 15 runs</td>\n",
       "      <td>95094.0</td>\n",
       "      <td>[\"105938\",\"95094\",\"58403\",\"74975\",\"51096\",\"899...</td>\n",
       "      <td>[\"66722\",\"51216\",\"95316\",\"70633\",\"61690\",\"5389...</td>\n",
       "      <td>[]</td>\n",
       "    </tr>\n",
       "    <tr>\n",
       "      <th>1022</th>\n",
       "      <td>2023</td>\n",
       "      <td>Eliminator</td>\n",
       "      <td>1370351</td>\n",
       "      <td>Lucknow Super Giants Vs Mumbai Indians Eliminator</td>\n",
       "      <td>1345038</td>\n",
       "      <td>Indian Premier League in India - 2023 (2023)</td>\n",
       "      <td>2023-05-24</td>\n",
       "      <td>T20</td>\n",
       "      <td>4346</td>\n",
       "      <td>Mumbai</td>\n",
       "      <td>...</td>\n",
       "      <td>VK Sharma</td>\n",
       "      <td>V Narayan Kutty</td>\n",
       "      <td>Mumbai</td>\n",
       "      <td>bat</td>\n",
       "      <td>Mumbai</td>\n",
       "      <td>Mumbai won by 81 runs</td>\n",
       "      <td>106837.0</td>\n",
       "      <td>[\"75325\",\"48405\",\"96335\",\"61990\",\"104396\",\"834...</td>\n",
       "      <td>[\"95329\",\"56832\",\"88977\",\"63224\",\"54212\",\"1027...</td>\n",
       "      <td>[]</td>\n",
       "    </tr>\n",
       "    <tr>\n",
       "      <th>1023</th>\n",
       "      <td>2023</td>\n",
       "      <td>Qualifier 2</td>\n",
       "      <td>1370352</td>\n",
       "      <td>Gujarat Titans Vs Mumbai Indians Qualifier 2</td>\n",
       "      <td>1345038</td>\n",
       "      <td>Indian Premier League in India - 2023 (2023)</td>\n",
       "      <td>2023-05-26</td>\n",
       "      <td>T20</td>\n",
       "      <td>6904</td>\n",
       "      <td>Titans</td>\n",
       "      <td>...</td>\n",
       "      <td>RJ Tucker</td>\n",
       "      <td>J Srinath</td>\n",
       "      <td>Mumbai</td>\n",
       "      <td>bowl</td>\n",
       "      <td>Titans</td>\n",
       "      <td>Titans won by 62 runs</td>\n",
       "      <td>95316.0</td>\n",
       "      <td>[\"85975\",\"51216\",\"95316\",\"102753\",\"70633\",\"791...</td>\n",
       "      <td>[\"75325\",\"106837\",\"48405\",\"102738\",\"96335\",\"61...</td>\n",
       "      <td>[]</td>\n",
       "    </tr>\n",
       "  </tbody>\n",
       "</table>\n",
       "<p>457 rows × 34 columns</p>\n",
       "</div>"
      ],
      "text/plain": [
       "      season        title  match_id  \\\n",
       "0       2008    1st match    335982   \n",
       "1       2008    2nd match    335983   \n",
       "7       2008    8th match    335989   \n",
       "9       2008   10th match    335991   \n",
       "14      2008   15th match    335996   \n",
       "...      ...          ...       ...   \n",
       "1017    2023   67th Match   1359541   \n",
       "1018    2023   68th Match   1359542   \n",
       "1021    2023  Qualifier 1   1370350   \n",
       "1022    2023   Eliminator   1370351   \n",
       "1023    2023  Qualifier 2   1370352   \n",
       "\n",
       "                                             match_name  series_id  \\\n",
       "0     Royal Challengers Bangalore Vs Kolkata Knight ...     313494   \n",
       "1      Kings Xi Punjab Vs Chennai Super Kings 2Nd Match     313494   \n",
       "7       Chennai Super Kings Vs Mumbai Indians 8Th Match     313494   \n",
       "9          Kings Xi Punjab Vs Mumbai Indians 10Th Match     313494   \n",
       "14    Royal Challengers Bangalore Vs Chennai Super K...     313494   \n",
       "...                                                 ...        ...   \n",
       "1017   Delhi Capitals Vs Chennai Super Kings 67Th Match    1345038   \n",
       "1018  Kolkata Knight Riders Vs Lucknow Super Giants ...    1345038   \n",
       "1021  Chennai Super Kings Vs Gujarat Titans Qualifier 1    1345038   \n",
       "1022  Lucknow Super Giants Vs Mumbai Indians Eliminator    1345038   \n",
       "1023       Gujarat Titans Vs Mumbai Indians Qualifier 2    1345038   \n",
       "\n",
       "                                          series_name  match_date  \\\n",
       "0     Indian Premier League in India - 2008 (2007/08)  2008-04-18   \n",
       "1     Indian Premier League in India - 2008 (2007/08)  2008-04-19   \n",
       "7     Indian Premier League in India - 2008 (2007/08)  2008-04-23   \n",
       "9     Indian Premier League in India - 2008 (2007/08)  2008-04-25   \n",
       "14    Indian Premier League in India - 2008 (2007/08)  2008-04-28   \n",
       "...                                               ...         ...   \n",
       "1017     Indian Premier League in India - 2023 (2023)  2023-05-20   \n",
       "1018     Indian Premier League in India - 2023 (2023)  2023-05-20   \n",
       "1021     Indian Premier League in India - 2023 (2023)  2023-05-23   \n",
       "1022     Indian Premier League in India - 2023 (2023)  2023-05-24   \n",
       "1023     Indian Premier League in India - 2023 (2023)  2023-05-26   \n",
       "\n",
       "     match_format  team1_id    team1_name  ...         umpire2  \\\n",
       "0             T20      4341           KKR  ...     RE Koertzen   \n",
       "1             T20      4343   Super Kings  ...      SL Shastri   \n",
       "7             T20      4343   Super Kings  ...  GA Pratapkumar   \n",
       "9             T20      4342      Kings XI  ...       AM Saheba   \n",
       "14            T20      4343   Super Kings  ...       RB Tiffin   \n",
       "...           ...       ...           ...  ...             ...   \n",
       "1017          T20      4343   Super Kings  ...   NA Patwardhan   \n",
       "1018          T20      6903  Super Giants  ...       UV Gandhe   \n",
       "1021          T20      4343   Super Kings  ...     CB Gaffaney   \n",
       "1022          T20      4346        Mumbai  ...       VK Sharma   \n",
       "1023          T20      6904        Titans  ...       RJ Tucker   \n",
       "\n",
       "          match_referee  toss_winner  toss_winner_choice  match_winner  \\\n",
       "0             J Srinath          RCB                bowl           KKR   \n",
       "1     S Venkataraghavan  Super Kings                 bat   Super Kings   \n",
       "7           FM Engineer       Mumbai                bowl   Super Kings   \n",
       "9           FM Engineer       Mumbai                bowl      Kings XI   \n",
       "14            J Srinath  Super Kings                 bat   Super Kings   \n",
       "...                 ...          ...                 ...           ...   \n",
       "1017            S Verma  Super Kings                 bat   Super Kings   \n",
       "1018           M Nayyar          KKR                bowl  Super Giants   \n",
       "1021           M Nayyar       Titans                bowl   Super Kings   \n",
       "1022    V Narayan Kutty       Mumbai                 bat        Mumbai   \n",
       "1023          J Srinath       Mumbai                bowl        Titans   \n",
       "\n",
       "               match_result_text  mom_player  \\\n",
       "0            KKR won by 140 runs     10384.0   \n",
       "1     Super Kings won by 33 runs      6256.0   \n",
       "7      Super Kings won by 6 runs      2119.0   \n",
       "9        Kings XI won by 66 runs      9587.0   \n",
       "14    Super Kings won by 13 runs      7593.0   \n",
       "...                          ...         ...   \n",
       "1017  Super Kings won by 77 runs     95094.0   \n",
       "1018   Super Giants won by 1 run     70405.0   \n",
       "1021  Super Kings won by 15 runs     95094.0   \n",
       "1022       Mumbai won by 81 runs    106837.0   \n",
       "1023       Titans won by 62 runs     95316.0   \n",
       "\n",
       "                                        team1_playing11  \\\n",
       "0     [\"2024\",\"10384\",\"2230\",\"11984\",\"19647\",\"7704\",...   \n",
       "1     [\"9900\",\"2119\",\"6256\",\"7593\",\"15716\",\"9989\",\"8...   \n",
       "7     [\"9900\",\"2119\",\"6256\",\"15716\",\"7593\",\"9989\",\"8...   \n",
       "9     [\"15851\",\"11399\",\"9587\",\"7716\",\"6405\",\"6315\",\"...   \n",
       "14    [\"9900\",\"2119\",\"6256\",\"15716\",\"7593\",\"9989\",\"8...   \n",
       "...                                                 ...   \n",
       "1017  [\"105938\",\"95094\",\"58403\",\"74975\",\"7593\",\"4924...   \n",
       "1018  [\"95329\",\"108519\",\"58406\",\"88977\",\"54212\",\"632...   \n",
       "1021  [\"105938\",\"95094\",\"58403\",\"74975\",\"51096\",\"899...   \n",
       "1022  [\"75325\",\"48405\",\"96335\",\"61990\",\"104396\",\"834...   \n",
       "1023  [\"85975\",\"51216\",\"95316\",\"102753\",\"70633\",\"791...   \n",
       "\n",
       "                                        team2_playing11  debut_players  \n",
       "0     [\"2281\",\"7130\",\"49752\",\"2232\",\"12049\",\"3947\",\"...      [\"48965\"]  \n",
       "1     [\"15851\",\"9235\",\"9587\",\"7716\",\"6259\",\"11399\",\"...      [\"53549\"]  \n",
       "7     [\"17850\",\"1988\",\"8742\",\"2228\",\"45257\",\"47308\",...      [\"52946\"]  \n",
       "9     [\"17850\",\"1988\",\"8742\",\"45257\",\"15317\",\"2228\",...             []  \n",
       "14    [\"12018\",\"7130\",\"44930\",\"2232\",\"3947\",\"49752\",...      [\"12018\"]  \n",
       "...                                                 ...            ...  \n",
       "1017  [\"87603\",\"95315\",\"48739\",\"72363\",\"53649\",\"1109...             []  \n",
       "1018  [\"111976\",\"52290\",\"81147\",\"70411\",\"90143\",\"755...             []  \n",
       "1021  [\"66722\",\"51216\",\"95316\",\"70633\",\"61690\",\"5389...             []  \n",
       "1022  [\"95329\",\"56832\",\"88977\",\"63224\",\"54212\",\"1027...             []  \n",
       "1023  [\"75325\",\"106837\",\"48405\",\"102738\",\"96335\",\"61...             []  \n",
       "\n",
       "[457 rows x 34 columns]"
      ]
     },
     "execution_count": 32,
     "metadata": {},
     "output_type": "execute_result"
    }
   ],
   "source": [
    "batting_first_winner=historical_df[(historical_df['team1_name']==historical_df['match_winner'])]\n",
    "batting_first_winner"
   ]
  },
  {
   "cell_type": "code",
   "execution_count": 33,
   "id": "ab042df62eed04f8",
   "metadata": {
    "ExecuteTime": {
     "end_time": "2024-04-07T18:13:33.242122Z",
     "start_time": "2024-04-07T18:13:32.119887Z"
    },
    "collapsed": false
   },
   "outputs": [
    {
     "name": "stdout",
     "output_type": "stream",
     "text": [
      "Total number of matches where team batting first won:  457\n"
     ]
    }
   ],
   "source": [
    "#total number of matches where team batting first won\n",
    "total_batting_first_winner=batting_first_winner['match_id'].nunique()\n",
    "print(\"Total number of matches where team batting first won: \",total_batting_first_winner)"
   ]
  },
  {
   "cell_type": "code",
   "execution_count": 34,
   "id": "da337bb4aeb16bca",
   "metadata": {
    "ExecuteTime": {
     "end_time": "2024-04-07T18:13:33.249639Z",
     "start_time": "2024-04-07T18:13:32.128034Z"
    },
    "collapsed": false
   },
   "outputs": [
    {
     "data": {
      "text/html": [
       "<div>\n",
       "<style scoped>\n",
       "    .dataframe tbody tr th:only-of-type {\n",
       "        vertical-align: middle;\n",
       "    }\n",
       "\n",
       "    .dataframe tbody tr th {\n",
       "        vertical-align: top;\n",
       "    }\n",
       "\n",
       "    .dataframe thead th {\n",
       "        text-align: right;\n",
       "    }\n",
       "</style>\n",
       "<table border=\"1\" class=\"dataframe\">\n",
       "  <thead>\n",
       "    <tr style=\"text-align: right;\">\n",
       "      <th></th>\n",
       "      <th>season</th>\n",
       "      <th>title</th>\n",
       "      <th>match_id</th>\n",
       "      <th>match_name</th>\n",
       "      <th>series_id</th>\n",
       "      <th>series_name</th>\n",
       "      <th>match_date</th>\n",
       "      <th>match_format</th>\n",
       "      <th>team1_id</th>\n",
       "      <th>team1_name</th>\n",
       "      <th>...</th>\n",
       "      <th>umpire2</th>\n",
       "      <th>match_referee</th>\n",
       "      <th>toss_winner</th>\n",
       "      <th>toss_winner_choice</th>\n",
       "      <th>match_winner</th>\n",
       "      <th>match_result_text</th>\n",
       "      <th>mom_player</th>\n",
       "      <th>team1_playing11</th>\n",
       "      <th>team2_playing11</th>\n",
       "      <th>debut_players</th>\n",
       "    </tr>\n",
       "  </thead>\n",
       "  <tbody>\n",
       "    <tr>\n",
       "      <th>2</th>\n",
       "      <td>2008</td>\n",
       "      <td>3rd match</td>\n",
       "      <td>335984</td>\n",
       "      <td>Delhi Daredevils Vs Rajasthan Royals 3Rd Match</td>\n",
       "      <td>313494</td>\n",
       "      <td>Indian Premier League in India - 2008 (2007/08)</td>\n",
       "      <td>2008-04-19</td>\n",
       "      <td>T20</td>\n",
       "      <td>4345</td>\n",
       "      <td>Royals</td>\n",
       "      <td>...</td>\n",
       "      <td>GA Pratapkumar</td>\n",
       "      <td>GR Viswanath</td>\n",
       "      <td>Royals</td>\n",
       "      <td>bat</td>\n",
       "      <td>Daredevils</td>\n",
       "      <td>Daredevils won by 9 wickets (with 29 balls rem...</td>\n",
       "      <td>11374.0</td>\n",
       "      <td>[\"54936\",\"15473\",\"10125\",\"7632\",\"3329\",\"49247\"...</td>\n",
       "      <td>[\"7773\",\"7781\",\"15887\",\"47624\",\"8813\",\"7520\",\"...</td>\n",
       "      <td>[\"51109\",\"47100\",\"54936\"]</td>\n",
       "    </tr>\n",
       "    <tr>\n",
       "      <th>3</th>\n",
       "      <td>2008</td>\n",
       "      <td>4th match</td>\n",
       "      <td>335986</td>\n",
       "      <td>Kolkata Knight Riders Vs Deccan Chargers 4Th M...</td>\n",
       "      <td>313494</td>\n",
       "      <td>Indian Premier League in India - 2008 (2007/08)</td>\n",
       "      <td>2008-04-20</td>\n",
       "      <td>T20</td>\n",
       "      <td>4347</td>\n",
       "      <td>Chargers</td>\n",
       "      <td>...</td>\n",
       "      <td>K Hariharan</td>\n",
       "      <td>FM Engineer</td>\n",
       "      <td>Chargers</td>\n",
       "      <td>bat</td>\n",
       "      <td>KKR</td>\n",
       "      <td>KKR won by 5 wickets (with 6 balls remaining)</td>\n",
       "      <td>11984.0</td>\n",
       "      <td>[\"4176\",\"8163\",\"3317\",\"4382\",\"48405\",\"9570\",\"7...</td>\n",
       "      <td>[\"51216\",\"10384\",\"2230\",\"2024\",\"11984\",\"19647\"...</td>\n",
       "      <td>[\"3317\"]</td>\n",
       "    </tr>\n",
       "    <tr>\n",
       "      <th>4</th>\n",
       "      <td>2008</td>\n",
       "      <td>5th match</td>\n",
       "      <td>335985</td>\n",
       "      <td>Mumbai Indians Vs Royal Challengers Bangalore ...</td>\n",
       "      <td>313494</td>\n",
       "      <td>Indian Premier League in India - 2008 (2007/08)</td>\n",
       "      <td>2008-04-20</td>\n",
       "      <td>T20</td>\n",
       "      <td>4346</td>\n",
       "      <td>Mumbai</td>\n",
       "      <td>...</td>\n",
       "      <td>SJ Davis</td>\n",
       "      <td>J Srinath</td>\n",
       "      <td>Mumbai</td>\n",
       "      <td>bat</td>\n",
       "      <td>RCB</td>\n",
       "      <td>RCB won by 5 wickets (with 2 balls remaining)</td>\n",
       "      <td>3947.0</td>\n",
       "      <td>[\"17850\",\"1988\",\"7447\",\"8742\",\"48349\",\"47308\",...</td>\n",
       "      <td>[\"2120\",\"2281\",\"44930\",\"2232\",\"49752\",\"3947\",\"...</td>\n",
       "      <td>[\"7804\"]</td>\n",
       "    </tr>\n",
       "    <tr>\n",
       "      <th>5</th>\n",
       "      <td>2008</td>\n",
       "      <td>6th match</td>\n",
       "      <td>335987</td>\n",
       "      <td>Rajasthan Royals Vs Kings Xi Punjab 6Th Match</td>\n",
       "      <td>313494</td>\n",
       "      <td>Indian Premier League in India - 2008 (2007/08)</td>\n",
       "      <td>2008-04-21</td>\n",
       "      <td>T20</td>\n",
       "      <td>4342</td>\n",
       "      <td>Kings XI</td>\n",
       "      <td>...</td>\n",
       "      <td>RB Tiffin</td>\n",
       "      <td>S Venkataraghavan</td>\n",
       "      <td>Kings XI</td>\n",
       "      <td>bat</td>\n",
       "      <td>Royals</td>\n",
       "      <td>Royals won by 6 wickets (with 11 balls remaining)</td>\n",
       "      <td>10125.0</td>\n",
       "      <td>[\"15851\",\"9235\",\"9587\",\"6315\",\"7716\",\"11399\",\"...</td>\n",
       "      <td>[\"7632\",\"9257\",\"15473\",\"10125\",\"3329\",\"49247\",...</td>\n",
       "      <td>[]</td>\n",
       "    </tr>\n",
       "    <tr>\n",
       "      <th>6</th>\n",
       "      <td>2008</td>\n",
       "      <td>7th match</td>\n",
       "      <td>335988</td>\n",
       "      <td>Deccan Chargers Vs Delhi Daredevils 7Th Match</td>\n",
       "      <td>313494</td>\n",
       "      <td>Indian Premier League in India - 2008 (2007/08)</td>\n",
       "      <td>2008-04-22</td>\n",
       "      <td>T20</td>\n",
       "      <td>4347</td>\n",
       "      <td>Chargers</td>\n",
       "      <td>...</td>\n",
       "      <td>IL Howell</td>\n",
       "      <td>Talat Ali</td>\n",
       "      <td>Chargers</td>\n",
       "      <td>bat</td>\n",
       "      <td>Daredevils</td>\n",
       "      <td>Daredevils won by 9 wickets (with 42 balls rem...</td>\n",
       "      <td>7781.0</td>\n",
       "      <td>[\"4176\",\"8163\",\"3317\",\"4382\",\"48405\",\"4169\",\"8...</td>\n",
       "      <td>[\"7773\",\"7781\",\"15887\",\"8270\",\"8813\",\"47624\",\"...</td>\n",
       "      <td>[]</td>\n",
       "    </tr>\n",
       "    <tr>\n",
       "      <th>...</th>\n",
       "      <td>...</td>\n",
       "      <td>...</td>\n",
       "      <td>...</td>\n",
       "      <td>...</td>\n",
       "      <td>...</td>\n",
       "      <td>...</td>\n",
       "      <td>...</td>\n",
       "      <td>...</td>\n",
       "      <td>...</td>\n",
       "      <td>...</td>\n",
       "      <td>...</td>\n",
       "      <td>...</td>\n",
       "      <td>...</td>\n",
       "      <td>...</td>\n",
       "      <td>...</td>\n",
       "      <td>...</td>\n",
       "      <td>...</td>\n",
       "      <td>...</td>\n",
       "      <td>...</td>\n",
       "      <td>...</td>\n",
       "      <td>...</td>\n",
       "    </tr>\n",
       "    <tr>\n",
       "      <th>1015</th>\n",
       "      <td>2023</td>\n",
       "      <td>65th Match</td>\n",
       "      <td>1359539</td>\n",
       "      <td>Sunrisers Hyderabad Vs Royal Challengers Banga...</td>\n",
       "      <td>1345038</td>\n",
       "      <td>Indian Premier League in India - 2023 (2023)</td>\n",
       "      <td>2023-05-18</td>\n",
       "      <td>T20</td>\n",
       "      <td>5143</td>\n",
       "      <td>Sunrisers</td>\n",
       "      <td>...</td>\n",
       "      <td>VK Sharma</td>\n",
       "      <td>J Srinath</td>\n",
       "      <td>RCB</td>\n",
       "      <td>bowl</td>\n",
       "      <td>RCB</td>\n",
       "      <td>RCB won by 8 wickets (with 4 balls remaining)</td>\n",
       "      <td>49752.0</td>\n",
       "      <td>[\"79597\",\"95320\",\"61999\",\"70277\",\"61634\",\"8402...</td>\n",
       "      <td>[\"49752\",\"46933\",\"54222\",\"54369\",\"81197\",\"1013...</td>\n",
       "      <td>[]</td>\n",
       "    </tr>\n",
       "    <tr>\n",
       "      <th>1016</th>\n",
       "      <td>2023</td>\n",
       "      <td>66th Match</td>\n",
       "      <td>1359540</td>\n",
       "      <td>Punjab Kings Vs Rajasthan Royals 66Th Match</td>\n",
       "      <td>1345038</td>\n",
       "      <td>Indian Premier League in India - 2023 (2023)</td>\n",
       "      <td>2023-05-19</td>\n",
       "      <td>T20</td>\n",
       "      <td>4342</td>\n",
       "      <td>Punjab Kings</td>\n",
       "      <td>...</td>\n",
       "      <td>RJ Tucker</td>\n",
       "      <td>P Dharmani</td>\n",
       "      <td>Royals</td>\n",
       "      <td>bowl</td>\n",
       "      <td>Royals</td>\n",
       "      <td>Royals won by 4 wickets (with 2 balls remaining)</td>\n",
       "      <td>100878.0</td>\n",
       "      <td>[\"80817\",\"103766\",\"15887\",\"101424\",\"59832\",\"72...</td>\n",
       "      <td>[\"61325\",\"102743\",\"53271\",\"100878\",\"60806\",\"72...</td>\n",
       "      <td>[]</td>\n",
       "    </tr>\n",
       "    <tr>\n",
       "      <th>1019</th>\n",
       "      <td>2023</td>\n",
       "      <td>70th Match</td>\n",
       "      <td>1359544</td>\n",
       "      <td>Royal Challengers Bangalore Vs Gujarat Titans ...</td>\n",
       "      <td>1345038</td>\n",
       "      <td>Indian Premier League in India - 2023 (2023)</td>\n",
       "      <td>2023-05-21</td>\n",
       "      <td>T20</td>\n",
       "      <td>4340</td>\n",
       "      <td>RCB</td>\n",
       "      <td>...</td>\n",
       "      <td>VK Sharma</td>\n",
       "      <td>J Srinath</td>\n",
       "      <td>Titans</td>\n",
       "      <td>bowl</td>\n",
       "      <td>Titans</td>\n",
       "      <td>Titans won by 6 wickets (with 5 balls remaining)</td>\n",
       "      <td>95316.0</td>\n",
       "      <td>[\"114290\",\"49752\",\"46933\",\"54222\",\"81197\",\"543...</td>\n",
       "      <td>[\"103597\",\"51216\",\"95316\",\"63509\",\"61690\",\"538...</td>\n",
       "      <td>[\"114290\"]</td>\n",
       "    </tr>\n",
       "    <tr>\n",
       "      <th>1020</th>\n",
       "      <td>2023</td>\n",
       "      <td>69th Match</td>\n",
       "      <td>1359543</td>\n",
       "      <td>Mumbai Indians Vs Sunrisers Hyderabad 69Th Match</td>\n",
       "      <td>1345038</td>\n",
       "      <td>Indian Premier League in India - 2023 (2023)</td>\n",
       "      <td>2023-05-21</td>\n",
       "      <td>T20</td>\n",
       "      <td>5143</td>\n",
       "      <td>Sunrisers</td>\n",
       "      <td>...</td>\n",
       "      <td>RJ Tucker</td>\n",
       "      <td>P Dharmani</td>\n",
       "      <td>Mumbai</td>\n",
       "      <td>bowl</td>\n",
       "      <td>Mumbai</td>\n",
       "      <td>Mumbai won by 8 wickets (with 12 balls remaining)</td>\n",
       "      <td>96335.0</td>\n",
       "      <td>[\"101306\",\"108645\",\"59599\",\"61634\",\"80639\",\"70...</td>\n",
       "      <td>[\"75325\",\"48405\",\"96335\",\"61990\",\"83439\",\"1027...</td>\n",
       "      <td>[]</td>\n",
       "    </tr>\n",
       "    <tr>\n",
       "      <th>1024</th>\n",
       "      <td>2023</td>\n",
       "      <td>Final</td>\n",
       "      <td>1370353</td>\n",
       "      <td>Gujarat Titans Vs Chennai Super Kings Final</td>\n",
       "      <td>1345038</td>\n",
       "      <td>Indian Premier League in India - 2023 (2023)</td>\n",
       "      <td>2023-05-28</td>\n",
       "      <td>T20</td>\n",
       "      <td>6904</td>\n",
       "      <td>Titans</td>\n",
       "      <td>...</td>\n",
       "      <td>RJ Tucker</td>\n",
       "      <td>J Srinath</td>\n",
       "      <td>Super Kings</td>\n",
       "      <td>bowl</td>\n",
       "      <td>Super Kings</td>\n",
       "      <td>Super Kings won by 5 wickets (with 0 balls rem...</td>\n",
       "      <td>58403.0</td>\n",
       "      <td>[\"85975\",\"51216\",\"95316\",\"102753\",\"70633\",\"791...</td>\n",
       "      <td>[\"105938\",\"95094\",\"58403\",\"74975\",\"51096\",\"899...</td>\n",
       "      <td>[]</td>\n",
       "    </tr>\n",
       "  </tbody>\n",
       "</table>\n",
       "<p>548 rows × 34 columns</p>\n",
       "</div>"
      ],
      "text/plain": [
       "      season       title  match_id  \\\n",
       "2       2008   3rd match    335984   \n",
       "3       2008   4th match    335986   \n",
       "4       2008   5th match    335985   \n",
       "5       2008   6th match    335987   \n",
       "6       2008   7th match    335988   \n",
       "...      ...         ...       ...   \n",
       "1015    2023  65th Match   1359539   \n",
       "1016    2023  66th Match   1359540   \n",
       "1019    2023  70th Match   1359544   \n",
       "1020    2023  69th Match   1359543   \n",
       "1024    2023       Final   1370353   \n",
       "\n",
       "                                             match_name  series_id  \\\n",
       "2        Delhi Daredevils Vs Rajasthan Royals 3Rd Match     313494   \n",
       "3     Kolkata Knight Riders Vs Deccan Chargers 4Th M...     313494   \n",
       "4     Mumbai Indians Vs Royal Challengers Bangalore ...     313494   \n",
       "5         Rajasthan Royals Vs Kings Xi Punjab 6Th Match     313494   \n",
       "6         Deccan Chargers Vs Delhi Daredevils 7Th Match     313494   \n",
       "...                                                 ...        ...   \n",
       "1015  Sunrisers Hyderabad Vs Royal Challengers Banga...    1345038   \n",
       "1016        Punjab Kings Vs Rajasthan Royals 66Th Match    1345038   \n",
       "1019  Royal Challengers Bangalore Vs Gujarat Titans ...    1345038   \n",
       "1020   Mumbai Indians Vs Sunrisers Hyderabad 69Th Match    1345038   \n",
       "1024        Gujarat Titans Vs Chennai Super Kings Final    1345038   \n",
       "\n",
       "                                          series_name  match_date  \\\n",
       "2     Indian Premier League in India - 2008 (2007/08)  2008-04-19   \n",
       "3     Indian Premier League in India - 2008 (2007/08)  2008-04-20   \n",
       "4     Indian Premier League in India - 2008 (2007/08)  2008-04-20   \n",
       "5     Indian Premier League in India - 2008 (2007/08)  2008-04-21   \n",
       "6     Indian Premier League in India - 2008 (2007/08)  2008-04-22   \n",
       "...                                               ...         ...   \n",
       "1015     Indian Premier League in India - 2023 (2023)  2023-05-18   \n",
       "1016     Indian Premier League in India - 2023 (2023)  2023-05-19   \n",
       "1019     Indian Premier League in India - 2023 (2023)  2023-05-21   \n",
       "1020     Indian Premier League in India - 2023 (2023)  2023-05-21   \n",
       "1024     Indian Premier League in India - 2023 (2023)  2023-05-28   \n",
       "\n",
       "     match_format  team1_id    team1_name  ...         umpire2  \\\n",
       "2             T20      4345        Royals  ...  GA Pratapkumar   \n",
       "3             T20      4347      Chargers  ...     K Hariharan   \n",
       "4             T20      4346        Mumbai  ...        SJ Davis   \n",
       "5             T20      4342      Kings XI  ...       RB Tiffin   \n",
       "6             T20      4347      Chargers  ...       IL Howell   \n",
       "...           ...       ...           ...  ...             ...   \n",
       "1015          T20      5143     Sunrisers  ...       VK Sharma   \n",
       "1016          T20      4342  Punjab Kings  ...       RJ Tucker   \n",
       "1019          T20      4340           RCB  ...       VK Sharma   \n",
       "1020          T20      5143     Sunrisers  ...       RJ Tucker   \n",
       "1024          T20      6904        Titans  ...       RJ Tucker   \n",
       "\n",
       "          match_referee  toss_winner  toss_winner_choice  match_winner  \\\n",
       "2          GR Viswanath       Royals                 bat    Daredevils   \n",
       "3           FM Engineer     Chargers                 bat           KKR   \n",
       "4             J Srinath       Mumbai                 bat           RCB   \n",
       "5     S Venkataraghavan     Kings XI                 bat        Royals   \n",
       "6             Talat Ali     Chargers                 bat    Daredevils   \n",
       "...                 ...          ...                 ...           ...   \n",
       "1015          J Srinath          RCB                bowl           RCB   \n",
       "1016         P Dharmani       Royals                bowl        Royals   \n",
       "1019          J Srinath       Titans                bowl        Titans   \n",
       "1020         P Dharmani       Mumbai                bowl        Mumbai   \n",
       "1024          J Srinath  Super Kings                bowl   Super Kings   \n",
       "\n",
       "                                      match_result_text  mom_player  \\\n",
       "2     Daredevils won by 9 wickets (with 29 balls rem...     11374.0   \n",
       "3         KKR won by 5 wickets (with 6 balls remaining)     11984.0   \n",
       "4         RCB won by 5 wickets (with 2 balls remaining)      3947.0   \n",
       "5     Royals won by 6 wickets (with 11 balls remaining)     10125.0   \n",
       "6     Daredevils won by 9 wickets (with 42 balls rem...      7781.0   \n",
       "...                                                 ...         ...   \n",
       "1015      RCB won by 8 wickets (with 4 balls remaining)     49752.0   \n",
       "1016   Royals won by 4 wickets (with 2 balls remaining)    100878.0   \n",
       "1019   Titans won by 6 wickets (with 5 balls remaining)     95316.0   \n",
       "1020  Mumbai won by 8 wickets (with 12 balls remaining)     96335.0   \n",
       "1024  Super Kings won by 5 wickets (with 0 balls rem...     58403.0   \n",
       "\n",
       "                                        team1_playing11  \\\n",
       "2     [\"54936\",\"15473\",\"10125\",\"7632\",\"3329\",\"49247\"...   \n",
       "3     [\"4176\",\"8163\",\"3317\",\"4382\",\"48405\",\"9570\",\"7...   \n",
       "4     [\"17850\",\"1988\",\"7447\",\"8742\",\"48349\",\"47308\",...   \n",
       "5     [\"15851\",\"9235\",\"9587\",\"6315\",\"7716\",\"11399\",\"...   \n",
       "6     [\"4176\",\"8163\",\"3317\",\"4382\",\"48405\",\"4169\",\"8...   \n",
       "...                                                 ...   \n",
       "1015  [\"79597\",\"95320\",\"61999\",\"70277\",\"61634\",\"8402...   \n",
       "1016  [\"80817\",\"103766\",\"15887\",\"101424\",\"59832\",\"72...   \n",
       "1019  [\"114290\",\"49752\",\"46933\",\"54222\",\"81197\",\"543...   \n",
       "1020  [\"101306\",\"108645\",\"59599\",\"61634\",\"80639\",\"70...   \n",
       "1024  [\"85975\",\"51216\",\"95316\",\"102753\",\"70633\",\"791...   \n",
       "\n",
       "                                        team2_playing11  \\\n",
       "2     [\"7773\",\"7781\",\"15887\",\"47624\",\"8813\",\"7520\",\"...   \n",
       "3     [\"51216\",\"10384\",\"2230\",\"2024\",\"11984\",\"19647\"...   \n",
       "4     [\"2120\",\"2281\",\"44930\",\"2232\",\"49752\",\"3947\",\"...   \n",
       "5     [\"7632\",\"9257\",\"15473\",\"10125\",\"3329\",\"49247\",...   \n",
       "6     [\"7773\",\"7781\",\"15887\",\"8270\",\"8813\",\"47624\",\"...   \n",
       "...                                                 ...   \n",
       "1015  [\"49752\",\"46933\",\"54222\",\"54369\",\"81197\",\"1013...   \n",
       "1016  [\"61325\",\"102743\",\"53271\",\"100878\",\"60806\",\"72...   \n",
       "1019  [\"103597\",\"51216\",\"95316\",\"63509\",\"61690\",\"538...   \n",
       "1020  [\"75325\",\"48405\",\"96335\",\"61990\",\"83439\",\"1027...   \n",
       "1024  [\"105938\",\"95094\",\"58403\",\"74975\",\"51096\",\"899...   \n",
       "\n",
       "                  debut_players  \n",
       "2     [\"51109\",\"47100\",\"54936\"]  \n",
       "3                      [\"3317\"]  \n",
       "4                      [\"7804\"]  \n",
       "5                            []  \n",
       "6                            []  \n",
       "...                         ...  \n",
       "1015                         []  \n",
       "1016                         []  \n",
       "1019                 [\"114290\"]  \n",
       "1020                         []  \n",
       "1024                         []  \n",
       "\n",
       "[548 rows x 34 columns]"
      ]
     },
     "execution_count": 34,
     "metadata": {},
     "output_type": "execute_result"
    }
   ],
   "source": [
    "#total number of matches where team batting first lost\n",
    "batting_second_winner=historical_df[(historical_df['team2_name']==historical_df['match_winner'])]\n",
    "batting_second_winner"
   ]
  },
  {
   "cell_type": "code",
   "execution_count": 35,
   "id": "8d395df7dca7bc68",
   "metadata": {
    "ExecuteTime": {
     "end_time": "2024-04-07T18:13:33.263497Z",
     "start_time": "2024-04-07T18:13:32.146937Z"
    },
    "collapsed": false
   },
   "outputs": [
    {
     "name": "stdout",
     "output_type": "stream",
     "text": [
      "Total number of matches where team batting second won:  548\n"
     ]
    }
   ],
   "source": [
    "#total number of matches where team batting second won\n",
    "total_batting_second_winner=batting_second_winner['match_id'].nunique()\n",
    "print(\"Total number of matches where team batting second won: \",total_batting_second_winner)"
   ]
  },
  {
   "cell_type": "code",
   "execution_count": 36,
   "id": "ad4faf9ee8f4567",
   "metadata": {
    "ExecuteTime": {
     "end_time": "2024-04-07T18:13:33.266865Z",
     "start_time": "2024-04-07T18:13:32.166632Z"
    },
    "collapsed": false
   },
   "outputs": [
    {
     "name": "stderr",
     "output_type": "stream",
     "text": [
      "/var/folders/fd/_vqm4qqj113dx_9dmjpjrhfw0000gn/T/ipykernel_54950/1259204658.py:2: SettingWithCopyWarning: \n",
      "A value is trying to be set on a copy of a slice from a DataFrame.\n",
      "Try using .loc[row_indexer,col_indexer] = value instead\n",
      "\n",
      "See the caveats in the documentation: https://pandas.pydata.org/pandas-docs/stable/user_guide/indexing.html#returning-a-view-versus-a-copy\n",
      "  sum_runs_19th_over_innings1['result']=sum_runs_19th_over_innings1['match_id'].apply(lambda x: 'won' if x in batting_first_winner['match_id'].values else 'lost')\n"
     ]
    },
    {
     "data": {
      "text/html": [
       "<div>\n",
       "<style scoped>\n",
       "    .dataframe tbody tr th:only-of-type {\n",
       "        vertical-align: middle;\n",
       "    }\n",
       "\n",
       "    .dataframe tbody tr th {\n",
       "        vertical-align: top;\n",
       "    }\n",
       "\n",
       "    .dataframe thead th {\n",
       "        text-align: right;\n",
       "    }\n",
       "</style>\n",
       "<table border=\"1\" class=\"dataframe\">\n",
       "  <thead>\n",
       "    <tr style=\"text-align: right;\">\n",
       "      <th></th>\n",
       "      <th>year</th>\n",
       "      <th>match_id</th>\n",
       "      <th>innings_no</th>\n",
       "      <th>total_runs</th>\n",
       "      <th>result</th>\n",
       "    </tr>\n",
       "  </thead>\n",
       "  <tbody>\n",
       "    <tr>\n",
       "      <th>0</th>\n",
       "      <td>2008</td>\n",
       "      <td>335982</td>\n",
       "      <td>1.0</td>\n",
       "      <td>21</td>\n",
       "      <td>won</td>\n",
       "    </tr>\n",
       "    <tr>\n",
       "      <th>1</th>\n",
       "      <td>2008</td>\n",
       "      <td>335983</td>\n",
       "      <td>1.0</td>\n",
       "      <td>15</td>\n",
       "      <td>won</td>\n",
       "    </tr>\n",
       "    <tr>\n",
       "      <th>3</th>\n",
       "      <td>2008</td>\n",
       "      <td>335984</td>\n",
       "      <td>1.0</td>\n",
       "      <td>10</td>\n",
       "      <td>lost</td>\n",
       "    </tr>\n",
       "    <tr>\n",
       "      <th>4</th>\n",
       "      <td>2008</td>\n",
       "      <td>335985</td>\n",
       "      <td>1.0</td>\n",
       "      <td>9</td>\n",
       "      <td>lost</td>\n",
       "    </tr>\n",
       "    <tr>\n",
       "      <th>6</th>\n",
       "      <td>2008</td>\n",
       "      <td>335986</td>\n",
       "      <td>1.0</td>\n",
       "      <td>5</td>\n",
       "      <td>lost</td>\n",
       "    </tr>\n",
       "    <tr>\n",
       "      <th>...</th>\n",
       "      <td>...</td>\n",
       "      <td>...</td>\n",
       "      <td>...</td>\n",
       "      <td>...</td>\n",
       "      <td>...</td>\n",
       "    </tr>\n",
       "    <tr>\n",
       "      <th>1750</th>\n",
       "      <td>2023</td>\n",
       "      <td>1359544</td>\n",
       "      <td>1.0</td>\n",
       "      <td>13</td>\n",
       "      <td>lost</td>\n",
       "    </tr>\n",
       "    <tr>\n",
       "      <th>1752</th>\n",
       "      <td>2023</td>\n",
       "      <td>1370350</td>\n",
       "      <td>1.0</td>\n",
       "      <td>9</td>\n",
       "      <td>won</td>\n",
       "    </tr>\n",
       "    <tr>\n",
       "      <th>1754</th>\n",
       "      <td>2023</td>\n",
       "      <td>1370351</td>\n",
       "      <td>1.0</td>\n",
       "      <td>6</td>\n",
       "      <td>won</td>\n",
       "    </tr>\n",
       "    <tr>\n",
       "      <th>1755</th>\n",
       "      <td>2023</td>\n",
       "      <td>1370352</td>\n",
       "      <td>1.0</td>\n",
       "      <td>9</td>\n",
       "      <td>won</td>\n",
       "    </tr>\n",
       "    <tr>\n",
       "      <th>1757</th>\n",
       "      <td>2023</td>\n",
       "      <td>1370353</td>\n",
       "      <td>1.0</td>\n",
       "      <td>18</td>\n",
       "      <td>lost</td>\n",
       "    </tr>\n",
       "  </tbody>\n",
       "</table>\n",
       "<p>983 rows × 5 columns</p>\n",
       "</div>"
      ],
      "text/plain": [
       "      year  match_id  innings_no  total_runs result\n",
       "0     2008    335982         1.0          21    won\n",
       "1     2008    335983         1.0          15    won\n",
       "3     2008    335984         1.0          10   lost\n",
       "4     2008    335985         1.0           9   lost\n",
       "6     2008    335986         1.0           5   lost\n",
       "...    ...       ...         ...         ...    ...\n",
       "1750  2023   1359544         1.0          13   lost\n",
       "1752  2023   1370350         1.0           9    won\n",
       "1754  2023   1370351         1.0           6    won\n",
       "1755  2023   1370352         1.0           9    won\n",
       "1757  2023   1370353         1.0          18   lost\n",
       "\n",
       "[983 rows x 5 columns]"
      ]
     },
     "execution_count": 36,
     "metadata": {},
     "output_type": "execute_result"
    }
   ],
   "source": [
    "#from sum_runs_19th_over_innings1, add new column win ,check match_id is present in batting_first_winner ,if yes, set to 1 else 0\n",
    "sum_runs_19th_over_innings1['result']=sum_runs_19th_over_innings1['match_id'].apply(lambda x: 'won' if x in batting_first_winner['match_id'].values else 'lost')\n",
    "sum_runs_19th_over_innings1"
   ]
  },
  {
   "cell_type": "code",
   "execution_count": 37,
   "id": "ef11ceb866d1e13c",
   "metadata": {
    "ExecuteTime": {
     "end_time": "2024-04-07T18:13:33.269173Z",
     "start_time": "2024-04-07T18:13:32.177498Z"
    },
    "collapsed": false
   },
   "outputs": [
    {
     "data": {
      "text/html": [
       "<div>\n",
       "<style scoped>\n",
       "    .dataframe tbody tr th:only-of-type {\n",
       "        vertical-align: middle;\n",
       "    }\n",
       "\n",
       "    .dataframe tbody tr th {\n",
       "        vertical-align: top;\n",
       "    }\n",
       "\n",
       "    .dataframe thead th {\n",
       "        text-align: right;\n",
       "    }\n",
       "</style>\n",
       "<table border=\"1\" class=\"dataframe\">\n",
       "  <thead>\n",
       "    <tr style=\"text-align: right;\">\n",
       "      <th></th>\n",
       "      <th>year</th>\n",
       "      <th>match_id</th>\n",
       "      <th>innings_no</th>\n",
       "      <th>total_runs</th>\n",
       "      <th>result</th>\n",
       "    </tr>\n",
       "  </thead>\n",
       "  <tbody>\n",
       "    <tr>\n",
       "      <th>1757</th>\n",
       "      <td>2023</td>\n",
       "      <td>1370353</td>\n",
       "      <td>1.0</td>\n",
       "      <td>18</td>\n",
       "      <td>lost</td>\n",
       "    </tr>\n",
       "  </tbody>\n",
       "</table>\n",
       "</div>"
      ],
      "text/plain": [
       "      year  match_id  innings_no  total_runs result\n",
       "1757  2023   1370353         1.0          18   lost"
      ]
     },
     "execution_count": 37,
     "metadata": {},
     "output_type": "execute_result"
    }
   ],
   "source": [
    "##as expected GT did not win the final and hence calculation is correct\n",
    "sum_runs_19th_over_innings1[sum_runs_19th_over_innings1['match_id']==1370353]"
   ]
  },
  {
   "cell_type": "markdown",
   "id": "8207008eb3f8c2e0",
   "metadata": {
    "collapsed": false
   },
   "source": [
    "# Distribution of wins and losses for team batting first who batted in 19th over"
   ]
  },
  {
   "cell_type": "code",
   "execution_count": 38,
   "id": "3f8467e1b649b875",
   "metadata": {
    "ExecuteTime": {
     "end_time": "2024-04-07T18:13:33.270388Z",
     "start_time": "2024-04-07T18:13:32.184473Z"
    },
    "collapsed": false
   },
   "outputs": [
    {
     "data": {
      "text/plain": [
       "result\n",
       "lost    54.425229\n",
       "won     45.574771\n",
       "Name: proportion, dtype: float64"
      ]
     },
     "execution_count": 38,
     "metadata": {},
     "output_type": "execute_result"
    }
   ],
   "source": [
    "sum_runs_19th_over_innings1['result'].value_counts(normalize=True)*100"
   ]
  },
  {
   "cell_type": "code",
   "execution_count": 39,
   "id": "e3ac70f9ebb3d9f3",
   "metadata": {
    "ExecuteTime": {
     "end_time": "2024-04-07T18:13:33.271486Z",
     "start_time": "2024-04-07T18:13:32.192079Z"
    },
    "collapsed": false
   },
   "outputs": [
    {
     "data": {
      "text/plain": [
       "result\n",
       "lost    535\n",
       "won     448\n",
       "Name: count, dtype: int64"
      ]
     },
     "execution_count": 39,
     "metadata": {},
     "output_type": "execute_result"
    }
   ],
   "source": [
    "sum_runs_19th_over_innings1['result'].value_counts()"
   ]
  },
  {
   "cell_type": "markdown",
   "id": "d9a41097a98a1437",
   "metadata": {
    "collapsed": false
   },
   "source": [
    "## insights : 45% of the matches were won by the team batting first"
   ]
  },
  {
   "cell_type": "code",
   "execution_count": 40,
   "id": "4dc3255d471679af",
   "metadata": {
    "ExecuteTime": {
     "end_time": "2024-04-07T18:13:33.288911Z",
     "start_time": "2024-04-07T18:13:32.201391Z"
    },
    "collapsed": false
   },
   "outputs": [
    {
     "data": {
      "image/png": "[encoded data removed]",
      "text/plain": [
       "<Figure size 1000x600 with 1 Axes>"
      ]
     },
     "metadata": {},
     "output_type": "display_data"
    }
   ],
   "source": [
    "# Visualization with Box Plot\n",
    "plt.figure(figsize=(10, 6))\n",
    "sns.boxplot(x='result', y='total_runs', data=sum_runs_19th_over_innings1)\n",
    "plt.title('19th Over Runs vs. Match Result')\n",
    "plt.show()"
   ]
  },
  {
   "cell_type": "code",
   "execution_count": 41,
   "id": "6214b4bc9f4051f9",
   "metadata": {
    "ExecuteTime": {
     "end_time": "2024-04-07T18:13:33.290211Z",
     "start_time": "2024-04-07T18:13:32.430873Z"
    },
    "collapsed": false
   },
   "outputs": [],
   "source": [
    "#for each run scored in 19th over,find the win percentage\n",
    "win_percentage={}\n",
    "counter_val={}\n",
    "for i in list(sum_runs_19th_over_innings1['total_runs'].unique()):\n",
    "    win_percentage[i]=round(sum_runs_19th_over_innings1[sum_runs_19th_over_innings1['total_runs']==i]['result'].value_counts(normalize=True).get('won',0)*100,2)\n",
    "    counter_val[i]=len(sum_runs_19th_over_innings1[(sum_runs_19th_over_innings1['total_runs']==i) & (sum_runs_19th_over_innings1['result']=='won')])\n",
    "    "
   ]
  },
  {
   "cell_type": "code",
   "execution_count": 42,
   "id": "b76fc6131b8ba4e9",
   "metadata": {
    "ExecuteTime": {
     "end_time": "2024-04-07T18:13:33.291609Z",
     "start_time": "2024-04-07T18:13:32.431065Z"
    },
    "collapsed": false
   },
   "outputs": [
    {
     "data": {
      "text/plain": [
       "{0: 100.0,\n",
       " 1: 40.0,\n",
       " 2: 27.78,\n",
       " 3: 33.33,\n",
       " 4: 30.0,\n",
       " 5: 37.5,\n",
       " 6: 34.38,\n",
       " 7: 39.13,\n",
       " 8: 47.89,\n",
       " 9: 48.54,\n",
       " 10: 42.86,\n",
       " 11: 35.71,\n",
       " 12: 47.54,\n",
       " 13: 49.02,\n",
       " 14: 40.0,\n",
       " 15: 54.55,\n",
       " 16: 65.71,\n",
       " 17: 57.14,\n",
       " 18: 52.17,\n",
       " 19: 57.14,\n",
       " 20: 33.33,\n",
       " 21: 71.43,\n",
       " 22: 100.0,\n",
       " 23: 66.67,\n",
       " 24: 100.0,\n",
       " 25: 66.67,\n",
       " 26: 66.67,\n",
       " 27: 60.0,\n",
       " 28: 33.33,\n",
       " 30: 100.0}"
      ]
     },
     "execution_count": 42,
     "metadata": {},
     "output_type": "execute_result"
    }
   ],
   "source": [
    "#sort the dictionary based on keys\n",
    "win_percentage=dict(sorted(win_percentage.items()))\n",
    "win_percentage"
   ]
  },
  {
   "cell_type": "code",
   "execution_count": 43,
   "id": "84ea3a7ee4684d5a",
   "metadata": {
    "ExecuteTime": {
     "end_time": "2024-04-07T18:13:33.295458Z",
     "start_time": "2024-04-07T18:13:32.431789Z"
    },
    "collapsed": false
   },
   "outputs": [
    {
     "data": {
      "text/plain": [
       "{0: 1,\n",
       " 1: 2,\n",
       " 2: 5,\n",
       " 3: 10,\n",
       " 4: 12,\n",
       " 5: 18,\n",
       " 6: 22,\n",
       " 7: 27,\n",
       " 8: 34,\n",
       " 9: 50,\n",
       " 10: 36,\n",
       " 11: 25,\n",
       " 12: 29,\n",
       " 13: 25,\n",
       " 14: 18,\n",
       " 15: 24,\n",
       " 16: 23,\n",
       " 17: 16,\n",
       " 18: 12,\n",
       " 19: 12,\n",
       " 20: 6,\n",
       " 21: 10,\n",
       " 22: 7,\n",
       " 23: 4,\n",
       " 24: 8,\n",
       " 25: 4,\n",
       " 26: 2,\n",
       " 27: 3,\n",
       " 28: 1,\n",
       " 30: 2}"
      ]
     },
     "execution_count": 43,
     "metadata": {},
     "output_type": "execute_result"
    }
   ],
   "source": [
    "counter_val=dict(sorted(counter_val.items()))\n",
    "counter_val"
   ]
  },
  {
   "cell_type": "code",
   "execution_count": 44,
   "id": "e1e2c6c797a53109",
   "metadata": {
    "ExecuteTime": {
     "end_time": "2024-04-07T18:13:33.296703Z",
     "start_time": "2024-04-07T18:13:32.443450Z"
    },
    "collapsed": false
   },
   "outputs": [
    {
     "data": {
      "text/plain": [
       "448"
      ]
     },
     "execution_count": 44,
     "metadata": {},
     "output_type": "execute_result"
    }
   ],
   "source": [
    "#sum of counter values should be equal to 448\n",
    "sum(counter_val.values())"
   ]
  },
  {
   "cell_type": "code",
   "execution_count": 45,
   "id": "d1946940ec764f51",
   "metadata": {
    "ExecuteTime": {
     "end_time": "2024-04-07T18:13:33.298110Z",
     "start_time": "2024-04-07T18:13:32.460360Z"
    },
    "collapsed": false
   },
   "outputs": [
    {
     "data": {
      "text/html": [
       "<div>\n",
       "<style scoped>\n",
       "    .dataframe tbody tr th:only-of-type {\n",
       "        vertical-align: middle;\n",
       "    }\n",
       "\n",
       "    .dataframe tbody tr th {\n",
       "        vertical-align: top;\n",
       "    }\n",
       "\n",
       "    .dataframe thead th {\n",
       "        text-align: right;\n",
       "    }\n",
       "</style>\n",
       "<table border=\"1\" class=\"dataframe\">\n",
       "  <thead>\n",
       "    <tr style=\"text-align: right;\">\n",
       "      <th></th>\n",
       "      <th>runs</th>\n",
       "      <th>win_percentage</th>\n",
       "      <th>frequency</th>\n",
       "    </tr>\n",
       "  </thead>\n",
       "  <tbody>\n",
       "    <tr>\n",
       "      <th>0</th>\n",
       "      <td>0</td>\n",
       "      <td>100.00</td>\n",
       "      <td>1</td>\n",
       "    </tr>\n",
       "    <tr>\n",
       "      <th>1</th>\n",
       "      <td>1</td>\n",
       "      <td>40.00</td>\n",
       "      <td>2</td>\n",
       "    </tr>\n",
       "    <tr>\n",
       "      <th>2</th>\n",
       "      <td>2</td>\n",
       "      <td>27.78</td>\n",
       "      <td>5</td>\n",
       "    </tr>\n",
       "    <tr>\n",
       "      <th>3</th>\n",
       "      <td>3</td>\n",
       "      <td>33.33</td>\n",
       "      <td>10</td>\n",
       "    </tr>\n",
       "    <tr>\n",
       "      <th>4</th>\n",
       "      <td>4</td>\n",
       "      <td>30.00</td>\n",
       "      <td>12</td>\n",
       "    </tr>\n",
       "    <tr>\n",
       "      <th>5</th>\n",
       "      <td>5</td>\n",
       "      <td>37.50</td>\n",
       "      <td>18</td>\n",
       "    </tr>\n",
       "    <tr>\n",
       "      <th>6</th>\n",
       "      <td>6</td>\n",
       "      <td>34.38</td>\n",
       "      <td>22</td>\n",
       "    </tr>\n",
       "    <tr>\n",
       "      <th>7</th>\n",
       "      <td>7</td>\n",
       "      <td>39.13</td>\n",
       "      <td>27</td>\n",
       "    </tr>\n",
       "    <tr>\n",
       "      <th>8</th>\n",
       "      <td>8</td>\n",
       "      <td>47.89</td>\n",
       "      <td>34</td>\n",
       "    </tr>\n",
       "    <tr>\n",
       "      <th>9</th>\n",
       "      <td>9</td>\n",
       "      <td>48.54</td>\n",
       "      <td>50</td>\n",
       "    </tr>\n",
       "    <tr>\n",
       "      <th>10</th>\n",
       "      <td>10</td>\n",
       "      <td>42.86</td>\n",
       "      <td>36</td>\n",
       "    </tr>\n",
       "    <tr>\n",
       "      <th>11</th>\n",
       "      <td>11</td>\n",
       "      <td>35.71</td>\n",
       "      <td>25</td>\n",
       "    </tr>\n",
       "    <tr>\n",
       "      <th>12</th>\n",
       "      <td>12</td>\n",
       "      <td>47.54</td>\n",
       "      <td>29</td>\n",
       "    </tr>\n",
       "    <tr>\n",
       "      <th>13</th>\n",
       "      <td>13</td>\n",
       "      <td>49.02</td>\n",
       "      <td>25</td>\n",
       "    </tr>\n",
       "    <tr>\n",
       "      <th>14</th>\n",
       "      <td>14</td>\n",
       "      <td>40.00</td>\n",
       "      <td>18</td>\n",
       "    </tr>\n",
       "    <tr>\n",
       "      <th>15</th>\n",
       "      <td>15</td>\n",
       "      <td>54.55</td>\n",
       "      <td>24</td>\n",
       "    </tr>\n",
       "    <tr>\n",
       "      <th>16</th>\n",
       "      <td>16</td>\n",
       "      <td>65.71</td>\n",
       "      <td>23</td>\n",
       "    </tr>\n",
       "    <tr>\n",
       "      <th>17</th>\n",
       "      <td>17</td>\n",
       "      <td>57.14</td>\n",
       "      <td>16</td>\n",
       "    </tr>\n",
       "    <tr>\n",
       "      <th>18</th>\n",
       "      <td>18</td>\n",
       "      <td>52.17</td>\n",
       "      <td>12</td>\n",
       "    </tr>\n",
       "    <tr>\n",
       "      <th>19</th>\n",
       "      <td>19</td>\n",
       "      <td>57.14</td>\n",
       "      <td>12</td>\n",
       "    </tr>\n",
       "    <tr>\n",
       "      <th>20</th>\n",
       "      <td>20</td>\n",
       "      <td>33.33</td>\n",
       "      <td>6</td>\n",
       "    </tr>\n",
       "    <tr>\n",
       "      <th>21</th>\n",
       "      <td>21</td>\n",
       "      <td>71.43</td>\n",
       "      <td>10</td>\n",
       "    </tr>\n",
       "    <tr>\n",
       "      <th>22</th>\n",
       "      <td>22</td>\n",
       "      <td>100.00</td>\n",
       "      <td>7</td>\n",
       "    </tr>\n",
       "    <tr>\n",
       "      <th>23</th>\n",
       "      <td>23</td>\n",
       "      <td>66.67</td>\n",
       "      <td>4</td>\n",
       "    </tr>\n",
       "    <tr>\n",
       "      <th>24</th>\n",
       "      <td>24</td>\n",
       "      <td>100.00</td>\n",
       "      <td>8</td>\n",
       "    </tr>\n",
       "    <tr>\n",
       "      <th>25</th>\n",
       "      <td>25</td>\n",
       "      <td>66.67</td>\n",
       "      <td>4</td>\n",
       "    </tr>\n",
       "    <tr>\n",
       "      <th>26</th>\n",
       "      <td>26</td>\n",
       "      <td>66.67</td>\n",
       "      <td>2</td>\n",
       "    </tr>\n",
       "    <tr>\n",
       "      <th>27</th>\n",
       "      <td>27</td>\n",
       "      <td>60.00</td>\n",
       "      <td>3</td>\n",
       "    </tr>\n",
       "    <tr>\n",
       "      <th>28</th>\n",
       "      <td>28</td>\n",
       "      <td>33.33</td>\n",
       "      <td>1</td>\n",
       "    </tr>\n",
       "    <tr>\n",
       "      <th>29</th>\n",
       "      <td>30</td>\n",
       "      <td>100.00</td>\n",
       "      <td>2</td>\n",
       "    </tr>\n",
       "  </tbody>\n",
       "</table>\n",
       "</div>"
      ],
      "text/plain": [
       "    runs  win_percentage  frequency\n",
       "0      0          100.00          1\n",
       "1      1           40.00          2\n",
       "2      2           27.78          5\n",
       "3      3           33.33         10\n",
       "4      4           30.00         12\n",
       "5      5           37.50         18\n",
       "6      6           34.38         22\n",
       "7      7           39.13         27\n",
       "8      8           47.89         34\n",
       "9      9           48.54         50\n",
       "10    10           42.86         36\n",
       "11    11           35.71         25\n",
       "12    12           47.54         29\n",
       "13    13           49.02         25\n",
       "14    14           40.00         18\n",
       "15    15           54.55         24\n",
       "16    16           65.71         23\n",
       "17    17           57.14         16\n",
       "18    18           52.17         12\n",
       "19    19           57.14         12\n",
       "20    20           33.33          6\n",
       "21    21           71.43         10\n",
       "22    22          100.00          7\n",
       "23    23           66.67          4\n",
       "24    24          100.00          8\n",
       "25    25           66.67          4\n",
       "26    26           66.67          2\n",
       "27    27           60.00          3\n",
       "28    28           33.33          1\n",
       "29    30          100.00          2"
      ]
     },
     "execution_count": 45,
     "metadata": {},
     "output_type": "execute_result"
    }
   ],
   "source": [
    "data = pd.DataFrame({\n",
    "    'runs': win_percentage.keys(),\n",
    "    'win_percentage': win_percentage.values(),\n",
    "    'frequency': [counter_val[run] for run in win_percentage.keys()]\n",
    "})\n",
    "data"
   ]
  },
  {
   "cell_type": "code",
   "execution_count": 46,
   "id": "d67adcbdc9e94dcc",
   "metadata": {
    "ExecuteTime": {
     "end_time": "2024-04-07T18:13:52.062378Z",
     "start_time": "2024-04-07T18:13:51.392961Z"
    },
    "collapsed": false
   },
   "outputs": [
    {
     "data": {
      "image/png": "[encoded data removed]",
      "text/plain": [
       "<Figure size 1000x600 with 1 Axes>"
      ]
     },
     "metadata": {},
     "output_type": "display_data"
    }
   ],
   "source": [
    "#line plot for win percentage vs runs scored in 19th over\n",
    "plt.figure(figsize=(10,6))\n",
    "sns.lineplot(x='runs',y='win_percentage',data=data)\n",
    "plt.xticks(range(0,max(win_percentage.keys()),1))\n",
    "plt.xlabel(\"Runs scored in 19th over\")\n",
    "plt.ylabel(\"Win Percentage\")\n",
    "plt.title(\"Win Percentage vs Runs scored in 19th over\")\n",
    "plt.show()"
   ]
  },
  {
   "cell_type": "code",
   "execution_count": 47,
   "id": "f84dbaa93da8b29d",
   "metadata": {
    "ExecuteTime": {
     "end_time": "2024-04-07T18:14:14.083858Z",
     "start_time": "2024-04-07T18:14:13.696271Z"
    },
    "collapsed": false
   },
   "outputs": [
    {
     "data": {
      "image/png": "[encoded data removed]",
      "text/plain": [
       "<Figure size 1000x600 with 1 Axes>"
      ]
     },
     "metadata": {},
     "output_type": "display_data"
    }
   ],
   "source": [
    "#plot frequncy of runs scored in 19th over\n",
    "plt.figure(figsize=(10,6))\n",
    "sns.barplot(x='runs',y='frequency',data=data)\n",
    "plt.xticks(range(0,max(win_percentage.keys()),1))\n",
    "plt.xlabel(\"Runs scored in 19th over\")\n",
    "plt.ylabel(\"Frequency\")\n",
    "plt.title(\"Frequency of runs scored in 19th over\")\n",
    "plt.show()\n"
   ]
  },
  {
   "cell_type": "code",
   "execution_count": 57,
   "id": "1b4364abdc9cf2bd",
   "metadata": {
    "ExecuteTime": {
     "end_time": "2024-04-07T18:19:13.311961Z",
     "start_time": "2024-04-07T18:19:13.223339Z"
    },
    "collapsed": false
   },
   "outputs": [
    {
     "data": {
      "application/vnd.plotly.v1+json": {
       "config": {
        "plotlyServerURL": "https://plot.ly"
       },
       "data": [
        {
         "hovertemplate": [
          "Runs: 0<br>Win Percentage: 100.0%<br>Matches Played: 1",
          "Runs: 1<br>Win Percentage: 40.0%<br>Matches Played: 2",
          "Runs: 2<br>Win Percentage: 27.78%<br>Matches Played: 5",
          "Runs: 3<br>Win Percentage: 33.33%<br>Matches Played: 10",
          "Runs: 4<br>Win Percentage: 30.0%<br>Matches Played: 12",
          "Runs: 5<br>Win Percentage: 37.5%<br>Matches Played: 18",
          "Runs: 6<br>Win Percentage: 34.38%<br>Matches Played: 22",
          "Runs: 7<br>Win Percentage: 39.13%<br>Matches Played: 27",
          "Runs: 8<br>Win Percentage: 47.89%<br>Matches Played: 34",
          "Runs: 9<br>Win Percentage: 48.54%<br>Matches Played: 50",
          "Runs: 10<br>Win Percentage: 42.86%<br>Matches Played: 36",
          "Runs: 11<br>Win Percentage: 35.71%<br>Matches Played: 25",
          "Runs: 12<br>Win Percentage: 47.54%<br>Matches Played: 29",
          "Runs: 13<br>Win Percentage: 49.02%<br>Matches Played: 25",
          "Runs: 14<br>Win Percentage: 40.0%<br>Matches Played: 18",
          "Runs: 15<br>Win Percentage: 54.55%<br>Matches Played: 24",
          "Runs: 16<br>Win Percentage: 65.71%<br>Matches Played: 23",
          "Runs: 17<br>Win Percentage: 57.14%<br>Matches Played: 16",
          "Runs: 18<br>Win Percentage: 52.17%<br>Matches Played: 12",
          "Runs: 19<br>Win Percentage: 57.14%<br>Matches Played: 12",
          "Runs: 20<br>Win Percentage: 33.33%<br>Matches Played: 6",
          "Runs: 21<br>Win Percentage: 71.43%<br>Matches Played: 10",
          "Runs: 22<br>Win Percentage: 100.0%<br>Matches Played: 7",
          "Runs: 23<br>Win Percentage: 66.67%<br>Matches Played: 4",
          "Runs: 24<br>Win Percentage: 100.0%<br>Matches Played: 8",
          "Runs: 25<br>Win Percentage: 66.67%<br>Matches Played: 4",
          "Runs: 26<br>Win Percentage: 66.67%<br>Matches Played: 2",
          "Runs: 27<br>Win Percentage: 60.0%<br>Matches Played: 3",
          "Runs: 28<br>Win Percentage: 33.33%<br>Matches Played: 1",
          "Runs: 30<br>Win Percentage: 100.0%<br>Matches Played: 2"
         ],
         "legendgroup": "",
         "line": {
          "color": "#636efa",
          "dash": "solid"
         },
         "marker": {
          "symbol": "circle"
         },
         "mode": "lines",
         "name": "",
         "orientation": "v",
         "showlegend": false,
         "type": "scatter",
         "x": [
          0,
          1,
          2,
          3,
          4,
          5,
          6,
          7,
          8,
          9,
          10,
          11,
          12,
          13,
          14,
          15,
          16,
          17,
          18,
          19,
          20,
          21,
          22,
          23,
          24,
          25,
          26,
          27,
          28,
          30
         ],
         "xaxis": "x",
         "y": [
          100,
          40,
          27.78,
          33.33,
          30,
          37.5,
          34.38,
          39.13,
          47.89,
          48.54,
          42.86,
          35.71,
          47.54,
          49.02,
          40,
          54.55,
          65.71,
          57.14,
          52.17,
          57.14,
          33.33,
          71.43,
          100,
          66.67,
          100,
          66.67,
          66.67,
          60,
          33.33,
          100
         ],
         "yaxis": "y"
        },
        {
         "hoverinfo": "text+x+y",
         "hovertemplate": [
          "Runs: 0<br>Win Percentage: 100.0%<br>Matches Played: 1",
          "Runs: 1<br>Win Percentage: 40.0%<br>Matches Played: 2",
          "Runs: 2<br>Win Percentage: 27.78%<br>Matches Played: 5",
          "Runs: 3<br>Win Percentage: 33.33%<br>Matches Played: 10",
          "Runs: 4<br>Win Percentage: 30.0%<br>Matches Played: 12",
          "Runs: 5<br>Win Percentage: 37.5%<br>Matches Played: 18",
          "Runs: 6<br>Win Percentage: 34.38%<br>Matches Played: 22",
          "Runs: 7<br>Win Percentage: 39.13%<br>Matches Played: 27",
          "Runs: 8<br>Win Percentage: 47.89%<br>Matches Played: 34",
          "Runs: 9<br>Win Percentage: 48.54%<br>Matches Played: 50",
          "Runs: 10<br>Win Percentage: 42.86%<br>Matches Played: 36",
          "Runs: 11<br>Win Percentage: 35.71%<br>Matches Played: 25",
          "Runs: 12<br>Win Percentage: 47.54%<br>Matches Played: 29",
          "Runs: 13<br>Win Percentage: 49.02%<br>Matches Played: 25",
          "Runs: 14<br>Win Percentage: 40.0%<br>Matches Played: 18",
          "Runs: 15<br>Win Percentage: 54.55%<br>Matches Played: 24",
          "Runs: 16<br>Win Percentage: 65.71%<br>Matches Played: 23",
          "Runs: 17<br>Win Percentage: 57.14%<br>Matches Played: 16",
          "Runs: 18<br>Win Percentage: 52.17%<br>Matches Played: 12",
          "Runs: 19<br>Win Percentage: 57.14%<br>Matches Played: 12",
          "Runs: 20<br>Win Percentage: 33.33%<br>Matches Played: 6",
          "Runs: 21<br>Win Percentage: 71.43%<br>Matches Played: 10",
          "Runs: 22<br>Win Percentage: 100.0%<br>Matches Played: 7",
          "Runs: 23<br>Win Percentage: 66.67%<br>Matches Played: 4",
          "Runs: 24<br>Win Percentage: 100.0%<br>Matches Played: 8",
          "Runs: 25<br>Win Percentage: 66.67%<br>Matches Played: 4",
          "Runs: 26<br>Win Percentage: 66.67%<br>Matches Played: 2",
          "Runs: 27<br>Win Percentage: 60.0%<br>Matches Played: 3",
          "Runs: 28<br>Win Percentage: 33.33%<br>Matches Played: 1",
          "Runs: 30<br>Win Percentage: 100.0%<br>Matches Played: 2"
         ],
         "hovertext": [
          "Runs: 0<br>Win Percentage: 100.0%<br>Matches Played: 1",
          "Runs: 1<br>Win Percentage: 40.0%<br>Matches Played: 2",
          "Runs: 2<br>Win Percentage: 27.78%<br>Matches Played: 5",
          "Runs: 3<br>Win Percentage: 33.33%<br>Matches Played: 10",
          "Runs: 4<br>Win Percentage: 30.0%<br>Matches Played: 12",
          "Runs: 5<br>Win Percentage: 37.5%<br>Matches Played: 18",
          "Runs: 6<br>Win Percentage: 34.38%<br>Matches Played: 22",
          "Runs: 7<br>Win Percentage: 39.13%<br>Matches Played: 27",
          "Runs: 8<br>Win Percentage: 47.89%<br>Matches Played: 34",
          "Runs: 9<br>Win Percentage: 48.54%<br>Matches Played: 50",
          "Runs: 10<br>Win Percentage: 42.86%<br>Matches Played: 36",
          "Runs: 11<br>Win Percentage: 35.71%<br>Matches Played: 25",
          "Runs: 12<br>Win Percentage: 47.54%<br>Matches Played: 29",
          "Runs: 13<br>Win Percentage: 49.02%<br>Matches Played: 25",
          "Runs: 14<br>Win Percentage: 40.0%<br>Matches Played: 18",
          "Runs: 15<br>Win Percentage: 54.55%<br>Matches Played: 24",
          "Runs: 16<br>Win Percentage: 65.71%<br>Matches Played: 23",
          "Runs: 17<br>Win Percentage: 57.14%<br>Matches Played: 16",
          "Runs: 18<br>Win Percentage: 52.17%<br>Matches Played: 12",
          "Runs: 19<br>Win Percentage: 57.14%<br>Matches Played: 12",
          "Runs: 20<br>Win Percentage: 33.33%<br>Matches Played: 6",
          "Runs: 21<br>Win Percentage: 71.43%<br>Matches Played: 10",
          "Runs: 22<br>Win Percentage: 100.0%<br>Matches Played: 7",
          "Runs: 23<br>Win Percentage: 66.67%<br>Matches Played: 4",
          "Runs: 24<br>Win Percentage: 100.0%<br>Matches Played: 8",
          "Runs: 25<br>Win Percentage: 66.67%<br>Matches Played: 4",
          "Runs: 26<br>Win Percentage: 66.67%<br>Matches Played: 2",
          "Runs: 27<br>Win Percentage: 60.0%<br>Matches Played: 3",
          "Runs: 28<br>Win Percentage: 33.33%<br>Matches Played: 1",
          "Runs: 30<br>Win Percentage: 100.0%<br>Matches Played: 2"
         ],
         "mode": "markers",
         "name": "Win Percentage Data",
         "type": "scatter",
         "x": [
          0,
          1,
          2,
          3,
          4,
          5,
          6,
          7,
          8,
          9,
          10,
          11,
          12,
          13,
          14,
          15,
          16,
          17,
          18,
          19,
          20,
          21,
          22,
          23,
          24,
          25,
          26,
          27,
          28,
          30
         ],
         "y": [
          100,
          40,
          27.78,
          33.33,
          30,
          37.5,
          34.38,
          39.13,
          47.89,
          48.54,
          42.86,
          35.71,
          47.54,
          49.02,
          40,
          54.55,
          65.71,
          57.14,
          52.17,
          57.14,
          33.33,
          71.43,
          100,
          66.67,
          100,
          66.67,
          66.67,
          60,
          33.33,
          100
         ]
        }
       ],
       "layout": {
        "legend": {
         "title": {
          "text": "Data Legend"
         },
         "tracegroupgap": 0
        },
        "template": {
         "data": {
          "bar": [
           {
            "error_x": {
             "color": "#f2f5fa"
            },
            "error_y": {
             "color": "#f2f5fa"
            },
            "marker": {
             "line": {
              "color": "rgb(17,17,17)",
              "width": 0.5
             },
             "pattern": {
              "fillmode": "overlay",
              "size": 10,
              "solidity": 0.2
             }
            },
            "type": "bar"
           }
          ],
          "barpolar": [
           {
            "marker": {
             "line": {
              "color": "rgb(17,17,17)",
              "width": 0.5
             },
             "pattern": {
              "fillmode": "overlay",
              "size": 10,
              "solidity": 0.2
             }
            },
            "type": "barpolar"
           }
          ],
          "carpet": [
           {
            "aaxis": {
             "endlinecolor": "#A2B1C6",
             "gridcolor": "#506784",
             "linecolor": "#506784",
             "minorgridcolor": "#506784",
             "startlinecolor": "#A2B1C6"
            },
            "baxis": {
             "endlinecolor": "#A2B1C6",
             "gridcolor": "#506784",
             "linecolor": "#506784",
             "minorgridcolor": "#506784",
             "startlinecolor": "#A2B1C6"
            },
            "type": "carpet"
           }
          ],
          "choropleth": [
           {
            "colorbar": {
             "outlinewidth": 0,
             "ticks": ""
            },
            "type": "choropleth"
           }
          ],
          "contour": [
           {
            "colorbar": {
             "outlinewidth": 0,
             "ticks": ""
            },
            "colorscale": [
             [
              0,
              "#0d0887"
             ],
             [
              0.1111111111111111,
              "#46039f"
             ],
             [
              0.2222222222222222,
              "#7201a8"
             ],
             [
              0.3333333333333333,
              "#9c179e"
             ],
             [
              0.4444444444444444,
              "#bd3786"
             ],
             [
              0.5555555555555556,
              "#d8576b"
             ],
             [
              0.6666666666666666,
              "#ed7953"
             ],
             [
              0.7777777777777778,
              "#fb9f3a"
             ],
             [
              0.8888888888888888,
              "#fdca26"
             ],
             [
              1,
              "#f0f921"
             ]
            ],
            "type": "contour"
           }
          ],
          "contourcarpet": [
           {
            "colorbar": {
             "outlinewidth": 0,
             "ticks": ""
            },
            "type": "contourcarpet"
           }
          ],
          "heatmap": [
           {
            "colorbar": {
             "outlinewidth": 0,
             "ticks": ""
            },
            "colorscale": [
             [
              0,
              "#0d0887"
             ],
             [
              0.1111111111111111,
              "#46039f"
             ],
             [
              0.2222222222222222,
              "#7201a8"
             ],
             [
              0.3333333333333333,
              "#9c179e"
             ],
             [
              0.4444444444444444,
              "#bd3786"
             ],
             [
              0.5555555555555556,
              "#d8576b"
             ],
             [
              0.6666666666666666,
              "#ed7953"
             ],
             [
              0.7777777777777778,
              "#fb9f3a"
             ],
             [
              0.8888888888888888,
              "#fdca26"
             ],
             [
              1,
              "#f0f921"
             ]
            ],
            "type": "heatmap"
           }
          ],
          "heatmapgl": [
           {
            "colorbar": {
             "outlinewidth": 0,
             "ticks": ""
            },
            "colorscale": [
             [
              0,
              "#0d0887"
             ],
             [
              0.1111111111111111,
              "#46039f"
             ],
             [
              0.2222222222222222,
              "#7201a8"
             ],
             [
              0.3333333333333333,
              "#9c179e"
             ],
             [
              0.4444444444444444,
              "#bd3786"
             ],
             [
              0.5555555555555556,
              "#d8576b"
             ],
             [
              0.6666666666666666,
              "#ed7953"
             ],
             [
              0.7777777777777778,
              "#fb9f3a"
             ],
             [
              0.8888888888888888,
              "#fdca26"
             ],
             [
              1,
              "#f0f921"
             ]
            ],
            "type": "heatmapgl"
           }
          ],
          "histogram": [
           {
            "marker": {
             "pattern": {
              "fillmode": "overlay",
              "size": 10,
              "solidity": 0.2
             }
            },
            "type": "histogram"
           }
          ],
          "histogram2d": [
           {
            "colorbar": {
             "outlinewidth": 0,
             "ticks": ""
            },
            "colorscale": [
             [
              0,
              "#0d0887"
             ],
             [
              0.1111111111111111,
              "#46039f"
             ],
             [
              0.2222222222222222,
              "#7201a8"
             ],
             [
              0.3333333333333333,
              "#9c179e"
             ],
             [
              0.4444444444444444,
              "#bd3786"
             ],
             [
              0.5555555555555556,
              "#d8576b"
             ],
             [
              0.6666666666666666,
              "#ed7953"
             ],
             [
              0.7777777777777778,
              "#fb9f3a"
             ],
             [
              0.8888888888888888,
              "#fdca26"
             ],
             [
              1,
              "#f0f921"
             ]
            ],
            "type": "histogram2d"
           }
          ],
          "histogram2dcontour": [
           {
            "colorbar": {
             "outlinewidth": 0,
             "ticks": ""
            },
            "colorscale": [
             [
              0,
              "#0d0887"
             ],
             [
              0.1111111111111111,
              "#46039f"
             ],
             [
              0.2222222222222222,
              "#7201a8"
             ],
             [
              0.3333333333333333,
              "#9c179e"
             ],
             [
              0.4444444444444444,
              "#bd3786"
             ],
             [
              0.5555555555555556,
              "#d8576b"
             ],
             [
              0.6666666666666666,
              "#ed7953"
             ],
             [
              0.7777777777777778,
              "#fb9f3a"
             ],
             [
              0.8888888888888888,
              "#fdca26"
             ],
             [
              1,
              "#f0f921"
             ]
            ],
            "type": "histogram2dcontour"
           }
          ],
          "mesh3d": [
           {
            "colorbar": {
             "outlinewidth": 0,
             "ticks": ""
            },
            "type": "mesh3d"
           }
          ],
          "parcoords": [
           {
            "line": {
             "colorbar": {
              "outlinewidth": 0,
              "ticks": ""
             }
            },
            "type": "parcoords"
           }
          ],
          "pie": [
           {
            "automargin": true,
            "type": "pie"
           }
          ],
          "scatter": [
           {
            "marker": {
             "line": {
              "color": "#283442"
             }
            },
            "type": "scatter"
           }
          ],
          "scatter3d": [
           {
            "line": {
             "colorbar": {
              "outlinewidth": 0,
              "ticks": ""
             }
            },
            "marker": {
             "colorbar": {
              "outlinewidth": 0,
              "ticks": ""
             }
            },
            "type": "scatter3d"
           }
          ],
          "scattercarpet": [
           {
            "marker": {
             "colorbar": {
              "outlinewidth": 0,
              "ticks": ""
             }
            },
            "type": "scattercarpet"
           }
          ],
          "scattergeo": [
           {
            "marker": {
             "colorbar": {
              "outlinewidth": 0,
              "ticks": ""
             }
            },
            "type": "scattergeo"
           }
          ],
          "scattergl": [
           {
            "marker": {
             "line": {
              "color": "#283442"
             }
            },
            "type": "scattergl"
           }
          ],
          "scattermapbox": [
           {
            "marker": {
             "colorbar": {
              "outlinewidth": 0,
              "ticks": ""
             }
            },
            "type": "scattermapbox"
           }
          ],
          "scatterpolar": [
           {
            "marker": {
             "colorbar": {
              "outlinewidth": 0,
              "ticks": ""
             }
            },
            "type": "scatterpolar"
           }
          ],
          "scatterpolargl": [
           {
            "marker": {
             "colorbar": {
              "outlinewidth": 0,
              "ticks": ""
             }
            },
            "type": "scatterpolargl"
           }
          ],
          "scatterternary": [
           {
            "marker": {
             "colorbar": {
              "outlinewidth": 0,
              "ticks": ""
             }
            },
            "type": "scatterternary"
           }
          ],
          "surface": [
           {
            "colorbar": {
             "outlinewidth": 0,
             "ticks": ""
            },
            "colorscale": [
             [
              0,
              "#0d0887"
             ],
             [
              0.1111111111111111,
              "#46039f"
             ],
             [
              0.2222222222222222,
              "#7201a8"
             ],
             [
              0.3333333333333333,
              "#9c179e"
             ],
             [
              0.4444444444444444,
              "#bd3786"
             ],
             [
              0.5555555555555556,
              "#d8576b"
             ],
             [
              0.6666666666666666,
              "#ed7953"
             ],
             [
              0.7777777777777778,
              "#fb9f3a"
             ],
             [
              0.8888888888888888,
              "#fdca26"
             ],
             [
              1,
              "#f0f921"
             ]
            ],
            "type": "surface"
           }
          ],
          "table": [
           {
            "cells": {
             "fill": {
              "color": "#506784"
             },
             "line": {
              "color": "rgb(17,17,17)"
             }
            },
            "header": {
             "fill": {
              "color": "#2a3f5f"
             },
             "line": {
              "color": "rgb(17,17,17)"
             }
            },
            "type": "table"
           }
          ]
         },
         "layout": {
          "annotationdefaults": {
           "arrowcolor": "#f2f5fa",
           "arrowhead": 0,
           "arrowwidth": 1
          },
          "autotypenumbers": "strict",
          "coloraxis": {
           "colorbar": {
            "outlinewidth": 0,
            "ticks": ""
           }
          },
          "colorscale": {
           "diverging": [
            [
             0,
             "#8e0152"
            ],
            [
             0.1,
             "#c51b7d"
            ],
            [
             0.2,
             "#de77ae"
            ],
            [
             0.3,
             "#f1b6da"
            ],
            [
             0.4,
             "#fde0ef"
            ],
            [
             0.5,
             "#f7f7f7"
            ],
            [
             0.6,
             "#e6f5d0"
            ],
            [
             0.7,
             "#b8e186"
            ],
            [
             0.8,
             "#7fbc41"
            ],
            [
             0.9,
             "#4d9221"
            ],
            [
             1,
             "#276419"
            ]
           ],
           "sequential": [
            [
             0,
             "#0d0887"
            ],
            [
             0.1111111111111111,
             "#46039f"
            ],
            [
             0.2222222222222222,
             "#7201a8"
            ],
            [
             0.3333333333333333,
             "#9c179e"
            ],
            [
             0.4444444444444444,
             "#bd3786"
            ],
            [
             0.5555555555555556,
             "#d8576b"
            ],
            [
             0.6666666666666666,
             "#ed7953"
            ],
            [
             0.7777777777777778,
             "#fb9f3a"
            ],
            [
             0.8888888888888888,
             "#fdca26"
            ],
            [
             1,
             "#f0f921"
            ]
           ],
           "sequentialminus": [
            [
             0,
             "#0d0887"
            ],
            [
             0.1111111111111111,
             "#46039f"
            ],
            [
             0.2222222222222222,
             "#7201a8"
            ],
            [
             0.3333333333333333,
             "#9c179e"
            ],
            [
             0.4444444444444444,
             "#bd3786"
            ],
            [
             0.5555555555555556,
             "#d8576b"
            ],
            [
             0.6666666666666666,
             "#ed7953"
            ],
            [
             0.7777777777777778,
             "#fb9f3a"
            ],
            [
             0.8888888888888888,
             "#fdca26"
            ],
            [
             1,
             "#f0f921"
            ]
           ]
          },
          "colorway": [
           "#636efa",
           "#EF553B",
           "#00cc96",
           "#ab63fa",
           "#FFA15A",
           "#19d3f3",
           "#FF6692",
           "#B6E880",
           "#FF97FF",
           "#FECB52"
          ],
          "font": {
           "color": "#f2f5fa"
          },
          "geo": {
           "bgcolor": "rgb(17,17,17)",
           "lakecolor": "rgb(17,17,17)",
           "landcolor": "rgb(17,17,17)",
           "showlakes": true,
           "showland": true,
           "subunitcolor": "#506784"
          },
          "hoverlabel": {
           "align": "left"
          },
          "hovermode": "closest",
          "mapbox": {
           "style": "dark"
          },
          "paper_bgcolor": "rgb(17,17,17)",
          "plot_bgcolor": "rgb(17,17,17)",
          "polar": {
           "angularaxis": {
            "gridcolor": "#506784",
            "linecolor": "#506784",
            "ticks": ""
           },
           "bgcolor": "rgb(17,17,17)",
           "radialaxis": {
            "gridcolor": "#506784",
            "linecolor": "#506784",
            "ticks": ""
           }
          },
          "scene": {
           "xaxis": {
            "backgroundcolor": "rgb(17,17,17)",
            "gridcolor": "#506784",
            "gridwidth": 2,
            "linecolor": "#506784",
            "showbackground": true,
            "ticks": "",
            "zerolinecolor": "#C8D4E3"
           },
           "yaxis": {
            "backgroundcolor": "rgb(17,17,17)",
            "gridcolor": "#506784",
            "gridwidth": 2,
            "linecolor": "#506784",
            "showbackground": true,
            "ticks": "",
            "zerolinecolor": "#C8D4E3"
           },
           "zaxis": {
            "backgroundcolor": "rgb(17,17,17)",
            "gridcolor": "#506784",
            "gridwidth": 2,
            "linecolor": "#506784",
            "showbackground": true,
            "ticks": "",
            "zerolinecolor": "#C8D4E3"
           }
          },
          "shapedefaults": {
           "line": {
            "color": "#f2f5fa"
           }
          },
          "sliderdefaults": {
           "bgcolor": "#C8D4E3",
           "bordercolor": "rgb(17,17,17)",
           "borderwidth": 1,
           "tickwidth": 0
          },
          "ternary": {
           "aaxis": {
            "gridcolor": "#506784",
            "linecolor": "#506784",
            "ticks": ""
           },
           "baxis": {
            "gridcolor": "#506784",
            "linecolor": "#506784",
            "ticks": ""
           },
           "bgcolor": "rgb(17,17,17)",
           "caxis": {
            "gridcolor": "#506784",
            "linecolor": "#506784",
            "ticks": ""
           }
          },
          "title": {
           "x": 0.05
          },
          "updatemenudefaults": {
           "bgcolor": "#506784",
           "borderwidth": 0
          },
          "xaxis": {
           "automargin": true,
           "gridcolor": "#283442",
           "linecolor": "#506784",
           "ticks": "",
           "title": {
            "standoff": 15
           },
           "zerolinecolor": "#283442",
           "zerolinewidth": 2
          },
          "yaxis": {
           "automargin": true,
           "gridcolor": "#283442",
           "linecolor": "#506784",
           "ticks": "",
           "title": {
            "standoff": 15
           },
           "zerolinecolor": "#283442",
           "zerolinewidth": 2
          }
         }
        },
        "title": {
         "text": "Win Percentage vs Runs Scored in 19th Over"
        },
        "xaxis": {
         "anchor": "y",
         "domain": [
          0,
          1
         ],
         "dtick": 1,
         "tick0": 0,
         "tickmode": "linear",
         "title": {
          "text": "Runs Scored in 19th Over"
         }
        },
        "yaxis": {
         "anchor": "x",
         "domain": [
          0,
          1
         ],
         "title": {
          "text": "Win Percentage"
         }
        }
       }
      },
      "text/html": [
       "<div>                            <div id=\"22f2b1ca-2747-4e9a-8600-87467aee41da\" class=\"plotly-graph-div\" style=\"height:525px; width:100%;\"></div>            <script type=\"text/javascript\">                require([\"plotly\"], function(Plotly) {                    window.PLOTLYENV=window.PLOTLYENV || {};                                    if (document.getElementById(\"22f2b1ca-2747-4e9a-8600-87467aee41da\")) {                    Plotly.newPlot(                        \"22f2b1ca-2747-4e9a-8600-87467aee41da\",                        [{\"hovertemplate\":[\"Runs: 0\\u003cbr\\u003eWin Percentage: 100.0%\\u003cbr\\u003eMatches Played: 1\",\"Runs: 1\\u003cbr\\u003eWin Percentage: 40.0%\\u003cbr\\u003eMatches Played: 2\",\"Runs: 2\\u003cbr\\u003eWin Percentage: 27.78%\\u003cbr\\u003eMatches Played: 5\",\"Runs: 3\\u003cbr\\u003eWin Percentage: 33.33%\\u003cbr\\u003eMatches Played: 10\",\"Runs: 4\\u003cbr\\u003eWin Percentage: 30.0%\\u003cbr\\u003eMatches Played: 12\",\"Runs: 5\\u003cbr\\u003eWin Percentage: 37.5%\\u003cbr\\u003eMatches Played: 18\",\"Runs: 6\\u003cbr\\u003eWin Percentage: 34.38%\\u003cbr\\u003eMatches Played: 22\",\"Runs: 7\\u003cbr\\u003eWin Percentage: 39.13%\\u003cbr\\u003eMatches Played: 27\",\"Runs: 8\\u003cbr\\u003eWin Percentage: 47.89%\\u003cbr\\u003eMatches Played: 34\",\"Runs: 9\\u003cbr\\u003eWin Percentage: 48.54%\\u003cbr\\u003eMatches Played: 50\",\"Runs: 10\\u003cbr\\u003eWin Percentage: 42.86%\\u003cbr\\u003eMatches Played: 36\",\"Runs: 11\\u003cbr\\u003eWin Percentage: 35.71%\\u003cbr\\u003eMatches Played: 25\",\"Runs: 12\\u003cbr\\u003eWin Percentage: 47.54%\\u003cbr\\u003eMatches Played: 29\",\"Runs: 13\\u003cbr\\u003eWin Percentage: 49.02%\\u003cbr\\u003eMatches Played: 25\",\"Runs: 14\\u003cbr\\u003eWin Percentage: 40.0%\\u003cbr\\u003eMatches Played: 18\",\"Runs: 15\\u003cbr\\u003eWin Percentage: 54.55%\\u003cbr\\u003eMatches Played: 24\",\"Runs: 16\\u003cbr\\u003eWin Percentage: 65.71%\\u003cbr\\u003eMatches Played: 23\",\"Runs: 17\\u003cbr\\u003eWin Percentage: 57.14%\\u003cbr\\u003eMatches Played: 16\",\"Runs: 18\\u003cbr\\u003eWin Percentage: 52.17%\\u003cbr\\u003eMatches Played: 12\",\"Runs: 19\\u003cbr\\u003eWin Percentage: 57.14%\\u003cbr\\u003eMatches Played: 12\",\"Runs: 20\\u003cbr\\u003eWin Percentage: 33.33%\\u003cbr\\u003eMatches Played: 6\",\"Runs: 21\\u003cbr\\u003eWin Percentage: 71.43%\\u003cbr\\u003eMatches Played: 10\",\"Runs: 22\\u003cbr\\u003eWin Percentage: 100.0%\\u003cbr\\u003eMatches Played: 7\",\"Runs: 23\\u003cbr\\u003eWin Percentage: 66.67%\\u003cbr\\u003eMatches Played: 4\",\"Runs: 24\\u003cbr\\u003eWin Percentage: 100.0%\\u003cbr\\u003eMatches Played: 8\",\"Runs: 25\\u003cbr\\u003eWin Percentage: 66.67%\\u003cbr\\u003eMatches Played: 4\",\"Runs: 26\\u003cbr\\u003eWin Percentage: 66.67%\\u003cbr\\u003eMatches Played: 2\",\"Runs: 27\\u003cbr\\u003eWin Percentage: 60.0%\\u003cbr\\u003eMatches Played: 3\",\"Runs: 28\\u003cbr\\u003eWin Percentage: 33.33%\\u003cbr\\u003eMatches Played: 1\",\"Runs: 30\\u003cbr\\u003eWin Percentage: 100.0%\\u003cbr\\u003eMatches Played: 2\"],\"legendgroup\":\"\",\"line\":{\"color\":\"#636efa\",\"dash\":\"solid\"},\"marker\":{\"symbol\":\"circle\"},\"mode\":\"lines\",\"name\":\"\",\"orientation\":\"v\",\"showlegend\":false,\"x\":[0,1,2,3,4,5,6,7,8,9,10,11,12,13,14,15,16,17,18,19,20,21,22,23,24,25,26,27,28,30],\"xaxis\":\"x\",\"y\":[100.0,40.0,27.78,33.33,30.0,37.5,34.38,39.13,47.89,48.54,42.86,35.71,47.54,49.02,40.0,54.55,65.71,57.14,52.17,57.14,33.33,71.43,100.0,66.67,100.0,66.67,66.67,60.0,33.33,100.0],\"yaxis\":\"y\",\"type\":\"scatter\"},{\"hoverinfo\":\"text+x+y\",\"hovertext\":[\"Runs: 0\\u003cbr\\u003eWin Percentage: 100.0%\\u003cbr\\u003eMatches Played: 1\",\"Runs: 1\\u003cbr\\u003eWin Percentage: 40.0%\\u003cbr\\u003eMatches Played: 2\",\"Runs: 2\\u003cbr\\u003eWin Percentage: 27.78%\\u003cbr\\u003eMatches Played: 5\",\"Runs: 3\\u003cbr\\u003eWin Percentage: 33.33%\\u003cbr\\u003eMatches Played: 10\",\"Runs: 4\\u003cbr\\u003eWin Percentage: 30.0%\\u003cbr\\u003eMatches Played: 12\",\"Runs: 5\\u003cbr\\u003eWin Percentage: 37.5%\\u003cbr\\u003eMatches Played: 18\",\"Runs: 6\\u003cbr\\u003eWin Percentage: 34.38%\\u003cbr\\u003eMatches Played: 22\",\"Runs: 7\\u003cbr\\u003eWin Percentage: 39.13%\\u003cbr\\u003eMatches Played: 27\",\"Runs: 8\\u003cbr\\u003eWin Percentage: 47.89%\\u003cbr\\u003eMatches Played: 34\",\"Runs: 9\\u003cbr\\u003eWin Percentage: 48.54%\\u003cbr\\u003eMatches Played: 50\",\"Runs: 10\\u003cbr\\u003eWin Percentage: 42.86%\\u003cbr\\u003eMatches Played: 36\",\"Runs: 11\\u003cbr\\u003eWin Percentage: 35.71%\\u003cbr\\u003eMatches Played: 25\",\"Runs: 12\\u003cbr\\u003eWin Percentage: 47.54%\\u003cbr\\u003eMatches Played: 29\",\"Runs: 13\\u003cbr\\u003eWin Percentage: 49.02%\\u003cbr\\u003eMatches Played: 25\",\"Runs: 14\\u003cbr\\u003eWin Percentage: 40.0%\\u003cbr\\u003eMatches Played: 18\",\"Runs: 15\\u003cbr\\u003eWin Percentage: 54.55%\\u003cbr\\u003eMatches Played: 24\",\"Runs: 16\\u003cbr\\u003eWin Percentage: 65.71%\\u003cbr\\u003eMatches Played: 23\",\"Runs: 17\\u003cbr\\u003eWin Percentage: 57.14%\\u003cbr\\u003eMatches Played: 16\",\"Runs: 18\\u003cbr\\u003eWin Percentage: 52.17%\\u003cbr\\u003eMatches Played: 12\",\"Runs: 19\\u003cbr\\u003eWin Percentage: 57.14%\\u003cbr\\u003eMatches Played: 12\",\"Runs: 20\\u003cbr\\u003eWin Percentage: 33.33%\\u003cbr\\u003eMatches Played: 6\",\"Runs: 21\\u003cbr\\u003eWin Percentage: 71.43%\\u003cbr\\u003eMatches Played: 10\",\"Runs: 22\\u003cbr\\u003eWin Percentage: 100.0%\\u003cbr\\u003eMatches Played: 7\",\"Runs: 23\\u003cbr\\u003eWin Percentage: 66.67%\\u003cbr\\u003eMatches Played: 4\",\"Runs: 24\\u003cbr\\u003eWin Percentage: 100.0%\\u003cbr\\u003eMatches Played: 8\",\"Runs: 25\\u003cbr\\u003eWin Percentage: 66.67%\\u003cbr\\u003eMatches Played: 4\",\"Runs: 26\\u003cbr\\u003eWin Percentage: 66.67%\\u003cbr\\u003eMatches Played: 2\",\"Runs: 27\\u003cbr\\u003eWin Percentage: 60.0%\\u003cbr\\u003eMatches Played: 3\",\"Runs: 28\\u003cbr\\u003eWin Percentage: 33.33%\\u003cbr\\u003eMatches Played: 1\",\"Runs: 30\\u003cbr\\u003eWin Percentage: 100.0%\\u003cbr\\u003eMatches Played: 2\"],\"mode\":\"markers\",\"name\":\"Win Percentage Data\",\"x\":[0,1,2,3,4,5,6,7,8,9,10,11,12,13,14,15,16,17,18,19,20,21,22,23,24,25,26,27,28,30],\"y\":[100.0,40.0,27.78,33.33,30.0,37.5,34.38,39.13,47.89,48.54,42.86,35.71,47.54,49.02,40.0,54.55,65.71,57.14,52.17,57.14,33.33,71.43,100.0,66.67,100.0,66.67,66.67,60.0,33.33,100.0],\"type\":\"scatter\",\"hovertemplate\":[\"Runs: 0\\u003cbr\\u003eWin Percentage: 100.0%\\u003cbr\\u003eMatches Played: 1\",\"Runs: 1\\u003cbr\\u003eWin Percentage: 40.0%\\u003cbr\\u003eMatches Played: 2\",\"Runs: 2\\u003cbr\\u003eWin Percentage: 27.78%\\u003cbr\\u003eMatches Played: 5\",\"Runs: 3\\u003cbr\\u003eWin Percentage: 33.33%\\u003cbr\\u003eMatches Played: 10\",\"Runs: 4\\u003cbr\\u003eWin Percentage: 30.0%\\u003cbr\\u003eMatches Played: 12\",\"Runs: 5\\u003cbr\\u003eWin Percentage: 37.5%\\u003cbr\\u003eMatches Played: 18\",\"Runs: 6\\u003cbr\\u003eWin Percentage: 34.38%\\u003cbr\\u003eMatches Played: 22\",\"Runs: 7\\u003cbr\\u003eWin Percentage: 39.13%\\u003cbr\\u003eMatches Played: 27\",\"Runs: 8\\u003cbr\\u003eWin Percentage: 47.89%\\u003cbr\\u003eMatches Played: 34\",\"Runs: 9\\u003cbr\\u003eWin Percentage: 48.54%\\u003cbr\\u003eMatches Played: 50\",\"Runs: 10\\u003cbr\\u003eWin Percentage: 42.86%\\u003cbr\\u003eMatches Played: 36\",\"Runs: 11\\u003cbr\\u003eWin Percentage: 35.71%\\u003cbr\\u003eMatches Played: 25\",\"Runs: 12\\u003cbr\\u003eWin Percentage: 47.54%\\u003cbr\\u003eMatches Played: 29\",\"Runs: 13\\u003cbr\\u003eWin Percentage: 49.02%\\u003cbr\\u003eMatches Played: 25\",\"Runs: 14\\u003cbr\\u003eWin Percentage: 40.0%\\u003cbr\\u003eMatches Played: 18\",\"Runs: 15\\u003cbr\\u003eWin Percentage: 54.55%\\u003cbr\\u003eMatches Played: 24\",\"Runs: 16\\u003cbr\\u003eWin Percentage: 65.71%\\u003cbr\\u003eMatches Played: 23\",\"Runs: 17\\u003cbr\\u003eWin Percentage: 57.14%\\u003cbr\\u003eMatches Played: 16\",\"Runs: 18\\u003cbr\\u003eWin Percentage: 52.17%\\u003cbr\\u003eMatches Played: 12\",\"Runs: 19\\u003cbr\\u003eWin Percentage: 57.14%\\u003cbr\\u003eMatches Played: 12\",\"Runs: 20\\u003cbr\\u003eWin Percentage: 33.33%\\u003cbr\\u003eMatches Played: 6\",\"Runs: 21\\u003cbr\\u003eWin Percentage: 71.43%\\u003cbr\\u003eMatches Played: 10\",\"Runs: 22\\u003cbr\\u003eWin Percentage: 100.0%\\u003cbr\\u003eMatches Played: 7\",\"Runs: 23\\u003cbr\\u003eWin Percentage: 66.67%\\u003cbr\\u003eMatches Played: 4\",\"Runs: 24\\u003cbr\\u003eWin Percentage: 100.0%\\u003cbr\\u003eMatches Played: 8\",\"Runs: 25\\u003cbr\\u003eWin Percentage: 66.67%\\u003cbr\\u003eMatches Played: 4\",\"Runs: 26\\u003cbr\\u003eWin Percentage: 66.67%\\u003cbr\\u003eMatches Played: 2\",\"Runs: 27\\u003cbr\\u003eWin Percentage: 60.0%\\u003cbr\\u003eMatches Played: 3\",\"Runs: 28\\u003cbr\\u003eWin Percentage: 33.33%\\u003cbr\\u003eMatches Played: 1\",\"Runs: 30\\u003cbr\\u003eWin Percentage: 100.0%\\u003cbr\\u003eMatches Played: 2\"]}],                        {\"template\":{\"data\":{\"histogram2dcontour\":[{\"type\":\"histogram2dcontour\",\"colorbar\":{\"outlinewidth\":0,\"ticks\":\"\"},\"colorscale\":[[0.0,\"#0d0887\"],[0.1111111111111111,\"#46039f\"],[0.2222222222222222,\"#7201a8\"],[0.3333333333333333,\"#9c179e\"],[0.4444444444444444,\"#bd3786\"],[0.5555555555555556,\"#d8576b\"],[0.6666666666666666,\"#ed7953\"],[0.7777777777777778,\"#fb9f3a\"],[0.8888888888888888,\"#fdca26\"],[1.0,\"#f0f921\"]]}],\"choropleth\":[{\"type\":\"choropleth\",\"colorbar\":{\"outlinewidth\":0,\"ticks\":\"\"}}],\"histogram2d\":[{\"type\":\"histogram2d\",\"colorbar\":{\"outlinewidth\":0,\"ticks\":\"\"},\"colorscale\":[[0.0,\"#0d0887\"],[0.1111111111111111,\"#46039f\"],[0.2222222222222222,\"#7201a8\"],[0.3333333333333333,\"#9c179e\"],[0.4444444444444444,\"#bd3786\"],[0.5555555555555556,\"#d8576b\"],[0.6666666666666666,\"#ed7953\"],[0.7777777777777778,\"#fb9f3a\"],[0.8888888888888888,\"#fdca26\"],[1.0,\"#f0f921\"]]}],\"heatmap\":[{\"type\":\"heatmap\",\"colorbar\":{\"outlinewidth\":0,\"ticks\":\"\"},\"colorscale\":[[0.0,\"#0d0887\"],[0.1111111111111111,\"#46039f\"],[0.2222222222222222,\"#7201a8\"],[0.3333333333333333,\"#9c179e\"],[0.4444444444444444,\"#bd3786\"],[0.5555555555555556,\"#d8576b\"],[0.6666666666666666,\"#ed7953\"],[0.7777777777777778,\"#fb9f3a\"],[0.8888888888888888,\"#fdca26\"],[1.0,\"#f0f921\"]]}],\"heatmapgl\":[{\"type\":\"heatmapgl\",\"colorbar\":{\"outlinewidth\":0,\"ticks\":\"\"},\"colorscale\":[[0.0,\"#0d0887\"],[0.1111111111111111,\"#46039f\"],[0.2222222222222222,\"#7201a8\"],[0.3333333333333333,\"#9c179e\"],[0.4444444444444444,\"#bd3786\"],[0.5555555555555556,\"#d8576b\"],[0.6666666666666666,\"#ed7953\"],[0.7777777777777778,\"#fb9f3a\"],[0.8888888888888888,\"#fdca26\"],[1.0,\"#f0f921\"]]}],\"contourcarpet\":[{\"type\":\"contourcarpet\",\"colorbar\":{\"outlinewidth\":0,\"ticks\":\"\"}}],\"contour\":[{\"type\":\"contour\",\"colorbar\":{\"outlinewidth\":0,\"ticks\":\"\"},\"colorscale\":[[0.0,\"#0d0887\"],[0.1111111111111111,\"#46039f\"],[0.2222222222222222,\"#7201a8\"],[0.3333333333333333,\"#9c179e\"],[0.4444444444444444,\"#bd3786\"],[0.5555555555555556,\"#d8576b\"],[0.6666666666666666,\"#ed7953\"],[0.7777777777777778,\"#fb9f3a\"],[0.8888888888888888,\"#fdca26\"],[1.0,\"#f0f921\"]]}],\"surface\":[{\"type\":\"surface\",\"colorbar\":{\"outlinewidth\":0,\"ticks\":\"\"},\"colorscale\":[[0.0,\"#0d0887\"],[0.1111111111111111,\"#46039f\"],[0.2222222222222222,\"#7201a8\"],[0.3333333333333333,\"#9c179e\"],[0.4444444444444444,\"#bd3786\"],[0.5555555555555556,\"#d8576b\"],[0.6666666666666666,\"#ed7953\"],[0.7777777777777778,\"#fb9f3a\"],[0.8888888888888888,\"#fdca26\"],[1.0,\"#f0f921\"]]}],\"mesh3d\":[{\"type\":\"mesh3d\",\"colorbar\":{\"outlinewidth\":0,\"ticks\":\"\"}}],\"scatter\":[{\"marker\":{\"line\":{\"color\":\"#283442\"}},\"type\":\"scatter\"}],\"parcoords\":[{\"type\":\"parcoords\",\"line\":{\"colorbar\":{\"outlinewidth\":0,\"ticks\":\"\"}}}],\"scatterpolargl\":[{\"type\":\"scatterpolargl\",\"marker\":{\"colorbar\":{\"outlinewidth\":0,\"ticks\":\"\"}}}],\"bar\":[{\"error_x\":{\"color\":\"#f2f5fa\"},\"error_y\":{\"color\":\"#f2f5fa\"},\"marker\":{\"line\":{\"color\":\"rgb(17,17,17)\",\"width\":0.5},\"pattern\":{\"fillmode\":\"overlay\",\"size\":10,\"solidity\":0.2}},\"type\":\"bar\"}],\"scattergeo\":[{\"type\":\"scattergeo\",\"marker\":{\"colorbar\":{\"outlinewidth\":0,\"ticks\":\"\"}}}],\"scatterpolar\":[{\"type\":\"scatterpolar\",\"marker\":{\"colorbar\":{\"outlinewidth\":0,\"ticks\":\"\"}}}],\"histogram\":[{\"marker\":{\"pattern\":{\"fillmode\":\"overlay\",\"size\":10,\"solidity\":0.2}},\"type\":\"histogram\"}],\"scattergl\":[{\"marker\":{\"line\":{\"color\":\"#283442\"}},\"type\":\"scattergl\"}],\"scatter3d\":[{\"type\":\"scatter3d\",\"line\":{\"colorbar\":{\"outlinewidth\":0,\"ticks\":\"\"}},\"marker\":{\"colorbar\":{\"outlinewidth\":0,\"ticks\":\"\"}}}],\"scattermapbox\":[{\"type\":\"scattermapbox\",\"marker\":{\"colorbar\":{\"outlinewidth\":0,\"ticks\":\"\"}}}],\"scatterternary\":[{\"type\":\"scatterternary\",\"marker\":{\"colorbar\":{\"outlinewidth\":0,\"ticks\":\"\"}}}],\"scattercarpet\":[{\"type\":\"scattercarpet\",\"marker\":{\"colorbar\":{\"outlinewidth\":0,\"ticks\":\"\"}}}],\"carpet\":[{\"aaxis\":{\"endlinecolor\":\"#A2B1C6\",\"gridcolor\":\"#506784\",\"linecolor\":\"#506784\",\"minorgridcolor\":\"#506784\",\"startlinecolor\":\"#A2B1C6\"},\"baxis\":{\"endlinecolor\":\"#A2B1C6\",\"gridcolor\":\"#506784\",\"linecolor\":\"#506784\",\"minorgridcolor\":\"#506784\",\"startlinecolor\":\"#A2B1C6\"},\"type\":\"carpet\"}],\"table\":[{\"cells\":{\"fill\":{\"color\":\"#506784\"},\"line\":{\"color\":\"rgb(17,17,17)\"}},\"header\":{\"fill\":{\"color\":\"#2a3f5f\"},\"line\":{\"color\":\"rgb(17,17,17)\"}},\"type\":\"table\"}],\"barpolar\":[{\"marker\":{\"line\":{\"color\":\"rgb(17,17,17)\",\"width\":0.5},\"pattern\":{\"fillmode\":\"overlay\",\"size\":10,\"solidity\":0.2}},\"type\":\"barpolar\"}],\"pie\":[{\"automargin\":true,\"type\":\"pie\"}]},\"layout\":{\"autotypenumbers\":\"strict\",\"colorway\":[\"#636efa\",\"#EF553B\",\"#00cc96\",\"#ab63fa\",\"#FFA15A\",\"#19d3f3\",\"#FF6692\",\"#B6E880\",\"#FF97FF\",\"#FECB52\"],\"font\":{\"color\":\"#f2f5fa\"},\"hovermode\":\"closest\",\"hoverlabel\":{\"align\":\"left\"},\"paper_bgcolor\":\"rgb(17,17,17)\",\"plot_bgcolor\":\"rgb(17,17,17)\",\"polar\":{\"bgcolor\":\"rgb(17,17,17)\",\"angularaxis\":{\"gridcolor\":\"#506784\",\"linecolor\":\"#506784\",\"ticks\":\"\"},\"radialaxis\":{\"gridcolor\":\"#506784\",\"linecolor\":\"#506784\",\"ticks\":\"\"}},\"ternary\":{\"bgcolor\":\"rgb(17,17,17)\",\"aaxis\":{\"gridcolor\":\"#506784\",\"linecolor\":\"#506784\",\"ticks\":\"\"},\"baxis\":{\"gridcolor\":\"#506784\",\"linecolor\":\"#506784\",\"ticks\":\"\"},\"caxis\":{\"gridcolor\":\"#506784\",\"linecolor\":\"#506784\",\"ticks\":\"\"}},\"coloraxis\":{\"colorbar\":{\"outlinewidth\":0,\"ticks\":\"\"}},\"colorscale\":{\"sequential\":[[0.0,\"#0d0887\"],[0.1111111111111111,\"#46039f\"],[0.2222222222222222,\"#7201a8\"],[0.3333333333333333,\"#9c179e\"],[0.4444444444444444,\"#bd3786\"],[0.5555555555555556,\"#d8576b\"],[0.6666666666666666,\"#ed7953\"],[0.7777777777777778,\"#fb9f3a\"],[0.8888888888888888,\"#fdca26\"],[1.0,\"#f0f921\"]],\"sequentialminus\":[[0.0,\"#0d0887\"],[0.1111111111111111,\"#46039f\"],[0.2222222222222222,\"#7201a8\"],[0.3333333333333333,\"#9c179e\"],[0.4444444444444444,\"#bd3786\"],[0.5555555555555556,\"#d8576b\"],[0.6666666666666666,\"#ed7953\"],[0.7777777777777778,\"#fb9f3a\"],[0.8888888888888888,\"#fdca26\"],[1.0,\"#f0f921\"]],\"diverging\":[[0,\"#8e0152\"],[0.1,\"#c51b7d\"],[0.2,\"#de77ae\"],[0.3,\"#f1b6da\"],[0.4,\"#fde0ef\"],[0.5,\"#f7f7f7\"],[0.6,\"#e6f5d0\"],[0.7,\"#b8e186\"],[0.8,\"#7fbc41\"],[0.9,\"#4d9221\"],[1,\"#276419\"]]},\"xaxis\":{\"gridcolor\":\"#283442\",\"linecolor\":\"#506784\",\"ticks\":\"\",\"title\":{\"standoff\":15},\"zerolinecolor\":\"#283442\",\"automargin\":true,\"zerolinewidth\":2},\"yaxis\":{\"gridcolor\":\"#283442\",\"linecolor\":\"#506784\",\"ticks\":\"\",\"title\":{\"standoff\":15},\"zerolinecolor\":\"#283442\",\"automargin\":true,\"zerolinewidth\":2},\"scene\":{\"xaxis\":{\"backgroundcolor\":\"rgb(17,17,17)\",\"gridcolor\":\"#506784\",\"linecolor\":\"#506784\",\"showbackground\":true,\"ticks\":\"\",\"zerolinecolor\":\"#C8D4E3\",\"gridwidth\":2},\"yaxis\":{\"backgroundcolor\":\"rgb(17,17,17)\",\"gridcolor\":\"#506784\",\"linecolor\":\"#506784\",\"showbackground\":true,\"ticks\":\"\",\"zerolinecolor\":\"#C8D4E3\",\"gridwidth\":2},\"zaxis\":{\"backgroundcolor\":\"rgb(17,17,17)\",\"gridcolor\":\"#506784\",\"linecolor\":\"#506784\",\"showbackground\":true,\"ticks\":\"\",\"zerolinecolor\":\"#C8D4E3\",\"gridwidth\":2}},\"shapedefaults\":{\"line\":{\"color\":\"#f2f5fa\"}},\"annotationdefaults\":{\"arrowcolor\":\"#f2f5fa\",\"arrowhead\":0,\"arrowwidth\":1},\"geo\":{\"bgcolor\":\"rgb(17,17,17)\",\"landcolor\":\"rgb(17,17,17)\",\"subunitcolor\":\"#506784\",\"showland\":true,\"showlakes\":true,\"lakecolor\":\"rgb(17,17,17)\"},\"title\":{\"x\":0.05},\"updatemenudefaults\":{\"bgcolor\":\"#506784\",\"borderwidth\":0},\"sliderdefaults\":{\"bgcolor\":\"#C8D4E3\",\"borderwidth\":1,\"bordercolor\":\"rgb(17,17,17)\",\"tickwidth\":0},\"mapbox\":{\"style\":\"dark\"}}},\"xaxis\":{\"anchor\":\"y\",\"domain\":[0.0,1.0],\"title\":{\"text\":\"Runs Scored in 19th Over\"},\"tickmode\":\"linear\",\"tick0\":0,\"dtick\":1},\"yaxis\":{\"anchor\":\"x\",\"domain\":[0.0,1.0],\"title\":{\"text\":\"Win Percentage\"}},\"legend\":{\"tracegroupgap\":0,\"title\":{\"text\":\"Data Legend\"}},\"title\":{\"text\":\"Win Percentage vs Runs Scored in 19th Over\"}},                        {\"responsive\": true}                    ).then(function(){\n",
       "                            \n",
       "var gd = document.getElementById('22f2b1ca-2747-4e9a-8600-87467aee41da');\n",
       "var x = new MutationObserver(function (mutations, observer) {{\n",
       "        var display = window.getComputedStyle(gd).display;\n",
       "        if (!display || display === 'none') {{\n",
       "            console.log([gd, 'removed!']);\n",
       "            Plotly.purge(gd);\n",
       "            observer.disconnect();\n",
       "        }}\n",
       "}});\n",
       "\n",
       "// Listen for the removal of the full notebook cells\n",
       "var notebookContainer = gd.closest('#notebook-container');\n",
       "if (notebookContainer) {{\n",
       "    x.observe(notebookContainer, {childList: true});\n",
       "}}\n",
       "\n",
       "// Listen for the clearing of the current output cell\n",
       "var outputEl = gd.closest('.output');\n",
       "if (outputEl) {{\n",
       "    x.observe(outputEl, {childList: true});\n",
       "}}\n",
       "\n",
       "                        })                };                });            </script>        </div>"
      ]
     },
     "metadata": {},
     "output_type": "display_data"
    }
   ],
   "source": [
    "import plotly.express as px\n",
    "data['custom_hover_text'] = data.apply(lambda row: f\"Runs: {row['runs']}<br>Win Percentage: {round(row['win_percentage'],2)}%<br>Matches Played: {row['frequency']}\", axis=1)\n",
    "\n",
    "# Create an interactive line plot with custom hover text\n",
    "fig = px.line(data, x='runs', y='win_percentage', title='Win Percentage vs Runs Scored in 19th Over')\n",
    "\n",
    "# Add points to the line plot to make them interactive, with the custom hover text\n",
    "fig.add_scatter(x=data['runs'], y=data['win_percentage'], mode='markers',hoverinfo='text+x+y', hovertext=data['custom_hover_text'],\n",
    "                name='Win Percentage Data')\n",
    "\n",
    "# Update traces to not show the default hover info, instead only show custom hover info\n",
    "fig.update_traces(hovertemplate=data['custom_hover_text'])\n",
    "\n",
    "# Update layout for a better look\n",
    "fig.update_layout(\n",
    "    xaxis_title=\"Runs Scored in 19th Over\",\n",
    "    yaxis_title=\"Win Percentage\",\n",
    "    xaxis=dict(tickmode='linear', tick0=0, dtick=1) ,\n",
    "    legend_title_text='Data Legend'\n",
    ")\n",
    "\n",
    "# Show plot\n",
    "fig.show()"
   ]
  },
  {
   "cell_type": "markdown",
   "id": "d054af05ad4ac07",
   "metadata": {
    "collapsed": false
   },
   "source": [
    "## Verdict: if team batting first scores more than 6 runs in 19th over, they have a higher chance of winning , \n",
    "1.there are outlies for win % for 0 runs scored in 19th over, but number of matches are only 1"
   ]
  },
  {
   "cell_type": "markdown",
   "id": "a8104dc7975c7f83",
   "metadata": {
    "collapsed": false
   },
   "source": []
  },
  {
   "cell_type": "markdown",
   "source": [
    "# The goal to see the amount of runs a batter batting first scores in the 19th over of the match\n",
    "## about the dataset- \n",
    "1. ball_by_ball contains detail of event of every ball bowled \n",
    "2. historical data contains result of each match,toss, venue etc."
   ],
   "metadata": {
    "collapsed": false
   },
   "id": "1960744f34572646"
  },
  {
   "cell_type": "code",
   "outputs": [
    {
     "data": {
      "text/plain": "   season      title  match_id  \\\n0    2008  1st match    335982   \n1    2008  2nd match    335983   \n2    2008  3rd match    335984   \n3    2008  4th match    335986   \n4    2008  5th match    335985   \n\n                                          match_name  series_id  \\\n0  Royal Challengers Bangalore Vs Kolkata Knight ...     313494   \n1   Kings Xi Punjab Vs Chennai Super Kings 2Nd Match     313494   \n2     Delhi Daredevils Vs Rajasthan Royals 3Rd Match     313494   \n3  Kolkata Knight Riders Vs Deccan Chargers 4Th M...     313494   \n4  Mumbai Indians Vs Royal Challengers Bangalore ...     313494   \n\n                                       series_name  match_date match_format  \\\n0  Indian Premier League in India - 2008 (2007/08)  2008-04-18          T20   \n1  Indian Premier League in India - 2008 (2007/08)  2008-04-19          T20   \n2  Indian Premier League in India - 2008 (2007/08)  2008-04-19          T20   \n3  Indian Premier League in India - 2008 (2007/08)  2008-04-20          T20   \n4  Indian Premier League in India - 2008 (2007/08)  2008-04-20          T20   \n\n   team1_id   team1_name  ...         umpire2      match_referee  toss_winner  \\\n0      4341          KKR  ...     RE Koertzen          J Srinath          RCB   \n1      4343  Super Kings  ...      SL Shastri  S Venkataraghavan  Super Kings   \n2      4345       Royals  ...  GA Pratapkumar       GR Viswanath       Royals   \n3      4347     Chargers  ...     K Hariharan        FM Engineer     Chargers   \n4      4346       Mumbai  ...        SJ Davis          J Srinath       Mumbai   \n\n   toss_winner_choice  match_winner  \\\n0                bowl           KKR   \n1                 bat   Super Kings   \n2                 bat    Daredevils   \n3                 bat           KKR   \n4                 bat           RCB   \n\n                                   match_result_text  mom_player  \\\n0                                KKR won by 140 runs     10384.0   \n1                         Super Kings won by 33 runs      6256.0   \n2  Daredevils won by 9 wickets (with 29 balls rem...     11374.0   \n3      KKR won by 5 wickets (with 6 balls remaining)     11984.0   \n4      RCB won by 5 wickets (with 2 balls remaining)      3947.0   \n\n                                     team1_playing11  \\\n0  [\"2024\",\"10384\",\"2230\",\"11984\",\"19647\",\"7704\",...   \n1  [\"9900\",\"2119\",\"6256\",\"7593\",\"15716\",\"9989\",\"8...   \n2  [\"54936\",\"15473\",\"10125\",\"7632\",\"3329\",\"49247\"...   \n3  [\"4176\",\"8163\",\"3317\",\"4382\",\"48405\",\"9570\",\"7...   \n4  [\"17850\",\"1988\",\"7447\",\"8742\",\"48349\",\"47308\",...   \n\n                                     team2_playing11  \\\n0  [\"2281\",\"7130\",\"49752\",\"2232\",\"12049\",\"3947\",\"...   \n1  [\"15851\",\"9235\",\"9587\",\"7716\",\"6259\",\"11399\",\"...   \n2  [\"7773\",\"7781\",\"15887\",\"47624\",\"8813\",\"7520\",\"...   \n3  [\"51216\",\"10384\",\"2230\",\"2024\",\"11984\",\"19647\"...   \n4  [\"2120\",\"2281\",\"44930\",\"2232\",\"49752\",\"3947\",\"...   \n\n               debut_players  \n0                  [\"48965\"]  \n1                  [\"53549\"]  \n2  [\"51109\",\"47100\",\"54936\"]  \n3                   [\"3317\"]  \n4                   [\"7804\"]  \n\n[5 rows x 34 columns]",
      "text/html": "<div>\n<style scoped>\n    .dataframe tbody tr th:only-of-type {\n        vertical-align: middle;\n    }\n\n    .dataframe tbody tr th {\n        vertical-align: top;\n    }\n\n    .dataframe thead th {\n        text-align: right;\n    }\n</style>\n<table border=\"1\" class=\"dataframe\">\n  <thead>\n    <tr style=\"text-align: right;\">\n      <th></th>\n      <th>season</th>\n      <th>title</th>\n      <th>match_id</th>\n      <th>match_name</th>\n      <th>series_id</th>\n      <th>series_name</th>\n      <th>match_date</th>\n      <th>match_format</th>\n      <th>team1_id</th>\n      <th>team1_name</th>\n      <th>...</th>\n      <th>umpire2</th>\n      <th>match_referee</th>\n      <th>toss_winner</th>\n      <th>toss_winner_choice</th>\n      <th>match_winner</th>\n      <th>match_result_text</th>\n      <th>mom_player</th>\n      <th>team1_playing11</th>\n      <th>team2_playing11</th>\n      <th>debut_players</th>\n    </tr>\n  </thead>\n  <tbody>\n    <tr>\n      <th>0</th>\n      <td>2008</td>\n      <td>1st match</td>\n      <td>335982</td>\n      <td>Royal Challengers Bangalore Vs Kolkata Knight ...</td>\n      <td>313494</td>\n      <td>Indian Premier League in India - 2008 (2007/08)</td>\n      <td>2008-04-18</td>\n      <td>T20</td>\n      <td>4341</td>\n      <td>KKR</td>\n      <td>...</td>\n      <td>RE Koertzen</td>\n      <td>J Srinath</td>\n      <td>RCB</td>\n      <td>bowl</td>\n      <td>KKR</td>\n      <td>KKR won by 140 runs</td>\n      <td>10384.0</td>\n      <td>[\"2024\",\"10384\",\"2230\",\"11984\",\"19647\",\"7704\",...</td>\n      <td>[\"2281\",\"7130\",\"49752\",\"2232\",\"12049\",\"3947\",\"...</td>\n      <td>[\"48965\"]</td>\n    </tr>\n    <tr>\n      <th>1</th>\n      <td>2008</td>\n      <td>2nd match</td>\n      <td>335983</td>\n      <td>Kings Xi Punjab Vs Chennai Super Kings 2Nd Match</td>\n      <td>313494</td>\n      <td>Indian Premier League in India - 2008 (2007/08)</td>\n      <td>2008-04-19</td>\n      <td>T20</td>\n      <td>4343</td>\n      <td>Super Kings</td>\n      <td>...</td>\n      <td>SL Shastri</td>\n      <td>S Venkataraghavan</td>\n      <td>Super Kings</td>\n      <td>bat</td>\n      <td>Super Kings</td>\n      <td>Super Kings won by 33 runs</td>\n      <td>6256.0</td>\n      <td>[\"9900\",\"2119\",\"6256\",\"7593\",\"15716\",\"9989\",\"8...</td>\n      <td>[\"15851\",\"9235\",\"9587\",\"7716\",\"6259\",\"11399\",\"...</td>\n      <td>[\"53549\"]</td>\n    </tr>\n    <tr>\n      <th>2</th>\n      <td>2008</td>\n      <td>3rd match</td>\n      <td>335984</td>\n      <td>Delhi Daredevils Vs Rajasthan Royals 3Rd Match</td>\n      <td>313494</td>\n      <td>Indian Premier League in India - 2008 (2007/08)</td>\n      <td>2008-04-19</td>\n      <td>T20</td>\n      <td>4345</td>\n      <td>Royals</td>\n      <td>...</td>\n      <td>GA Pratapkumar</td>\n      <td>GR Viswanath</td>\n      <td>Royals</td>\n      <td>bat</td>\n      <td>Daredevils</td>\n      <td>Daredevils won by 9 wickets (with 29 balls rem...</td>\n      <td>11374.0</td>\n      <td>[\"54936\",\"15473\",\"10125\",\"7632\",\"3329\",\"49247\"...</td>\n      <td>[\"7773\",\"7781\",\"15887\",\"47624\",\"8813\",\"7520\",\"...</td>\n      <td>[\"51109\",\"47100\",\"54936\"]</td>\n    </tr>\n    <tr>\n      <th>3</th>\n      <td>2008</td>\n      <td>4th match</td>\n      <td>335986</td>\n      <td>Kolkata Knight Riders Vs Deccan Chargers 4Th M...</td>\n      <td>313494</td>\n      <td>Indian Premier League in India - 2008 (2007/08)</td>\n      <td>2008-04-20</td>\n      <td>T20</td>\n      <td>4347</td>\n      <td>Chargers</td>\n      <td>...</td>\n      <td>K Hariharan</td>\n      <td>FM Engineer</td>\n      <td>Chargers</td>\n      <td>bat</td>\n      <td>KKR</td>\n      <td>KKR won by 5 wickets (with 6 balls remaining)</td>\n      <td>11984.0</td>\n      <td>[\"4176\",\"8163\",\"3317\",\"4382\",\"48405\",\"9570\",\"7...</td>\n      <td>[\"51216\",\"10384\",\"2230\",\"2024\",\"11984\",\"19647\"...</td>\n      <td>[\"3317\"]</td>\n    </tr>\n    <tr>\n      <th>4</th>\n      <td>2008</td>\n      <td>5th match</td>\n      <td>335985</td>\n      <td>Mumbai Indians Vs Royal Challengers Bangalore ...</td>\n      <td>313494</td>\n      <td>Indian Premier League in India - 2008 (2007/08)</td>\n      <td>2008-04-20</td>\n      <td>T20</td>\n      <td>4346</td>\n      <td>Mumbai</td>\n      <td>...</td>\n      <td>SJ Davis</td>\n      <td>J Srinath</td>\n      <td>Mumbai</td>\n      <td>bat</td>\n      <td>RCB</td>\n      <td>RCB won by 5 wickets (with 2 balls remaining)</td>\n      <td>3947.0</td>\n      <td>[\"17850\",\"1988\",\"7447\",\"8742\",\"48349\",\"47308\",...</td>\n      <td>[\"2120\",\"2281\",\"44930\",\"2232\",\"49752\",\"3947\",\"...</td>\n      <td>[\"7804\"]</td>\n    </tr>\n  </tbody>\n</table>\n<p>5 rows × 34 columns</p>\n</div>"
     },
     "execution_count": 82,
     "metadata": {},
     "output_type": "execute_result"
    }
   ],
   "source": [
    "historical_df=pd.read_csv(\"./data/ipl_historical.csv\")\n",
    "historical_df.head()"
   ],
   "metadata": {
    "collapsed": false,
    "ExecuteTime": {
     "end_time": "2024-04-07T18:53:22.373951Z",
     "start_time": "2024-04-07T18:53:22.321036Z"
    }
   },
   "id": "29b080491638495f",
   "execution_count": 82
  },
  {
   "cell_type": "code",
   "outputs": [
    {
     "name": "stderr",
     "output_type": "stream",
     "text": [
      "/var/folders/fd/_vqm4qqj113dx_9dmjpjrhfw0000gn/T/ipykernel_56027/2187232362.py:2: DtypeWarning: Columns (10,11,12) have mixed types. Specify dtype option on import or set low_memory=False.\n",
      "  ball_by_ball_df=pd.read_csv(\"./data/ipl_ball_by_ball_data.csv\")\n"
     ]
    },
    {
     "data": {
      "text/plain": "        series_id  match_id  innings_no  batsman_id  bowler_id  over_number  \\\n0         1165643   1178429         1.0     51216.0    58274.0          1.0   \n1         1165643   1178429         1.0     48927.0    58274.0          1.0   \n2         1165643   1178429         1.0     48927.0    58274.0          1.0   \n3         1165643   1178429         1.0     48927.0    58274.0          1.0   \n4         1165643   1178429         1.0     48927.0    58274.0          1.0   \n...           ...       ...         ...         ...        ...          ...   \n243652     313494    336013         2.0     11399.0     9022.0         20.0   \n243653     313494    336013         2.0     11399.0     9022.0         20.0   \n243654     313494    336013         2.0     47185.0     9022.0         20.0   \n243655     313494    336013         2.0     47184.0     9022.0         20.0   \n243656     313494    336013         2.0     12810.0     9022.0         20.0   \n\n        ball_number  over  total_runs  batsman_runs  ...  issix iswicket byes  \\\n0               1.0   0.1         1.0           1.0  ...  False    False  0.0   \n1               2.0   0.2         0.0           0.0  ...  False    False  0.0   \n2               3.0   0.3         0.0           0.0  ...  False    False  0.0   \n3               4.0   0.4         0.0           0.0  ...  False    False  0.0   \n4               5.0   0.5         0.0           0.0  ...  False    False  0.0   \n...             ...   ...         ...           ...  ...    ...      ...  ...   \n243652          2.0  19.2         2.0           2.0  ...  False    False  0.0   \n243653          3.0  19.3         0.0           0.0  ...  False     True  0.0   \n243654          4.0  19.4         0.0           0.0  ...  False     True  0.0   \n243655          5.0  19.5         0.0           0.0  ...  False     True  0.0   \n243656          6.0  19.6         0.0           0.0  ...  False    False  0.0   \n\n        legbyes  wides  noballs  penalties  out_player_id  \\\n0           0.0    0.0      0.0        0.0            NaN   \n1           0.0    0.0      0.0        0.0            NaN   \n2           0.0    0.0      0.0        0.0            NaN   \n3           0.0    0.0      0.0        0.0            NaN   \n4           0.0    0.0      0.0        0.0            NaN   \n...         ...    ...      ...        ...            ...   \n243652      0.0    0.0      0.0        0.0            NaN   \n243653      0.0    0.0      0.0        0.0        11399.0   \n243654      0.0    0.0      0.0        0.0        47185.0   \n243655      0.0    0.0      0.0        0.0        47184.0   \n243656      0.0    0.0      0.0        0.0            NaN   \n\n        current_innings_runs  current_innings_wickets  \n0                        1.0                      0.0  \n1                        1.0                      0.0  \n2                        1.0                      0.0  \n3                        1.0                      0.0  \n4                        1.0                      0.0  \n...                      ...                      ...  \n243652                 163.0                      6.0  \n243653                 163.0                      7.0  \n243654                 163.0                      8.0  \n243655                 163.0                      9.0  \n243656                 163.0                      9.0  \n\n[243657 rows x 21 columns]",
      "text/html": "<div>\n<style scoped>\n    .dataframe tbody tr th:only-of-type {\n        vertical-align: middle;\n    }\n\n    .dataframe tbody tr th {\n        vertical-align: top;\n    }\n\n    .dataframe thead th {\n        text-align: right;\n    }\n</style>\n<table border=\"1\" class=\"dataframe\">\n  <thead>\n    <tr style=\"text-align: right;\">\n      <th></th>\n      <th>series_id</th>\n      <th>match_id</th>\n      <th>innings_no</th>\n      <th>batsman_id</th>\n      <th>bowler_id</th>\n      <th>over_number</th>\n      <th>ball_number</th>\n      <th>over</th>\n      <th>total_runs</th>\n      <th>batsman_runs</th>\n      <th>...</th>\n      <th>issix</th>\n      <th>iswicket</th>\n      <th>byes</th>\n      <th>legbyes</th>\n      <th>wides</th>\n      <th>noballs</th>\n      <th>penalties</th>\n      <th>out_player_id</th>\n      <th>current_innings_runs</th>\n      <th>current_innings_wickets</th>\n    </tr>\n  </thead>\n  <tbody>\n    <tr>\n      <th>0</th>\n      <td>1165643</td>\n      <td>1178429</td>\n      <td>1.0</td>\n      <td>51216.0</td>\n      <td>58274.0</td>\n      <td>1.0</td>\n      <td>1.0</td>\n      <td>0.1</td>\n      <td>1.0</td>\n      <td>1.0</td>\n      <td>...</td>\n      <td>False</td>\n      <td>False</td>\n      <td>0.0</td>\n      <td>0.0</td>\n      <td>0.0</td>\n      <td>0.0</td>\n      <td>0.0</td>\n      <td>NaN</td>\n      <td>1.0</td>\n      <td>0.0</td>\n    </tr>\n    <tr>\n      <th>1</th>\n      <td>1165643</td>\n      <td>1178429</td>\n      <td>1.0</td>\n      <td>48927.0</td>\n      <td>58274.0</td>\n      <td>1.0</td>\n      <td>2.0</td>\n      <td>0.2</td>\n      <td>0.0</td>\n      <td>0.0</td>\n      <td>...</td>\n      <td>False</td>\n      <td>False</td>\n      <td>0.0</td>\n      <td>0.0</td>\n      <td>0.0</td>\n      <td>0.0</td>\n      <td>0.0</td>\n      <td>NaN</td>\n      <td>1.0</td>\n      <td>0.0</td>\n    </tr>\n    <tr>\n      <th>2</th>\n      <td>1165643</td>\n      <td>1178429</td>\n      <td>1.0</td>\n      <td>48927.0</td>\n      <td>58274.0</td>\n      <td>1.0</td>\n      <td>3.0</td>\n      <td>0.3</td>\n      <td>0.0</td>\n      <td>0.0</td>\n      <td>...</td>\n      <td>False</td>\n      <td>False</td>\n      <td>0.0</td>\n      <td>0.0</td>\n      <td>0.0</td>\n      <td>0.0</td>\n      <td>0.0</td>\n      <td>NaN</td>\n      <td>1.0</td>\n      <td>0.0</td>\n    </tr>\n    <tr>\n      <th>3</th>\n      <td>1165643</td>\n      <td>1178429</td>\n      <td>1.0</td>\n      <td>48927.0</td>\n      <td>58274.0</td>\n      <td>1.0</td>\n      <td>4.0</td>\n      <td>0.4</td>\n      <td>0.0</td>\n      <td>0.0</td>\n      <td>...</td>\n      <td>False</td>\n      <td>False</td>\n      <td>0.0</td>\n      <td>0.0</td>\n      <td>0.0</td>\n      <td>0.0</td>\n      <td>0.0</td>\n      <td>NaN</td>\n      <td>1.0</td>\n      <td>0.0</td>\n    </tr>\n    <tr>\n      <th>4</th>\n      <td>1165643</td>\n      <td>1178429</td>\n      <td>1.0</td>\n      <td>48927.0</td>\n      <td>58274.0</td>\n      <td>1.0</td>\n      <td>5.0</td>\n      <td>0.5</td>\n      <td>0.0</td>\n      <td>0.0</td>\n      <td>...</td>\n      <td>False</td>\n      <td>False</td>\n      <td>0.0</td>\n      <td>0.0</td>\n      <td>0.0</td>\n      <td>0.0</td>\n      <td>0.0</td>\n      <td>NaN</td>\n      <td>1.0</td>\n      <td>0.0</td>\n    </tr>\n    <tr>\n      <th>...</th>\n      <td>...</td>\n      <td>...</td>\n      <td>...</td>\n      <td>...</td>\n      <td>...</td>\n      <td>...</td>\n      <td>...</td>\n      <td>...</td>\n      <td>...</td>\n      <td>...</td>\n      <td>...</td>\n      <td>...</td>\n      <td>...</td>\n      <td>...</td>\n      <td>...</td>\n      <td>...</td>\n      <td>...</td>\n      <td>...</td>\n      <td>...</td>\n      <td>...</td>\n      <td>...</td>\n    </tr>\n    <tr>\n      <th>243652</th>\n      <td>313494</td>\n      <td>336013</td>\n      <td>2.0</td>\n      <td>11399.0</td>\n      <td>9022.0</td>\n      <td>20.0</td>\n      <td>2.0</td>\n      <td>19.2</td>\n      <td>2.0</td>\n      <td>2.0</td>\n      <td>...</td>\n      <td>False</td>\n      <td>False</td>\n      <td>0.0</td>\n      <td>0.0</td>\n      <td>0.0</td>\n      <td>0.0</td>\n      <td>0.0</td>\n      <td>NaN</td>\n      <td>163.0</td>\n      <td>6.0</td>\n    </tr>\n    <tr>\n      <th>243653</th>\n      <td>313494</td>\n      <td>336013</td>\n      <td>2.0</td>\n      <td>11399.0</td>\n      <td>9022.0</td>\n      <td>20.0</td>\n      <td>3.0</td>\n      <td>19.3</td>\n      <td>0.0</td>\n      <td>0.0</td>\n      <td>...</td>\n      <td>False</td>\n      <td>True</td>\n      <td>0.0</td>\n      <td>0.0</td>\n      <td>0.0</td>\n      <td>0.0</td>\n      <td>0.0</td>\n      <td>11399.0</td>\n      <td>163.0</td>\n      <td>7.0</td>\n    </tr>\n    <tr>\n      <th>243654</th>\n      <td>313494</td>\n      <td>336013</td>\n      <td>2.0</td>\n      <td>47185.0</td>\n      <td>9022.0</td>\n      <td>20.0</td>\n      <td>4.0</td>\n      <td>19.4</td>\n      <td>0.0</td>\n      <td>0.0</td>\n      <td>...</td>\n      <td>False</td>\n      <td>True</td>\n      <td>0.0</td>\n      <td>0.0</td>\n      <td>0.0</td>\n      <td>0.0</td>\n      <td>0.0</td>\n      <td>47185.0</td>\n      <td>163.0</td>\n      <td>8.0</td>\n    </tr>\n    <tr>\n      <th>243655</th>\n      <td>313494</td>\n      <td>336013</td>\n      <td>2.0</td>\n      <td>47184.0</td>\n      <td>9022.0</td>\n      <td>20.0</td>\n      <td>5.0</td>\n      <td>19.5</td>\n      <td>0.0</td>\n      <td>0.0</td>\n      <td>...</td>\n      <td>False</td>\n      <td>True</td>\n      <td>0.0</td>\n      <td>0.0</td>\n      <td>0.0</td>\n      <td>0.0</td>\n      <td>0.0</td>\n      <td>47184.0</td>\n      <td>163.0</td>\n      <td>9.0</td>\n    </tr>\n    <tr>\n      <th>243656</th>\n      <td>313494</td>\n      <td>336013</td>\n      <td>2.0</td>\n      <td>12810.0</td>\n      <td>9022.0</td>\n      <td>20.0</td>\n      <td>6.0</td>\n      <td>19.6</td>\n      <td>0.0</td>\n      <td>0.0</td>\n      <td>...</td>\n      <td>False</td>\n      <td>False</td>\n      <td>0.0</td>\n      <td>0.0</td>\n      <td>0.0</td>\n      <td>0.0</td>\n      <td>0.0</td>\n      <td>NaN</td>\n      <td>163.0</td>\n      <td>9.0</td>\n    </tr>\n  </tbody>\n</table>\n<p>243657 rows × 21 columns</p>\n</div>"
     },
     "execution_count": 83,
     "metadata": {},
     "output_type": "execute_result"
    }
   ],
   "source": [
    "#ipl ball by ball\n",
    "ball_by_ball_df=pd.read_csv(\"./data/ipl_ball_by_ball_data.csv\")\n",
    "ball_by_ball_df"
   ],
   "metadata": {
    "collapsed": false,
    "ExecuteTime": {
     "end_time": "2024-04-07T18:53:23.121110Z",
     "start_time": "2024-04-07T18:53:22.804764Z"
    }
   },
   "id": "1b563628ef83b8bb",
   "execution_count": 83
  },
  {
   "cell_type": "code",
   "outputs": [
    {
     "name": "stderr",
     "output_type": "stream",
     "text": [
      "100%|██████████| 243657/243657 [00:19<00:00, 12483.10it/s]\n"
     ]
    },
    {
     "data": {
      "text/plain": "        series_id  match_id  innings_no  batsman_id  bowler_id  over_number  \\\n0         1165643   1178429         1.0     51216.0    58274.0          1.0   \n1         1165643   1178429         1.0     48927.0    58274.0          1.0   \n2         1165643   1178429         1.0     48927.0    58274.0          1.0   \n3         1165643   1178429         1.0     48927.0    58274.0          1.0   \n4         1165643   1178429         1.0     48927.0    58274.0          1.0   \n...           ...       ...         ...         ...        ...          ...   \n243652     313494    336013         2.0     11399.0     9022.0         20.0   \n243653     313494    336013         2.0     11399.0     9022.0         20.0   \n243654     313494    336013         2.0     47185.0     9022.0         20.0   \n243655     313494    336013         2.0     47184.0     9022.0         20.0   \n243656     313494    336013         2.0     12810.0     9022.0         20.0   \n\n        ball_number  over  total_runs  batsman_runs  ... iswicket byes  \\\n0               1.0   0.1         1.0           1.0  ...    False  0.0   \n1               2.0   0.2         0.0           0.0  ...    False  0.0   \n2               3.0   0.3         0.0           0.0  ...    False  0.0   \n3               4.0   0.4         0.0           0.0  ...    False  0.0   \n4               5.0   0.5         0.0           0.0  ...    False  0.0   \n...             ...   ...         ...           ...  ...      ...  ...   \n243652          2.0  19.2         2.0           2.0  ...    False  0.0   \n243653          3.0  19.3         0.0           0.0  ...     True  0.0   \n243654          4.0  19.4         0.0           0.0  ...     True  0.0   \n243655          5.0  19.5         0.0           0.0  ...     True  0.0   \n243656          6.0  19.6         0.0           0.0  ...    False  0.0   \n\n       legbyes  wides  noballs  penalties  out_player_id  \\\n0          0.0    0.0      0.0        0.0            NaN   \n1          0.0    0.0      0.0        0.0            NaN   \n2          0.0    0.0      0.0        0.0            NaN   \n3          0.0    0.0      0.0        0.0            NaN   \n4          0.0    0.0      0.0        0.0            NaN   \n...        ...    ...      ...        ...            ...   \n243652     0.0    0.0      0.0        0.0            NaN   \n243653     0.0    0.0      0.0        0.0        11399.0   \n243654     0.0    0.0      0.0        0.0        47185.0   \n243655     0.0    0.0      0.0        0.0        47184.0   \n243656     0.0    0.0      0.0        0.0            NaN   \n\n        current_innings_runs  current_innings_wickets  year  \n0                        1.0                      0.0  2019  \n1                        1.0                      0.0  2019  \n2                        1.0                      0.0  2019  \n3                        1.0                      0.0  2019  \n4                        1.0                      0.0  2019  \n...                      ...                      ...   ...  \n243652                 163.0                      6.0  2008  \n243653                 163.0                      7.0  2008  \n243654                 163.0                      8.0  2008  \n243655                 163.0                      9.0  2008  \n243656                 163.0                      9.0  2008  \n\n[243657 rows x 22 columns]",
      "text/html": "<div>\n<style scoped>\n    .dataframe tbody tr th:only-of-type {\n        vertical-align: middle;\n    }\n\n    .dataframe tbody tr th {\n        vertical-align: top;\n    }\n\n    .dataframe thead th {\n        text-align: right;\n    }\n</style>\n<table border=\"1\" class=\"dataframe\">\n  <thead>\n    <tr style=\"text-align: right;\">\n      <th></th>\n      <th>series_id</th>\n      <th>match_id</th>\n      <th>innings_no</th>\n      <th>batsman_id</th>\n      <th>bowler_id</th>\n      <th>over_number</th>\n      <th>ball_number</th>\n      <th>over</th>\n      <th>total_runs</th>\n      <th>batsman_runs</th>\n      <th>...</th>\n      <th>iswicket</th>\n      <th>byes</th>\n      <th>legbyes</th>\n      <th>wides</th>\n      <th>noballs</th>\n      <th>penalties</th>\n      <th>out_player_id</th>\n      <th>current_innings_runs</th>\n      <th>current_innings_wickets</th>\n      <th>year</th>\n    </tr>\n  </thead>\n  <tbody>\n    <tr>\n      <th>0</th>\n      <td>1165643</td>\n      <td>1178429</td>\n      <td>1.0</td>\n      <td>51216.0</td>\n      <td>58274.0</td>\n      <td>1.0</td>\n      <td>1.0</td>\n      <td>0.1</td>\n      <td>1.0</td>\n      <td>1.0</td>\n      <td>...</td>\n      <td>False</td>\n      <td>0.0</td>\n      <td>0.0</td>\n      <td>0.0</td>\n      <td>0.0</td>\n      <td>0.0</td>\n      <td>NaN</td>\n      <td>1.0</td>\n      <td>0.0</td>\n      <td>2019</td>\n    </tr>\n    <tr>\n      <th>1</th>\n      <td>1165643</td>\n      <td>1178429</td>\n      <td>1.0</td>\n      <td>48927.0</td>\n      <td>58274.0</td>\n      <td>1.0</td>\n      <td>2.0</td>\n      <td>0.2</td>\n      <td>0.0</td>\n      <td>0.0</td>\n      <td>...</td>\n      <td>False</td>\n      <td>0.0</td>\n      <td>0.0</td>\n      <td>0.0</td>\n      <td>0.0</td>\n      <td>0.0</td>\n      <td>NaN</td>\n      <td>1.0</td>\n      <td>0.0</td>\n      <td>2019</td>\n    </tr>\n    <tr>\n      <th>2</th>\n      <td>1165643</td>\n      <td>1178429</td>\n      <td>1.0</td>\n      <td>48927.0</td>\n      <td>58274.0</td>\n      <td>1.0</td>\n      <td>3.0</td>\n      <td>0.3</td>\n      <td>0.0</td>\n      <td>0.0</td>\n      <td>...</td>\n      <td>False</td>\n      <td>0.0</td>\n      <td>0.0</td>\n      <td>0.0</td>\n      <td>0.0</td>\n      <td>0.0</td>\n      <td>NaN</td>\n      <td>1.0</td>\n      <td>0.0</td>\n      <td>2019</td>\n    </tr>\n    <tr>\n      <th>3</th>\n      <td>1165643</td>\n      <td>1178429</td>\n      <td>1.0</td>\n      <td>48927.0</td>\n      <td>58274.0</td>\n      <td>1.0</td>\n      <td>4.0</td>\n      <td>0.4</td>\n      <td>0.0</td>\n      <td>0.0</td>\n      <td>...</td>\n      <td>False</td>\n      <td>0.0</td>\n      <td>0.0</td>\n      <td>0.0</td>\n      <td>0.0</td>\n      <td>0.0</td>\n      <td>NaN</td>\n      <td>1.0</td>\n      <td>0.0</td>\n      <td>2019</td>\n    </tr>\n    <tr>\n      <th>4</th>\n      <td>1165643</td>\n      <td>1178429</td>\n      <td>1.0</td>\n      <td>48927.0</td>\n      <td>58274.0</td>\n      <td>1.0</td>\n      <td>5.0</td>\n      <td>0.5</td>\n      <td>0.0</td>\n      <td>0.0</td>\n      <td>...</td>\n      <td>False</td>\n      <td>0.0</td>\n      <td>0.0</td>\n      <td>0.0</td>\n      <td>0.0</td>\n      <td>0.0</td>\n      <td>NaN</td>\n      <td>1.0</td>\n      <td>0.0</td>\n      <td>2019</td>\n    </tr>\n    <tr>\n      <th>...</th>\n      <td>...</td>\n      <td>...</td>\n      <td>...</td>\n      <td>...</td>\n      <td>...</td>\n      <td>...</td>\n      <td>...</td>\n      <td>...</td>\n      <td>...</td>\n      <td>...</td>\n      <td>...</td>\n      <td>...</td>\n      <td>...</td>\n      <td>...</td>\n      <td>...</td>\n      <td>...</td>\n      <td>...</td>\n      <td>...</td>\n      <td>...</td>\n      <td>...</td>\n      <td>...</td>\n    </tr>\n    <tr>\n      <th>243652</th>\n      <td>313494</td>\n      <td>336013</td>\n      <td>2.0</td>\n      <td>11399.0</td>\n      <td>9022.0</td>\n      <td>20.0</td>\n      <td>2.0</td>\n      <td>19.2</td>\n      <td>2.0</td>\n      <td>2.0</td>\n      <td>...</td>\n      <td>False</td>\n      <td>0.0</td>\n      <td>0.0</td>\n      <td>0.0</td>\n      <td>0.0</td>\n      <td>0.0</td>\n      <td>NaN</td>\n      <td>163.0</td>\n      <td>6.0</td>\n      <td>2008</td>\n    </tr>\n    <tr>\n      <th>243653</th>\n      <td>313494</td>\n      <td>336013</td>\n      <td>2.0</td>\n      <td>11399.0</td>\n      <td>9022.0</td>\n      <td>20.0</td>\n      <td>3.0</td>\n      <td>19.3</td>\n      <td>0.0</td>\n      <td>0.0</td>\n      <td>...</td>\n      <td>True</td>\n      <td>0.0</td>\n      <td>0.0</td>\n      <td>0.0</td>\n      <td>0.0</td>\n      <td>0.0</td>\n      <td>11399.0</td>\n      <td>163.0</td>\n      <td>7.0</td>\n      <td>2008</td>\n    </tr>\n    <tr>\n      <th>243654</th>\n      <td>313494</td>\n      <td>336013</td>\n      <td>2.0</td>\n      <td>47185.0</td>\n      <td>9022.0</td>\n      <td>20.0</td>\n      <td>4.0</td>\n      <td>19.4</td>\n      <td>0.0</td>\n      <td>0.0</td>\n      <td>...</td>\n      <td>True</td>\n      <td>0.0</td>\n      <td>0.0</td>\n      <td>0.0</td>\n      <td>0.0</td>\n      <td>0.0</td>\n      <td>47185.0</td>\n      <td>163.0</td>\n      <td>8.0</td>\n      <td>2008</td>\n    </tr>\n    <tr>\n      <th>243655</th>\n      <td>313494</td>\n      <td>336013</td>\n      <td>2.0</td>\n      <td>47184.0</td>\n      <td>9022.0</td>\n      <td>20.0</td>\n      <td>5.0</td>\n      <td>19.5</td>\n      <td>0.0</td>\n      <td>0.0</td>\n      <td>...</td>\n      <td>True</td>\n      <td>0.0</td>\n      <td>0.0</td>\n      <td>0.0</td>\n      <td>0.0</td>\n      <td>0.0</td>\n      <td>47184.0</td>\n      <td>163.0</td>\n      <td>9.0</td>\n      <td>2008</td>\n    </tr>\n    <tr>\n      <th>243656</th>\n      <td>313494</td>\n      <td>336013</td>\n      <td>2.0</td>\n      <td>12810.0</td>\n      <td>9022.0</td>\n      <td>20.0</td>\n      <td>6.0</td>\n      <td>19.6</td>\n      <td>0.0</td>\n      <td>0.0</td>\n      <td>...</td>\n      <td>False</td>\n      <td>0.0</td>\n      <td>0.0</td>\n      <td>0.0</td>\n      <td>0.0</td>\n      <td>0.0</td>\n      <td>NaN</td>\n      <td>163.0</td>\n      <td>9.0</td>\n      <td>2008</td>\n    </tr>\n  </tbody>\n</table>\n<p>243657 rows × 22 columns</p>\n</div>"
     },
     "execution_count": 84,
     "metadata": {},
     "output_type": "execute_result"
    }
   ],
   "source": [
    "#get year from historical data based on match_id\n",
    "def get_year(match_id):\n",
    "    return historical_df[historical_df['match_id']==match_id]['season'].values[0]\n",
    "ball_by_ball_df['year']=ball_by_ball_df['match_id'].progress_apply(get_year)\n",
    "ball_by_ball_df"
   ],
   "metadata": {
    "collapsed": false,
    "ExecuteTime": {
     "end_time": "2024-04-07T18:53:42.813324Z",
     "start_time": "2024-04-07T18:53:23.218751Z"
    }
   },
   "id": "3684934c5da941c1",
   "execution_count": 84
  },
  {
   "cell_type": "code",
   "outputs": [
    {
     "data": {
      "text/plain": "       batsman_id  year  match_id  innings_no  batsman_runs\n0          1934.0  2008    336012         2.0          40.0\n1          1934.0  2008    336018         2.0          12.0\n2          1934.0  2008    336021         2.0           0.0\n3          1934.0  2008    336024         1.0          23.0\n4          1934.0  2008    336028         2.0          65.0\n...           ...   ...       ...         ...           ...\n15395    110981.0  2022   1304054         1.0          11.0\n15396    111976.0  2022   1304087         1.0           0.0\n15397    111976.0  2022   1304099         2.0           2.0\n15398    111976.0  2023   1359521         1.0           0.0\n15399    114254.0  2023   1359488         1.0           1.0\n\n[15400 rows x 5 columns]",
      "text/html": "<div>\n<style scoped>\n    .dataframe tbody tr th:only-of-type {\n        vertical-align: middle;\n    }\n\n    .dataframe tbody tr th {\n        vertical-align: top;\n    }\n\n    .dataframe thead th {\n        text-align: right;\n    }\n</style>\n<table border=\"1\" class=\"dataframe\">\n  <thead>\n    <tr style=\"text-align: right;\">\n      <th></th>\n      <th>batsman_id</th>\n      <th>year</th>\n      <th>match_id</th>\n      <th>innings_no</th>\n      <th>batsman_runs</th>\n    </tr>\n  </thead>\n  <tbody>\n    <tr>\n      <th>0</th>\n      <td>1934.0</td>\n      <td>2008</td>\n      <td>336012</td>\n      <td>2.0</td>\n      <td>40.0</td>\n    </tr>\n    <tr>\n      <th>1</th>\n      <td>1934.0</td>\n      <td>2008</td>\n      <td>336018</td>\n      <td>2.0</td>\n      <td>12.0</td>\n    </tr>\n    <tr>\n      <th>2</th>\n      <td>1934.0</td>\n      <td>2008</td>\n      <td>336021</td>\n      <td>2.0</td>\n      <td>0.0</td>\n    </tr>\n    <tr>\n      <th>3</th>\n      <td>1934.0</td>\n      <td>2008</td>\n      <td>336024</td>\n      <td>1.0</td>\n      <td>23.0</td>\n    </tr>\n    <tr>\n      <th>4</th>\n      <td>1934.0</td>\n      <td>2008</td>\n      <td>336028</td>\n      <td>2.0</td>\n      <td>65.0</td>\n    </tr>\n    <tr>\n      <th>...</th>\n      <td>...</td>\n      <td>...</td>\n      <td>...</td>\n      <td>...</td>\n      <td>...</td>\n    </tr>\n    <tr>\n      <th>15395</th>\n      <td>110981.0</td>\n      <td>2022</td>\n      <td>1304054</td>\n      <td>1.0</td>\n      <td>11.0</td>\n    </tr>\n    <tr>\n      <th>15396</th>\n      <td>111976.0</td>\n      <td>2022</td>\n      <td>1304087</td>\n      <td>1.0</td>\n      <td>0.0</td>\n    </tr>\n    <tr>\n      <th>15397</th>\n      <td>111976.0</td>\n      <td>2022</td>\n      <td>1304099</td>\n      <td>2.0</td>\n      <td>2.0</td>\n    </tr>\n    <tr>\n      <th>15398</th>\n      <td>111976.0</td>\n      <td>2023</td>\n      <td>1359521</td>\n      <td>1.0</td>\n      <td>0.0</td>\n    </tr>\n    <tr>\n      <th>15399</th>\n      <td>114254.0</td>\n      <td>2023</td>\n      <td>1359488</td>\n      <td>1.0</td>\n      <td>1.0</td>\n    </tr>\n  </tbody>\n</table>\n<p>15400 rows × 5 columns</p>\n</div>"
     },
     "execution_count": 85,
     "metadata": {},
     "output_type": "execute_result"
    }
   ],
   "source": [
    "#group by batsman_id,match_id,innings_no and sum total_runs\n",
    "batsman_runs=ball_by_ball_df.groupby(['batsman_id','year','match_id','innings_no'])['batsman_runs'].sum().reset_index()\n",
    "batsman_runs"
   ],
   "metadata": {
    "collapsed": false,
    "ExecuteTime": {
     "end_time": "2024-04-07T18:53:43.045686Z",
     "start_time": "2024-04-07T18:53:42.878510Z"
    }
   },
   "id": "92cfdce46072c406",
   "execution_count": 85
  },
  {
   "cell_type": "code",
   "outputs": [
    {
     "data": {
      "text/plain": "       batsman_id  year  match_id  innings_no  batsman_runs\n37         1934.0  2011    501210         1.0         100.0\n101        1988.0  2008    336018         2.0         114.0\n600        4176.0  2008    335994         2.0         109.0\n655        4176.0  2011    501260         1.0         106.0\n698        4382.0  2008    335990         1.0         117.0\n...           ...   ...       ...         ...           ...\n14794     95316.0  2023   1370352         1.0         129.0\n14887     96335.0  2023   1359543         2.0         100.0\n15006    100878.0  2021   1254073         2.0         101.0\n15173    102743.0  2023   1359516         1.0         124.0\n15241    103766.0  2023   1359533         1.0         103.0\n\n[87 rows x 5 columns]",
      "text/html": "<div>\n<style scoped>\n    .dataframe tbody tr th:only-of-type {\n        vertical-align: middle;\n    }\n\n    .dataframe tbody tr th {\n        vertical-align: top;\n    }\n\n    .dataframe thead th {\n        text-align: right;\n    }\n</style>\n<table border=\"1\" class=\"dataframe\">\n  <thead>\n    <tr style=\"text-align: right;\">\n      <th></th>\n      <th>batsman_id</th>\n      <th>year</th>\n      <th>match_id</th>\n      <th>innings_no</th>\n      <th>batsman_runs</th>\n    </tr>\n  </thead>\n  <tbody>\n    <tr>\n      <th>37</th>\n      <td>1934.0</td>\n      <td>2011</td>\n      <td>501210</td>\n      <td>1.0</td>\n      <td>100.0</td>\n    </tr>\n    <tr>\n      <th>101</th>\n      <td>1988.0</td>\n      <td>2008</td>\n      <td>336018</td>\n      <td>2.0</td>\n      <td>114.0</td>\n    </tr>\n    <tr>\n      <th>600</th>\n      <td>4176.0</td>\n      <td>2008</td>\n      <td>335994</td>\n      <td>2.0</td>\n      <td>109.0</td>\n    </tr>\n    <tr>\n      <th>655</th>\n      <td>4176.0</td>\n      <td>2011</td>\n      <td>501260</td>\n      <td>1.0</td>\n      <td>106.0</td>\n    </tr>\n    <tr>\n      <th>698</th>\n      <td>4382.0</td>\n      <td>2008</td>\n      <td>335990</td>\n      <td>1.0</td>\n      <td>117.0</td>\n    </tr>\n    <tr>\n      <th>...</th>\n      <td>...</td>\n      <td>...</td>\n      <td>...</td>\n      <td>...</td>\n      <td>...</td>\n    </tr>\n    <tr>\n      <th>14794</th>\n      <td>95316.0</td>\n      <td>2023</td>\n      <td>1370352</td>\n      <td>1.0</td>\n      <td>129.0</td>\n    </tr>\n    <tr>\n      <th>14887</th>\n      <td>96335.0</td>\n      <td>2023</td>\n      <td>1359543</td>\n      <td>2.0</td>\n      <td>100.0</td>\n    </tr>\n    <tr>\n      <th>15006</th>\n      <td>100878.0</td>\n      <td>2021</td>\n      <td>1254073</td>\n      <td>2.0</td>\n      <td>101.0</td>\n    </tr>\n    <tr>\n      <th>15173</th>\n      <td>102743.0</td>\n      <td>2023</td>\n      <td>1359516</td>\n      <td>1.0</td>\n      <td>124.0</td>\n    </tr>\n    <tr>\n      <th>15241</th>\n      <td>103766.0</td>\n      <td>2023</td>\n      <td>1359533</td>\n      <td>1.0</td>\n      <td>103.0</td>\n    </tr>\n  </tbody>\n</table>\n<p>87 rows × 5 columns</p>\n</div>"
     },
     "execution_count": 86,
     "metadata": {},
     "output_type": "execute_result"
    }
   ],
   "source": [
    "#filter batters who scored 100 runs\n",
    "batsman_runs_100=batsman_runs[batsman_runs['batsman_runs']>=100]\n",
    "batsman_runs_100"
   ],
   "metadata": {
    "collapsed": false,
    "ExecuteTime": {
     "end_time": "2024-04-07T18:53:43.047526Z",
     "start_time": "2024-04-07T18:53:42.908825Z"
    }
   },
   "id": "dfb964e9230f8957",
   "execution_count": 86
  },
  {
   "cell_type": "code",
   "outputs": [
    {
     "data": {
      "text/plain": "        series_id  match_id  innings_no  batsman_id  bowler_id  over_number  \\\n110       1165643   1178429         1.0     51088.0    74633.0         19.0   \n111       1165643   1178429         1.0     54282.0    74633.0         19.0   \n112       1165643   1178429         1.0     51088.0    74633.0         19.0   \n113       1165643   1178429         1.0     54282.0    74633.0         19.0   \n114       1165643   1178429         1.0     54282.0    74633.0         19.0   \n...           ...       ...         ...         ...        ...          ...   \n243646     313494    336013         2.0     11399.0     9505.0         19.0   \n243647     313494    336013         2.0     47185.0     9505.0         19.0   \n243648     313494    336013         2.0     47185.0     9505.0         19.0   \n243649     313494    336013         2.0     11399.0     9505.0         19.0   \n243650     313494    336013         2.0     47185.0     9505.0         19.0   \n\n        ball_number  over  total_runs  batsman_runs  ... iswicket byes  \\\n110             1.0  18.1         1.0           1.0  ...    False  0.0   \n111             2.0  18.2         1.0           1.0  ...    False  0.0   \n112             3.0  18.3         1.0           1.0  ...    False  0.0   \n113             4.0  18.4         0.0           0.0  ...    False  0.0   \n114             5.0  18.5         1.0           1.0  ...    False  0.0   \n...             ...   ...         ...           ...  ...      ...  ...   \n243646          2.0  18.2         1.0           1.0  ...    False  0.0   \n243647          3.0  18.3         0.0           0.0  ...    False  0.0   \n243648          4.0  18.4         1.0           1.0  ...    False  0.0   \n243649          5.0  18.5         1.0           1.0  ...    False  0.0   \n243650          6.0  18.6         0.0           0.0  ...    False  0.0   \n\n       legbyes  wides  noballs  penalties  out_player_id  \\\n110        0.0    0.0      0.0        0.0            NaN   \n111        0.0    0.0      0.0        0.0            NaN   \n112        0.0    0.0      0.0        0.0            NaN   \n113        0.0    0.0      0.0        0.0            NaN   \n114        0.0    0.0      0.0        0.0            NaN   \n...        ...    ...      ...        ...            ...   \n243646     0.0    0.0      0.0        0.0            NaN   \n243647     0.0    0.0      0.0        0.0            NaN   \n243648     0.0    0.0      0.0        0.0            NaN   \n243649     0.0    0.0      0.0        0.0            NaN   \n243650     0.0    0.0      0.0        0.0            NaN   \n\n        current_innings_runs  current_innings_wickets  year  \n110                    143.0                      7.0  2019  \n111                    144.0                      7.0  2019  \n112                    145.0                      7.0  2019  \n113                    145.0                      7.0  2019  \n114                    146.0                      7.0  2019  \n...                      ...                      ...   ...  \n243646                 153.0                      6.0  2008  \n243647                 153.0                      6.0  2008  \n243648                 154.0                      6.0  2008  \n243649                 155.0                      6.0  2008  \n243650                 155.0                      6.0  2008  \n\n[10809 rows x 22 columns]",
      "text/html": "<div>\n<style scoped>\n    .dataframe tbody tr th:only-of-type {\n        vertical-align: middle;\n    }\n\n    .dataframe tbody tr th {\n        vertical-align: top;\n    }\n\n    .dataframe thead th {\n        text-align: right;\n    }\n</style>\n<table border=\"1\" class=\"dataframe\">\n  <thead>\n    <tr style=\"text-align: right;\">\n      <th></th>\n      <th>series_id</th>\n      <th>match_id</th>\n      <th>innings_no</th>\n      <th>batsman_id</th>\n      <th>bowler_id</th>\n      <th>over_number</th>\n      <th>ball_number</th>\n      <th>over</th>\n      <th>total_runs</th>\n      <th>batsman_runs</th>\n      <th>...</th>\n      <th>iswicket</th>\n      <th>byes</th>\n      <th>legbyes</th>\n      <th>wides</th>\n      <th>noballs</th>\n      <th>penalties</th>\n      <th>out_player_id</th>\n      <th>current_innings_runs</th>\n      <th>current_innings_wickets</th>\n      <th>year</th>\n    </tr>\n  </thead>\n  <tbody>\n    <tr>\n      <th>110</th>\n      <td>1165643</td>\n      <td>1178429</td>\n      <td>1.0</td>\n      <td>51088.0</td>\n      <td>74633.0</td>\n      <td>19.0</td>\n      <td>1.0</td>\n      <td>18.1</td>\n      <td>1.0</td>\n      <td>1.0</td>\n      <td>...</td>\n      <td>False</td>\n      <td>0.0</td>\n      <td>0.0</td>\n      <td>0.0</td>\n      <td>0.0</td>\n      <td>0.0</td>\n      <td>NaN</td>\n      <td>143.0</td>\n      <td>7.0</td>\n      <td>2019</td>\n    </tr>\n    <tr>\n      <th>111</th>\n      <td>1165643</td>\n      <td>1178429</td>\n      <td>1.0</td>\n      <td>54282.0</td>\n      <td>74633.0</td>\n      <td>19.0</td>\n      <td>2.0</td>\n      <td>18.2</td>\n      <td>1.0</td>\n      <td>1.0</td>\n      <td>...</td>\n      <td>False</td>\n      <td>0.0</td>\n      <td>0.0</td>\n      <td>0.0</td>\n      <td>0.0</td>\n      <td>0.0</td>\n      <td>NaN</td>\n      <td>144.0</td>\n      <td>7.0</td>\n      <td>2019</td>\n    </tr>\n    <tr>\n      <th>112</th>\n      <td>1165643</td>\n      <td>1178429</td>\n      <td>1.0</td>\n      <td>51088.0</td>\n      <td>74633.0</td>\n      <td>19.0</td>\n      <td>3.0</td>\n      <td>18.3</td>\n      <td>1.0</td>\n      <td>1.0</td>\n      <td>...</td>\n      <td>False</td>\n      <td>0.0</td>\n      <td>0.0</td>\n      <td>0.0</td>\n      <td>0.0</td>\n      <td>0.0</td>\n      <td>NaN</td>\n      <td>145.0</td>\n      <td>7.0</td>\n      <td>2019</td>\n    </tr>\n    <tr>\n      <th>113</th>\n      <td>1165643</td>\n      <td>1178429</td>\n      <td>1.0</td>\n      <td>54282.0</td>\n      <td>74633.0</td>\n      <td>19.0</td>\n      <td>4.0</td>\n      <td>18.4</td>\n      <td>0.0</td>\n      <td>0.0</td>\n      <td>...</td>\n      <td>False</td>\n      <td>0.0</td>\n      <td>0.0</td>\n      <td>0.0</td>\n      <td>0.0</td>\n      <td>0.0</td>\n      <td>NaN</td>\n      <td>145.0</td>\n      <td>7.0</td>\n      <td>2019</td>\n    </tr>\n    <tr>\n      <th>114</th>\n      <td>1165643</td>\n      <td>1178429</td>\n      <td>1.0</td>\n      <td>54282.0</td>\n      <td>74633.0</td>\n      <td>19.0</td>\n      <td>5.0</td>\n      <td>18.5</td>\n      <td>1.0</td>\n      <td>1.0</td>\n      <td>...</td>\n      <td>False</td>\n      <td>0.0</td>\n      <td>0.0</td>\n      <td>0.0</td>\n      <td>0.0</td>\n      <td>0.0</td>\n      <td>NaN</td>\n      <td>146.0</td>\n      <td>7.0</td>\n      <td>2019</td>\n    </tr>\n    <tr>\n      <th>...</th>\n      <td>...</td>\n      <td>...</td>\n      <td>...</td>\n      <td>...</td>\n      <td>...</td>\n      <td>...</td>\n      <td>...</td>\n      <td>...</td>\n      <td>...</td>\n      <td>...</td>\n      <td>...</td>\n      <td>...</td>\n      <td>...</td>\n      <td>...</td>\n      <td>...</td>\n      <td>...</td>\n      <td>...</td>\n      <td>...</td>\n      <td>...</td>\n      <td>...</td>\n      <td>...</td>\n    </tr>\n    <tr>\n      <th>243646</th>\n      <td>313494</td>\n      <td>336013</td>\n      <td>2.0</td>\n      <td>11399.0</td>\n      <td>9505.0</td>\n      <td>19.0</td>\n      <td>2.0</td>\n      <td>18.2</td>\n      <td>1.0</td>\n      <td>1.0</td>\n      <td>...</td>\n      <td>False</td>\n      <td>0.0</td>\n      <td>0.0</td>\n      <td>0.0</td>\n      <td>0.0</td>\n      <td>0.0</td>\n      <td>NaN</td>\n      <td>153.0</td>\n      <td>6.0</td>\n      <td>2008</td>\n    </tr>\n    <tr>\n      <th>243647</th>\n      <td>313494</td>\n      <td>336013</td>\n      <td>2.0</td>\n      <td>47185.0</td>\n      <td>9505.0</td>\n      <td>19.0</td>\n      <td>3.0</td>\n      <td>18.3</td>\n      <td>0.0</td>\n      <td>0.0</td>\n      <td>...</td>\n      <td>False</td>\n      <td>0.0</td>\n      <td>0.0</td>\n      <td>0.0</td>\n      <td>0.0</td>\n      <td>0.0</td>\n      <td>NaN</td>\n      <td>153.0</td>\n      <td>6.0</td>\n      <td>2008</td>\n    </tr>\n    <tr>\n      <th>243648</th>\n      <td>313494</td>\n      <td>336013</td>\n      <td>2.0</td>\n      <td>47185.0</td>\n      <td>9505.0</td>\n      <td>19.0</td>\n      <td>4.0</td>\n      <td>18.4</td>\n      <td>1.0</td>\n      <td>1.0</td>\n      <td>...</td>\n      <td>False</td>\n      <td>0.0</td>\n      <td>0.0</td>\n      <td>0.0</td>\n      <td>0.0</td>\n      <td>0.0</td>\n      <td>NaN</td>\n      <td>154.0</td>\n      <td>6.0</td>\n      <td>2008</td>\n    </tr>\n    <tr>\n      <th>243649</th>\n      <td>313494</td>\n      <td>336013</td>\n      <td>2.0</td>\n      <td>11399.0</td>\n      <td>9505.0</td>\n      <td>19.0</td>\n      <td>5.0</td>\n      <td>18.5</td>\n      <td>1.0</td>\n      <td>1.0</td>\n      <td>...</td>\n      <td>False</td>\n      <td>0.0</td>\n      <td>0.0</td>\n      <td>0.0</td>\n      <td>0.0</td>\n      <td>0.0</td>\n      <td>NaN</td>\n      <td>155.0</td>\n      <td>6.0</td>\n      <td>2008</td>\n    </tr>\n    <tr>\n      <th>243650</th>\n      <td>313494</td>\n      <td>336013</td>\n      <td>2.0</td>\n      <td>47185.0</td>\n      <td>9505.0</td>\n      <td>19.0</td>\n      <td>6.0</td>\n      <td>18.6</td>\n      <td>0.0</td>\n      <td>0.0</td>\n      <td>...</td>\n      <td>False</td>\n      <td>0.0</td>\n      <td>0.0</td>\n      <td>0.0</td>\n      <td>0.0</td>\n      <td>0.0</td>\n      <td>NaN</td>\n      <td>155.0</td>\n      <td>6.0</td>\n      <td>2008</td>\n    </tr>\n  </tbody>\n</table>\n<p>10809 rows × 22 columns</p>\n</div>"
     },
     "execution_count": 87,
     "metadata": {},
     "output_type": "execute_result"
    }
   ],
   "source": [
    "#find mathces and innings where the 19th over was bowled\n",
    "filtered_df=ball_by_ball_df[(ball_by_ball_df['over']>=18.1) & (ball_by_ball_df['over']<=18.6)]\n",
    "filtered_df"
   ],
   "metadata": {
    "collapsed": false,
    "ExecuteTime": {
     "end_time": "2024-04-07T18:53:43.049373Z",
     "start_time": "2024-04-07T18:53:42.911691Z"
    }
   },
   "id": "6a1885eb6fe7f64c",
   "execution_count": 87
  },
  {
   "cell_type": "code",
   "outputs": [
    {
     "data": {
      "text/plain": "      batsman_id  year  match_id  innings_no  total_runs\n0         1934.0  2009    392181         1.0         5.0\n1         1934.0  2010    419122         2.0         1.0\n2         1934.0  2010    419125         2.0         4.0\n3         1934.0  2010    419150         1.0        10.0\n4         1934.0  2011    501205         2.0         4.0\n...          ...   ...       ...         ...         ...\n3976    108718.0  2023   1359518         1.0         0.0\n3977    108718.0  2023   1359529         2.0         1.0\n3978    110107.0  2023   1359485         2.0         0.0\n3979    110107.0  2023   1359490         1.0         1.0\n3980    114254.0  2023   1359488         1.0         0.0\n\n[3981 rows x 5 columns]",
      "text/html": "<div>\n<style scoped>\n    .dataframe tbody tr th:only-of-type {\n        vertical-align: middle;\n    }\n\n    .dataframe tbody tr th {\n        vertical-align: top;\n    }\n\n    .dataframe thead th {\n        text-align: right;\n    }\n</style>\n<table border=\"1\" class=\"dataframe\">\n  <thead>\n    <tr style=\"text-align: right;\">\n      <th></th>\n      <th>batsman_id</th>\n      <th>year</th>\n      <th>match_id</th>\n      <th>innings_no</th>\n      <th>total_runs</th>\n    </tr>\n  </thead>\n  <tbody>\n    <tr>\n      <th>0</th>\n      <td>1934.0</td>\n      <td>2009</td>\n      <td>392181</td>\n      <td>1.0</td>\n      <td>5.0</td>\n    </tr>\n    <tr>\n      <th>1</th>\n      <td>1934.0</td>\n      <td>2010</td>\n      <td>419122</td>\n      <td>2.0</td>\n      <td>1.0</td>\n    </tr>\n    <tr>\n      <th>2</th>\n      <td>1934.0</td>\n      <td>2010</td>\n      <td>419125</td>\n      <td>2.0</td>\n      <td>4.0</td>\n    </tr>\n    <tr>\n      <th>3</th>\n      <td>1934.0</td>\n      <td>2010</td>\n      <td>419150</td>\n      <td>1.0</td>\n      <td>10.0</td>\n    </tr>\n    <tr>\n      <th>4</th>\n      <td>1934.0</td>\n      <td>2011</td>\n      <td>501205</td>\n      <td>2.0</td>\n      <td>4.0</td>\n    </tr>\n    <tr>\n      <th>...</th>\n      <td>...</td>\n      <td>...</td>\n      <td>...</td>\n      <td>...</td>\n      <td>...</td>\n    </tr>\n    <tr>\n      <th>3976</th>\n      <td>108718.0</td>\n      <td>2023</td>\n      <td>1359518</td>\n      <td>1.0</td>\n      <td>0.0</td>\n    </tr>\n    <tr>\n      <th>3977</th>\n      <td>108718.0</td>\n      <td>2023</td>\n      <td>1359529</td>\n      <td>2.0</td>\n      <td>1.0</td>\n    </tr>\n    <tr>\n      <th>3978</th>\n      <td>110107.0</td>\n      <td>2023</td>\n      <td>1359485</td>\n      <td>2.0</td>\n      <td>0.0</td>\n    </tr>\n    <tr>\n      <th>3979</th>\n      <td>110107.0</td>\n      <td>2023</td>\n      <td>1359490</td>\n      <td>1.0</td>\n      <td>1.0</td>\n    </tr>\n    <tr>\n      <th>3980</th>\n      <td>114254.0</td>\n      <td>2023</td>\n      <td>1359488</td>\n      <td>1.0</td>\n      <td>0.0</td>\n    </tr>\n  </tbody>\n</table>\n<p>3981 rows × 5 columns</p>\n</div>"
     },
     "execution_count": 88,
     "metadata": {},
     "output_type": "execute_result"
    }
   ],
   "source": [
    "#for each batsman,find runs in 19th_over and number of balls faced\n",
    "batsman_runs_19th_over=filtered_df.groupby(['batsman_id','year','match_id','innings_no'])['total_runs'].sum().reset_index()\n",
    "batsman_runs_19th_over"
   ],
   "metadata": {
    "collapsed": false,
    "ExecuteTime": {
     "end_time": "2024-04-07T18:53:43.051058Z",
     "start_time": "2024-04-07T18:53:42.926785Z"
    }
   },
   "id": "579baf6542b09884",
   "execution_count": 88
  },
  {
   "cell_type": "code",
   "outputs": [
    {
     "data": {
      "text/plain": "    batsman_id  year  match_id  innings_no  batsman_runs  runs_19th_over\n0       1934.0  2011    501210         1.0         100.0            13.0\n1       4176.0  2011    501260         1.0         106.0            10.0\n2       4382.0  2008    335990         1.0         117.0            11.0\n3       6256.0  2008    335983         1.0         116.0             9.0\n4       6315.0  2010    419139         2.0         110.0             8.0\n..         ...   ...       ...         ...           ...             ...\n61     95094.0  2021   1254089         1.0         101.0             2.0\n62     95316.0  2023   1359536         1.0         101.0             2.0\n63     95316.0  2023   1359544         2.0         104.0             8.0\n64    102743.0  2023   1359516         1.0         124.0            12.0\n65    103766.0  2023   1359533         1.0         103.0             0.0\n\n[66 rows x 6 columns]",
      "text/html": "<div>\n<style scoped>\n    .dataframe tbody tr th:only-of-type {\n        vertical-align: middle;\n    }\n\n    .dataframe tbody tr th {\n        vertical-align: top;\n    }\n\n    .dataframe thead th {\n        text-align: right;\n    }\n</style>\n<table border=\"1\" class=\"dataframe\">\n  <thead>\n    <tr style=\"text-align: right;\">\n      <th></th>\n      <th>batsman_id</th>\n      <th>year</th>\n      <th>match_id</th>\n      <th>innings_no</th>\n      <th>batsman_runs</th>\n      <th>runs_19th_over</th>\n    </tr>\n  </thead>\n  <tbody>\n    <tr>\n      <th>0</th>\n      <td>1934.0</td>\n      <td>2011</td>\n      <td>501210</td>\n      <td>1.0</td>\n      <td>100.0</td>\n      <td>13.0</td>\n    </tr>\n    <tr>\n      <th>1</th>\n      <td>4176.0</td>\n      <td>2011</td>\n      <td>501260</td>\n      <td>1.0</td>\n      <td>106.0</td>\n      <td>10.0</td>\n    </tr>\n    <tr>\n      <th>2</th>\n      <td>4382.0</td>\n      <td>2008</td>\n      <td>335990</td>\n      <td>1.0</td>\n      <td>117.0</td>\n      <td>11.0</td>\n    </tr>\n    <tr>\n      <th>3</th>\n      <td>6256.0</td>\n      <td>2008</td>\n      <td>335983</td>\n      <td>1.0</td>\n      <td>116.0</td>\n      <td>9.0</td>\n    </tr>\n    <tr>\n      <th>4</th>\n      <td>6315.0</td>\n      <td>2010</td>\n      <td>419139</td>\n      <td>2.0</td>\n      <td>110.0</td>\n      <td>8.0</td>\n    </tr>\n    <tr>\n      <th>...</th>\n      <td>...</td>\n      <td>...</td>\n      <td>...</td>\n      <td>...</td>\n      <td>...</td>\n      <td>...</td>\n    </tr>\n    <tr>\n      <th>61</th>\n      <td>95094.0</td>\n      <td>2021</td>\n      <td>1254089</td>\n      <td>1.0</td>\n      <td>101.0</td>\n      <td>2.0</td>\n    </tr>\n    <tr>\n      <th>62</th>\n      <td>95316.0</td>\n      <td>2023</td>\n      <td>1359536</td>\n      <td>1.0</td>\n      <td>101.0</td>\n      <td>2.0</td>\n    </tr>\n    <tr>\n      <th>63</th>\n      <td>95316.0</td>\n      <td>2023</td>\n      <td>1359544</td>\n      <td>2.0</td>\n      <td>104.0</td>\n      <td>8.0</td>\n    </tr>\n    <tr>\n      <th>64</th>\n      <td>102743.0</td>\n      <td>2023</td>\n      <td>1359516</td>\n      <td>1.0</td>\n      <td>124.0</td>\n      <td>12.0</td>\n    </tr>\n    <tr>\n      <th>65</th>\n      <td>103766.0</td>\n      <td>2023</td>\n      <td>1359533</td>\n      <td>1.0</td>\n      <td>103.0</td>\n      <td>0.0</td>\n    </tr>\n  </tbody>\n</table>\n<p>66 rows × 6 columns</p>\n</div>"
     },
     "execution_count": 89,
     "metadata": {},
     "output_type": "execute_result"
    }
   ],
   "source": [
    "#merge batsman_runs_100 and batsman_runs_19th_over\n",
    "batsman_runs_100=batsman_runs_100.merge(batsman_runs_19th_over,on=['batsman_id','year','match_id','innings_no'],how='inner')\n",
    "batsman_runs_100.rename(columns={'total_runs':'runs_19th_over'},inplace=True)\n",
    "batsman_runs_100"
   ],
   "metadata": {
    "collapsed": false,
    "ExecuteTime": {
     "end_time": "2024-04-07T18:53:43.090952Z",
     "start_time": "2024-04-07T18:53:42.934554Z"
    }
   },
   "id": "3e83c3e70b79a922",
   "execution_count": 89
  },
  {
   "cell_type": "markdown",
   "source": [
    "## out of 97 hundreds, 66 batters faced the 19th over"
   ],
   "metadata": {
    "collapsed": false
   },
   "id": "ced0f2652f21a0ce"
  },
  {
   "cell_type": "code",
   "outputs": [
    {
     "data": {
      "text/plain": "      batsman_id  year  match_id  innings_no  balls_faced_19th_over\n0         1934.0  2009    392181         1.0                      3\n1         1934.0  2010    419122         2.0                      1\n2         1934.0  2010    419125         2.0                      2\n3         1934.0  2010    419150         1.0                      4\n4         1934.0  2011    501205         2.0                      2\n...          ...   ...       ...         ...                    ...\n3976    108718.0  2023   1359518         1.0                      1\n3977    108718.0  2023   1359529         2.0                      1\n3978    110107.0  2023   1359485         2.0                      1\n3979    110107.0  2023   1359490         1.0                      3\n3980    114254.0  2023   1359488         1.0                      1\n\n[3981 rows x 5 columns]",
      "text/html": "<div>\n<style scoped>\n    .dataframe tbody tr th:only-of-type {\n        vertical-align: middle;\n    }\n\n    .dataframe tbody tr th {\n        vertical-align: top;\n    }\n\n    .dataframe thead th {\n        text-align: right;\n    }\n</style>\n<table border=\"1\" class=\"dataframe\">\n  <thead>\n    <tr style=\"text-align: right;\">\n      <th></th>\n      <th>batsman_id</th>\n      <th>year</th>\n      <th>match_id</th>\n      <th>innings_no</th>\n      <th>balls_faced_19th_over</th>\n    </tr>\n  </thead>\n  <tbody>\n    <tr>\n      <th>0</th>\n      <td>1934.0</td>\n      <td>2009</td>\n      <td>392181</td>\n      <td>1.0</td>\n      <td>3</td>\n    </tr>\n    <tr>\n      <th>1</th>\n      <td>1934.0</td>\n      <td>2010</td>\n      <td>419122</td>\n      <td>2.0</td>\n      <td>1</td>\n    </tr>\n    <tr>\n      <th>2</th>\n      <td>1934.0</td>\n      <td>2010</td>\n      <td>419125</td>\n      <td>2.0</td>\n      <td>2</td>\n    </tr>\n    <tr>\n      <th>3</th>\n      <td>1934.0</td>\n      <td>2010</td>\n      <td>419150</td>\n      <td>1.0</td>\n      <td>4</td>\n    </tr>\n    <tr>\n      <th>4</th>\n      <td>1934.0</td>\n      <td>2011</td>\n      <td>501205</td>\n      <td>2.0</td>\n      <td>2</td>\n    </tr>\n    <tr>\n      <th>...</th>\n      <td>...</td>\n      <td>...</td>\n      <td>...</td>\n      <td>...</td>\n      <td>...</td>\n    </tr>\n    <tr>\n      <th>3976</th>\n      <td>108718.0</td>\n      <td>2023</td>\n      <td>1359518</td>\n      <td>1.0</td>\n      <td>1</td>\n    </tr>\n    <tr>\n      <th>3977</th>\n      <td>108718.0</td>\n      <td>2023</td>\n      <td>1359529</td>\n      <td>2.0</td>\n      <td>1</td>\n    </tr>\n    <tr>\n      <th>3978</th>\n      <td>110107.0</td>\n      <td>2023</td>\n      <td>1359485</td>\n      <td>2.0</td>\n      <td>1</td>\n    </tr>\n    <tr>\n      <th>3979</th>\n      <td>110107.0</td>\n      <td>2023</td>\n      <td>1359490</td>\n      <td>1.0</td>\n      <td>3</td>\n    </tr>\n    <tr>\n      <th>3980</th>\n      <td>114254.0</td>\n      <td>2023</td>\n      <td>1359488</td>\n      <td>1.0</td>\n      <td>1</td>\n    </tr>\n  </tbody>\n</table>\n<p>3981 rows × 5 columns</p>\n</div>"
     },
     "execution_count": 90,
     "metadata": {},
     "output_type": "execute_result"
    }
   ],
   "source": [
    "#find number of balls faced by each batsman in 19th over\n",
    "balls_faced_19th_over=filtered_df.groupby(['batsman_id','year','match_id','innings_no'])['ball_number'].count().reset_index()\n",
    "balls_faced_19th_over.rename(columns={'ball_number':'balls_faced_19th_over'},inplace=True)\n",
    "balls_faced_19th_over"
   ],
   "metadata": {
    "collapsed": false,
    "ExecuteTime": {
     "end_time": "2024-04-07T18:53:43.093242Z",
     "start_time": "2024-04-07T18:53:42.941532Z"
    }
   },
   "id": "a1167f26db27c1a9",
   "execution_count": 90
  },
  {
   "cell_type": "code",
   "outputs": [
    {
     "data": {
      "text/plain": "    batsman_id  year  match_id  innings_no  batsman_runs  runs_19th_over  \\\n0       1934.0  2011    501210         1.0         100.0            13.0   \n1       4176.0  2011    501260         1.0         106.0            10.0   \n2       4382.0  2008    335990         1.0         117.0            11.0   \n3       6256.0  2008    335983         1.0         116.0             9.0   \n4       6315.0  2010    419139         2.0         110.0             8.0   \n..         ...   ...       ...         ...           ...             ...   \n61     95094.0  2021   1254089         1.0         101.0             2.0   \n62     95316.0  2023   1359536         1.0         101.0             2.0   \n63     95316.0  2023   1359544         2.0         104.0             8.0   \n64    102743.0  2023   1359516         1.0         124.0            12.0   \n65    103766.0  2023   1359533         1.0         103.0             0.0   \n\n    balls_faced_19th_over  \n0                       4  \n1                       2  \n2                       5  \n3                       3  \n4                       2  \n..                    ...  \n61                      1  \n62                      2  \n63                      3  \n64                      5  \n65                      2  \n\n[66 rows x 7 columns]",
      "text/html": "<div>\n<style scoped>\n    .dataframe tbody tr th:only-of-type {\n        vertical-align: middle;\n    }\n\n    .dataframe tbody tr th {\n        vertical-align: top;\n    }\n\n    .dataframe thead th {\n        text-align: right;\n    }\n</style>\n<table border=\"1\" class=\"dataframe\">\n  <thead>\n    <tr style=\"text-align: right;\">\n      <th></th>\n      <th>batsman_id</th>\n      <th>year</th>\n      <th>match_id</th>\n      <th>innings_no</th>\n      <th>batsman_runs</th>\n      <th>runs_19th_over</th>\n      <th>balls_faced_19th_over</th>\n    </tr>\n  </thead>\n  <tbody>\n    <tr>\n      <th>0</th>\n      <td>1934.0</td>\n      <td>2011</td>\n      <td>501210</td>\n      <td>1.0</td>\n      <td>100.0</td>\n      <td>13.0</td>\n      <td>4</td>\n    </tr>\n    <tr>\n      <th>1</th>\n      <td>4176.0</td>\n      <td>2011</td>\n      <td>501260</td>\n      <td>1.0</td>\n      <td>106.0</td>\n      <td>10.0</td>\n      <td>2</td>\n    </tr>\n    <tr>\n      <th>2</th>\n      <td>4382.0</td>\n      <td>2008</td>\n      <td>335990</td>\n      <td>1.0</td>\n      <td>117.0</td>\n      <td>11.0</td>\n      <td>5</td>\n    </tr>\n    <tr>\n      <th>3</th>\n      <td>6256.0</td>\n      <td>2008</td>\n      <td>335983</td>\n      <td>1.0</td>\n      <td>116.0</td>\n      <td>9.0</td>\n      <td>3</td>\n    </tr>\n    <tr>\n      <th>4</th>\n      <td>6315.0</td>\n      <td>2010</td>\n      <td>419139</td>\n      <td>2.0</td>\n      <td>110.0</td>\n      <td>8.0</td>\n      <td>2</td>\n    </tr>\n    <tr>\n      <th>...</th>\n      <td>...</td>\n      <td>...</td>\n      <td>...</td>\n      <td>...</td>\n      <td>...</td>\n      <td>...</td>\n      <td>...</td>\n    </tr>\n    <tr>\n      <th>61</th>\n      <td>95094.0</td>\n      <td>2021</td>\n      <td>1254089</td>\n      <td>1.0</td>\n      <td>101.0</td>\n      <td>2.0</td>\n      <td>1</td>\n    </tr>\n    <tr>\n      <th>62</th>\n      <td>95316.0</td>\n      <td>2023</td>\n      <td>1359536</td>\n      <td>1.0</td>\n      <td>101.0</td>\n      <td>2.0</td>\n      <td>2</td>\n    </tr>\n    <tr>\n      <th>63</th>\n      <td>95316.0</td>\n      <td>2023</td>\n      <td>1359544</td>\n      <td>2.0</td>\n      <td>104.0</td>\n      <td>8.0</td>\n      <td>3</td>\n    </tr>\n    <tr>\n      <th>64</th>\n      <td>102743.0</td>\n      <td>2023</td>\n      <td>1359516</td>\n      <td>1.0</td>\n      <td>124.0</td>\n      <td>12.0</td>\n      <td>5</td>\n    </tr>\n    <tr>\n      <th>65</th>\n      <td>103766.0</td>\n      <td>2023</td>\n      <td>1359533</td>\n      <td>1.0</td>\n      <td>103.0</td>\n      <td>0.0</td>\n      <td>2</td>\n    </tr>\n  </tbody>\n</table>\n<p>66 rows × 7 columns</p>\n</div>"
     },
     "execution_count": 91,
     "metadata": {},
     "output_type": "execute_result"
    }
   ],
   "source": [
    "#merge batsman_runs_100 and balls_faced_19th_over\n",
    "batsman_runs_100=batsman_runs_100.merge(balls_faced_19th_over,on=['batsman_id','year','match_id','innings_no'],how='inner')\n",
    "batsman_runs_100"
   ],
   "metadata": {
    "collapsed": false,
    "ExecuteTime": {
     "end_time": "2024-04-07T18:53:43.114209Z",
     "start_time": "2024-04-07T18:53:42.948427Z"
    }
   },
   "id": "967e50af78670d2",
   "execution_count": 91
  },
  {
   "cell_type": "code",
   "outputs": [
    {
     "data": {
      "text/plain": "    batsman_id  year  match_id  innings_no  batsman_runs  runs_19th_over  \\\n0       1934.0  2011    501210         1.0         100.0            13.0   \n1       4176.0  2011    501260         1.0         106.0            10.0   \n2       4382.0  2008    335990         1.0         117.0            11.0   \n3       6256.0  2008    335983         1.0         116.0             9.0   \n4       6315.0  2010    419139         2.0         110.0             8.0   \n..         ...   ...       ...         ...           ...             ...   \n61     95094.0  2021   1254089         1.0         101.0             2.0   \n62     95316.0  2023   1359536         1.0         101.0             2.0   \n63     95316.0  2023   1359544         2.0         104.0             8.0   \n64    102743.0  2023   1359516         1.0         124.0            12.0   \n65    103766.0  2023   1359533         1.0         103.0             0.0   \n\n    balls_faced_19th_over  strike_rate_19th_over  \n0                       4             325.000000  \n1                       2             500.000000  \n2                       5             220.000000  \n3                       3             300.000000  \n4                       2             400.000000  \n..                    ...                    ...  \n61                      1             200.000000  \n62                      2             100.000000  \n63                      3             266.666667  \n64                      5             240.000000  \n65                      2               0.000000  \n\n[66 rows x 8 columns]",
      "text/html": "<div>\n<style scoped>\n    .dataframe tbody tr th:only-of-type {\n        vertical-align: middle;\n    }\n\n    .dataframe tbody tr th {\n        vertical-align: top;\n    }\n\n    .dataframe thead th {\n        text-align: right;\n    }\n</style>\n<table border=\"1\" class=\"dataframe\">\n  <thead>\n    <tr style=\"text-align: right;\">\n      <th></th>\n      <th>batsman_id</th>\n      <th>year</th>\n      <th>match_id</th>\n      <th>innings_no</th>\n      <th>batsman_runs</th>\n      <th>runs_19th_over</th>\n      <th>balls_faced_19th_over</th>\n      <th>strike_rate_19th_over</th>\n    </tr>\n  </thead>\n  <tbody>\n    <tr>\n      <th>0</th>\n      <td>1934.0</td>\n      <td>2011</td>\n      <td>501210</td>\n      <td>1.0</td>\n      <td>100.0</td>\n      <td>13.0</td>\n      <td>4</td>\n      <td>325.000000</td>\n    </tr>\n    <tr>\n      <th>1</th>\n      <td>4176.0</td>\n      <td>2011</td>\n      <td>501260</td>\n      <td>1.0</td>\n      <td>106.0</td>\n      <td>10.0</td>\n      <td>2</td>\n      <td>500.000000</td>\n    </tr>\n    <tr>\n      <th>2</th>\n      <td>4382.0</td>\n      <td>2008</td>\n      <td>335990</td>\n      <td>1.0</td>\n      <td>117.0</td>\n      <td>11.0</td>\n      <td>5</td>\n      <td>220.000000</td>\n    </tr>\n    <tr>\n      <th>3</th>\n      <td>6256.0</td>\n      <td>2008</td>\n      <td>335983</td>\n      <td>1.0</td>\n      <td>116.0</td>\n      <td>9.0</td>\n      <td>3</td>\n      <td>300.000000</td>\n    </tr>\n    <tr>\n      <th>4</th>\n      <td>6315.0</td>\n      <td>2010</td>\n      <td>419139</td>\n      <td>2.0</td>\n      <td>110.0</td>\n      <td>8.0</td>\n      <td>2</td>\n      <td>400.000000</td>\n    </tr>\n    <tr>\n      <th>...</th>\n      <td>...</td>\n      <td>...</td>\n      <td>...</td>\n      <td>...</td>\n      <td>...</td>\n      <td>...</td>\n      <td>...</td>\n      <td>...</td>\n    </tr>\n    <tr>\n      <th>61</th>\n      <td>95094.0</td>\n      <td>2021</td>\n      <td>1254089</td>\n      <td>1.0</td>\n      <td>101.0</td>\n      <td>2.0</td>\n      <td>1</td>\n      <td>200.000000</td>\n    </tr>\n    <tr>\n      <th>62</th>\n      <td>95316.0</td>\n      <td>2023</td>\n      <td>1359536</td>\n      <td>1.0</td>\n      <td>101.0</td>\n      <td>2.0</td>\n      <td>2</td>\n      <td>100.000000</td>\n    </tr>\n    <tr>\n      <th>63</th>\n      <td>95316.0</td>\n      <td>2023</td>\n      <td>1359544</td>\n      <td>2.0</td>\n      <td>104.0</td>\n      <td>8.0</td>\n      <td>3</td>\n      <td>266.666667</td>\n    </tr>\n    <tr>\n      <th>64</th>\n      <td>102743.0</td>\n      <td>2023</td>\n      <td>1359516</td>\n      <td>1.0</td>\n      <td>124.0</td>\n      <td>12.0</td>\n      <td>5</td>\n      <td>240.000000</td>\n    </tr>\n    <tr>\n      <th>65</th>\n      <td>103766.0</td>\n      <td>2023</td>\n      <td>1359533</td>\n      <td>1.0</td>\n      <td>103.0</td>\n      <td>0.0</td>\n      <td>2</td>\n      <td>0.000000</td>\n    </tr>\n  </tbody>\n</table>\n<p>66 rows × 8 columns</p>\n</div>"
     },
     "execution_count": 92,
     "metadata": {},
     "output_type": "execute_result"
    }
   ],
   "source": [
    "#calculate strike rate for each batsman\n",
    "batsman_runs_100['strike_rate_19th_over']=(batsman_runs_100['runs_19th_over']/batsman_runs_100['balls_faced_19th_over'])*100\n",
    "batsman_runs_100"
   ],
   "metadata": {
    "collapsed": false,
    "ExecuteTime": {
     "end_time": "2024-04-07T18:53:49.387936Z",
     "start_time": "2024-04-07T18:53:49.331782Z"
    }
   },
   "id": "671910ddc64edb3e",
   "execution_count": 92
  },
  {
   "cell_type": "code",
   "outputs": [
    {
     "data": {
      "text/plain": "600.0"
     },
     "execution_count": 93,
     "metadata": {},
     "output_type": "execute_result"
    }
   ],
   "source": [
    "max(batsman_runs_100['strike_rate_19th_over'])"
   ],
   "metadata": {
    "collapsed": false,
    "ExecuteTime": {
     "end_time": "2024-04-07T18:53:50.185739Z",
     "start_time": "2024-04-07T18:53:50.176417Z"
    }
   },
   "id": "276487c1b1ce131f",
   "execution_count": 93
  },
  {
   "cell_type": "code",
   "outputs": [
    {
     "data": {
      "text/plain": "<Figure size 1000x600 with 1 Axes>",
      "image/png": "[encoded data removed]"
     },
     "metadata": {},
     "output_type": "display_data"
    }
   ],
   "source": [
    "#plot distribution of strike rate in 19th over as percetange\n",
    "plt.figure(figsize=(10,6))\n",
    "sns.histplot(batsman_runs_100['strike_rate_19th_over'],bins=range(0,601,50),kde=True)\n",
    "plt.xticks(range(0,601,25))\n",
    "plt.xlabel(\"Strike Rate in 19th over\")\n",
    "plt.ylabel(\"Frequency\")\n",
    "plt.title(\"Histogram of Strike Rate in 19th over\")\n",
    "plt.show()\n",
    "\n"
   ],
   "metadata": {
    "collapsed": false,
    "ExecuteTime": {
     "end_time": "2024-04-07T18:53:50.976099Z",
     "start_time": "2024-04-07T18:53:50.820279Z"
    }
   },
   "id": "54ec391eb0995fa5",
   "execution_count": 94
  },
  {
   "cell_type": "code",
   "outputs": [
    {
     "name": "stdout",
     "output_type": "stream",
     "text": [
      "Percentage of batters with strike rate below 100:  13.64\n",
      "Percentage of batters with strike rate above 100:  69.7\n"
     ]
    }
   ],
   "source": [
    "#percentage below 100 and above 100\n",
    "print(\"Percentage of batters with strike rate below 100: \",round((batsman_runs_100[batsman_runs_100['strike_rate_19th_over']<100].shape[0]/batsman_runs_100.shape[0])*100,2))\n",
    "print(\"Percentage of batters with strike rate above 100: \",round((batsman_runs_100[batsman_runs_100['strike_rate_19th_over']>100].shape[0]/batsman_runs_100.shape[0])*100,2))\n"
   ],
   "metadata": {
    "collapsed": false,
    "ExecuteTime": {
     "end_time": "2024-04-07T18:53:52.739207Z",
     "start_time": "2024-04-07T18:53:52.692495Z"
    }
   },
   "id": "133b1bfdd4567c80",
   "execution_count": 95
  },
  {
   "cell_type": "code",
   "outputs": [
    {
     "data": {
      "text/plain": "    batsman_id  year  match_id  innings_no  batsman_runs  runs_19th_over  \\\n0       1934.0  2011    501210         1.0         100.0            13.0   \n1       4176.0  2011    501260         1.0         106.0            10.0   \n2       4382.0  2008    335990         1.0         117.0            11.0   \n3       6256.0  2008    335983         1.0         116.0             9.0   \n4       6315.0  2010    419139         2.0         110.0             8.0   \n7       7568.0  2013    598027         1.0         175.0             3.0   \n8       7568.0  2018   1136576         1.0         104.0             3.0   \n10      7793.0  2011    501206         2.0         120.0             8.0   \n11      8107.0  2012    548321         2.0         103.0             2.0   \n12      8999.0  2018   1136606         2.0         100.0             2.0   \n13      9952.0  2017   1082612         1.0         104.0             8.0   \n15     10125.0  2015    829811         1.0         104.0             9.0   \n16     10125.0  2018   1136577         1.0         106.0             3.0   \n17     10129.0  2008    336019         1.0         115.0             7.0   \n18     10384.0  2008    335982         1.0         158.0            17.0   \n20     15716.0  2013    598041         1.0         100.0             5.0   \n21     15887.0  2020   1216509         2.0         101.0             3.0   \n22     15887.0  2020   1216546         1.0         106.0             5.0   \n23     45256.0  2014    734025         2.0         100.0             2.0   \n24     46533.0  2009    392189         1.0         105.0            21.0   \n25     46533.0  2015    829795         1.0         133.0            13.0   \n26     48405.0  2012    548363         1.0         109.0             2.0   \n28     48739.0  2019   1175366         1.0         100.0            15.0   \n29     49342.0  2010    419137         1.0         127.0             7.0   \n31     49752.0  2016    980937         1.0         100.0            10.0   \n32     49752.0  2016    980969         2.0         108.0            15.0   \n33     49752.0  2016    980987         1.0         109.0            30.0   \n34     49752.0  2019   1178410         1.0         100.0            15.0   \n35     49752.0  2023   1359544         1.0         101.0            10.0   \n36     50281.0  2016    980949         1.0         101.0             9.0   \n39     51216.0  2014    734049         1.0         115.0            17.0   \n40     51454.0  2009    392236         1.0         114.0             4.0   \n41     53271.0  2021   1254085         1.0         124.0            23.0   \n42     53271.0  2022   1304055         1.0         100.0             1.0   \n43     53271.0  2022   1304080         1.0         116.0            13.0   \n45     53320.0  2017   1082629         2.0         103.0            16.0   \n46     53320.0  2020   1216541         2.0         107.0            10.0   \n48     58406.0  2022   1304112         1.0         140.0            20.0   \n49     60530.0  2019   1178399         1.0         100.0            23.0   \n50     60530.0  2020   1216510         1.0         132.0            26.0   \n51     60530.0  2022   1304072         1.0         103.0            10.0   \n52     60530.0  2022   1304083         1.0         103.0             2.0   \n53     60806.0  2017   1082599         1.0         102.0             6.0   \n54     60806.0  2019   1175363         1.0         102.0            11.0   \n55     60806.0  2021   1254061         2.0         119.0             7.0   \n56     61634.0  2023   1359539         1.0         104.0             8.0   \n57     61990.0  2023   1359531         1.0         103.0            15.0   \n58     80645.0  2022   1312198         1.0         112.0            10.0   \n59     84027.0  2023   1359493         1.0         100.0             5.0   \n60     86165.0  2018   1136602         1.0         128.0             5.0   \n62     95316.0  2023   1359536         1.0         101.0             2.0   \n63     95316.0  2023   1359544         2.0         104.0             8.0   \n64    102743.0  2023   1359516         1.0         124.0            12.0   \n65    103766.0  2023   1359533         1.0         103.0             0.0   \n\n    balls_faced_19th_over  strike_rate_19th_over  \n0                       4             325.000000  \n1                       2             500.000000  \n2                       5             220.000000  \n3                       3             300.000000  \n4                       2             400.000000  \n7                       3             100.000000  \n8                       3             100.000000  \n10                      4             200.000000  \n11                      2             100.000000  \n12                      3              66.666667  \n13                      4             200.000000  \n15                      4             225.000000  \n16                      3             100.000000  \n17                      5             140.000000  \n18                      5             340.000000  \n20                      4             125.000000  \n21                      5              60.000000  \n22                      3             166.666667  \n23                      3              66.666667  \n24                      5             420.000000  \n25                      6             216.666667  \n26                      3              66.666667  \n28                      5             300.000000  \n29                      4             175.000000  \n31                      5             200.000000  \n32                      4             375.000000  \n33                      6             500.000000  \n34                      5             300.000000  \n35                      4             250.000000  \n36                      4             225.000000  \n39                      6             283.333333  \n40                      3             133.333333  \n41                      6             383.333333  \n42                      3              33.333333  \n43                      5             260.000000  \n45                      5             320.000000  \n46                      2             500.000000  \n48                      5             400.000000  \n49                      5             460.000000  \n50                      6             433.333333  \n51                      4             250.000000  \n52                      3              66.666667  \n53                      2             300.000000  \n54                      4             275.000000  \n55                      2             350.000000  \n56                      4             200.000000  \n57                      4             375.000000  \n58                      2             500.000000  \n59                      2             250.000000  \n60                      4             125.000000  \n62                      2             100.000000  \n63                      3             266.666667  \n64                      5             240.000000  \n65                      2               0.000000  ",
      "text/html": "<div>\n<style scoped>\n    .dataframe tbody tr th:only-of-type {\n        vertical-align: middle;\n    }\n\n    .dataframe tbody tr th {\n        vertical-align: top;\n    }\n\n    .dataframe thead th {\n        text-align: right;\n    }\n</style>\n<table border=\"1\" class=\"dataframe\">\n  <thead>\n    <tr style=\"text-align: right;\">\n      <th></th>\n      <th>batsman_id</th>\n      <th>year</th>\n      <th>match_id</th>\n      <th>innings_no</th>\n      <th>batsman_runs</th>\n      <th>runs_19th_over</th>\n      <th>balls_faced_19th_over</th>\n      <th>strike_rate_19th_over</th>\n    </tr>\n  </thead>\n  <tbody>\n    <tr>\n      <th>0</th>\n      <td>1934.0</td>\n      <td>2011</td>\n      <td>501210</td>\n      <td>1.0</td>\n      <td>100.0</td>\n      <td>13.0</td>\n      <td>4</td>\n      <td>325.000000</td>\n    </tr>\n    <tr>\n      <th>1</th>\n      <td>4176.0</td>\n      <td>2011</td>\n      <td>501260</td>\n      <td>1.0</td>\n      <td>106.0</td>\n      <td>10.0</td>\n      <td>2</td>\n      <td>500.000000</td>\n    </tr>\n    <tr>\n      <th>2</th>\n      <td>4382.0</td>\n      <td>2008</td>\n      <td>335990</td>\n      <td>1.0</td>\n      <td>117.0</td>\n      <td>11.0</td>\n      <td>5</td>\n      <td>220.000000</td>\n    </tr>\n    <tr>\n      <th>3</th>\n      <td>6256.0</td>\n      <td>2008</td>\n      <td>335983</td>\n      <td>1.0</td>\n      <td>116.0</td>\n      <td>9.0</td>\n      <td>3</td>\n      <td>300.000000</td>\n    </tr>\n    <tr>\n      <th>4</th>\n      <td>6315.0</td>\n      <td>2010</td>\n      <td>419139</td>\n      <td>2.0</td>\n      <td>110.0</td>\n      <td>8.0</td>\n      <td>2</td>\n      <td>400.000000</td>\n    </tr>\n    <tr>\n      <th>7</th>\n      <td>7568.0</td>\n      <td>2013</td>\n      <td>598027</td>\n      <td>1.0</td>\n      <td>175.0</td>\n      <td>3.0</td>\n      <td>3</td>\n      <td>100.000000</td>\n    </tr>\n    <tr>\n      <th>8</th>\n      <td>7568.0</td>\n      <td>2018</td>\n      <td>1136576</td>\n      <td>1.0</td>\n      <td>104.0</td>\n      <td>3.0</td>\n      <td>3</td>\n      <td>100.000000</td>\n    </tr>\n    <tr>\n      <th>10</th>\n      <td>7793.0</td>\n      <td>2011</td>\n      <td>501206</td>\n      <td>2.0</td>\n      <td>120.0</td>\n      <td>8.0</td>\n      <td>4</td>\n      <td>200.000000</td>\n    </tr>\n    <tr>\n      <th>11</th>\n      <td>8107.0</td>\n      <td>2012</td>\n      <td>548321</td>\n      <td>2.0</td>\n      <td>103.0</td>\n      <td>2.0</td>\n      <td>2</td>\n      <td>100.000000</td>\n    </tr>\n    <tr>\n      <th>12</th>\n      <td>8999.0</td>\n      <td>2018</td>\n      <td>1136606</td>\n      <td>2.0</td>\n      <td>100.0</td>\n      <td>2.0</td>\n      <td>3</td>\n      <td>66.666667</td>\n    </tr>\n    <tr>\n      <th>13</th>\n      <td>9952.0</td>\n      <td>2017</td>\n      <td>1082612</td>\n      <td>1.0</td>\n      <td>104.0</td>\n      <td>8.0</td>\n      <td>4</td>\n      <td>200.000000</td>\n    </tr>\n    <tr>\n      <th>15</th>\n      <td>10125.0</td>\n      <td>2015</td>\n      <td>829811</td>\n      <td>1.0</td>\n      <td>104.0</td>\n      <td>9.0</td>\n      <td>4</td>\n      <td>225.000000</td>\n    </tr>\n    <tr>\n      <th>16</th>\n      <td>10125.0</td>\n      <td>2018</td>\n      <td>1136577</td>\n      <td>1.0</td>\n      <td>106.0</td>\n      <td>3.0</td>\n      <td>3</td>\n      <td>100.000000</td>\n    </tr>\n    <tr>\n      <th>17</th>\n      <td>10129.0</td>\n      <td>2008</td>\n      <td>336019</td>\n      <td>1.0</td>\n      <td>115.0</td>\n      <td>7.0</td>\n      <td>5</td>\n      <td>140.000000</td>\n    </tr>\n    <tr>\n      <th>18</th>\n      <td>10384.0</td>\n      <td>2008</td>\n      <td>335982</td>\n      <td>1.0</td>\n      <td>158.0</td>\n      <td>17.0</td>\n      <td>5</td>\n      <td>340.000000</td>\n    </tr>\n    <tr>\n      <th>20</th>\n      <td>15716.0</td>\n      <td>2013</td>\n      <td>598041</td>\n      <td>1.0</td>\n      <td>100.0</td>\n      <td>5.0</td>\n      <td>4</td>\n      <td>125.000000</td>\n    </tr>\n    <tr>\n      <th>21</th>\n      <td>15887.0</td>\n      <td>2020</td>\n      <td>1216509</td>\n      <td>2.0</td>\n      <td>101.0</td>\n      <td>3.0</td>\n      <td>5</td>\n      <td>60.000000</td>\n    </tr>\n    <tr>\n      <th>22</th>\n      <td>15887.0</td>\n      <td>2020</td>\n      <td>1216546</td>\n      <td>1.0</td>\n      <td>106.0</td>\n      <td>5.0</td>\n      <td>3</td>\n      <td>166.666667</td>\n    </tr>\n    <tr>\n      <th>23</th>\n      <td>45256.0</td>\n      <td>2014</td>\n      <td>734025</td>\n      <td>2.0</td>\n      <td>100.0</td>\n      <td>2.0</td>\n      <td>3</td>\n      <td>66.666667</td>\n    </tr>\n    <tr>\n      <th>24</th>\n      <td>46533.0</td>\n      <td>2009</td>\n      <td>392189</td>\n      <td>1.0</td>\n      <td>105.0</td>\n      <td>21.0</td>\n      <td>5</td>\n      <td>420.000000</td>\n    </tr>\n    <tr>\n      <th>25</th>\n      <td>46533.0</td>\n      <td>2015</td>\n      <td>829795</td>\n      <td>1.0</td>\n      <td>133.0</td>\n      <td>13.0</td>\n      <td>6</td>\n      <td>216.666667</td>\n    </tr>\n    <tr>\n      <th>26</th>\n      <td>48405.0</td>\n      <td>2012</td>\n      <td>548363</td>\n      <td>1.0</td>\n      <td>109.0</td>\n      <td>2.0</td>\n      <td>3</td>\n      <td>66.666667</td>\n    </tr>\n    <tr>\n      <th>28</th>\n      <td>48739.0</td>\n      <td>2019</td>\n      <td>1175366</td>\n      <td>1.0</td>\n      <td>100.0</td>\n      <td>15.0</td>\n      <td>5</td>\n      <td>300.000000</td>\n    </tr>\n    <tr>\n      <th>29</th>\n      <td>49342.0</td>\n      <td>2010</td>\n      <td>419137</td>\n      <td>1.0</td>\n      <td>127.0</td>\n      <td>7.0</td>\n      <td>4</td>\n      <td>175.000000</td>\n    </tr>\n    <tr>\n      <th>31</th>\n      <td>49752.0</td>\n      <td>2016</td>\n      <td>980937</td>\n      <td>1.0</td>\n      <td>100.0</td>\n      <td>10.0</td>\n      <td>5</td>\n      <td>200.000000</td>\n    </tr>\n    <tr>\n      <th>32</th>\n      <td>49752.0</td>\n      <td>2016</td>\n      <td>980969</td>\n      <td>2.0</td>\n      <td>108.0</td>\n      <td>15.0</td>\n      <td>4</td>\n      <td>375.000000</td>\n    </tr>\n    <tr>\n      <th>33</th>\n      <td>49752.0</td>\n      <td>2016</td>\n      <td>980987</td>\n      <td>1.0</td>\n      <td>109.0</td>\n      <td>30.0</td>\n      <td>6</td>\n      <td>500.000000</td>\n    </tr>\n    <tr>\n      <th>34</th>\n      <td>49752.0</td>\n      <td>2019</td>\n      <td>1178410</td>\n      <td>1.0</td>\n      <td>100.0</td>\n      <td>15.0</td>\n      <td>5</td>\n      <td>300.000000</td>\n    </tr>\n    <tr>\n      <th>35</th>\n      <td>49752.0</td>\n      <td>2023</td>\n      <td>1359544</td>\n      <td>1.0</td>\n      <td>101.0</td>\n      <td>10.0</td>\n      <td>4</td>\n      <td>250.000000</td>\n    </tr>\n    <tr>\n      <th>36</th>\n      <td>50281.0</td>\n      <td>2016</td>\n      <td>980949</td>\n      <td>1.0</td>\n      <td>101.0</td>\n      <td>9.0</td>\n      <td>4</td>\n      <td>225.000000</td>\n    </tr>\n    <tr>\n      <th>39</th>\n      <td>51216.0</td>\n      <td>2014</td>\n      <td>734049</td>\n      <td>1.0</td>\n      <td>115.0</td>\n      <td>17.0</td>\n      <td>6</td>\n      <td>283.333333</td>\n    </tr>\n    <tr>\n      <th>40</th>\n      <td>51454.0</td>\n      <td>2009</td>\n      <td>392236</td>\n      <td>1.0</td>\n      <td>114.0</td>\n      <td>4.0</td>\n      <td>3</td>\n      <td>133.333333</td>\n    </tr>\n    <tr>\n      <th>41</th>\n      <td>53271.0</td>\n      <td>2021</td>\n      <td>1254085</td>\n      <td>1.0</td>\n      <td>124.0</td>\n      <td>23.0</td>\n      <td>6</td>\n      <td>383.333333</td>\n    </tr>\n    <tr>\n      <th>42</th>\n      <td>53271.0</td>\n      <td>2022</td>\n      <td>1304055</td>\n      <td>1.0</td>\n      <td>100.0</td>\n      <td>1.0</td>\n      <td>3</td>\n      <td>33.333333</td>\n    </tr>\n    <tr>\n      <th>43</th>\n      <td>53271.0</td>\n      <td>2022</td>\n      <td>1304080</td>\n      <td>1.0</td>\n      <td>116.0</td>\n      <td>13.0</td>\n      <td>5</td>\n      <td>260.000000</td>\n    </tr>\n    <tr>\n      <th>45</th>\n      <td>53320.0</td>\n      <td>2017</td>\n      <td>1082629</td>\n      <td>2.0</td>\n      <td>103.0</td>\n      <td>16.0</td>\n      <td>5</td>\n      <td>320.000000</td>\n    </tr>\n    <tr>\n      <th>46</th>\n      <td>53320.0</td>\n      <td>2020</td>\n      <td>1216541</td>\n      <td>2.0</td>\n      <td>107.0</td>\n      <td>10.0</td>\n      <td>2</td>\n      <td>500.000000</td>\n    </tr>\n    <tr>\n      <th>48</th>\n      <td>58406.0</td>\n      <td>2022</td>\n      <td>1304112</td>\n      <td>1.0</td>\n      <td>140.0</td>\n      <td>20.0</td>\n      <td>5</td>\n      <td>400.000000</td>\n    </tr>\n    <tr>\n      <th>49</th>\n      <td>60530.0</td>\n      <td>2019</td>\n      <td>1178399</td>\n      <td>1.0</td>\n      <td>100.0</td>\n      <td>23.0</td>\n      <td>5</td>\n      <td>460.000000</td>\n    </tr>\n    <tr>\n      <th>50</th>\n      <td>60530.0</td>\n      <td>2020</td>\n      <td>1216510</td>\n      <td>1.0</td>\n      <td>132.0</td>\n      <td>26.0</td>\n      <td>6</td>\n      <td>433.333333</td>\n    </tr>\n    <tr>\n      <th>51</th>\n      <td>60530.0</td>\n      <td>2022</td>\n      <td>1304072</td>\n      <td>1.0</td>\n      <td>103.0</td>\n      <td>10.0</td>\n      <td>4</td>\n      <td>250.000000</td>\n    </tr>\n    <tr>\n      <th>52</th>\n      <td>60530.0</td>\n      <td>2022</td>\n      <td>1304083</td>\n      <td>1.0</td>\n      <td>103.0</td>\n      <td>2.0</td>\n      <td>3</td>\n      <td>66.666667</td>\n    </tr>\n    <tr>\n      <th>53</th>\n      <td>60806.0</td>\n      <td>2017</td>\n      <td>1082599</td>\n      <td>1.0</td>\n      <td>102.0</td>\n      <td>6.0</td>\n      <td>2</td>\n      <td>300.000000</td>\n    </tr>\n    <tr>\n      <th>54</th>\n      <td>60806.0</td>\n      <td>2019</td>\n      <td>1175363</td>\n      <td>1.0</td>\n      <td>102.0</td>\n      <td>11.0</td>\n      <td>4</td>\n      <td>275.000000</td>\n    </tr>\n    <tr>\n      <th>55</th>\n      <td>60806.0</td>\n      <td>2021</td>\n      <td>1254061</td>\n      <td>2.0</td>\n      <td>119.0</td>\n      <td>7.0</td>\n      <td>2</td>\n      <td>350.000000</td>\n    </tr>\n    <tr>\n      <th>56</th>\n      <td>61634.0</td>\n      <td>2023</td>\n      <td>1359539</td>\n      <td>1.0</td>\n      <td>104.0</td>\n      <td>8.0</td>\n      <td>4</td>\n      <td>200.000000</td>\n    </tr>\n    <tr>\n      <th>57</th>\n      <td>61990.0</td>\n      <td>2023</td>\n      <td>1359531</td>\n      <td>1.0</td>\n      <td>103.0</td>\n      <td>15.0</td>\n      <td>4</td>\n      <td>375.000000</td>\n    </tr>\n    <tr>\n      <th>58</th>\n      <td>80645.0</td>\n      <td>2022</td>\n      <td>1312198</td>\n      <td>1.0</td>\n      <td>112.0</td>\n      <td>10.0</td>\n      <td>2</td>\n      <td>500.000000</td>\n    </tr>\n    <tr>\n      <th>59</th>\n      <td>84027.0</td>\n      <td>2023</td>\n      <td>1359493</td>\n      <td>1.0</td>\n      <td>100.0</td>\n      <td>5.0</td>\n      <td>2</td>\n      <td>250.000000</td>\n    </tr>\n    <tr>\n      <th>60</th>\n      <td>86165.0</td>\n      <td>2018</td>\n      <td>1136602</td>\n      <td>1.0</td>\n      <td>128.0</td>\n      <td>5.0</td>\n      <td>4</td>\n      <td>125.000000</td>\n    </tr>\n    <tr>\n      <th>62</th>\n      <td>95316.0</td>\n      <td>2023</td>\n      <td>1359536</td>\n      <td>1.0</td>\n      <td>101.0</td>\n      <td>2.0</td>\n      <td>2</td>\n      <td>100.000000</td>\n    </tr>\n    <tr>\n      <th>63</th>\n      <td>95316.0</td>\n      <td>2023</td>\n      <td>1359544</td>\n      <td>2.0</td>\n      <td>104.0</td>\n      <td>8.0</td>\n      <td>3</td>\n      <td>266.666667</td>\n    </tr>\n    <tr>\n      <th>64</th>\n      <td>102743.0</td>\n      <td>2023</td>\n      <td>1359516</td>\n      <td>1.0</td>\n      <td>124.0</td>\n      <td>12.0</td>\n      <td>5</td>\n      <td>240.000000</td>\n    </tr>\n    <tr>\n      <th>65</th>\n      <td>103766.0</td>\n      <td>2023</td>\n      <td>1359533</td>\n      <td>1.0</td>\n      <td>103.0</td>\n      <td>0.0</td>\n      <td>2</td>\n      <td>0.000000</td>\n    </tr>\n  </tbody>\n</table>\n</div>"
     },
     "execution_count": 96,
     "metadata": {},
     "output_type": "execute_result"
    }
   ],
   "source": [
    "#for batters who faced atleast 2 balls,find strike rate\n",
    "batsman_runs_2=batsman_runs_100[batsman_runs_100['balls_faced_19th_over']>=2]\n",
    "batsman_runs_2"
   ],
   "metadata": {
    "collapsed": false,
    "ExecuteTime": {
     "end_time": "2024-04-07T18:53:54.689983Z",
     "start_time": "2024-04-07T18:53:54.668664Z"
    }
   },
   "id": "98b3d57e5aa69a95",
   "execution_count": 96
  },
  {
   "cell_type": "code",
   "outputs": [
    {
     "name": "stdout",
     "output_type": "stream",
     "text": [
      "Percentage of batters with strike rate below 100 in 19th over,minimum 2 balls faced:  12.96\n",
      "Percentage of batters with strike rate above 100,minimum 2 balls faced:  77.78\n"
     ]
    }
   ],
   "source": [
    "#percentage below 100 and above 100\n",
    "print(\"Percentage of batters with strike rate below 100 in 19th over,minimum 2 balls faced: \",round((batsman_runs_2[batsman_runs_2['strike_rate_19th_over']<100].shape[0]/batsman_runs_2.shape[0])*100,2))\n",
    "print(\"Percentage of batters with strike rate above 100,minimum 2 balls faced: \",round((batsman_runs_2[batsman_runs_2['strike_rate_19th_over']>100].shape[0]/batsman_runs_2.shape[0])*100,2))\n"
   ],
   "metadata": {
    "collapsed": false,
    "ExecuteTime": {
     "end_time": "2024-04-07T18:54:58.845150Z",
     "start_time": "2024-04-07T18:54:58.805745Z"
    }
   },
   "id": "59c15d4c848892fe",
   "execution_count": 98
  },
  {
   "cell_type": "code",
   "outputs": [
    {
     "name": "stdout",
     "output_type": "stream",
     "text": [
      "Percentage of batters with strike rate below 100 in 19th over,minimum 3 balls faced:  13.64\n",
      "Percentage of batters with strike rate above 100,minimum 3 balls faced:  79.55\n"
     ]
    }
   ],
   "source": [
    "#for batters who faced atleast 2 balls,find strike rate\n",
    "batsman_runs_3 = batsman_runs_100[batsman_runs_100['balls_faced_19th_over'] >= 3]\n",
    "batsman_runs_3\n",
    "#percentage below 100 and above 100\n",
    "print(\"Percentage of batters with strike rate below 100 in 19th over,minimum 3 balls faced: \",\n",
    "      round((batsman_runs_3[batsman_runs_3['strike_rate_19th_over'] < 100].shape[0] / batsman_runs_3.shape[0]) * 100,\n",
    "            2))\n",
    "print(\"Percentage of batters with strike rate above 100,minimum 3 balls faced: \",\n",
    "      round((batsman_runs_3[batsman_runs_3['strike_rate_19th_over'] > 100].shape[0] / batsman_runs_3.shape[0]) * 100,\n",
    "            2))"
   ],
   "metadata": {
    "collapsed": false,
    "ExecuteTime": {
     "end_time": "2024-04-07T18:56:18.290795Z",
     "start_time": "2024-04-07T18:56:18.232824Z"
    }
   },
   "id": "97db75c1bceacf42",
   "execution_count": 99
  },
  {
   "cell_type": "markdown",
   "source": [
    "## verdict : 80% of batters who scored a hundred and faced atleast 3 balls in 19th over have a strike rate above 80"
   ],
   "metadata": {
    "collapsed": false
   },
   "id": "31e7c50721b9bc13"
  },
  {
   "cell_type": "code",
   "outputs": [],
   "source": [],
   "metadata": {
    "collapsed": false
   },
   "id": "4b3c2c71d181c9f8"
  }
 ],
 "metadata": {
  "kernelspec": {
   "display_name": "Python 3 (ipykernel)",
   "language": "python",
   "name": "python3"
  },
  "language_info": {
   "codemirror_mode": {
    "name": "ipython",
    "version": 3
   },
   "file_extension": ".py",
   "mimetype": "text/x-python",
   "name": "python",
   "nbconvert_exporter": "python",
   "pygments_lexer": "ipython3",
   "version": "3.11.8"
  }
 },
 "nbformat": 4,
 "nbformat_minor": 5
}
