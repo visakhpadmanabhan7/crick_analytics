{
 "cells": [
  {
   "cell_type": "code",
   "execution_count": 1,
   "id": "initial_id",
   "metadata": {
    "collapsed": true,
    "ExecuteTime": {
     "end_time": "2024-04-07T18:25:53.260971Z",
     "start_time": "2024-04-07T18:25:53.251509Z"
    }
   },
   "outputs": [],
   "source": [
    "import json\n",
    "import pandas as pd\n",
    "import matplotlib.pyplot as plt\n",
    "import seaborn as sns\n",
    "from tqdm import tqdm\n",
    "tqdm.pandas()\n"
   ]
  },
  {
   "cell_type": "markdown",
   "source": [
    "# The goal to see the amount of runs a batter batting first scores in the 19th over of the match\n",
    "## about the dataset- \n",
    "1. ball_by_ball contains detail of event of every ball bowled \n",
    "2. historical data contains result of each match,toss, venue etc."
   ],
   "metadata": {
    "collapsed": false
   },
   "id": "acc0b171f393bd7f"
  },
  {
   "cell_type": "code",
   "outputs": [
    {
     "data": {
      "text/plain": "   season      title  match_id  \\\n0    2008  1st match    335982   \n1    2008  2nd match    335983   \n2    2008  3rd match    335984   \n3    2008  4th match    335986   \n4    2008  5th match    335985   \n\n                                          match_name  series_id  \\\n0  Royal Challengers Bangalore Vs Kolkata Knight ...     313494   \n1   Kings Xi Punjab Vs Chennai Super Kings 2Nd Match     313494   \n2     Delhi Daredevils Vs Rajasthan Royals 3Rd Match     313494   \n3  Kolkata Knight Riders Vs Deccan Chargers 4Th M...     313494   \n4  Mumbai Indians Vs Royal Challengers Bangalore ...     313494   \n\n                                       series_name  match_date match_format  \\\n0  Indian Premier League in India - 2008 (2007/08)  2008-04-18          T20   \n1  Indian Premier League in India - 2008 (2007/08)  2008-04-19          T20   \n2  Indian Premier League in India - 2008 (2007/08)  2008-04-19          T20   \n3  Indian Premier League in India - 2008 (2007/08)  2008-04-20          T20   \n4  Indian Premier League in India - 2008 (2007/08)  2008-04-20          T20   \n\n   team1_id   team1_name  ...         umpire2      match_referee  toss_winner  \\\n0      4341          KKR  ...     RE Koertzen          J Srinath          RCB   \n1      4343  Super Kings  ...      SL Shastri  S Venkataraghavan  Super Kings   \n2      4345       Royals  ...  GA Pratapkumar       GR Viswanath       Royals   \n3      4347     Chargers  ...     K Hariharan        FM Engineer     Chargers   \n4      4346       Mumbai  ...        SJ Davis          J Srinath       Mumbai   \n\n   toss_winner_choice  match_winner  \\\n0                bowl           KKR   \n1                 bat   Super Kings   \n2                 bat    Daredevils   \n3                 bat           KKR   \n4                 bat           RCB   \n\n                                   match_result_text  mom_player  \\\n0                                KKR won by 140 runs     10384.0   \n1                         Super Kings won by 33 runs      6256.0   \n2  Daredevils won by 9 wickets (with 29 balls rem...     11374.0   \n3      KKR won by 5 wickets (with 6 balls remaining)     11984.0   \n4      RCB won by 5 wickets (with 2 balls remaining)      3947.0   \n\n                                     team1_playing11  \\\n0  [\"2024\",\"10384\",\"2230\",\"11984\",\"19647\",\"7704\",...   \n1  [\"9900\",\"2119\",\"6256\",\"7593\",\"15716\",\"9989\",\"8...   \n2  [\"54936\",\"15473\",\"10125\",\"7632\",\"3329\",\"49247\"...   \n3  [\"4176\",\"8163\",\"3317\",\"4382\",\"48405\",\"9570\",\"7...   \n4  [\"17850\",\"1988\",\"7447\",\"8742\",\"48349\",\"47308\",...   \n\n                                     team2_playing11  \\\n0  [\"2281\",\"7130\",\"49752\",\"2232\",\"12049\",\"3947\",\"...   \n1  [\"15851\",\"9235\",\"9587\",\"7716\",\"6259\",\"11399\",\"...   \n2  [\"7773\",\"7781\",\"15887\",\"47624\",\"8813\",\"7520\",\"...   \n3  [\"51216\",\"10384\",\"2230\",\"2024\",\"11984\",\"19647\"...   \n4  [\"2120\",\"2281\",\"44930\",\"2232\",\"49752\",\"3947\",\"...   \n\n               debut_players  \n0                  [\"48965\"]  \n1                  [\"53549\"]  \n2  [\"51109\",\"47100\",\"54936\"]  \n3                   [\"3317\"]  \n4                   [\"7804\"]  \n\n[5 rows x 34 columns]",
      "text/html": "<div>\n<style scoped>\n    .dataframe tbody tr th:only-of-type {\n        vertical-align: middle;\n    }\n\n    .dataframe tbody tr th {\n        vertical-align: top;\n    }\n\n    .dataframe thead th {\n        text-align: right;\n    }\n</style>\n<table border=\"1\" class=\"dataframe\">\n  <thead>\n    <tr style=\"text-align: right;\">\n      <th></th>\n      <th>season</th>\n      <th>title</th>\n      <th>match_id</th>\n      <th>match_name</th>\n      <th>series_id</th>\n      <th>series_name</th>\n      <th>match_date</th>\n      <th>match_format</th>\n      <th>team1_id</th>\n      <th>team1_name</th>\n      <th>...</th>\n      <th>umpire2</th>\n      <th>match_referee</th>\n      <th>toss_winner</th>\n      <th>toss_winner_choice</th>\n      <th>match_winner</th>\n      <th>match_result_text</th>\n      <th>mom_player</th>\n      <th>team1_playing11</th>\n      <th>team2_playing11</th>\n      <th>debut_players</th>\n    </tr>\n  </thead>\n  <tbody>\n    <tr>\n      <th>0</th>\n      <td>2008</td>\n      <td>1st match</td>\n      <td>335982</td>\n      <td>Royal Challengers Bangalore Vs Kolkata Knight ...</td>\n      <td>313494</td>\n      <td>Indian Premier League in India - 2008 (2007/08)</td>\n      <td>2008-04-18</td>\n      <td>T20</td>\n      <td>4341</td>\n      <td>KKR</td>\n      <td>...</td>\n      <td>RE Koertzen</td>\n      <td>J Srinath</td>\n      <td>RCB</td>\n      <td>bowl</td>\n      <td>KKR</td>\n      <td>KKR won by 140 runs</td>\n      <td>10384.0</td>\n      <td>[\"2024\",\"10384\",\"2230\",\"11984\",\"19647\",\"7704\",...</td>\n      <td>[\"2281\",\"7130\",\"49752\",\"2232\",\"12049\",\"3947\",\"...</td>\n      <td>[\"48965\"]</td>\n    </tr>\n    <tr>\n      <th>1</th>\n      <td>2008</td>\n      <td>2nd match</td>\n      <td>335983</td>\n      <td>Kings Xi Punjab Vs Chennai Super Kings 2Nd Match</td>\n      <td>313494</td>\n      <td>Indian Premier League in India - 2008 (2007/08)</td>\n      <td>2008-04-19</td>\n      <td>T20</td>\n      <td>4343</td>\n      <td>Super Kings</td>\n      <td>...</td>\n      <td>SL Shastri</td>\n      <td>S Venkataraghavan</td>\n      <td>Super Kings</td>\n      <td>bat</td>\n      <td>Super Kings</td>\n      <td>Super Kings won by 33 runs</td>\n      <td>6256.0</td>\n      <td>[\"9900\",\"2119\",\"6256\",\"7593\",\"15716\",\"9989\",\"8...</td>\n      <td>[\"15851\",\"9235\",\"9587\",\"7716\",\"6259\",\"11399\",\"...</td>\n      <td>[\"53549\"]</td>\n    </tr>\n    <tr>\n      <th>2</th>\n      <td>2008</td>\n      <td>3rd match</td>\n      <td>335984</td>\n      <td>Delhi Daredevils Vs Rajasthan Royals 3Rd Match</td>\n      <td>313494</td>\n      <td>Indian Premier League in India - 2008 (2007/08)</td>\n      <td>2008-04-19</td>\n      <td>T20</td>\n      <td>4345</td>\n      <td>Royals</td>\n      <td>...</td>\n      <td>GA Pratapkumar</td>\n      <td>GR Viswanath</td>\n      <td>Royals</td>\n      <td>bat</td>\n      <td>Daredevils</td>\n      <td>Daredevils won by 9 wickets (with 29 balls rem...</td>\n      <td>11374.0</td>\n      <td>[\"54936\",\"15473\",\"10125\",\"7632\",\"3329\",\"49247\"...</td>\n      <td>[\"7773\",\"7781\",\"15887\",\"47624\",\"8813\",\"7520\",\"...</td>\n      <td>[\"51109\",\"47100\",\"54936\"]</td>\n    </tr>\n    <tr>\n      <th>3</th>\n      <td>2008</td>\n      <td>4th match</td>\n      <td>335986</td>\n      <td>Kolkata Knight Riders Vs Deccan Chargers 4Th M...</td>\n      <td>313494</td>\n      <td>Indian Premier League in India - 2008 (2007/08)</td>\n      <td>2008-04-20</td>\n      <td>T20</td>\n      <td>4347</td>\n      <td>Chargers</td>\n      <td>...</td>\n      <td>K Hariharan</td>\n      <td>FM Engineer</td>\n      <td>Chargers</td>\n      <td>bat</td>\n      <td>KKR</td>\n      <td>KKR won by 5 wickets (with 6 balls remaining)</td>\n      <td>11984.0</td>\n      <td>[\"4176\",\"8163\",\"3317\",\"4382\",\"48405\",\"9570\",\"7...</td>\n      <td>[\"51216\",\"10384\",\"2230\",\"2024\",\"11984\",\"19647\"...</td>\n      <td>[\"3317\"]</td>\n    </tr>\n    <tr>\n      <th>4</th>\n      <td>2008</td>\n      <td>5th match</td>\n      <td>335985</td>\n      <td>Mumbai Indians Vs Royal Challengers Bangalore ...</td>\n      <td>313494</td>\n      <td>Indian Premier League in India - 2008 (2007/08)</td>\n      <td>2008-04-20</td>\n      <td>T20</td>\n      <td>4346</td>\n      <td>Mumbai</td>\n      <td>...</td>\n      <td>SJ Davis</td>\n      <td>J Srinath</td>\n      <td>Mumbai</td>\n      <td>bat</td>\n      <td>RCB</td>\n      <td>RCB won by 5 wickets (with 2 balls remaining)</td>\n      <td>3947.0</td>\n      <td>[\"17850\",\"1988\",\"7447\",\"8742\",\"48349\",\"47308\",...</td>\n      <td>[\"2120\",\"2281\",\"44930\",\"2232\",\"49752\",\"3947\",\"...</td>\n      <td>[\"7804\"]</td>\n    </tr>\n  </tbody>\n</table>\n<p>5 rows × 34 columns</p>\n</div>"
     },
     "execution_count": 2,
     "metadata": {},
     "output_type": "execute_result"
    }
   ],
   "source": [
    "historical_df=pd.read_csv(\"./data/ipl_historical.csv\")\n",
    "historical_df.head()"
   ],
   "metadata": {
    "collapsed": false,
    "ExecuteTime": {
     "end_time": "2024-04-07T18:25:53.278545Z",
     "start_time": "2024-04-07T18:25:53.256984Z"
    }
   },
   "id": "ffec29ad596d5e2d",
   "execution_count": 2
  },
  {
   "cell_type": "code",
   "outputs": [
    {
     "name": "stderr",
     "output_type": "stream",
     "text": [
      "/var/folders/fd/_vqm4qqj113dx_9dmjpjrhfw0000gn/T/ipykernel_55978/2187232362.py:2: DtypeWarning: Columns (10,11,12) have mixed types. Specify dtype option on import or set low_memory=False.\n",
      "  ball_by_ball_df=pd.read_csv(\"./data/ipl_ball_by_ball_data.csv\")\n"
     ]
    },
    {
     "data": {
      "text/plain": "        series_id  match_id  innings_no  batsman_id  bowler_id  over_number  \\\n0         1165643   1178429         1.0     51216.0    58274.0          1.0   \n1         1165643   1178429         1.0     48927.0    58274.0          1.0   \n2         1165643   1178429         1.0     48927.0    58274.0          1.0   \n3         1165643   1178429         1.0     48927.0    58274.0          1.0   \n4         1165643   1178429         1.0     48927.0    58274.0          1.0   \n...           ...       ...         ...         ...        ...          ...   \n243652     313494    336013         2.0     11399.0     9022.0         20.0   \n243653     313494    336013         2.0     11399.0     9022.0         20.0   \n243654     313494    336013         2.0     47185.0     9022.0         20.0   \n243655     313494    336013         2.0     47184.0     9022.0         20.0   \n243656     313494    336013         2.0     12810.0     9022.0         20.0   \n\n        ball_number  over  total_runs  batsman_runs  ...  issix iswicket byes  \\\n0               1.0   0.1         1.0           1.0  ...  False    False  0.0   \n1               2.0   0.2         0.0           0.0  ...  False    False  0.0   \n2               3.0   0.3         0.0           0.0  ...  False    False  0.0   \n3               4.0   0.4         0.0           0.0  ...  False    False  0.0   \n4               5.0   0.5         0.0           0.0  ...  False    False  0.0   \n...             ...   ...         ...           ...  ...    ...      ...  ...   \n243652          2.0  19.2         2.0           2.0  ...  False    False  0.0   \n243653          3.0  19.3         0.0           0.0  ...  False     True  0.0   \n243654          4.0  19.4         0.0           0.0  ...  False     True  0.0   \n243655          5.0  19.5         0.0           0.0  ...  False     True  0.0   \n243656          6.0  19.6         0.0           0.0  ...  False    False  0.0   \n\n        legbyes  wides  noballs  penalties  out_player_id  \\\n0           0.0    0.0      0.0        0.0            NaN   \n1           0.0    0.0      0.0        0.0            NaN   \n2           0.0    0.0      0.0        0.0            NaN   \n3           0.0    0.0      0.0        0.0            NaN   \n4           0.0    0.0      0.0        0.0            NaN   \n...         ...    ...      ...        ...            ...   \n243652      0.0    0.0      0.0        0.0            NaN   \n243653      0.0    0.0      0.0        0.0        11399.0   \n243654      0.0    0.0      0.0        0.0        47185.0   \n243655      0.0    0.0      0.0        0.0        47184.0   \n243656      0.0    0.0      0.0        0.0            NaN   \n\n        current_innings_runs  current_innings_wickets  \n0                        1.0                      0.0  \n1                        1.0                      0.0  \n2                        1.0                      0.0  \n3                        1.0                      0.0  \n4                        1.0                      0.0  \n...                      ...                      ...  \n243652                 163.0                      6.0  \n243653                 163.0                      7.0  \n243654                 163.0                      8.0  \n243655                 163.0                      9.0  \n243656                 163.0                      9.0  \n\n[243657 rows x 21 columns]",
      "text/html": "<div>\n<style scoped>\n    .dataframe tbody tr th:only-of-type {\n        vertical-align: middle;\n    }\n\n    .dataframe tbody tr th {\n        vertical-align: top;\n    }\n\n    .dataframe thead th {\n        text-align: right;\n    }\n</style>\n<table border=\"1\" class=\"dataframe\">\n  <thead>\n    <tr style=\"text-align: right;\">\n      <th></th>\n      <th>series_id</th>\n      <th>match_id</th>\n      <th>innings_no</th>\n      <th>batsman_id</th>\n      <th>bowler_id</th>\n      <th>over_number</th>\n      <th>ball_number</th>\n      <th>over</th>\n      <th>total_runs</th>\n      <th>batsman_runs</th>\n      <th>...</th>\n      <th>issix</th>\n      <th>iswicket</th>\n      <th>byes</th>\n      <th>legbyes</th>\n      <th>wides</th>\n      <th>noballs</th>\n      <th>penalties</th>\n      <th>out_player_id</th>\n      <th>current_innings_runs</th>\n      <th>current_innings_wickets</th>\n    </tr>\n  </thead>\n  <tbody>\n    <tr>\n      <th>0</th>\n      <td>1165643</td>\n      <td>1178429</td>\n      <td>1.0</td>\n      <td>51216.0</td>\n      <td>58274.0</td>\n      <td>1.0</td>\n      <td>1.0</td>\n      <td>0.1</td>\n      <td>1.0</td>\n      <td>1.0</td>\n      <td>...</td>\n      <td>False</td>\n      <td>False</td>\n      <td>0.0</td>\n      <td>0.0</td>\n      <td>0.0</td>\n      <td>0.0</td>\n      <td>0.0</td>\n      <td>NaN</td>\n      <td>1.0</td>\n      <td>0.0</td>\n    </tr>\n    <tr>\n      <th>1</th>\n      <td>1165643</td>\n      <td>1178429</td>\n      <td>1.0</td>\n      <td>48927.0</td>\n      <td>58274.0</td>\n      <td>1.0</td>\n      <td>2.0</td>\n      <td>0.2</td>\n      <td>0.0</td>\n      <td>0.0</td>\n      <td>...</td>\n      <td>False</td>\n      <td>False</td>\n      <td>0.0</td>\n      <td>0.0</td>\n      <td>0.0</td>\n      <td>0.0</td>\n      <td>0.0</td>\n      <td>NaN</td>\n      <td>1.0</td>\n      <td>0.0</td>\n    </tr>\n    <tr>\n      <th>2</th>\n      <td>1165643</td>\n      <td>1178429</td>\n      <td>1.0</td>\n      <td>48927.0</td>\n      <td>58274.0</td>\n      <td>1.0</td>\n      <td>3.0</td>\n      <td>0.3</td>\n      <td>0.0</td>\n      <td>0.0</td>\n      <td>...</td>\n      <td>False</td>\n      <td>False</td>\n      <td>0.0</td>\n      <td>0.0</td>\n      <td>0.0</td>\n      <td>0.0</td>\n      <td>0.0</td>\n      <td>NaN</td>\n      <td>1.0</td>\n      <td>0.0</td>\n    </tr>\n    <tr>\n      <th>3</th>\n      <td>1165643</td>\n      <td>1178429</td>\n      <td>1.0</td>\n      <td>48927.0</td>\n      <td>58274.0</td>\n      <td>1.0</td>\n      <td>4.0</td>\n      <td>0.4</td>\n      <td>0.0</td>\n      <td>0.0</td>\n      <td>...</td>\n      <td>False</td>\n      <td>False</td>\n      <td>0.0</td>\n      <td>0.0</td>\n      <td>0.0</td>\n      <td>0.0</td>\n      <td>0.0</td>\n      <td>NaN</td>\n      <td>1.0</td>\n      <td>0.0</td>\n    </tr>\n    <tr>\n      <th>4</th>\n      <td>1165643</td>\n      <td>1178429</td>\n      <td>1.0</td>\n      <td>48927.0</td>\n      <td>58274.0</td>\n      <td>1.0</td>\n      <td>5.0</td>\n      <td>0.5</td>\n      <td>0.0</td>\n      <td>0.0</td>\n      <td>...</td>\n      <td>False</td>\n      <td>False</td>\n      <td>0.0</td>\n      <td>0.0</td>\n      <td>0.0</td>\n      <td>0.0</td>\n      <td>0.0</td>\n      <td>NaN</td>\n      <td>1.0</td>\n      <td>0.0</td>\n    </tr>\n    <tr>\n      <th>...</th>\n      <td>...</td>\n      <td>...</td>\n      <td>...</td>\n      <td>...</td>\n      <td>...</td>\n      <td>...</td>\n      <td>...</td>\n      <td>...</td>\n      <td>...</td>\n      <td>...</td>\n      <td>...</td>\n      <td>...</td>\n      <td>...</td>\n      <td>...</td>\n      <td>...</td>\n      <td>...</td>\n      <td>...</td>\n      <td>...</td>\n      <td>...</td>\n      <td>...</td>\n      <td>...</td>\n    </tr>\n    <tr>\n      <th>243652</th>\n      <td>313494</td>\n      <td>336013</td>\n      <td>2.0</td>\n      <td>11399.0</td>\n      <td>9022.0</td>\n      <td>20.0</td>\n      <td>2.0</td>\n      <td>19.2</td>\n      <td>2.0</td>\n      <td>2.0</td>\n      <td>...</td>\n      <td>False</td>\n      <td>False</td>\n      <td>0.0</td>\n      <td>0.0</td>\n      <td>0.0</td>\n      <td>0.0</td>\n      <td>0.0</td>\n      <td>NaN</td>\n      <td>163.0</td>\n      <td>6.0</td>\n    </tr>\n    <tr>\n      <th>243653</th>\n      <td>313494</td>\n      <td>336013</td>\n      <td>2.0</td>\n      <td>11399.0</td>\n      <td>9022.0</td>\n      <td>20.0</td>\n      <td>3.0</td>\n      <td>19.3</td>\n      <td>0.0</td>\n      <td>0.0</td>\n      <td>...</td>\n      <td>False</td>\n      <td>True</td>\n      <td>0.0</td>\n      <td>0.0</td>\n      <td>0.0</td>\n      <td>0.0</td>\n      <td>0.0</td>\n      <td>11399.0</td>\n      <td>163.0</td>\n      <td>7.0</td>\n    </tr>\n    <tr>\n      <th>243654</th>\n      <td>313494</td>\n      <td>336013</td>\n      <td>2.0</td>\n      <td>47185.0</td>\n      <td>9022.0</td>\n      <td>20.0</td>\n      <td>4.0</td>\n      <td>19.4</td>\n      <td>0.0</td>\n      <td>0.0</td>\n      <td>...</td>\n      <td>False</td>\n      <td>True</td>\n      <td>0.0</td>\n      <td>0.0</td>\n      <td>0.0</td>\n      <td>0.0</td>\n      <td>0.0</td>\n      <td>47185.0</td>\n      <td>163.0</td>\n      <td>8.0</td>\n    </tr>\n    <tr>\n      <th>243655</th>\n      <td>313494</td>\n      <td>336013</td>\n      <td>2.0</td>\n      <td>47184.0</td>\n      <td>9022.0</td>\n      <td>20.0</td>\n      <td>5.0</td>\n      <td>19.5</td>\n      <td>0.0</td>\n      <td>0.0</td>\n      <td>...</td>\n      <td>False</td>\n      <td>True</td>\n      <td>0.0</td>\n      <td>0.0</td>\n      <td>0.0</td>\n      <td>0.0</td>\n      <td>0.0</td>\n      <td>47184.0</td>\n      <td>163.0</td>\n      <td>9.0</td>\n    </tr>\n    <tr>\n      <th>243656</th>\n      <td>313494</td>\n      <td>336013</td>\n      <td>2.0</td>\n      <td>12810.0</td>\n      <td>9022.0</td>\n      <td>20.0</td>\n      <td>6.0</td>\n      <td>19.6</td>\n      <td>0.0</td>\n      <td>0.0</td>\n      <td>...</td>\n      <td>False</td>\n      <td>False</td>\n      <td>0.0</td>\n      <td>0.0</td>\n      <td>0.0</td>\n      <td>0.0</td>\n      <td>0.0</td>\n      <td>NaN</td>\n      <td>163.0</td>\n      <td>9.0</td>\n    </tr>\n  </tbody>\n</table>\n<p>243657 rows × 21 columns</p>\n</div>"
     },
     "execution_count": 3,
     "metadata": {},
     "output_type": "execute_result"
    }
   ],
   "source": [
    "#ipl ball by ball\n",
    "ball_by_ball_df=pd.read_csv(\"./data/ipl_ball_by_ball_data.csv\")\n",
    "ball_by_ball_df"
   ],
   "metadata": {
    "collapsed": false,
    "ExecuteTime": {
     "end_time": "2024-04-07T18:25:53.516560Z",
     "start_time": "2024-04-07T18:25:53.280214Z"
    }
   },
   "id": "423a582b589809f6",
   "execution_count": 3
  },
  {
   "cell_type": "code",
   "outputs": [],
   "source": [
    "#group by batsman_id,match_id,innings_no and sum total_runs\n",
    "#"
   ],
   "metadata": {
    "collapsed": false,
    "ExecuteTime": {
     "end_time": "2024-04-07T18:24:53.261193Z",
     "start_time": "2024-04-07T18:24:53.253086Z"
    }
   },
   "id": "8f8d6d4cb3d5c3a6",
   "execution_count": 4
  },
  {
   "cell_type": "code",
   "outputs": [],
   "source": [],
   "metadata": {
    "collapsed": false
   },
   "id": "df89ad4ed02264e7"
  }
 ],
 "metadata": {
  "kernelspec": {
   "display_name": "Python 3",
   "language": "python",
   "name": "python3"
  },
  "language_info": {
   "codemirror_mode": {
    "name": "ipython",
    "version": 2
   },
   "file_extension": ".py",
   "mimetype": "text/x-python",
   "name": "python",
   "nbconvert_exporter": "python",
   "pygments_lexer": "ipython2",
   "version": "2.7.6"
  }
 },
 "nbformat": 4,
 "nbformat_minor": 5
}
